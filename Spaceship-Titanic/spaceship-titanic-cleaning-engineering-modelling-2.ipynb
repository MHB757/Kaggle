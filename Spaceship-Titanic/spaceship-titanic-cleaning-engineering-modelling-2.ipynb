{
 "cells": [
  {
   "cell_type": "markdown",
   "id": "30e46a09",
   "metadata": {
    "papermill": {
     "duration": 0.019445,
     "end_time": "2025-01-20T13:57:37.328221",
     "exception": false,
     "start_time": "2025-01-20T13:57:37.308776",
     "status": "completed"
    },
    "tags": []
   },
   "source": [
    "<img src=\"https://www.miguelclaro.com/wp/wp-content/uploads/2013/11/MilkyWayDeepLaPalma-net.jpg\" width=\"3000\" height=\"100\" style=\"display: block; margin: 0 auto\">\n"
   ]
  },
  {
   "cell_type": "code",
   "execution_count": 1,
   "id": "a8c9f124",
   "metadata": {
    "_cell_guid": "b1076dfc-b9ad-4769-8c92-a6c4dae69d19",
    "_uuid": "8f2839f25d086af736a60e9eeb907d3b93b6e0e5",
    "execution": {
     "iopub.execute_input": "2025-01-20T13:57:37.367399Z",
     "iopub.status.busy": "2025-01-20T13:57:37.367008Z",
     "iopub.status.idle": "2025-01-20T13:57:41.524119Z",
     "shell.execute_reply": "2025-01-20T13:57:41.522988Z"
    },
    "papermill": {
     "duration": 4.179717,
     "end_time": "2025-01-20T13:57:41.526491",
     "exception": false,
     "start_time": "2025-01-20T13:57:37.346774",
     "status": "completed"
    },
    "tags": []
   },
   "outputs": [
    {
     "name": "stdout",
     "output_type": "stream",
     "text": [
      "/kaggle/input/spaceship-titanic/sample_submission.csv\n",
      "/kaggle/input/spaceship-titanic/train.csv\n",
      "/kaggle/input/spaceship-titanic/test.csv\n"
     ]
    }
   ],
   "source": [
    "#IMPORT MODULES#\n",
    "import numpy as np \n",
    "import pandas as pd \n",
    "import matplotlib.pyplot as plt\n",
    "%matplotlib inline\n",
    "import seaborn as sns\n",
    "import warnings\n",
    "warnings.filterwarnings('ignore')\n",
    "from scipy.stats import norm\n",
    "from sklearn.preprocessing import StandardScaler\n",
    "from scipy import stats\n",
    "\n",
    "from sklearn.impute import SimpleImputer\n",
    "from sklearn.ensemble import RandomForestRegressor\n",
    "from sklearn.compose import ColumnTransformer\n",
    "from sklearn.pipeline import Pipeline\n",
    "from sklearn.preprocessing import OneHotEncoder\n",
    "from sklearn.model_selection import cross_val_score, GridSearchCV, train_test_split, StratifiedKFold\n",
    "from sklearn.metrics import accuracy_score\n",
    "\n",
    "from xgboost import XGBClassifier\n",
    "from catboost import CatBoostClassifier\n",
    "\n",
    "import optuna\n",
    "\n",
    "import os\n",
    "for dirname, _, filenames in os.walk('/kaggle/input'):\n",
    "    for filename in filenames:\n",
    "        print(os.path.join(dirname, filename))\n"
   ]
  },
  {
   "cell_type": "code",
   "execution_count": 2,
   "id": "15c597b8",
   "metadata": {
    "execution": {
     "iopub.execute_input": "2025-01-20T13:57:41.565961Z",
     "iopub.status.busy": "2025-01-20T13:57:41.565367Z",
     "iopub.status.idle": "2025-01-20T13:57:41.668879Z",
     "shell.execute_reply": "2025-01-20T13:57:41.667785Z"
    },
    "papermill": {
     "duration": 0.125683,
     "end_time": "2025-01-20T13:57:41.671382",
     "exception": false,
     "start_time": "2025-01-20T13:57:41.545699",
     "status": "completed"
    },
    "tags": []
   },
   "outputs": [],
   "source": [
    "#LOAD DATA\n",
    "traindata  = pd.read_csv('/kaggle/input/spaceship-titanic/train.csv')\n",
    "testdata = pd.read_csv('/kaggle/input/spaceship-titanic/test.csv')"
   ]
  },
  {
   "cell_type": "code",
   "execution_count": 3,
   "id": "465be444",
   "metadata": {
    "execution": {
     "iopub.execute_input": "2025-01-20T13:57:41.711627Z",
     "iopub.status.busy": "2025-01-20T13:57:41.711206Z",
     "iopub.status.idle": "2025-01-20T13:57:41.743212Z",
     "shell.execute_reply": "2025-01-20T13:57:41.742056Z"
    },
    "papermill": {
     "duration": 0.055748,
     "end_time": "2025-01-20T13:57:41.745633",
     "exception": false,
     "start_time": "2025-01-20T13:57:41.689885",
     "status": "completed"
    },
    "tags": []
   },
   "outputs": [
    {
     "data": {
      "text/html": [
       "<div>\n",
       "<style scoped>\n",
       "    .dataframe tbody tr th:only-of-type {\n",
       "        vertical-align: middle;\n",
       "    }\n",
       "\n",
       "    .dataframe tbody tr th {\n",
       "        vertical-align: top;\n",
       "    }\n",
       "\n",
       "    .dataframe thead th {\n",
       "        text-align: right;\n",
       "    }\n",
       "</style>\n",
       "<table border=\"1\" class=\"dataframe\">\n",
       "  <thead>\n",
       "    <tr style=\"text-align: right;\">\n",
       "      <th></th>\n",
       "      <th>PassengerId</th>\n",
       "      <th>HomePlanet</th>\n",
       "      <th>CryoSleep</th>\n",
       "      <th>Cabin</th>\n",
       "      <th>Destination</th>\n",
       "      <th>Age</th>\n",
       "      <th>VIP</th>\n",
       "      <th>RoomService</th>\n",
       "      <th>FoodCourt</th>\n",
       "      <th>ShoppingMall</th>\n",
       "      <th>Spa</th>\n",
       "      <th>VRDeck</th>\n",
       "      <th>Name</th>\n",
       "      <th>Transported</th>\n",
       "    </tr>\n",
       "  </thead>\n",
       "  <tbody>\n",
       "    <tr>\n",
       "      <th>0</th>\n",
       "      <td>0001_01</td>\n",
       "      <td>Europa</td>\n",
       "      <td>False</td>\n",
       "      <td>B/0/P</td>\n",
       "      <td>TRAPPIST-1e</td>\n",
       "      <td>39.0</td>\n",
       "      <td>False</td>\n",
       "      <td>0.0</td>\n",
       "      <td>0.0</td>\n",
       "      <td>0.0</td>\n",
       "      <td>0.0</td>\n",
       "      <td>0.0</td>\n",
       "      <td>Maham Ofracculy</td>\n",
       "      <td>False</td>\n",
       "    </tr>\n",
       "    <tr>\n",
       "      <th>1</th>\n",
       "      <td>0002_01</td>\n",
       "      <td>Earth</td>\n",
       "      <td>False</td>\n",
       "      <td>F/0/S</td>\n",
       "      <td>TRAPPIST-1e</td>\n",
       "      <td>24.0</td>\n",
       "      <td>False</td>\n",
       "      <td>109.0</td>\n",
       "      <td>9.0</td>\n",
       "      <td>25.0</td>\n",
       "      <td>549.0</td>\n",
       "      <td>44.0</td>\n",
       "      <td>Juanna Vines</td>\n",
       "      <td>True</td>\n",
       "    </tr>\n",
       "    <tr>\n",
       "      <th>2</th>\n",
       "      <td>0003_01</td>\n",
       "      <td>Europa</td>\n",
       "      <td>False</td>\n",
       "      <td>A/0/S</td>\n",
       "      <td>TRAPPIST-1e</td>\n",
       "      <td>58.0</td>\n",
       "      <td>True</td>\n",
       "      <td>43.0</td>\n",
       "      <td>3576.0</td>\n",
       "      <td>0.0</td>\n",
       "      <td>6715.0</td>\n",
       "      <td>49.0</td>\n",
       "      <td>Altark Susent</td>\n",
       "      <td>False</td>\n",
       "    </tr>\n",
       "    <tr>\n",
       "      <th>3</th>\n",
       "      <td>0003_02</td>\n",
       "      <td>Europa</td>\n",
       "      <td>False</td>\n",
       "      <td>A/0/S</td>\n",
       "      <td>TRAPPIST-1e</td>\n",
       "      <td>33.0</td>\n",
       "      <td>False</td>\n",
       "      <td>0.0</td>\n",
       "      <td>1283.0</td>\n",
       "      <td>371.0</td>\n",
       "      <td>3329.0</td>\n",
       "      <td>193.0</td>\n",
       "      <td>Solam Susent</td>\n",
       "      <td>False</td>\n",
       "    </tr>\n",
       "    <tr>\n",
       "      <th>4</th>\n",
       "      <td>0004_01</td>\n",
       "      <td>Earth</td>\n",
       "      <td>False</td>\n",
       "      <td>F/1/S</td>\n",
       "      <td>TRAPPIST-1e</td>\n",
       "      <td>16.0</td>\n",
       "      <td>False</td>\n",
       "      <td>303.0</td>\n",
       "      <td>70.0</td>\n",
       "      <td>151.0</td>\n",
       "      <td>565.0</td>\n",
       "      <td>2.0</td>\n",
       "      <td>Willy Santantines</td>\n",
       "      <td>True</td>\n",
       "    </tr>\n",
       "  </tbody>\n",
       "</table>\n",
       "</div>"
      ],
      "text/plain": [
       "  PassengerId HomePlanet CryoSleep  Cabin  Destination   Age    VIP  \\\n",
       "0     0001_01     Europa     False  B/0/P  TRAPPIST-1e  39.0  False   \n",
       "1     0002_01      Earth     False  F/0/S  TRAPPIST-1e  24.0  False   \n",
       "2     0003_01     Europa     False  A/0/S  TRAPPIST-1e  58.0   True   \n",
       "3     0003_02     Europa     False  A/0/S  TRAPPIST-1e  33.0  False   \n",
       "4     0004_01      Earth     False  F/1/S  TRAPPIST-1e  16.0  False   \n",
       "\n",
       "   RoomService  FoodCourt  ShoppingMall     Spa  VRDeck               Name  \\\n",
       "0          0.0        0.0           0.0     0.0     0.0    Maham Ofracculy   \n",
       "1        109.0        9.0          25.0   549.0    44.0       Juanna Vines   \n",
       "2         43.0     3576.0           0.0  6715.0    49.0      Altark Susent   \n",
       "3          0.0     1283.0         371.0  3329.0   193.0       Solam Susent   \n",
       "4        303.0       70.0         151.0   565.0     2.0  Willy Santantines   \n",
       "\n",
       "   Transported  \n",
       "0        False  \n",
       "1         True  \n",
       "2        False  \n",
       "3        False  \n",
       "4         True  "
      ]
     },
     "execution_count": 3,
     "metadata": {},
     "output_type": "execute_result"
    }
   ],
   "source": [
    "#INITIAL CHECK\n",
    "traindata.head()"
   ]
  },
  {
   "cell_type": "code",
   "execution_count": 4,
   "id": "134718fb",
   "metadata": {
    "execution": {
     "iopub.execute_input": "2025-01-20T13:57:41.786217Z",
     "iopub.status.busy": "2025-01-20T13:57:41.785833Z",
     "iopub.status.idle": "2025-01-20T13:57:41.820092Z",
     "shell.execute_reply": "2025-01-20T13:57:41.818959Z"
    },
    "papermill": {
     "duration": 0.058085,
     "end_time": "2025-01-20T13:57:41.823107",
     "exception": false,
     "start_time": "2025-01-20T13:57:41.765022",
     "status": "completed"
    },
    "tags": []
   },
   "outputs": [
    {
     "name": "stdout",
     "output_type": "stream",
     "text": [
      "<class 'pandas.core.frame.DataFrame'>\n",
      "RangeIndex: 8693 entries, 0 to 8692\n",
      "Data columns (total 14 columns):\n",
      " #   Column        Non-Null Count  Dtype  \n",
      "---  ------        --------------  -----  \n",
      " 0   PassengerId   8693 non-null   object \n",
      " 1   HomePlanet    8492 non-null   object \n",
      " 2   CryoSleep     8476 non-null   object \n",
      " 3   Cabin         8494 non-null   object \n",
      " 4   Destination   8511 non-null   object \n",
      " 5   Age           8514 non-null   float64\n",
      " 6   VIP           8490 non-null   object \n",
      " 7   RoomService   8512 non-null   float64\n",
      " 8   FoodCourt     8510 non-null   float64\n",
      " 9   ShoppingMall  8485 non-null   float64\n",
      " 10  Spa           8510 non-null   float64\n",
      " 11  VRDeck        8505 non-null   float64\n",
      " 12  Name          8493 non-null   object \n",
      " 13  Transported   8693 non-null   bool   \n",
      "dtypes: bool(1), float64(6), object(7)\n",
      "memory usage: 891.5+ KB\n"
     ]
    }
   ],
   "source": [
    "traindata.info()"
   ]
  },
  {
   "cell_type": "markdown",
   "id": "ccd6be1b",
   "metadata": {
    "papermill": {
     "duration": 0.018206,
     "end_time": "2025-01-20T13:57:41.860814",
     "exception": false,
     "start_time": "2025-01-20T13:57:41.842608",
     "status": "completed"
    },
    "tags": []
   },
   "source": [
    "<br />\n",
    "<br />\n",
    "<br />\n",
    "\n",
    "-----\n",
    "-----"
   ]
  },
  {
   "cell_type": "markdown",
   "id": "e846350a",
   "metadata": {
    "papermill": {
     "duration": 0.01906,
     "end_time": "2025-01-20T13:57:41.899006",
     "exception": false,
     "start_time": "2025-01-20T13:57:41.879946",
     "status": "completed"
    },
    "tags": []
   },
   "source": [
    "\n",
    "# MISSING VALUES"
   ]
  },
  {
   "cell_type": "code",
   "execution_count": 5,
   "id": "d6bef881",
   "metadata": {
    "execution": {
     "iopub.execute_input": "2025-01-20T13:57:41.937931Z",
     "iopub.status.busy": "2025-01-20T13:57:41.937554Z",
     "iopub.status.idle": "2025-01-20T13:57:41.950696Z",
     "shell.execute_reply": "2025-01-20T13:57:41.949575Z"
    },
    "papermill": {
     "duration": 0.035188,
     "end_time": "2025-01-20T13:57:41.952969",
     "exception": false,
     "start_time": "2025-01-20T13:57:41.917781",
     "status": "completed"
    },
    "tags": []
   },
   "outputs": [
    {
     "data": {
      "text/plain": [
       "CryoSleep       217\n",
       "ShoppingMall    208\n",
       "VIP             203\n",
       "HomePlanet      201\n",
       "Name            200\n",
       "Cabin           199\n",
       "VRDeck          188\n",
       "FoodCourt       183\n",
       "Spa             183\n",
       "Destination     182\n",
       "RoomService     181\n",
       "Age             179\n",
       "PassengerId       0\n",
       "Transported       0\n",
       "dtype: int64"
      ]
     },
     "execution_count": 5,
     "metadata": {},
     "output_type": "execute_result"
    }
   ],
   "source": [
    "#CHECK MISSING VALUES\n",
    "traindata.isnull().sum().sort_values(ascending=False)"
   ]
  },
  {
   "cell_type": "markdown",
   "id": "35d401cf",
   "metadata": {
    "papermill": {
     "duration": 0.018181,
     "end_time": "2025-01-20T13:57:41.989577",
     "exception": false,
     "start_time": "2025-01-20T13:57:41.971396",
     "status": "completed"
    },
    "tags": []
   },
   "source": [
    "<br />\n",
    "<br />\n",
    "\n",
    "-----\n"
   ]
  },
  {
   "cell_type": "markdown",
   "id": "8e8c4ba3",
   "metadata": {
    "papermill": {
     "duration": 0.019436,
     "end_time": "2025-01-20T13:57:42.027375",
     "exception": false,
     "start_time": "2025-01-20T13:57:42.007939",
     "status": "completed"
    },
    "tags": []
   },
   "source": [
    "\n",
    "#### First, examining the Expense Features..."
   ]
  },
  {
   "cell_type": "code",
   "execution_count": 6,
   "id": "3ae89330",
   "metadata": {
    "execution": {
     "iopub.execute_input": "2025-01-20T13:57:42.068354Z",
     "iopub.status.busy": "2025-01-20T13:57:42.067254Z",
     "iopub.status.idle": "2025-01-20T13:57:42.096891Z",
     "shell.execute_reply": "2025-01-20T13:57:42.095659Z"
    },
    "papermill": {
     "duration": 0.052971,
     "end_time": "2025-01-20T13:57:42.098987",
     "exception": false,
     "start_time": "2025-01-20T13:57:42.046016",
     "status": "completed"
    },
    "tags": []
   },
   "outputs": [
    {
     "data": {
      "text/html": [
       "<div>\n",
       "<style scoped>\n",
       "    .dataframe tbody tr th:only-of-type {\n",
       "        vertical-align: middle;\n",
       "    }\n",
       "\n",
       "    .dataframe tbody tr th {\n",
       "        vertical-align: top;\n",
       "    }\n",
       "\n",
       "    .dataframe thead th {\n",
       "        text-align: right;\n",
       "    }\n",
       "</style>\n",
       "<table border=\"1\" class=\"dataframe\">\n",
       "  <thead>\n",
       "    <tr style=\"text-align: right;\">\n",
       "      <th></th>\n",
       "      <th>PassengerId</th>\n",
       "      <th>HomePlanet</th>\n",
       "      <th>CryoSleep</th>\n",
       "      <th>Cabin</th>\n",
       "      <th>Destination</th>\n",
       "      <th>Age</th>\n",
       "      <th>VIP</th>\n",
       "      <th>RoomService</th>\n",
       "      <th>FoodCourt</th>\n",
       "      <th>ShoppingMall</th>\n",
       "      <th>Spa</th>\n",
       "      <th>VRDeck</th>\n",
       "      <th>Name</th>\n",
       "      <th>Transported</th>\n",
       "    </tr>\n",
       "  </thead>\n",
       "  <tbody>\n",
       "    <tr>\n",
       "      <th>25</th>\n",
       "      <td>0020_05</td>\n",
       "      <td>Earth</td>\n",
       "      <td>True</td>\n",
       "      <td>E/0/S</td>\n",
       "      <td>PSO J318.5-22</td>\n",
       "      <td>1.0</td>\n",
       "      <td>False</td>\n",
       "      <td>NaN</td>\n",
       "      <td>0.0</td>\n",
       "      <td>0.0</td>\n",
       "      <td>0.0</td>\n",
       "      <td>0.0</td>\n",
       "      <td>Mael Brantuarez</td>\n",
       "      <td>False</td>\n",
       "    </tr>\n",
       "    <tr>\n",
       "      <th>35</th>\n",
       "      <td>0031_03</td>\n",
       "      <td>Mars</td>\n",
       "      <td>False</td>\n",
       "      <td>F/9/P</td>\n",
       "      <td>TRAPPIST-1e</td>\n",
       "      <td>20.0</td>\n",
       "      <td>False</td>\n",
       "      <td>NaN</td>\n",
       "      <td>0.0</td>\n",
       "      <td>1750.0</td>\n",
       "      <td>990.0</td>\n",
       "      <td>0.0</td>\n",
       "      <td>Dontch Datie</td>\n",
       "      <td>True</td>\n",
       "    </tr>\n",
       "    <tr>\n",
       "      <th>83</th>\n",
       "      <td>0091_01</td>\n",
       "      <td>Earth</td>\n",
       "      <td>True</td>\n",
       "      <td>G/16/S</td>\n",
       "      <td>TRAPPIST-1e</td>\n",
       "      <td>26.0</td>\n",
       "      <td>False</td>\n",
       "      <td>NaN</td>\n",
       "      <td>0.0</td>\n",
       "      <td>0.0</td>\n",
       "      <td>0.0</td>\n",
       "      <td>0.0</td>\n",
       "      <td>Deanne Yorkland</td>\n",
       "      <td>True</td>\n",
       "    </tr>\n",
       "    <tr>\n",
       "      <th>132</th>\n",
       "      <td>0141_01</td>\n",
       "      <td>Mars</td>\n",
       "      <td>False</td>\n",
       "      <td>F/30/P</td>\n",
       "      <td>TRAPPIST-1e</td>\n",
       "      <td>31.0</td>\n",
       "      <td>False</td>\n",
       "      <td>NaN</td>\n",
       "      <td>0.0</td>\n",
       "      <td>97.0</td>\n",
       "      <td>0.0</td>\n",
       "      <td>0.0</td>\n",
       "      <td>Pyrohs Harte</td>\n",
       "      <td>False</td>\n",
       "    </tr>\n",
       "    <tr>\n",
       "      <th>170</th>\n",
       "      <td>0193_02</td>\n",
       "      <td>Mars</td>\n",
       "      <td>False</td>\n",
       "      <td>F/41/P</td>\n",
       "      <td>TRAPPIST-1e</td>\n",
       "      <td>23.0</td>\n",
       "      <td>False</td>\n",
       "      <td>NaN</td>\n",
       "      <td>0.0</td>\n",
       "      <td>8.0</td>\n",
       "      <td>1072.0</td>\n",
       "      <td>0.0</td>\n",
       "      <td>Frook Raf</td>\n",
       "      <td>False</td>\n",
       "    </tr>\n",
       "    <tr>\n",
       "      <th>...</th>\n",
       "      <td>...</td>\n",
       "      <td>...</td>\n",
       "      <td>...</td>\n",
       "      <td>...</td>\n",
       "      <td>...</td>\n",
       "      <td>...</td>\n",
       "      <td>...</td>\n",
       "      <td>...</td>\n",
       "      <td>...</td>\n",
       "      <td>...</td>\n",
       "      <td>...</td>\n",
       "      <td>...</td>\n",
       "      <td>...</td>\n",
       "      <td>...</td>\n",
       "    </tr>\n",
       "    <tr>\n",
       "      <th>8425</th>\n",
       "      <td>8998_02</td>\n",
       "      <td>Earth</td>\n",
       "      <td>False</td>\n",
       "      <td>E/591/S</td>\n",
       "      <td>TRAPPIST-1e</td>\n",
       "      <td>47.0</td>\n",
       "      <td>False</td>\n",
       "      <td>NaN</td>\n",
       "      <td>1.0</td>\n",
       "      <td>0.0</td>\n",
       "      <td>967.0</td>\n",
       "      <td>5.0</td>\n",
       "      <td>Jonaye Englence</td>\n",
       "      <td>False</td>\n",
       "    </tr>\n",
       "    <tr>\n",
       "      <th>8450</th>\n",
       "      <td>9026_01</td>\n",
       "      <td>Earth</td>\n",
       "      <td>True</td>\n",
       "      <td>G/1463/P</td>\n",
       "      <td>TRAPPIST-1e</td>\n",
       "      <td>58.0</td>\n",
       "      <td>False</td>\n",
       "      <td>NaN</td>\n",
       "      <td>0.0</td>\n",
       "      <td>0.0</td>\n",
       "      <td>0.0</td>\n",
       "      <td>0.0</td>\n",
       "      <td>Mathy Boyers</td>\n",
       "      <td>True</td>\n",
       "    </tr>\n",
       "    <tr>\n",
       "      <th>8525</th>\n",
       "      <td>9101_01</td>\n",
       "      <td>Earth</td>\n",
       "      <td>False</td>\n",
       "      <td>F/1865/P</td>\n",
       "      <td>TRAPPIST-1e</td>\n",
       "      <td>21.0</td>\n",
       "      <td>False</td>\n",
       "      <td>NaN</td>\n",
       "      <td>0.0</td>\n",
       "      <td>496.0</td>\n",
       "      <td>430.0</td>\n",
       "      <td>0.0</td>\n",
       "      <td>Gera Frazie</td>\n",
       "      <td>False</td>\n",
       "    </tr>\n",
       "    <tr>\n",
       "      <th>8534</th>\n",
       "      <td>9112_01</td>\n",
       "      <td>Mars</td>\n",
       "      <td>False</td>\n",
       "      <td>D/290/P</td>\n",
       "      <td>TRAPPIST-1e</td>\n",
       "      <td>28.0</td>\n",
       "      <td>False</td>\n",
       "      <td>NaN</td>\n",
       "      <td>0.0</td>\n",
       "      <td>0.0</td>\n",
       "      <td>0.0</td>\n",
       "      <td>0.0</td>\n",
       "      <td>Wealke Brin</td>\n",
       "      <td>False</td>\n",
       "    </tr>\n",
       "    <tr>\n",
       "      <th>8611</th>\n",
       "      <td>9192_01</td>\n",
       "      <td>Earth</td>\n",
       "      <td>False</td>\n",
       "      <td>F/1880/P</td>\n",
       "      <td>PSO J318.5-22</td>\n",
       "      <td>24.0</td>\n",
       "      <td>False</td>\n",
       "      <td>NaN</td>\n",
       "      <td>599.0</td>\n",
       "      <td>NaN</td>\n",
       "      <td>0.0</td>\n",
       "      <td>0.0</td>\n",
       "      <td>Norahe Drakeekss</td>\n",
       "      <td>True</td>\n",
       "    </tr>\n",
       "  </tbody>\n",
       "</table>\n",
       "<p>181 rows × 14 columns</p>\n",
       "</div>"
      ],
      "text/plain": [
       "     PassengerId HomePlanet CryoSleep     Cabin    Destination   Age    VIP  \\\n",
       "25       0020_05      Earth      True     E/0/S  PSO J318.5-22   1.0  False   \n",
       "35       0031_03       Mars     False     F/9/P    TRAPPIST-1e  20.0  False   \n",
       "83       0091_01      Earth      True    G/16/S    TRAPPIST-1e  26.0  False   \n",
       "132      0141_01       Mars     False    F/30/P    TRAPPIST-1e  31.0  False   \n",
       "170      0193_02       Mars     False    F/41/P    TRAPPIST-1e  23.0  False   \n",
       "...          ...        ...       ...       ...            ...   ...    ...   \n",
       "8425     8998_02      Earth     False   E/591/S    TRAPPIST-1e  47.0  False   \n",
       "8450     9026_01      Earth      True  G/1463/P    TRAPPIST-1e  58.0  False   \n",
       "8525     9101_01      Earth     False  F/1865/P    TRAPPIST-1e  21.0  False   \n",
       "8534     9112_01       Mars     False   D/290/P    TRAPPIST-1e  28.0  False   \n",
       "8611     9192_01      Earth     False  F/1880/P  PSO J318.5-22  24.0  False   \n",
       "\n",
       "      RoomService  FoodCourt  ShoppingMall     Spa  VRDeck              Name  \\\n",
       "25            NaN        0.0           0.0     0.0     0.0   Mael Brantuarez   \n",
       "35            NaN        0.0        1750.0   990.0     0.0      Dontch Datie   \n",
       "83            NaN        0.0           0.0     0.0     0.0   Deanne Yorkland   \n",
       "132           NaN        0.0          97.0     0.0     0.0      Pyrohs Harte   \n",
       "170           NaN        0.0           8.0  1072.0     0.0         Frook Raf   \n",
       "...           ...        ...           ...     ...     ...               ...   \n",
       "8425          NaN        1.0           0.0   967.0     5.0   Jonaye Englence   \n",
       "8450          NaN        0.0           0.0     0.0     0.0      Mathy Boyers   \n",
       "8525          NaN        0.0         496.0   430.0     0.0       Gera Frazie   \n",
       "8534          NaN        0.0           0.0     0.0     0.0       Wealke Brin   \n",
       "8611          NaN      599.0           NaN     0.0     0.0  Norahe Drakeekss   \n",
       "\n",
       "      Transported  \n",
       "25          False  \n",
       "35           True  \n",
       "83           True  \n",
       "132         False  \n",
       "170         False  \n",
       "...           ...  \n",
       "8425        False  \n",
       "8450         True  \n",
       "8525        False  \n",
       "8534        False  \n",
       "8611         True  \n",
       "\n",
       "[181 rows x 14 columns]"
      ]
     },
     "execution_count": 6,
     "metadata": {},
     "output_type": "execute_result"
    }
   ],
   "source": [
    "traindata[traindata.RoomService.isnull()]"
   ]
  },
  {
   "cell_type": "markdown",
   "id": "3f055cde",
   "metadata": {
    "papermill": {
     "duration": 0.018918,
     "end_time": "2025-01-20T13:57:42.137718",
     "exception": false,
     "start_time": "2025-01-20T13:57:42.118800",
     "status": "completed"
    },
    "tags": []
   },
   "source": [
    "* Immediately we can see that if CryoSleep is true, all expenses should be zero....\n",
    "* Aside from this, there is no clear pattern in expenses, so a fill based on any of the other expense values doesn't seem credible.\n",
    "* So, we will go for a simple zero fill for all missing values"
   ]
  },
  {
   "cell_type": "code",
   "execution_count": 7,
   "id": "a9049d95",
   "metadata": {
    "execution": {
     "iopub.execute_input": "2025-01-20T13:57:42.177665Z",
     "iopub.status.busy": "2025-01-20T13:57:42.177236Z",
     "iopub.status.idle": "2025-01-20T13:57:42.186503Z",
     "shell.execute_reply": "2025-01-20T13:57:42.185503Z"
    },
    "papermill": {
     "duration": 0.032238,
     "end_time": "2025-01-20T13:57:42.188989",
     "exception": false,
     "start_time": "2025-01-20T13:57:42.156751",
     "status": "completed"
    },
    "tags": []
   },
   "outputs": [],
   "source": [
    "#FILLING SOME MISSING EXPENSE VALUES USING THIS ASSUMPTION\n",
    "traindata.RoomService.fillna(0, inplace=True)\n",
    "traindata.FoodCourt.fillna(0, inplace=True)\n",
    "traindata.ShoppingMall.fillna(0, inplace=True)\n",
    "traindata.Spa.fillna(0, inplace=True)\n",
    "traindata.VRDeck.fillna(0, inplace=True)\n",
    "\n",
    "#FIRST ITERATION/TRIAL - FILL ALL MISSING WITH ZERO#"
   ]
  },
  {
   "cell_type": "code",
   "execution_count": 8,
   "id": "e637a481",
   "metadata": {
    "execution": {
     "iopub.execute_input": "2025-01-20T13:57:42.229397Z",
     "iopub.status.busy": "2025-01-20T13:57:42.228969Z",
     "iopub.status.idle": "2025-01-20T13:57:42.236422Z",
     "shell.execute_reply": "2025-01-20T13:57:42.235270Z"
    },
    "papermill": {
     "duration": 0.030558,
     "end_time": "2025-01-20T13:57:42.238834",
     "exception": false,
     "start_time": "2025-01-20T13:57:42.208276",
     "status": "completed"
    },
    "tags": []
   },
   "outputs": [],
   "source": [
    "#CREATING TOTAL SPEND FEATURE FOR EASE OF USE\n",
    "traindata['TotalSpend'] = traindata['FoodCourt'] + traindata['RoomService'] + traindata['Spa'] + traindata['VRDeck'] + traindata['ShoppingMall']\n"
   ]
  },
  {
   "cell_type": "markdown",
   "id": "20cedea5",
   "metadata": {
    "papermill": {
     "duration": 0.018818,
     "end_time": "2025-01-20T13:57:42.276595",
     "exception": false,
     "start_time": "2025-01-20T13:57:42.257777",
     "status": "completed"
    },
    "tags": []
   },
   "source": [
    "<br />\n",
    "<br />\n",
    "\n",
    "----------"
   ]
  },
  {
   "cell_type": "markdown",
   "id": "fcc6009e",
   "metadata": {
    "papermill": {
     "duration": 0.018555,
     "end_time": "2025-01-20T13:57:42.313948",
     "exception": false,
     "start_time": "2025-01-20T13:57:42.295393",
     "status": "completed"
    },
    "tags": []
   },
   "source": [
    "#### Now, Examining the CryoSleep feature..."
   ]
  },
  {
   "cell_type": "code",
   "execution_count": 9,
   "id": "4803467b",
   "metadata": {
    "execution": {
     "iopub.execute_input": "2025-01-20T13:57:42.410244Z",
     "iopub.status.busy": "2025-01-20T13:57:42.409848Z",
     "iopub.status.idle": "2025-01-20T13:57:42.435003Z",
     "shell.execute_reply": "2025-01-20T13:57:42.433927Z"
    },
    "papermill": {
     "duration": 0.103743,
     "end_time": "2025-01-20T13:57:42.437298",
     "exception": false,
     "start_time": "2025-01-20T13:57:42.333555",
     "status": "completed"
    },
    "tags": []
   },
   "outputs": [
    {
     "data": {
      "text/html": [
       "<div>\n",
       "<style scoped>\n",
       "    .dataframe tbody tr th:only-of-type {\n",
       "        vertical-align: middle;\n",
       "    }\n",
       "\n",
       "    .dataframe tbody tr th {\n",
       "        vertical-align: top;\n",
       "    }\n",
       "\n",
       "    .dataframe thead th {\n",
       "        text-align: right;\n",
       "    }\n",
       "</style>\n",
       "<table border=\"1\" class=\"dataframe\">\n",
       "  <thead>\n",
       "    <tr style=\"text-align: right;\">\n",
       "      <th></th>\n",
       "      <th>PassengerId</th>\n",
       "      <th>HomePlanet</th>\n",
       "      <th>CryoSleep</th>\n",
       "      <th>Cabin</th>\n",
       "      <th>Destination</th>\n",
       "      <th>Age</th>\n",
       "      <th>VIP</th>\n",
       "      <th>RoomService</th>\n",
       "      <th>FoodCourt</th>\n",
       "      <th>ShoppingMall</th>\n",
       "      <th>Spa</th>\n",
       "      <th>VRDeck</th>\n",
       "      <th>Name</th>\n",
       "      <th>Transported</th>\n",
       "      <th>TotalSpend</th>\n",
       "    </tr>\n",
       "  </thead>\n",
       "  <tbody>\n",
       "    <tr>\n",
       "      <th>92</th>\n",
       "      <td>0099_02</td>\n",
       "      <td>Earth</td>\n",
       "      <td>NaN</td>\n",
       "      <td>G/12/P</td>\n",
       "      <td>TRAPPIST-1e</td>\n",
       "      <td>2.0</td>\n",
       "      <td>False</td>\n",
       "      <td>0.0</td>\n",
       "      <td>0.0</td>\n",
       "      <td>0.0</td>\n",
       "      <td>0.0</td>\n",
       "      <td>0.0</td>\n",
       "      <td>Thewis Connelson</td>\n",
       "      <td>True</td>\n",
       "      <td>0.0</td>\n",
       "    </tr>\n",
       "    <tr>\n",
       "      <th>98</th>\n",
       "      <td>0105_01</td>\n",
       "      <td>Earth</td>\n",
       "      <td>NaN</td>\n",
       "      <td>F/21/P</td>\n",
       "      <td>TRAPPIST-1e</td>\n",
       "      <td>27.0</td>\n",
       "      <td>False</td>\n",
       "      <td>0.0</td>\n",
       "      <td>0.0</td>\n",
       "      <td>570.0</td>\n",
       "      <td>2.0</td>\n",
       "      <td>131.0</td>\n",
       "      <td>Carry Cleachrand</td>\n",
       "      <td>False</td>\n",
       "      <td>703.0</td>\n",
       "    </tr>\n",
       "    <tr>\n",
       "      <th>104</th>\n",
       "      <td>0110_02</td>\n",
       "      <td>Europa</td>\n",
       "      <td>NaN</td>\n",
       "      <td>B/5/P</td>\n",
       "      <td>TRAPPIST-1e</td>\n",
       "      <td>40.0</td>\n",
       "      <td>False</td>\n",
       "      <td>0.0</td>\n",
       "      <td>331.0</td>\n",
       "      <td>0.0</td>\n",
       "      <td>0.0</td>\n",
       "      <td>1687.0</td>\n",
       "      <td>Aldeba Bootious</td>\n",
       "      <td>False</td>\n",
       "      <td>2018.0</td>\n",
       "    </tr>\n",
       "    <tr>\n",
       "      <th>111</th>\n",
       "      <td>0115_01</td>\n",
       "      <td>Mars</td>\n",
       "      <td>NaN</td>\n",
       "      <td>F/24/P</td>\n",
       "      <td>TRAPPIST-1e</td>\n",
       "      <td>26.0</td>\n",
       "      <td>False</td>\n",
       "      <td>0.0</td>\n",
       "      <td>0.0</td>\n",
       "      <td>0.0</td>\n",
       "      <td>0.0</td>\n",
       "      <td>0.0</td>\n",
       "      <td>Rohs Pead</td>\n",
       "      <td>True</td>\n",
       "      <td>0.0</td>\n",
       "    </tr>\n",
       "    <tr>\n",
       "      <th>152</th>\n",
       "      <td>0173_01</td>\n",
       "      <td>Earth</td>\n",
       "      <td>NaN</td>\n",
       "      <td>E/11/S</td>\n",
       "      <td>TRAPPIST-1e</td>\n",
       "      <td>58.0</td>\n",
       "      <td>False</td>\n",
       "      <td>0.0</td>\n",
       "      <td>985.0</td>\n",
       "      <td>0.0</td>\n",
       "      <td>5.0</td>\n",
       "      <td>0.0</td>\n",
       "      <td>Hilip Grifford</td>\n",
       "      <td>True</td>\n",
       "      <td>990.0</td>\n",
       "    </tr>\n",
       "    <tr>\n",
       "      <th>...</th>\n",
       "      <td>...</td>\n",
       "      <td>...</td>\n",
       "      <td>...</td>\n",
       "      <td>...</td>\n",
       "      <td>...</td>\n",
       "      <td>...</td>\n",
       "      <td>...</td>\n",
       "      <td>...</td>\n",
       "      <td>...</td>\n",
       "      <td>...</td>\n",
       "      <td>...</td>\n",
       "      <td>...</td>\n",
       "      <td>...</td>\n",
       "      <td>...</td>\n",
       "      <td>...</td>\n",
       "    </tr>\n",
       "    <tr>\n",
       "      <th>8620</th>\n",
       "      <td>9197_01</td>\n",
       "      <td>Europa</td>\n",
       "      <td>NaN</td>\n",
       "      <td>C/308/P</td>\n",
       "      <td>55 Cancri e</td>\n",
       "      <td>44.0</td>\n",
       "      <td>False</td>\n",
       "      <td>0.0</td>\n",
       "      <td>0.0</td>\n",
       "      <td>0.0</td>\n",
       "      <td>0.0</td>\n",
       "      <td>0.0</td>\n",
       "      <td>Bellus Platch</td>\n",
       "      <td>True</td>\n",
       "      <td>0.0</td>\n",
       "    </tr>\n",
       "    <tr>\n",
       "      <th>8651</th>\n",
       "      <td>9227_05</td>\n",
       "      <td>Earth</td>\n",
       "      <td>NaN</td>\n",
       "      <td>G/1498/P</td>\n",
       "      <td>TRAPPIST-1e</td>\n",
       "      <td>8.0</td>\n",
       "      <td>False</td>\n",
       "      <td>0.0</td>\n",
       "      <td>0.0</td>\n",
       "      <td>0.0</td>\n",
       "      <td>0.0</td>\n",
       "      <td>0.0</td>\n",
       "      <td>Hard Hinglendez</td>\n",
       "      <td>False</td>\n",
       "      <td>0.0</td>\n",
       "    </tr>\n",
       "    <tr>\n",
       "      <th>8664</th>\n",
       "      <td>9246_01</td>\n",
       "      <td>Earth</td>\n",
       "      <td>NaN</td>\n",
       "      <td>G/1490/S</td>\n",
       "      <td>TRAPPIST-1e</td>\n",
       "      <td>32.0</td>\n",
       "      <td>False</td>\n",
       "      <td>0.0</td>\n",
       "      <td>0.0</td>\n",
       "      <td>0.0</td>\n",
       "      <td>0.0</td>\n",
       "      <td>0.0</td>\n",
       "      <td>NaN</td>\n",
       "      <td>True</td>\n",
       "      <td>0.0</td>\n",
       "    </tr>\n",
       "    <tr>\n",
       "      <th>8675</th>\n",
       "      <td>9259_01</td>\n",
       "      <td>Earth</td>\n",
       "      <td>NaN</td>\n",
       "      <td>F/1893/P</td>\n",
       "      <td>TRAPPIST-1e</td>\n",
       "      <td>44.0</td>\n",
       "      <td>False</td>\n",
       "      <td>1030.0</td>\n",
       "      <td>1015.0</td>\n",
       "      <td>0.0</td>\n",
       "      <td>11.0</td>\n",
       "      <td>0.0</td>\n",
       "      <td>Annah Gilleyons</td>\n",
       "      <td>True</td>\n",
       "      <td>2056.0</td>\n",
       "    </tr>\n",
       "    <tr>\n",
       "      <th>8687</th>\n",
       "      <td>9275_03</td>\n",
       "      <td>Europa</td>\n",
       "      <td>NaN</td>\n",
       "      <td>A/97/P</td>\n",
       "      <td>TRAPPIST-1e</td>\n",
       "      <td>30.0</td>\n",
       "      <td>False</td>\n",
       "      <td>0.0</td>\n",
       "      <td>3208.0</td>\n",
       "      <td>0.0</td>\n",
       "      <td>2.0</td>\n",
       "      <td>330.0</td>\n",
       "      <td>Atlasym Conable</td>\n",
       "      <td>True</td>\n",
       "      <td>3540.0</td>\n",
       "    </tr>\n",
       "  </tbody>\n",
       "</table>\n",
       "<p>217 rows × 15 columns</p>\n",
       "</div>"
      ],
      "text/plain": [
       "     PassengerId HomePlanet CryoSleep     Cabin  Destination   Age    VIP  \\\n",
       "92       0099_02      Earth       NaN    G/12/P  TRAPPIST-1e   2.0  False   \n",
       "98       0105_01      Earth       NaN    F/21/P  TRAPPIST-1e  27.0  False   \n",
       "104      0110_02     Europa       NaN     B/5/P  TRAPPIST-1e  40.0  False   \n",
       "111      0115_01       Mars       NaN    F/24/P  TRAPPIST-1e  26.0  False   \n",
       "152      0173_01      Earth       NaN    E/11/S  TRAPPIST-1e  58.0  False   \n",
       "...          ...        ...       ...       ...          ...   ...    ...   \n",
       "8620     9197_01     Europa       NaN   C/308/P  55 Cancri e  44.0  False   \n",
       "8651     9227_05      Earth       NaN  G/1498/P  TRAPPIST-1e   8.0  False   \n",
       "8664     9246_01      Earth       NaN  G/1490/S  TRAPPIST-1e  32.0  False   \n",
       "8675     9259_01      Earth       NaN  F/1893/P  TRAPPIST-1e  44.0  False   \n",
       "8687     9275_03     Europa       NaN    A/97/P  TRAPPIST-1e  30.0  False   \n",
       "\n",
       "      RoomService  FoodCourt  ShoppingMall   Spa  VRDeck              Name  \\\n",
       "92            0.0        0.0           0.0   0.0     0.0  Thewis Connelson   \n",
       "98            0.0        0.0         570.0   2.0   131.0  Carry Cleachrand   \n",
       "104           0.0      331.0           0.0   0.0  1687.0   Aldeba Bootious   \n",
       "111           0.0        0.0           0.0   0.0     0.0         Rohs Pead   \n",
       "152           0.0      985.0           0.0   5.0     0.0    Hilip Grifford   \n",
       "...           ...        ...           ...   ...     ...               ...   \n",
       "8620          0.0        0.0           0.0   0.0     0.0     Bellus Platch   \n",
       "8651          0.0        0.0           0.0   0.0     0.0   Hard Hinglendez   \n",
       "8664          0.0        0.0           0.0   0.0     0.0               NaN   \n",
       "8675       1030.0     1015.0           0.0  11.0     0.0   Annah Gilleyons   \n",
       "8687          0.0     3208.0           0.0   2.0   330.0   Atlasym Conable   \n",
       "\n",
       "      Transported  TotalSpend  \n",
       "92           True         0.0  \n",
       "98          False       703.0  \n",
       "104         False      2018.0  \n",
       "111          True         0.0  \n",
       "152          True       990.0  \n",
       "...           ...         ...  \n",
       "8620         True         0.0  \n",
       "8651        False         0.0  \n",
       "8664         True         0.0  \n",
       "8675         True      2056.0  \n",
       "8687         True      3540.0  \n",
       "\n",
       "[217 rows x 15 columns]"
      ]
     },
     "execution_count": 9,
     "metadata": {},
     "output_type": "execute_result"
    }
   ],
   "source": [
    "traindata[traindata.CryoSleep.isnull()]"
   ]
  },
  {
   "cell_type": "code",
   "execution_count": 10,
   "id": "6315bb04",
   "metadata": {
    "execution": {
     "iopub.execute_input": "2025-01-20T13:57:42.478782Z",
     "iopub.status.busy": "2025-01-20T13:57:42.478364Z",
     "iopub.status.idle": "2025-01-20T13:57:42.490984Z",
     "shell.execute_reply": "2025-01-20T13:57:42.489688Z"
    },
    "papermill": {
     "duration": 0.036729,
     "end_time": "2025-01-20T13:57:42.493702",
     "exception": false,
     "start_time": "2025-01-20T13:57:42.456973",
     "status": "completed"
    },
    "tags": []
   },
   "outputs": [
    {
     "data": {
      "text/plain": [
       "count     3555\n",
       "unique       2\n",
       "top       True\n",
       "freq      3037\n",
       "Name: CryoSleep, dtype: object"
      ]
     },
     "execution_count": 10,
     "metadata": {},
     "output_type": "execute_result"
    }
   ],
   "source": [
    "traindata[traindata.TotalSpend == 0].CryoSleep.describe()"
   ]
  },
  {
   "cell_type": "markdown",
   "id": "1a663686",
   "metadata": {
    "papermill": {
     "duration": 0.019664,
     "end_time": "2025-01-20T13:57:42.533258",
     "exception": false,
     "start_time": "2025-01-20T13:57:42.513594",
     "status": "completed"
    },
    "tags": []
   },
   "source": [
    "* Total Spend seems a logical feature to use to fill CryoSleep. \n",
    "* We can see above that 3037 out of 3555 passengers with zero spend are in CryoSleep (85.4%). \n",
    "* For our imputation, if total spend is zero, we can assume that the passenger is in Cryosleep.\n"
   ]
  },
  {
   "cell_type": "code",
   "execution_count": 11,
   "id": "0b59715b",
   "metadata": {
    "execution": {
     "iopub.execute_input": "2025-01-20T13:57:42.574360Z",
     "iopub.status.busy": "2025-01-20T13:57:42.574007Z",
     "iopub.status.idle": "2025-01-20T13:57:43.148227Z",
     "shell.execute_reply": "2025-01-20T13:57:43.147199Z"
    },
    "papermill": {
     "duration": 0.597864,
     "end_time": "2025-01-20T13:57:43.150849",
     "exception": false,
     "start_time": "2025-01-20T13:57:42.552985",
     "status": "completed"
    },
    "tags": []
   },
   "outputs": [],
   "source": [
    "#FILLING MISSING CRYOSLEEP VALUES USING THIS METHOD\n",
    "#traindata.CryoSleep.fillna(lambda x: 'True' if traindata.TotalSpend == 0 else 'False', inplace = True)\n",
    "def fill_cryo(row):\n",
    "    if type(row.CryoSleep) == float:\n",
    "        if row.TotalSpend == 0:\n",
    "            row.CryoSleep = True\n",
    "        else:\n",
    "            row.CryoSleep = False\n",
    "    return row\n",
    "\n",
    "traindata = traindata.apply(fill_cryo, axis=1)"
   ]
  },
  {
   "cell_type": "code",
   "execution_count": 12,
   "id": "7d41f9c7",
   "metadata": {
    "execution": {
     "iopub.execute_input": "2025-01-20T13:57:43.192072Z",
     "iopub.status.busy": "2025-01-20T13:57:43.191690Z",
     "iopub.status.idle": "2025-01-20T13:57:43.198708Z",
     "shell.execute_reply": "2025-01-20T13:57:43.197642Z"
    },
    "papermill": {
     "duration": 0.030364,
     "end_time": "2025-01-20T13:57:43.200937",
     "exception": false,
     "start_time": "2025-01-20T13:57:43.170573",
     "status": "completed"
    },
    "tags": []
   },
   "outputs": [
    {
     "data": {
      "text/plain": [
       "True"
      ]
     },
     "execution_count": 12,
     "metadata": {},
     "output_type": "execute_result"
    }
   ],
   "source": [
    "traindata.CryoSleep[8620]"
   ]
  },
  {
   "cell_type": "markdown",
   "id": "4939936e",
   "metadata": {
    "papermill": {
     "duration": 0.019434,
     "end_time": "2025-01-20T13:57:43.240559",
     "exception": false,
     "start_time": "2025-01-20T13:57:43.221125",
     "status": "completed"
    },
    "tags": []
   },
   "source": [
    "<br />\n",
    "<br />\n",
    "\n",
    "------\n"
   ]
  },
  {
   "cell_type": "markdown",
   "id": "32101b3b",
   "metadata": {
    "papermill": {
     "duration": 0.019526,
     "end_time": "2025-01-20T13:57:43.280527",
     "exception": false,
     "start_time": "2025-01-20T13:57:43.261001",
     "status": "completed"
    },
    "tags": []
   },
   "source": [
    "#### Examining the Age column we can see some interesting interactions with other features...."
   ]
  },
  {
   "cell_type": "code",
   "execution_count": 13,
   "id": "29f1d290",
   "metadata": {
    "execution": {
     "iopub.execute_input": "2025-01-20T13:57:43.321565Z",
     "iopub.status.busy": "2025-01-20T13:57:43.321156Z",
     "iopub.status.idle": "2025-01-20T13:57:43.335513Z",
     "shell.execute_reply": "2025-01-20T13:57:43.334427Z"
    },
    "papermill": {
     "duration": 0.037285,
     "end_time": "2025-01-20T13:57:43.337618",
     "exception": false,
     "start_time": "2025-01-20T13:57:43.300333",
     "status": "completed"
    },
    "tags": []
   },
   "outputs": [
    {
     "data": {
      "text/html": [
       "<div>\n",
       "<style scoped>\n",
       "    .dataframe tbody tr th:only-of-type {\n",
       "        vertical-align: middle;\n",
       "    }\n",
       "\n",
       "    .dataframe tbody tr th {\n",
       "        vertical-align: top;\n",
       "    }\n",
       "\n",
       "    .dataframe thead th {\n",
       "        text-align: right;\n",
       "    }\n",
       "</style>\n",
       "<table border=\"1\" class=\"dataframe\">\n",
       "  <thead>\n",
       "    <tr style=\"text-align: right;\">\n",
       "      <th></th>\n",
       "      <th>PassengerId</th>\n",
       "      <th>HomePlanet</th>\n",
       "      <th>CryoSleep</th>\n",
       "      <th>Cabin</th>\n",
       "      <th>Destination</th>\n",
       "      <th>Age</th>\n",
       "      <th>VIP</th>\n",
       "      <th>RoomService</th>\n",
       "      <th>FoodCourt</th>\n",
       "      <th>ShoppingMall</th>\n",
       "      <th>Spa</th>\n",
       "      <th>VRDeck</th>\n",
       "      <th>Name</th>\n",
       "      <th>Transported</th>\n",
       "      <th>TotalSpend</th>\n",
       "    </tr>\n",
       "  </thead>\n",
       "  <tbody>\n",
       "  </tbody>\n",
       "</table>\n",
       "</div>"
      ],
      "text/plain": [
       "Empty DataFrame\n",
       "Columns: [PassengerId, HomePlanet, CryoSleep, Cabin, Destination, Age, VIP, RoomService, FoodCourt, ShoppingMall, Spa, VRDeck, Name, Transported, TotalSpend]\n",
       "Index: []"
      ]
     },
     "execution_count": 13,
     "metadata": {},
     "output_type": "execute_result"
    }
   ],
   "source": [
    "traindata[(traindata.Age < 18) & (traindata.VIP == True)]"
   ]
  },
  {
   "cell_type": "markdown",
   "id": "f6368699",
   "metadata": {
    "papermill": {
     "duration": 0.019481,
     "end_time": "2025-01-20T13:57:43.376804",
     "exception": false,
     "start_time": "2025-01-20T13:57:43.357323",
     "status": "completed"
    },
    "tags": []
   },
   "source": [
    "We can see that there are no VIPS under the age of 18."
   ]
  },
  {
   "cell_type": "code",
   "execution_count": 14,
   "id": "6b8b7245",
   "metadata": {
    "execution": {
     "iopub.execute_input": "2025-01-20T13:57:43.417992Z",
     "iopub.status.busy": "2025-01-20T13:57:43.417595Z",
     "iopub.status.idle": "2025-01-20T13:57:43.431269Z",
     "shell.execute_reply": "2025-01-20T13:57:43.429924Z"
    },
    "papermill": {
     "duration": 0.03741,
     "end_time": "2025-01-20T13:57:43.433716",
     "exception": false,
     "start_time": "2025-01-20T13:57:43.396306",
     "status": "completed"
    },
    "tags": []
   },
   "outputs": [
    {
     "data": {
      "text/html": [
       "<div>\n",
       "<style scoped>\n",
       "    .dataframe tbody tr th:only-of-type {\n",
       "        vertical-align: middle;\n",
       "    }\n",
       "\n",
       "    .dataframe tbody tr th {\n",
       "        vertical-align: top;\n",
       "    }\n",
       "\n",
       "    .dataframe thead th {\n",
       "        text-align: right;\n",
       "    }\n",
       "</style>\n",
       "<table border=\"1\" class=\"dataframe\">\n",
       "  <thead>\n",
       "    <tr style=\"text-align: right;\">\n",
       "      <th></th>\n",
       "      <th>PassengerId</th>\n",
       "      <th>HomePlanet</th>\n",
       "      <th>CryoSleep</th>\n",
       "      <th>Cabin</th>\n",
       "      <th>Destination</th>\n",
       "      <th>Age</th>\n",
       "      <th>VIP</th>\n",
       "      <th>RoomService</th>\n",
       "      <th>FoodCourt</th>\n",
       "      <th>ShoppingMall</th>\n",
       "      <th>Spa</th>\n",
       "      <th>VRDeck</th>\n",
       "      <th>Name</th>\n",
       "      <th>Transported</th>\n",
       "      <th>TotalSpend</th>\n",
       "    </tr>\n",
       "  </thead>\n",
       "  <tbody>\n",
       "  </tbody>\n",
       "</table>\n",
       "</div>"
      ],
      "text/plain": [
       "Empty DataFrame\n",
       "Columns: [PassengerId, HomePlanet, CryoSleep, Cabin, Destination, Age, VIP, RoomService, FoodCourt, ShoppingMall, Spa, VRDeck, Name, Transported, TotalSpend]\n",
       "Index: []"
      ]
     },
     "execution_count": 14,
     "metadata": {},
     "output_type": "execute_result"
    }
   ],
   "source": [
    "traindata[(traindata.Age < 13) & (traindata.TotalSpend != 0)]"
   ]
  },
  {
   "cell_type": "markdown",
   "id": "f5f9d238",
   "metadata": {
    "papermill": {
     "duration": 0.019843,
     "end_time": "2025-01-20T13:57:43.473778",
     "exception": false,
     "start_time": "2025-01-20T13:57:43.453935",
     "status": "completed"
    },
    "tags": []
   },
   "source": [
    "Anyone under the age of 13 has zero spend."
   ]
  },
  {
   "cell_type": "code",
   "execution_count": 15,
   "id": "6e20351b",
   "metadata": {
    "execution": {
     "iopub.execute_input": "2025-01-20T13:57:43.516538Z",
     "iopub.status.busy": "2025-01-20T13:57:43.516131Z",
     "iopub.status.idle": "2025-01-20T13:57:43.532268Z",
     "shell.execute_reply": "2025-01-20T13:57:43.531157Z"
    },
    "papermill": {
     "duration": 0.040807,
     "end_time": "2025-01-20T13:57:43.534707",
     "exception": false,
     "start_time": "2025-01-20T13:57:43.493900",
     "status": "completed"
    },
    "tags": []
   },
   "outputs": [
    {
     "data": {
      "text/plain": [
       "count    4950.000000\n",
       "mean       31.658182\n",
       "std        12.591726\n",
       "min        13.000000\n",
       "25%        22.000000\n",
       "50%        29.000000\n",
       "75%        39.000000\n",
       "max        79.000000\n",
       "Name: Age, dtype: float64"
      ]
     },
     "execution_count": 15,
     "metadata": {},
     "output_type": "execute_result"
    }
   ],
   "source": [
    "traindata[traindata.TotalSpend > 0].Age.describe()"
   ]
  },
  {
   "cell_type": "code",
   "execution_count": 16,
   "id": "f6ab70d0",
   "metadata": {
    "execution": {
     "iopub.execute_input": "2025-01-20T13:57:43.579200Z",
     "iopub.status.busy": "2025-01-20T13:57:43.578814Z",
     "iopub.status.idle": "2025-01-20T13:57:43.593740Z",
     "shell.execute_reply": "2025-01-20T13:57:43.592519Z"
    },
    "papermill": {
     "duration": 0.039892,
     "end_time": "2025-01-20T13:57:43.596624",
     "exception": false,
     "start_time": "2025-01-20T13:57:43.556732",
     "status": "completed"
    },
    "tags": []
   },
   "outputs": [
    {
     "data": {
      "text/plain": [
       "count    3564.000000\n",
       "mean       24.897026\n",
       "std        15.961601\n",
       "min         0.000000\n",
       "25%        14.000000\n",
       "50%        24.000000\n",
       "75%        35.000000\n",
       "max        78.000000\n",
       "Name: Age, dtype: float64"
      ]
     },
     "execution_count": 16,
     "metadata": {},
     "output_type": "execute_result"
    }
   ],
   "source": [
    "traindata[traindata.TotalSpend == 0].Age.describe()"
   ]
  },
  {
   "cell_type": "markdown",
   "id": "f68bde75",
   "metadata": {
    "papermill": {
     "duration": 0.019714,
     "end_time": "2025-01-20T13:57:43.636613",
     "exception": false,
     "start_time": "2025-01-20T13:57:43.616899",
     "status": "completed"
    },
    "tags": []
   },
   "source": [
    "<br />\n",
    "<br />\n",
    "\n",
    "-----"
   ]
  },
  {
   "cell_type": "markdown",
   "id": "851ac80a",
   "metadata": {
    "papermill": {
     "duration": 0.019496,
     "end_time": "2025-01-20T13:57:43.676007",
     "exception": false,
     "start_time": "2025-01-20T13:57:43.656511",
     "status": "completed"
    },
    "tags": []
   },
   "source": [
    "#### Examining the Name column...."
   ]
  },
  {
   "cell_type": "code",
   "execution_count": 17,
   "id": "f774f1bc",
   "metadata": {
    "execution": {
     "iopub.execute_input": "2025-01-20T13:57:43.719632Z",
     "iopub.status.busy": "2025-01-20T13:57:43.718416Z",
     "iopub.status.idle": "2025-01-20T13:57:43.746169Z",
     "shell.execute_reply": "2025-01-20T13:57:43.745004Z"
    },
    "papermill": {
     "duration": 0.052806,
     "end_time": "2025-01-20T13:57:43.748685",
     "exception": false,
     "start_time": "2025-01-20T13:57:43.695879",
     "status": "completed"
    },
    "tags": []
   },
   "outputs": [
    {
     "data": {
      "text/html": [
       "<div>\n",
       "<style scoped>\n",
       "    .dataframe tbody tr th:only-of-type {\n",
       "        vertical-align: middle;\n",
       "    }\n",
       "\n",
       "    .dataframe tbody tr th {\n",
       "        vertical-align: top;\n",
       "    }\n",
       "\n",
       "    .dataframe thead th {\n",
       "        text-align: right;\n",
       "    }\n",
       "</style>\n",
       "<table border=\"1\" class=\"dataframe\">\n",
       "  <thead>\n",
       "    <tr style=\"text-align: right;\">\n",
       "      <th></th>\n",
       "      <th>PassengerId</th>\n",
       "      <th>HomePlanet</th>\n",
       "      <th>CryoSleep</th>\n",
       "      <th>Cabin</th>\n",
       "      <th>Destination</th>\n",
       "      <th>Age</th>\n",
       "      <th>VIP</th>\n",
       "      <th>RoomService</th>\n",
       "      <th>FoodCourt</th>\n",
       "      <th>ShoppingMall</th>\n",
       "      <th>Spa</th>\n",
       "      <th>VRDeck</th>\n",
       "      <th>Name</th>\n",
       "      <th>Transported</th>\n",
       "      <th>TotalSpend</th>\n",
       "    </tr>\n",
       "  </thead>\n",
       "  <tbody>\n",
       "    <tr>\n",
       "      <th>27</th>\n",
       "      <td>0022_01</td>\n",
       "      <td>Mars</td>\n",
       "      <td>False</td>\n",
       "      <td>D/0/P</td>\n",
       "      <td>TRAPPIST-1e</td>\n",
       "      <td>21.0</td>\n",
       "      <td>False</td>\n",
       "      <td>980.0</td>\n",
       "      <td>2.0</td>\n",
       "      <td>69.0</td>\n",
       "      <td>0.0</td>\n",
       "      <td>0.0</td>\n",
       "      <td>NaN</td>\n",
       "      <td>False</td>\n",
       "      <td>1051.0</td>\n",
       "    </tr>\n",
       "    <tr>\n",
       "      <th>58</th>\n",
       "      <td>0064_01</td>\n",
       "      <td>Mars</td>\n",
       "      <td>True</td>\n",
       "      <td>F/14/S</td>\n",
       "      <td>TRAPPIST-1e</td>\n",
       "      <td>15.0</td>\n",
       "      <td>False</td>\n",
       "      <td>0.0</td>\n",
       "      <td>0.0</td>\n",
       "      <td>0.0</td>\n",
       "      <td>0.0</td>\n",
       "      <td>0.0</td>\n",
       "      <td>NaN</td>\n",
       "      <td>True</td>\n",
       "      <td>0.0</td>\n",
       "    </tr>\n",
       "    <tr>\n",
       "      <th>65</th>\n",
       "      <td>0069_01</td>\n",
       "      <td>Earth</td>\n",
       "      <td>False</td>\n",
       "      <td>F/16/S</td>\n",
       "      <td>TRAPPIST-1e</td>\n",
       "      <td>42.0</td>\n",
       "      <td>False</td>\n",
       "      <td>887.0</td>\n",
       "      <td>0.0</td>\n",
       "      <td>9.0</td>\n",
       "      <td>6.0</td>\n",
       "      <td>0.0</td>\n",
       "      <td>NaN</td>\n",
       "      <td>True</td>\n",
       "      <td>902.0</td>\n",
       "    </tr>\n",
       "    <tr>\n",
       "      <th>77</th>\n",
       "      <td>0082_03</td>\n",
       "      <td>Mars</td>\n",
       "      <td>False</td>\n",
       "      <td>F/16/P</td>\n",
       "      <td>TRAPPIST-1e</td>\n",
       "      <td>8.0</td>\n",
       "      <td>False</td>\n",
       "      <td>0.0</td>\n",
       "      <td>0.0</td>\n",
       "      <td>0.0</td>\n",
       "      <td>0.0</td>\n",
       "      <td>0.0</td>\n",
       "      <td>NaN</td>\n",
       "      <td>True</td>\n",
       "      <td>0.0</td>\n",
       "    </tr>\n",
       "    <tr>\n",
       "      <th>101</th>\n",
       "      <td>0108_02</td>\n",
       "      <td>Earth</td>\n",
       "      <td>False</td>\n",
       "      <td>G/19/S</td>\n",
       "      <td>TRAPPIST-1e</td>\n",
       "      <td>31.0</td>\n",
       "      <td>False</td>\n",
       "      <td>562.0</td>\n",
       "      <td>0.0</td>\n",
       "      <td>326.0</td>\n",
       "      <td>0.0</td>\n",
       "      <td>0.0</td>\n",
       "      <td>NaN</td>\n",
       "      <td>False</td>\n",
       "      <td>888.0</td>\n",
       "    </tr>\n",
       "    <tr>\n",
       "      <th>...</th>\n",
       "      <td>...</td>\n",
       "      <td>...</td>\n",
       "      <td>...</td>\n",
       "      <td>...</td>\n",
       "      <td>...</td>\n",
       "      <td>...</td>\n",
       "      <td>...</td>\n",
       "      <td>...</td>\n",
       "      <td>...</td>\n",
       "      <td>...</td>\n",
       "      <td>...</td>\n",
       "      <td>...</td>\n",
       "      <td>...</td>\n",
       "      <td>...</td>\n",
       "      <td>...</td>\n",
       "    </tr>\n",
       "    <tr>\n",
       "      <th>8629</th>\n",
       "      <td>9205_02</td>\n",
       "      <td>Europa</td>\n",
       "      <td>True</td>\n",
       "      <td>B/300/P</td>\n",
       "      <td>TRAPPIST-1e</td>\n",
       "      <td>15.0</td>\n",
       "      <td>False</td>\n",
       "      <td>0.0</td>\n",
       "      <td>0.0</td>\n",
       "      <td>0.0</td>\n",
       "      <td>0.0</td>\n",
       "      <td>0.0</td>\n",
       "      <td>NaN</td>\n",
       "      <td>True</td>\n",
       "      <td>0.0</td>\n",
       "    </tr>\n",
       "    <tr>\n",
       "      <th>8631</th>\n",
       "      <td>9208_01</td>\n",
       "      <td>Earth</td>\n",
       "      <td>True</td>\n",
       "      <td>G/1485/S</td>\n",
       "      <td>TRAPPIST-1e</td>\n",
       "      <td>35.0</td>\n",
       "      <td>False</td>\n",
       "      <td>0.0</td>\n",
       "      <td>0.0</td>\n",
       "      <td>0.0</td>\n",
       "      <td>0.0</td>\n",
       "      <td>0.0</td>\n",
       "      <td>NaN</td>\n",
       "      <td>True</td>\n",
       "      <td>0.0</td>\n",
       "    </tr>\n",
       "    <tr>\n",
       "      <th>8636</th>\n",
       "      <td>9218_01</td>\n",
       "      <td>Europa</td>\n",
       "      <td>True</td>\n",
       "      <td>B/353/S</td>\n",
       "      <td>55 Cancri e</td>\n",
       "      <td>43.0</td>\n",
       "      <td>False</td>\n",
       "      <td>0.0</td>\n",
       "      <td>0.0</td>\n",
       "      <td>0.0</td>\n",
       "      <td>0.0</td>\n",
       "      <td>0.0</td>\n",
       "      <td>NaN</td>\n",
       "      <td>True</td>\n",
       "      <td>0.0</td>\n",
       "    </tr>\n",
       "    <tr>\n",
       "      <th>8652</th>\n",
       "      <td>9230_01</td>\n",
       "      <td>Europa</td>\n",
       "      <td>False</td>\n",
       "      <td>C/342/S</td>\n",
       "      <td>TRAPPIST-1e</td>\n",
       "      <td>36.0</td>\n",
       "      <td>True</td>\n",
       "      <td>0.0</td>\n",
       "      <td>5600.0</td>\n",
       "      <td>715.0</td>\n",
       "      <td>2868.0</td>\n",
       "      <td>971.0</td>\n",
       "      <td>NaN</td>\n",
       "      <td>True</td>\n",
       "      <td>10154.0</td>\n",
       "    </tr>\n",
       "    <tr>\n",
       "      <th>8664</th>\n",
       "      <td>9246_01</td>\n",
       "      <td>Earth</td>\n",
       "      <td>True</td>\n",
       "      <td>G/1490/S</td>\n",
       "      <td>TRAPPIST-1e</td>\n",
       "      <td>32.0</td>\n",
       "      <td>False</td>\n",
       "      <td>0.0</td>\n",
       "      <td>0.0</td>\n",
       "      <td>0.0</td>\n",
       "      <td>0.0</td>\n",
       "      <td>0.0</td>\n",
       "      <td>NaN</td>\n",
       "      <td>True</td>\n",
       "      <td>0.0</td>\n",
       "    </tr>\n",
       "  </tbody>\n",
       "</table>\n",
       "<p>200 rows × 15 columns</p>\n",
       "</div>"
      ],
      "text/plain": [
       "     PassengerId HomePlanet  CryoSleep     Cabin  Destination   Age    VIP  \\\n",
       "27       0022_01       Mars      False     D/0/P  TRAPPIST-1e  21.0  False   \n",
       "58       0064_01       Mars       True    F/14/S  TRAPPIST-1e  15.0  False   \n",
       "65       0069_01      Earth      False    F/16/S  TRAPPIST-1e  42.0  False   \n",
       "77       0082_03       Mars      False    F/16/P  TRAPPIST-1e   8.0  False   \n",
       "101      0108_02      Earth      False    G/19/S  TRAPPIST-1e  31.0  False   \n",
       "...          ...        ...        ...       ...          ...   ...    ...   \n",
       "8629     9205_02     Europa       True   B/300/P  TRAPPIST-1e  15.0  False   \n",
       "8631     9208_01      Earth       True  G/1485/S  TRAPPIST-1e  35.0  False   \n",
       "8636     9218_01     Europa       True   B/353/S  55 Cancri e  43.0  False   \n",
       "8652     9230_01     Europa      False   C/342/S  TRAPPIST-1e  36.0   True   \n",
       "8664     9246_01      Earth       True  G/1490/S  TRAPPIST-1e  32.0  False   \n",
       "\n",
       "      RoomService  FoodCourt  ShoppingMall     Spa  VRDeck Name  Transported  \\\n",
       "27          980.0        2.0          69.0     0.0     0.0  NaN        False   \n",
       "58            0.0        0.0           0.0     0.0     0.0  NaN         True   \n",
       "65          887.0        0.0           9.0     6.0     0.0  NaN         True   \n",
       "77            0.0        0.0           0.0     0.0     0.0  NaN         True   \n",
       "101         562.0        0.0         326.0     0.0     0.0  NaN        False   \n",
       "...           ...        ...           ...     ...     ...  ...          ...   \n",
       "8629          0.0        0.0           0.0     0.0     0.0  NaN         True   \n",
       "8631          0.0        0.0           0.0     0.0     0.0  NaN         True   \n",
       "8636          0.0        0.0           0.0     0.0     0.0  NaN         True   \n",
       "8652          0.0     5600.0         715.0  2868.0   971.0  NaN         True   \n",
       "8664          0.0        0.0           0.0     0.0     0.0  NaN         True   \n",
       "\n",
       "      TotalSpend  \n",
       "27        1051.0  \n",
       "58           0.0  \n",
       "65         902.0  \n",
       "77           0.0  \n",
       "101        888.0  \n",
       "...          ...  \n",
       "8629         0.0  \n",
       "8631         0.0  \n",
       "8636         0.0  \n",
       "8652     10154.0  \n",
       "8664         0.0  \n",
       "\n",
       "[200 rows x 15 columns]"
      ]
     },
     "execution_count": 17,
     "metadata": {},
     "output_type": "execute_result"
    }
   ],
   "source": [
    "traindata[traindata.Name.isnull()]"
   ]
  },
  {
   "cell_type": "markdown",
   "id": "fe232e02",
   "metadata": {
    "papermill": {
     "duration": 0.020193,
     "end_time": "2025-01-20T13:57:43.789719",
     "exception": false,
     "start_time": "2025-01-20T13:57:43.769526",
     "status": "completed"
    },
    "tags": []
   },
   "source": [
    "For now, the only method we can use to fill any meaningful data in the Name column is checking if there is anyone else travelling on the same ticket, and filling their surname to the missing entry. If there is nobody else travelling on the ticket, then a generic placeholder fill can be used."
   ]
  },
  {
   "cell_type": "code",
   "execution_count": 18,
   "id": "9f1c710c",
   "metadata": {
    "execution": {
     "iopub.execute_input": "2025-01-20T13:57:43.832669Z",
     "iopub.status.busy": "2025-01-20T13:57:43.832266Z",
     "iopub.status.idle": "2025-01-20T13:57:43.850605Z",
     "shell.execute_reply": "2025-01-20T13:57:43.849116Z"
    },
    "papermill": {
     "duration": 0.042293,
     "end_time": "2025-01-20T13:57:43.852858",
     "exception": false,
     "start_time": "2025-01-20T13:57:43.810565",
     "status": "completed"
    },
    "tags": []
   },
   "outputs": [],
   "source": [
    "#FIRSTLY, CREATING NEW FEATURES FROM CABIN COLUMN FOR THIS PURPOSE\n",
    "traindata[['Ticket1','Ticket2']] = traindata['PassengerId'].str.split('_', expand = True)\n"
   ]
  },
  {
   "cell_type": "code",
   "execution_count": 19,
   "id": "b84d5f8d",
   "metadata": {
    "execution": {
     "iopub.execute_input": "2025-01-20T13:57:43.897978Z",
     "iopub.status.busy": "2025-01-20T13:57:43.896766Z",
     "iopub.status.idle": "2025-01-20T13:57:43.903697Z",
     "shell.execute_reply": "2025-01-20T13:57:43.902596Z"
    },
    "papermill": {
     "duration": 0.031292,
     "end_time": "2025-01-20T13:57:43.905623",
     "exception": false,
     "start_time": "2025-01-20T13:57:43.874331",
     "status": "completed"
    },
    "tags": []
   },
   "outputs": [],
   "source": [
    "#FOR THIS ITERATION, A SIMPLE PLACEHOLDER FILL IS USED\n",
    "\n",
    "traindata.Name.fillna(value = 'Noname Noname', inplace = True)"
   ]
  },
  {
   "cell_type": "markdown",
   "id": "fed3844f",
   "metadata": {
    "papermill": {
     "duration": 0.020307,
     "end_time": "2025-01-20T13:57:43.946294",
     "exception": false,
     "start_time": "2025-01-20T13:57:43.925987",
     "status": "completed"
    },
    "tags": []
   },
   "source": [
    "<br />\n",
    "<br />\n",
    "\n",
    "-----"
   ]
  },
  {
   "cell_type": "markdown",
   "id": "31f6fc11",
   "metadata": {
    "papermill": {
     "duration": 0.019973,
     "end_time": "2025-01-20T13:57:43.986581",
     "exception": false,
     "start_time": "2025-01-20T13:57:43.966608",
     "status": "completed"
    },
    "tags": []
   },
   "source": [
    "#### Now examining the HomePlanet and Destination features..."
   ]
  },
  {
   "cell_type": "code",
   "execution_count": 20,
   "id": "539a3afb",
   "metadata": {
    "execution": {
     "iopub.execute_input": "2025-01-20T13:57:44.030537Z",
     "iopub.status.busy": "2025-01-20T13:57:44.029554Z",
     "iopub.status.idle": "2025-01-20T13:57:44.057292Z",
     "shell.execute_reply": "2025-01-20T13:57:44.055795Z"
    },
    "papermill": {
     "duration": 0.05323,
     "end_time": "2025-01-20T13:57:44.060132",
     "exception": false,
     "start_time": "2025-01-20T13:57:44.006902",
     "status": "completed"
    },
    "tags": []
   },
   "outputs": [
    {
     "data": {
      "text/html": [
       "<div>\n",
       "<style scoped>\n",
       "    .dataframe tbody tr th:only-of-type {\n",
       "        vertical-align: middle;\n",
       "    }\n",
       "\n",
       "    .dataframe tbody tr th {\n",
       "        vertical-align: top;\n",
       "    }\n",
       "\n",
       "    .dataframe thead th {\n",
       "        text-align: right;\n",
       "    }\n",
       "</style>\n",
       "<table border=\"1\" class=\"dataframe\">\n",
       "  <thead>\n",
       "    <tr style=\"text-align: right;\">\n",
       "      <th></th>\n",
       "      <th>PassengerId</th>\n",
       "      <th>HomePlanet</th>\n",
       "      <th>CryoSleep</th>\n",
       "      <th>Cabin</th>\n",
       "      <th>Destination</th>\n",
       "      <th>Age</th>\n",
       "      <th>VIP</th>\n",
       "      <th>RoomService</th>\n",
       "      <th>FoodCourt</th>\n",
       "      <th>ShoppingMall</th>\n",
       "      <th>Spa</th>\n",
       "      <th>VRDeck</th>\n",
       "      <th>Name</th>\n",
       "      <th>Transported</th>\n",
       "      <th>TotalSpend</th>\n",
       "      <th>Ticket1</th>\n",
       "      <th>Ticket2</th>\n",
       "    </tr>\n",
       "  </thead>\n",
       "  <tbody>\n",
       "    <tr>\n",
       "      <th>59</th>\n",
       "      <td>0064_02</td>\n",
       "      <td>NaN</td>\n",
       "      <td>True</td>\n",
       "      <td>E/3/S</td>\n",
       "      <td>TRAPPIST-1e</td>\n",
       "      <td>33.0</td>\n",
       "      <td>False</td>\n",
       "      <td>0.0</td>\n",
       "      <td>0.0</td>\n",
       "      <td>0.0</td>\n",
       "      <td>0.0</td>\n",
       "      <td>0.0</td>\n",
       "      <td>Colatz Keen</td>\n",
       "      <td>True</td>\n",
       "      <td>0.0</td>\n",
       "      <td>0064</td>\n",
       "      <td>02</td>\n",
       "    </tr>\n",
       "    <tr>\n",
       "      <th>113</th>\n",
       "      <td>0119_01</td>\n",
       "      <td>NaN</td>\n",
       "      <td>False</td>\n",
       "      <td>A/0/P</td>\n",
       "      <td>TRAPPIST-1e</td>\n",
       "      <td>39.0</td>\n",
       "      <td>False</td>\n",
       "      <td>0.0</td>\n",
       "      <td>2344.0</td>\n",
       "      <td>0.0</td>\n",
       "      <td>65.0</td>\n",
       "      <td>6898.0</td>\n",
       "      <td>Batan Coning</td>\n",
       "      <td>False</td>\n",
       "      <td>9307.0</td>\n",
       "      <td>0119</td>\n",
       "      <td>01</td>\n",
       "    </tr>\n",
       "    <tr>\n",
       "      <th>186</th>\n",
       "      <td>0210_01</td>\n",
       "      <td>NaN</td>\n",
       "      <td>True</td>\n",
       "      <td>D/6/P</td>\n",
       "      <td>55 Cancri e</td>\n",
       "      <td>24.0</td>\n",
       "      <td>False</td>\n",
       "      <td>0.0</td>\n",
       "      <td>0.0</td>\n",
       "      <td>0.0</td>\n",
       "      <td>0.0</td>\n",
       "      <td>0.0</td>\n",
       "      <td>Arraid Inicont</td>\n",
       "      <td>True</td>\n",
       "      <td>0.0</td>\n",
       "      <td>0210</td>\n",
       "      <td>01</td>\n",
       "    </tr>\n",
       "    <tr>\n",
       "      <th>225</th>\n",
       "      <td>0242_01</td>\n",
       "      <td>NaN</td>\n",
       "      <td>False</td>\n",
       "      <td>F/46/S</td>\n",
       "      <td>TRAPPIST-1e</td>\n",
       "      <td>18.0</td>\n",
       "      <td>False</td>\n",
       "      <td>313.0</td>\n",
       "      <td>1.0</td>\n",
       "      <td>691.0</td>\n",
       "      <td>283.0</td>\n",
       "      <td>0.0</td>\n",
       "      <td>Almone Sté</td>\n",
       "      <td>False</td>\n",
       "      <td>1288.0</td>\n",
       "      <td>0242</td>\n",
       "      <td>01</td>\n",
       "    </tr>\n",
       "    <tr>\n",
       "      <th>234</th>\n",
       "      <td>0251_01</td>\n",
       "      <td>NaN</td>\n",
       "      <td>True</td>\n",
       "      <td>C/11/S</td>\n",
       "      <td>55 Cancri e</td>\n",
       "      <td>54.0</td>\n",
       "      <td>False</td>\n",
       "      <td>0.0</td>\n",
       "      <td>0.0</td>\n",
       "      <td>0.0</td>\n",
       "      <td>0.0</td>\n",
       "      <td>0.0</td>\n",
       "      <td>Diphah Amsive</td>\n",
       "      <td>True</td>\n",
       "      <td>0.0</td>\n",
       "      <td>0251</td>\n",
       "      <td>01</td>\n",
       "    </tr>\n",
       "    <tr>\n",
       "      <th>...</th>\n",
       "      <td>...</td>\n",
       "      <td>...</td>\n",
       "      <td>...</td>\n",
       "      <td>...</td>\n",
       "      <td>...</td>\n",
       "      <td>...</td>\n",
       "      <td>...</td>\n",
       "      <td>...</td>\n",
       "      <td>...</td>\n",
       "      <td>...</td>\n",
       "      <td>...</td>\n",
       "      <td>...</td>\n",
       "      <td>...</td>\n",
       "      <td>...</td>\n",
       "      <td>...</td>\n",
       "      <td>...</td>\n",
       "      <td>...</td>\n",
       "    </tr>\n",
       "    <tr>\n",
       "      <th>8515</th>\n",
       "      <td>9084_01</td>\n",
       "      <td>NaN</td>\n",
       "      <td>False</td>\n",
       "      <td>E/582/P</td>\n",
       "      <td>TRAPPIST-1e</td>\n",
       "      <td>25.0</td>\n",
       "      <td>False</td>\n",
       "      <td>1258.0</td>\n",
       "      <td>0.0</td>\n",
       "      <td>22.0</td>\n",
       "      <td>19.0</td>\n",
       "      <td>0.0</td>\n",
       "      <td>Jurs Mone</td>\n",
       "      <td>False</td>\n",
       "      <td>1299.0</td>\n",
       "      <td>9084</td>\n",
       "      <td>01</td>\n",
       "    </tr>\n",
       "    <tr>\n",
       "      <th>8613</th>\n",
       "      <td>9194_01</td>\n",
       "      <td>NaN</td>\n",
       "      <td>False</td>\n",
       "      <td>E/603/S</td>\n",
       "      <td>55 Cancri e</td>\n",
       "      <td>53.0</td>\n",
       "      <td>False</td>\n",
       "      <td>0.0</td>\n",
       "      <td>4017.0</td>\n",
       "      <td>0.0</td>\n",
       "      <td>13.0</td>\n",
       "      <td>3147.0</td>\n",
       "      <td>Noname Noname</td>\n",
       "      <td>False</td>\n",
       "      <td>7177.0</td>\n",
       "      <td>9194</td>\n",
       "      <td>01</td>\n",
       "    </tr>\n",
       "    <tr>\n",
       "      <th>8666</th>\n",
       "      <td>9248_01</td>\n",
       "      <td>NaN</td>\n",
       "      <td>False</td>\n",
       "      <td>F/1792/S</td>\n",
       "      <td>55 Cancri e</td>\n",
       "      <td>38.0</td>\n",
       "      <td>NaN</td>\n",
       "      <td>28.0</td>\n",
       "      <td>1208.0</td>\n",
       "      <td>973.0</td>\n",
       "      <td>207.0</td>\n",
       "      <td>0.0</td>\n",
       "      <td>Gian Perle</td>\n",
       "      <td>True</td>\n",
       "      <td>2416.0</td>\n",
       "      <td>9248</td>\n",
       "      <td>01</td>\n",
       "    </tr>\n",
       "    <tr>\n",
       "      <th>8674</th>\n",
       "      <td>9257_01</td>\n",
       "      <td>NaN</td>\n",
       "      <td>False</td>\n",
       "      <td>F/1892/P</td>\n",
       "      <td>TRAPPIST-1e</td>\n",
       "      <td>13.0</td>\n",
       "      <td>False</td>\n",
       "      <td>39.0</td>\n",
       "      <td>0.0</td>\n",
       "      <td>1085.0</td>\n",
       "      <td>24.0</td>\n",
       "      <td>0.0</td>\n",
       "      <td>Ties Apple</td>\n",
       "      <td>False</td>\n",
       "      <td>1148.0</td>\n",
       "      <td>9257</td>\n",
       "      <td>01</td>\n",
       "    </tr>\n",
       "    <tr>\n",
       "      <th>8684</th>\n",
       "      <td>9274_01</td>\n",
       "      <td>NaN</td>\n",
       "      <td>True</td>\n",
       "      <td>G/1508/P</td>\n",
       "      <td>TRAPPIST-1e</td>\n",
       "      <td>23.0</td>\n",
       "      <td>False</td>\n",
       "      <td>0.0</td>\n",
       "      <td>0.0</td>\n",
       "      <td>0.0</td>\n",
       "      <td>0.0</td>\n",
       "      <td>0.0</td>\n",
       "      <td>Chelsa Bullisey</td>\n",
       "      <td>True</td>\n",
       "      <td>0.0</td>\n",
       "      <td>9274</td>\n",
       "      <td>01</td>\n",
       "    </tr>\n",
       "  </tbody>\n",
       "</table>\n",
       "<p>201 rows × 17 columns</p>\n",
       "</div>"
      ],
      "text/plain": [
       "     PassengerId HomePlanet  CryoSleep     Cabin  Destination   Age    VIP  \\\n",
       "59       0064_02        NaN       True     E/3/S  TRAPPIST-1e  33.0  False   \n",
       "113      0119_01        NaN      False     A/0/P  TRAPPIST-1e  39.0  False   \n",
       "186      0210_01        NaN       True     D/6/P  55 Cancri e  24.0  False   \n",
       "225      0242_01        NaN      False    F/46/S  TRAPPIST-1e  18.0  False   \n",
       "234      0251_01        NaN       True    C/11/S  55 Cancri e  54.0  False   \n",
       "...          ...        ...        ...       ...          ...   ...    ...   \n",
       "8515     9084_01        NaN      False   E/582/P  TRAPPIST-1e  25.0  False   \n",
       "8613     9194_01        NaN      False   E/603/S  55 Cancri e  53.0  False   \n",
       "8666     9248_01        NaN      False  F/1792/S  55 Cancri e  38.0    NaN   \n",
       "8674     9257_01        NaN      False  F/1892/P  TRAPPIST-1e  13.0  False   \n",
       "8684     9274_01        NaN       True  G/1508/P  TRAPPIST-1e  23.0  False   \n",
       "\n",
       "      RoomService  FoodCourt  ShoppingMall    Spa  VRDeck             Name  \\\n",
       "59            0.0        0.0           0.0    0.0     0.0      Colatz Keen   \n",
       "113           0.0     2344.0           0.0   65.0  6898.0     Batan Coning   \n",
       "186           0.0        0.0           0.0    0.0     0.0   Arraid Inicont   \n",
       "225         313.0        1.0         691.0  283.0     0.0       Almone Sté   \n",
       "234           0.0        0.0           0.0    0.0     0.0    Diphah Amsive   \n",
       "...           ...        ...           ...    ...     ...              ...   \n",
       "8515       1258.0        0.0          22.0   19.0     0.0        Jurs Mone   \n",
       "8613          0.0     4017.0           0.0   13.0  3147.0    Noname Noname   \n",
       "8666         28.0     1208.0         973.0  207.0     0.0       Gian Perle   \n",
       "8674         39.0        0.0        1085.0   24.0     0.0       Ties Apple   \n",
       "8684          0.0        0.0           0.0    0.0     0.0  Chelsa Bullisey   \n",
       "\n",
       "      Transported  TotalSpend Ticket1 Ticket2  \n",
       "59           True         0.0    0064      02  \n",
       "113         False      9307.0    0119      01  \n",
       "186          True         0.0    0210      01  \n",
       "225         False      1288.0    0242      01  \n",
       "234          True         0.0    0251      01  \n",
       "...           ...         ...     ...     ...  \n",
       "8515        False      1299.0    9084      01  \n",
       "8613        False      7177.0    9194      01  \n",
       "8666         True      2416.0    9248      01  \n",
       "8674        False      1148.0    9257      01  \n",
       "8684         True         0.0    9274      01  \n",
       "\n",
       "[201 rows x 17 columns]"
      ]
     },
     "execution_count": 20,
     "metadata": {},
     "output_type": "execute_result"
    }
   ],
   "source": [
    "traindata[traindata.HomePlanet.isnull()]"
   ]
  },
  {
   "cell_type": "markdown",
   "id": "f2322e5b",
   "metadata": {
    "papermill": {
     "duration": 0.021558,
     "end_time": "2025-01-20T13:57:44.102744",
     "exception": false,
     "start_time": "2025-01-20T13:57:44.081186",
     "status": "completed"
    },
    "tags": []
   },
   "source": [
    "##### If there is anyone else travelling on the same ticket, then we can simply fill using their Home Planet. If not, then the overall mode can be used.\n"
   ]
  },
  {
   "cell_type": "code",
   "execution_count": 21,
   "id": "1363429d",
   "metadata": {
    "execution": {
     "iopub.execute_input": "2025-01-20T13:57:44.147009Z",
     "iopub.status.busy": "2025-01-20T13:57:44.146635Z",
     "iopub.status.idle": "2025-01-20T13:57:45.369086Z",
     "shell.execute_reply": "2025-01-20T13:57:45.367993Z"
    },
    "papermill": {
     "duration": 1.2478,
     "end_time": "2025-01-20T13:57:45.372038",
     "exception": false,
     "start_time": "2025-01-20T13:57:44.124238",
     "status": "completed"
    },
    "tags": []
   },
   "outputs": [],
   "source": [
    "#FILLING USING THIS METHOD\n",
    "homes = {}\n",
    "def get_homes(row):\n",
    "    if row.Ticket1 not in homes.keys() and type(row.HomePlanet) != float:\n",
    "        homes.update({row.Ticket1: row.HomePlanet})\n",
    "    return row\n",
    "def fill_homes(row):\n",
    "    if type(row.HomePlanet) == float:\n",
    "        if homes.get(row.Ticket1) != None:\n",
    "            row.HomePlanet = homes.get(row.Ticket1)\n",
    "        else:\n",
    "            row.HomePlanet = 'Earth'\n",
    "    return row\n",
    "\n",
    "traindata.apply(get_homes, axis=1)\n",
    "traindata = traindata.apply(fill_homes, axis=1)\n",
    "        \n",
    "        "
   ]
  },
  {
   "cell_type": "markdown",
   "id": "e78dd138",
   "metadata": {
    "papermill": {
     "duration": 0.020994,
     "end_time": "2025-01-20T13:57:45.415152",
     "exception": false,
     "start_time": "2025-01-20T13:57:45.394158",
     "status": "completed"
    },
    "tags": []
   },
   "source": [
    "<br />\n",
    "<br />"
   ]
  },
  {
   "cell_type": "markdown",
   "id": "9a99b283",
   "metadata": {
    "papermill": {
     "duration": 0.020752,
     "end_time": "2025-01-20T13:57:45.458300",
     "exception": false,
     "start_time": "2025-01-20T13:57:45.437548",
     "status": "completed"
    },
    "tags": []
   },
   "source": [
    "##### For destination, we will use a very similar method:"
   ]
  },
  {
   "cell_type": "code",
   "execution_count": 22,
   "id": "370d47cf",
   "metadata": {
    "execution": {
     "iopub.execute_input": "2025-01-20T13:57:45.501992Z",
     "iopub.status.busy": "2025-01-20T13:57:45.501603Z",
     "iopub.status.idle": "2025-01-20T13:57:46.734834Z",
     "shell.execute_reply": "2025-01-20T13:57:46.733662Z"
    },
    "papermill": {
     "duration": 1.258054,
     "end_time": "2025-01-20T13:57:46.737289",
     "exception": false,
     "start_time": "2025-01-20T13:57:45.479235",
     "status": "completed"
    },
    "tags": []
   },
   "outputs": [],
   "source": [
    "#USING THE SAME TICKET METHOD AS HOMEPLANET\n",
    "dest = {}\n",
    "def get_dest(row):\n",
    "    if row.Ticket1 not in dest.keys() and type(row.Destination) != float:\n",
    "        dest.update({row.Ticket1: row.Destination})\n",
    "    return row\n",
    "def fill_dest(row):\n",
    "    if type(row.Destination) == float:\n",
    "        if dest.get(row.Ticket1) != None:\n",
    "            row.Destination = dest.get(row.Ticket1)\n",
    "        else:\n",
    "            row.Destination = 'TRAPPIST-1e'\n",
    "    return row\n",
    "\n",
    "traindata.apply(get_dest, axis=1)\n",
    "traindata = traindata.apply(fill_dest, axis=1)\n",
    "        "
   ]
  },
  {
   "cell_type": "markdown",
   "id": "8e3e8398",
   "metadata": {
    "papermill": {
     "duration": 0.020558,
     "end_time": "2025-01-20T13:57:46.780611",
     "exception": false,
     "start_time": "2025-01-20T13:57:46.760053",
     "status": "completed"
    },
    "tags": []
   },
   "source": [
    "<br />\n",
    "<br />\n",
    "\n",
    "-----"
   ]
  },
  {
   "cell_type": "markdown",
   "id": "53d324dc",
   "metadata": {
    "papermill": {
     "duration": 0.02271,
     "end_time": "2025-01-20T13:57:46.825265",
     "exception": false,
     "start_time": "2025-01-20T13:57:46.802555",
     "status": "completed"
    },
    "tags": []
   },
   "source": [
    "#### Now to examine the Cabin feature..."
   ]
  },
  {
   "cell_type": "code",
   "execution_count": 23,
   "id": "8e01c66d",
   "metadata": {
    "execution": {
     "iopub.execute_input": "2025-01-20T13:57:46.870006Z",
     "iopub.status.busy": "2025-01-20T13:57:46.869559Z",
     "iopub.status.idle": "2025-01-20T13:57:46.896024Z",
     "shell.execute_reply": "2025-01-20T13:57:46.894946Z"
    },
    "papermill": {
     "duration": 0.052081,
     "end_time": "2025-01-20T13:57:46.898733",
     "exception": false,
     "start_time": "2025-01-20T13:57:46.846652",
     "status": "completed"
    },
    "tags": []
   },
   "outputs": [
    {
     "data": {
      "text/html": [
       "<div>\n",
       "<style scoped>\n",
       "    .dataframe tbody tr th:only-of-type {\n",
       "        vertical-align: middle;\n",
       "    }\n",
       "\n",
       "    .dataframe tbody tr th {\n",
       "        vertical-align: top;\n",
       "    }\n",
       "\n",
       "    .dataframe thead th {\n",
       "        text-align: right;\n",
       "    }\n",
       "</style>\n",
       "<table border=\"1\" class=\"dataframe\">\n",
       "  <thead>\n",
       "    <tr style=\"text-align: right;\">\n",
       "      <th></th>\n",
       "      <th>PassengerId</th>\n",
       "      <th>HomePlanet</th>\n",
       "      <th>CryoSleep</th>\n",
       "      <th>Cabin</th>\n",
       "      <th>Destination</th>\n",
       "      <th>Age</th>\n",
       "      <th>VIP</th>\n",
       "      <th>RoomService</th>\n",
       "      <th>FoodCourt</th>\n",
       "      <th>ShoppingMall</th>\n",
       "      <th>Spa</th>\n",
       "      <th>VRDeck</th>\n",
       "      <th>Name</th>\n",
       "      <th>Transported</th>\n",
       "      <th>TotalSpend</th>\n",
       "      <th>Ticket1</th>\n",
       "      <th>Ticket2</th>\n",
       "    </tr>\n",
       "  </thead>\n",
       "  <tbody>\n",
       "    <tr>\n",
       "      <th>15</th>\n",
       "      <td>0012_01</td>\n",
       "      <td>Earth</td>\n",
       "      <td>False</td>\n",
       "      <td>NaN</td>\n",
       "      <td>TRAPPIST-1e</td>\n",
       "      <td>31.0</td>\n",
       "      <td>False</td>\n",
       "      <td>32.0</td>\n",
       "      <td>0.0</td>\n",
       "      <td>876.0</td>\n",
       "      <td>0.0</td>\n",
       "      <td>0.0</td>\n",
       "      <td>Justie Pooles</td>\n",
       "      <td>False</td>\n",
       "      <td>908.0</td>\n",
       "      <td>0012</td>\n",
       "      <td>01</td>\n",
       "    </tr>\n",
       "    <tr>\n",
       "      <th>93</th>\n",
       "      <td>0101_01</td>\n",
       "      <td>Mars</td>\n",
       "      <td>True</td>\n",
       "      <td>NaN</td>\n",
       "      <td>TRAPPIST-1e</td>\n",
       "      <td>31.0</td>\n",
       "      <td>False</td>\n",
       "      <td>0.0</td>\n",
       "      <td>0.0</td>\n",
       "      <td>0.0</td>\n",
       "      <td>0.0</td>\n",
       "      <td>0.0</td>\n",
       "      <td>Book Trad</td>\n",
       "      <td>True</td>\n",
       "      <td>0.0</td>\n",
       "      <td>0101</td>\n",
       "      <td>01</td>\n",
       "    </tr>\n",
       "    <tr>\n",
       "      <th>103</th>\n",
       "      <td>0110_01</td>\n",
       "      <td>Europa</td>\n",
       "      <td>False</td>\n",
       "      <td>NaN</td>\n",
       "      <td>TRAPPIST-1e</td>\n",
       "      <td>32.0</td>\n",
       "      <td>False</td>\n",
       "      <td>0.0</td>\n",
       "      <td>410.0</td>\n",
       "      <td>6.0</td>\n",
       "      <td>3929.0</td>\n",
       "      <td>764.0</td>\n",
       "      <td>Graviph Aloubtled</td>\n",
       "      <td>False</td>\n",
       "      <td>5109.0</td>\n",
       "      <td>0110</td>\n",
       "      <td>01</td>\n",
       "    </tr>\n",
       "    <tr>\n",
       "      <th>222</th>\n",
       "      <td>0239_01</td>\n",
       "      <td>Mars</td>\n",
       "      <td>False</td>\n",
       "      <td>NaN</td>\n",
       "      <td>TRAPPIST-1e</td>\n",
       "      <td>37.0</td>\n",
       "      <td>False</td>\n",
       "      <td>637.0</td>\n",
       "      <td>0.0</td>\n",
       "      <td>0.0</td>\n",
       "      <td>92.0</td>\n",
       "      <td>319.0</td>\n",
       "      <td>Diedow Resty</td>\n",
       "      <td>False</td>\n",
       "      <td>1048.0</td>\n",
       "      <td>0239</td>\n",
       "      <td>01</td>\n",
       "    </tr>\n",
       "    <tr>\n",
       "      <th>227</th>\n",
       "      <td>0244_01</td>\n",
       "      <td>Mars</td>\n",
       "      <td>True</td>\n",
       "      <td>NaN</td>\n",
       "      <td>TRAPPIST-1e</td>\n",
       "      <td>43.0</td>\n",
       "      <td>False</td>\n",
       "      <td>0.0</td>\n",
       "      <td>0.0</td>\n",
       "      <td>0.0</td>\n",
       "      <td>0.0</td>\n",
       "      <td>0.0</td>\n",
       "      <td>Froos Sad</td>\n",
       "      <td>True</td>\n",
       "      <td>0.0</td>\n",
       "      <td>0244</td>\n",
       "      <td>01</td>\n",
       "    </tr>\n",
       "    <tr>\n",
       "      <th>...</th>\n",
       "      <td>...</td>\n",
       "      <td>...</td>\n",
       "      <td>...</td>\n",
       "      <td>...</td>\n",
       "      <td>...</td>\n",
       "      <td>...</td>\n",
       "      <td>...</td>\n",
       "      <td>...</td>\n",
       "      <td>...</td>\n",
       "      <td>...</td>\n",
       "      <td>...</td>\n",
       "      <td>...</td>\n",
       "      <td>...</td>\n",
       "      <td>...</td>\n",
       "      <td>...</td>\n",
       "      <td>...</td>\n",
       "      <td>...</td>\n",
       "    </tr>\n",
       "    <tr>\n",
       "      <th>8209</th>\n",
       "      <td>8772_02</td>\n",
       "      <td>Europa</td>\n",
       "      <td>False</td>\n",
       "      <td>NaN</td>\n",
       "      <td>55 Cancri e</td>\n",
       "      <td>53.0</td>\n",
       "      <td>False</td>\n",
       "      <td>0.0</td>\n",
       "      <td>1127.0</td>\n",
       "      <td>0.0</td>\n",
       "      <td>3939.0</td>\n",
       "      <td>0.0</td>\n",
       "      <td>Naosura Motled</td>\n",
       "      <td>False</td>\n",
       "      <td>5066.0</td>\n",
       "      <td>8772</td>\n",
       "      <td>02</td>\n",
       "    </tr>\n",
       "    <tr>\n",
       "      <th>8475</th>\n",
       "      <td>9057_01</td>\n",
       "      <td>Europa</td>\n",
       "      <td>False</td>\n",
       "      <td>NaN</td>\n",
       "      <td>55 Cancri e</td>\n",
       "      <td>36.0</td>\n",
       "      <td>True</td>\n",
       "      <td>132.0</td>\n",
       "      <td>3479.0</td>\n",
       "      <td>0.0</td>\n",
       "      <td>3786.0</td>\n",
       "      <td>0.0</td>\n",
       "      <td>Coxan Statch</td>\n",
       "      <td>False</td>\n",
       "      <td>7397.0</td>\n",
       "      <td>9057</td>\n",
       "      <td>01</td>\n",
       "    </tr>\n",
       "    <tr>\n",
       "      <th>8485</th>\n",
       "      <td>9069_03</td>\n",
       "      <td>Europa</td>\n",
       "      <td>True</td>\n",
       "      <td>NaN</td>\n",
       "      <td>55 Cancri e</td>\n",
       "      <td>25.0</td>\n",
       "      <td>False</td>\n",
       "      <td>0.0</td>\n",
       "      <td>0.0</td>\n",
       "      <td>0.0</td>\n",
       "      <td>0.0</td>\n",
       "      <td>0.0</td>\n",
       "      <td>Bath Brakeng</td>\n",
       "      <td>True</td>\n",
       "      <td>0.0</td>\n",
       "      <td>9069</td>\n",
       "      <td>03</td>\n",
       "    </tr>\n",
       "    <tr>\n",
       "      <th>8509</th>\n",
       "      <td>9081_03</td>\n",
       "      <td>Earth</td>\n",
       "      <td>True</td>\n",
       "      <td>NaN</td>\n",
       "      <td>TRAPPIST-1e</td>\n",
       "      <td>1.0</td>\n",
       "      <td>False</td>\n",
       "      <td>0.0</td>\n",
       "      <td>0.0</td>\n",
       "      <td>0.0</td>\n",
       "      <td>0.0</td>\n",
       "      <td>0.0</td>\n",
       "      <td>Beula Clemondsey</td>\n",
       "      <td>False</td>\n",
       "      <td>0.0</td>\n",
       "      <td>9081</td>\n",
       "      <td>03</td>\n",
       "    </tr>\n",
       "    <tr>\n",
       "      <th>8656</th>\n",
       "      <td>9233_01</td>\n",
       "      <td>Earth</td>\n",
       "      <td>False</td>\n",
       "      <td>NaN</td>\n",
       "      <td>TRAPPIST-1e</td>\n",
       "      <td>41.0</td>\n",
       "      <td>False</td>\n",
       "      <td>3.0</td>\n",
       "      <td>0.0</td>\n",
       "      <td>668.0</td>\n",
       "      <td>0.0</td>\n",
       "      <td>0.0</td>\n",
       "      <td>Royce Giller</td>\n",
       "      <td>True</td>\n",
       "      <td>671.0</td>\n",
       "      <td>9233</td>\n",
       "      <td>01</td>\n",
       "    </tr>\n",
       "  </tbody>\n",
       "</table>\n",
       "<p>199 rows × 17 columns</p>\n",
       "</div>"
      ],
      "text/plain": [
       "     PassengerId HomePlanet  CryoSleep Cabin  Destination   Age    VIP  \\\n",
       "15       0012_01      Earth      False   NaN  TRAPPIST-1e  31.0  False   \n",
       "93       0101_01       Mars       True   NaN  TRAPPIST-1e  31.0  False   \n",
       "103      0110_01     Europa      False   NaN  TRAPPIST-1e  32.0  False   \n",
       "222      0239_01       Mars      False   NaN  TRAPPIST-1e  37.0  False   \n",
       "227      0244_01       Mars       True   NaN  TRAPPIST-1e  43.0  False   \n",
       "...          ...        ...        ...   ...          ...   ...    ...   \n",
       "8209     8772_02     Europa      False   NaN  55 Cancri e  53.0  False   \n",
       "8475     9057_01     Europa      False   NaN  55 Cancri e  36.0   True   \n",
       "8485     9069_03     Europa       True   NaN  55 Cancri e  25.0  False   \n",
       "8509     9081_03      Earth       True   NaN  TRAPPIST-1e   1.0  False   \n",
       "8656     9233_01      Earth      False   NaN  TRAPPIST-1e  41.0  False   \n",
       "\n",
       "      RoomService  FoodCourt  ShoppingMall     Spa  VRDeck               Name  \\\n",
       "15           32.0        0.0         876.0     0.0     0.0      Justie Pooles   \n",
       "93            0.0        0.0           0.0     0.0     0.0          Book Trad   \n",
       "103           0.0      410.0           6.0  3929.0   764.0  Graviph Aloubtled   \n",
       "222         637.0        0.0           0.0    92.0   319.0       Diedow Resty   \n",
       "227           0.0        0.0           0.0     0.0     0.0          Froos Sad   \n",
       "...           ...        ...           ...     ...     ...                ...   \n",
       "8209          0.0     1127.0           0.0  3939.0     0.0     Naosura Motled   \n",
       "8475        132.0     3479.0           0.0  3786.0     0.0       Coxan Statch   \n",
       "8485          0.0        0.0           0.0     0.0     0.0       Bath Brakeng   \n",
       "8509          0.0        0.0           0.0     0.0     0.0   Beula Clemondsey   \n",
       "8656          3.0        0.0         668.0     0.0     0.0       Royce Giller   \n",
       "\n",
       "      Transported  TotalSpend Ticket1 Ticket2  \n",
       "15          False       908.0    0012      01  \n",
       "93           True         0.0    0101      01  \n",
       "103         False      5109.0    0110      01  \n",
       "222         False      1048.0    0239      01  \n",
       "227          True         0.0    0244      01  \n",
       "...           ...         ...     ...     ...  \n",
       "8209        False      5066.0    8772      02  \n",
       "8475        False      7397.0    9057      01  \n",
       "8485         True         0.0    9069      03  \n",
       "8509        False         0.0    9081      03  \n",
       "8656         True       671.0    9233      01  \n",
       "\n",
       "[199 rows x 17 columns]"
      ]
     },
     "execution_count": 23,
     "metadata": {},
     "output_type": "execute_result"
    }
   ],
   "source": [
    "traindata[traindata.Cabin.isnull()]"
   ]
  },
  {
   "cell_type": "markdown",
   "id": "6556c53e",
   "metadata": {
    "papermill": {
     "duration": 0.02136,
     "end_time": "2025-01-20T13:57:46.942364",
     "exception": false,
     "start_time": "2025-01-20T13:57:46.921004",
     "status": "completed"
    },
    "tags": []
   },
   "source": [
    "Examining more of the data, we can see that some passengers travelling on the same ticket do not share the same cabin. This means a fill based on ticket would be unreliable, and so we will use a missing indicator fill here."
   ]
  },
  {
   "cell_type": "code",
   "execution_count": 24,
   "id": "cbc28dcf",
   "metadata": {
    "execution": {
     "iopub.execute_input": "2025-01-20T13:57:46.986921Z",
     "iopub.status.busy": "2025-01-20T13:57:46.986533Z",
     "iopub.status.idle": "2025-01-20T13:57:46.993439Z",
     "shell.execute_reply": "2025-01-20T13:57:46.992487Z"
    },
    "papermill": {
     "duration": 0.031732,
     "end_time": "2025-01-20T13:57:46.995548",
     "exception": false,
     "start_time": "2025-01-20T13:57:46.963816",
     "status": "completed"
    },
    "tags": []
   },
   "outputs": [],
   "source": [
    "#FILLING ALL MISSING CABIN WITH PLACEHOLDER\n",
    "\n",
    "traindata.Cabin.fillna('M/99999/M', inplace=True)"
   ]
  },
  {
   "cell_type": "markdown",
   "id": "4bfb0d12",
   "metadata": {
    "papermill": {
     "duration": 0.021966,
     "end_time": "2025-01-20T13:57:47.040099",
     "exception": false,
     "start_time": "2025-01-20T13:57:47.018133",
     "status": "completed"
    },
    "tags": []
   },
   "source": [
    "<br />\n",
    "<br />\n",
    "\n",
    "------"
   ]
  },
  {
   "cell_type": "markdown",
   "id": "bbf779c9",
   "metadata": {
    "papermill": {
     "duration": 0.021081,
     "end_time": "2025-01-20T13:57:47.083600",
     "exception": false,
     "start_time": "2025-01-20T13:57:47.062519",
     "status": "completed"
    },
    "tags": []
   },
   "source": [
    "#### Examining Age..."
   ]
  },
  {
   "cell_type": "code",
   "execution_count": 25,
   "id": "946a51e6",
   "metadata": {
    "execution": {
     "iopub.execute_input": "2025-01-20T13:57:47.128406Z",
     "iopub.status.busy": "2025-01-20T13:57:47.128011Z",
     "iopub.status.idle": "2025-01-20T13:57:47.153826Z",
     "shell.execute_reply": "2025-01-20T13:57:47.152538Z"
    },
    "papermill": {
     "duration": 0.05109,
     "end_time": "2025-01-20T13:57:47.156209",
     "exception": false,
     "start_time": "2025-01-20T13:57:47.105119",
     "status": "completed"
    },
    "tags": []
   },
   "outputs": [
    {
     "data": {
      "text/html": [
       "<div>\n",
       "<style scoped>\n",
       "    .dataframe tbody tr th:only-of-type {\n",
       "        vertical-align: middle;\n",
       "    }\n",
       "\n",
       "    .dataframe tbody tr th {\n",
       "        vertical-align: top;\n",
       "    }\n",
       "\n",
       "    .dataframe thead th {\n",
       "        text-align: right;\n",
       "    }\n",
       "</style>\n",
       "<table border=\"1\" class=\"dataframe\">\n",
       "  <thead>\n",
       "    <tr style=\"text-align: right;\">\n",
       "      <th></th>\n",
       "      <th>PassengerId</th>\n",
       "      <th>HomePlanet</th>\n",
       "      <th>CryoSleep</th>\n",
       "      <th>Cabin</th>\n",
       "      <th>Destination</th>\n",
       "      <th>Age</th>\n",
       "      <th>VIP</th>\n",
       "      <th>RoomService</th>\n",
       "      <th>FoodCourt</th>\n",
       "      <th>ShoppingMall</th>\n",
       "      <th>Spa</th>\n",
       "      <th>VRDeck</th>\n",
       "      <th>Name</th>\n",
       "      <th>Transported</th>\n",
       "      <th>TotalSpend</th>\n",
       "      <th>Ticket1</th>\n",
       "      <th>Ticket2</th>\n",
       "    </tr>\n",
       "  </thead>\n",
       "  <tbody>\n",
       "    <tr>\n",
       "      <th>50</th>\n",
       "      <td>0052_01</td>\n",
       "      <td>Earth</td>\n",
       "      <td>False</td>\n",
       "      <td>G/6/S</td>\n",
       "      <td>TRAPPIST-1e</td>\n",
       "      <td>NaN</td>\n",
       "      <td>False</td>\n",
       "      <td>4.0</td>\n",
       "      <td>0.0</td>\n",
       "      <td>2.0</td>\n",
       "      <td>4683.0</td>\n",
       "      <td>0.0</td>\n",
       "      <td>Elaney Hubbarton</td>\n",
       "      <td>False</td>\n",
       "      <td>4689.0</td>\n",
       "      <td>0052</td>\n",
       "      <td>01</td>\n",
       "    </tr>\n",
       "    <tr>\n",
       "      <th>64</th>\n",
       "      <td>0068_01</td>\n",
       "      <td>Mars</td>\n",
       "      <td>False</td>\n",
       "      <td>E/4/S</td>\n",
       "      <td>TRAPPIST-1e</td>\n",
       "      <td>NaN</td>\n",
       "      <td>False</td>\n",
       "      <td>793.0</td>\n",
       "      <td>0.0</td>\n",
       "      <td>2.0</td>\n",
       "      <td>253.0</td>\n",
       "      <td>0.0</td>\n",
       "      <td>Cinst Binie</td>\n",
       "      <td>False</td>\n",
       "      <td>1048.0</td>\n",
       "      <td>0068</td>\n",
       "      <td>01</td>\n",
       "    </tr>\n",
       "    <tr>\n",
       "      <th>137</th>\n",
       "      <td>0149_01</td>\n",
       "      <td>Earth</td>\n",
       "      <td>True</td>\n",
       "      <td>G/27/S</td>\n",
       "      <td>55 Cancri e</td>\n",
       "      <td>NaN</td>\n",
       "      <td>False</td>\n",
       "      <td>0.0</td>\n",
       "      <td>0.0</td>\n",
       "      <td>0.0</td>\n",
       "      <td>0.0</td>\n",
       "      <td>0.0</td>\n",
       "      <td>Billya Hubbarrison</td>\n",
       "      <td>True</td>\n",
       "      <td>0.0</td>\n",
       "      <td>0149</td>\n",
       "      <td>01</td>\n",
       "    </tr>\n",
       "    <tr>\n",
       "      <th>181</th>\n",
       "      <td>0202_02</td>\n",
       "      <td>Europa</td>\n",
       "      <td>False</td>\n",
       "      <td>A/2/P</td>\n",
       "      <td>55 Cancri e</td>\n",
       "      <td>NaN</td>\n",
       "      <td>False</td>\n",
       "      <td>0.0</td>\n",
       "      <td>2433.0</td>\n",
       "      <td>0.0</td>\n",
       "      <td>878.0</td>\n",
       "      <td>443.0</td>\n",
       "      <td>Vegas Embleng</td>\n",
       "      <td>True</td>\n",
       "      <td>3754.0</td>\n",
       "      <td>0202</td>\n",
       "      <td>02</td>\n",
       "    </tr>\n",
       "    <tr>\n",
       "      <th>184</th>\n",
       "      <td>0206_01</td>\n",
       "      <td>Europa</td>\n",
       "      <td>False</td>\n",
       "      <td>C/9/S</td>\n",
       "      <td>55 Cancri e</td>\n",
       "      <td>NaN</td>\n",
       "      <td>False</td>\n",
       "      <td>2.0</td>\n",
       "      <td>1720.0</td>\n",
       "      <td>12.0</td>\n",
       "      <td>1125.0</td>\n",
       "      <td>122.0</td>\n",
       "      <td>Nuson Brugashed</td>\n",
       "      <td>True</td>\n",
       "      <td>2981.0</td>\n",
       "      <td>0206</td>\n",
       "      <td>01</td>\n",
       "    </tr>\n",
       "    <tr>\n",
       "      <th>...</th>\n",
       "      <td>...</td>\n",
       "      <td>...</td>\n",
       "      <td>...</td>\n",
       "      <td>...</td>\n",
       "      <td>...</td>\n",
       "      <td>...</td>\n",
       "      <td>...</td>\n",
       "      <td>...</td>\n",
       "      <td>...</td>\n",
       "      <td>...</td>\n",
       "      <td>...</td>\n",
       "      <td>...</td>\n",
       "      <td>...</td>\n",
       "      <td>...</td>\n",
       "      <td>...</td>\n",
       "      <td>...</td>\n",
       "      <td>...</td>\n",
       "    </tr>\n",
       "    <tr>\n",
       "      <th>8274</th>\n",
       "      <td>8835_01</td>\n",
       "      <td>Earth</td>\n",
       "      <td>True</td>\n",
       "      <td>G/1425/S</td>\n",
       "      <td>TRAPPIST-1e</td>\n",
       "      <td>NaN</td>\n",
       "      <td>False</td>\n",
       "      <td>0.0</td>\n",
       "      <td>0.0</td>\n",
       "      <td>0.0</td>\n",
       "      <td>0.0</td>\n",
       "      <td>0.0</td>\n",
       "      <td>Shalle Bartines</td>\n",
       "      <td>False</td>\n",
       "      <td>0.0</td>\n",
       "      <td>8835</td>\n",
       "      <td>01</td>\n",
       "    </tr>\n",
       "    <tr>\n",
       "      <th>8301</th>\n",
       "      <td>8862_03</td>\n",
       "      <td>Europa</td>\n",
       "      <td>True</td>\n",
       "      <td>C/329/S</td>\n",
       "      <td>TRAPPIST-1e</td>\n",
       "      <td>NaN</td>\n",
       "      <td>False</td>\n",
       "      <td>0.0</td>\n",
       "      <td>0.0</td>\n",
       "      <td>0.0</td>\n",
       "      <td>0.0</td>\n",
       "      <td>0.0</td>\n",
       "      <td>Alchib Myling</td>\n",
       "      <td>True</td>\n",
       "      <td>0.0</td>\n",
       "      <td>8862</td>\n",
       "      <td>03</td>\n",
       "    </tr>\n",
       "    <tr>\n",
       "      <th>8374</th>\n",
       "      <td>8956_04</td>\n",
       "      <td>Earth</td>\n",
       "      <td>False</td>\n",
       "      <td>G/1453/P</td>\n",
       "      <td>TRAPPIST-1e</td>\n",
       "      <td>NaN</td>\n",
       "      <td>False</td>\n",
       "      <td>194.0</td>\n",
       "      <td>1.0</td>\n",
       "      <td>10.0</td>\n",
       "      <td>629.0</td>\n",
       "      <td>0.0</td>\n",
       "      <td>Krisa Bonnondry</td>\n",
       "      <td>False</td>\n",
       "      <td>834.0</td>\n",
       "      <td>8956</td>\n",
       "      <td>04</td>\n",
       "    </tr>\n",
       "    <tr>\n",
       "      <th>8407</th>\n",
       "      <td>8988_01</td>\n",
       "      <td>Earth</td>\n",
       "      <td>True</td>\n",
       "      <td>G/1448/S</td>\n",
       "      <td>TRAPPIST-1e</td>\n",
       "      <td>NaN</td>\n",
       "      <td>False</td>\n",
       "      <td>0.0</td>\n",
       "      <td>0.0</td>\n",
       "      <td>0.0</td>\n",
       "      <td>0.0</td>\n",
       "      <td>0.0</td>\n",
       "      <td>Maen Fowlesterez</td>\n",
       "      <td>True</td>\n",
       "      <td>0.0</td>\n",
       "      <td>8988</td>\n",
       "      <td>01</td>\n",
       "    </tr>\n",
       "    <tr>\n",
       "      <th>8557</th>\n",
       "      <td>9136_01</td>\n",
       "      <td>Earth</td>\n",
       "      <td>False</td>\n",
       "      <td>G/1471/S</td>\n",
       "      <td>TRAPPIST-1e</td>\n",
       "      <td>NaN</td>\n",
       "      <td>False</td>\n",
       "      <td>6.0</td>\n",
       "      <td>0.0</td>\n",
       "      <td>0.0</td>\n",
       "      <td>800.0</td>\n",
       "      <td>3.0</td>\n",
       "      <td>Sall Hestes</td>\n",
       "      <td>False</td>\n",
       "      <td>809.0</td>\n",
       "      <td>9136</td>\n",
       "      <td>01</td>\n",
       "    </tr>\n",
       "  </tbody>\n",
       "</table>\n",
       "<p>179 rows × 17 columns</p>\n",
       "</div>"
      ],
      "text/plain": [
       "     PassengerId HomePlanet  CryoSleep     Cabin  Destination  Age    VIP  \\\n",
       "50       0052_01      Earth      False     G/6/S  TRAPPIST-1e  NaN  False   \n",
       "64       0068_01       Mars      False     E/4/S  TRAPPIST-1e  NaN  False   \n",
       "137      0149_01      Earth       True    G/27/S  55 Cancri e  NaN  False   \n",
       "181      0202_02     Europa      False     A/2/P  55 Cancri e  NaN  False   \n",
       "184      0206_01     Europa      False     C/9/S  55 Cancri e  NaN  False   \n",
       "...          ...        ...        ...       ...          ...  ...    ...   \n",
       "8274     8835_01      Earth       True  G/1425/S  TRAPPIST-1e  NaN  False   \n",
       "8301     8862_03     Europa       True   C/329/S  TRAPPIST-1e  NaN  False   \n",
       "8374     8956_04      Earth      False  G/1453/P  TRAPPIST-1e  NaN  False   \n",
       "8407     8988_01      Earth       True  G/1448/S  TRAPPIST-1e  NaN  False   \n",
       "8557     9136_01      Earth      False  G/1471/S  TRAPPIST-1e  NaN  False   \n",
       "\n",
       "      RoomService  FoodCourt  ShoppingMall     Spa  VRDeck  \\\n",
       "50            4.0        0.0           2.0  4683.0     0.0   \n",
       "64          793.0        0.0           2.0   253.0     0.0   \n",
       "137           0.0        0.0           0.0     0.0     0.0   \n",
       "181           0.0     2433.0           0.0   878.0   443.0   \n",
       "184           2.0     1720.0          12.0  1125.0   122.0   \n",
       "...           ...        ...           ...     ...     ...   \n",
       "8274          0.0        0.0           0.0     0.0     0.0   \n",
       "8301          0.0        0.0           0.0     0.0     0.0   \n",
       "8374        194.0        1.0          10.0   629.0     0.0   \n",
       "8407          0.0        0.0           0.0     0.0     0.0   \n",
       "8557          6.0        0.0           0.0   800.0     3.0   \n",
       "\n",
       "                    Name  Transported  TotalSpend Ticket1 Ticket2  \n",
       "50      Elaney Hubbarton        False      4689.0    0052      01  \n",
       "64           Cinst Binie        False      1048.0    0068      01  \n",
       "137   Billya Hubbarrison         True         0.0    0149      01  \n",
       "181        Vegas Embleng         True      3754.0    0202      02  \n",
       "184      Nuson Brugashed         True      2981.0    0206      01  \n",
       "...                  ...          ...         ...     ...     ...  \n",
       "8274     Shalle Bartines        False         0.0    8835      01  \n",
       "8301       Alchib Myling         True         0.0    8862      03  \n",
       "8374     Krisa Bonnondry        False       834.0    8956      04  \n",
       "8407    Maen Fowlesterez         True         0.0    8988      01  \n",
       "8557         Sall Hestes        False       809.0    9136      01  \n",
       "\n",
       "[179 rows x 17 columns]"
      ]
     },
     "execution_count": 25,
     "metadata": {},
     "output_type": "execute_result"
    }
   ],
   "source": [
    "traindata[traindata.Age.isnull()]"
   ]
  },
  {
   "cell_type": "markdown",
   "id": "2617c1b5",
   "metadata": {
    "papermill": {
     "duration": 0.021578,
     "end_time": "2025-01-20T13:57:47.199788",
     "exception": false,
     "start_time": "2025-01-20T13:57:47.178210",
     "status": "completed"
    },
    "tags": []
   },
   "source": [
    "Based on preliminary analysis, we know that total spend and home planet are the best predictors of age that we have available. Therefore, we will define a fill function based on these 2 features."
   ]
  },
  {
   "cell_type": "code",
   "execution_count": 26,
   "id": "2e65cdde",
   "metadata": {
    "execution": {
     "iopub.execute_input": "2025-01-20T13:57:47.246554Z",
     "iopub.status.busy": "2025-01-20T13:57:47.246115Z",
     "iopub.status.idle": "2025-01-20T13:57:47.262512Z",
     "shell.execute_reply": "2025-01-20T13:57:47.261164Z"
    },
    "papermill": {
     "duration": 0.043235,
     "end_time": "2025-01-20T13:57:47.264983",
     "exception": false,
     "start_time": "2025-01-20T13:57:47.221748",
     "status": "completed"
    },
    "tags": []
   },
   "outputs": [
    {
     "data": {
      "text/plain": [
       "count    1748.000000\n",
       "mean       20.243135\n",
       "std        15.258574\n",
       "min         0.000000\n",
       "25%         8.000000\n",
       "50%        18.000000\n",
       "75%        29.000000\n",
       "max        78.000000\n",
       "Name: Age, dtype: float64"
      ]
     },
     "execution_count": 26,
     "metadata": {},
     "output_type": "execute_result"
    }
   ],
   "source": [
    "traindata[(traindata.TotalSpend == 0) & (traindata.HomePlanet == 'Earth')].Age.describe()"
   ]
  },
  {
   "cell_type": "code",
   "execution_count": 27,
   "id": "11a1cd01",
   "metadata": {
    "execution": {
     "iopub.execute_input": "2025-01-20T13:57:47.311185Z",
     "iopub.status.busy": "2025-01-20T13:57:47.310804Z",
     "iopub.status.idle": "2025-01-20T13:57:47.326201Z",
     "shell.execute_reply": "2025-01-20T13:57:47.325041Z"
    },
    "papermill": {
     "duration": 0.041306,
     "end_time": "2025-01-20T13:57:47.328439",
     "exception": false,
     "start_time": "2025-01-20T13:57:47.287133",
     "status": "completed"
    },
    "tags": []
   },
   "outputs": [
    {
     "data": {
      "text/plain": [
       "count    1103.000000\n",
       "mean       36.513146\n",
       "std        11.708791\n",
       "min        13.000000\n",
       "25%        28.000000\n",
       "50%        34.000000\n",
       "75%        43.000000\n",
       "max        79.000000\n",
       "Name: Age, dtype: float64"
      ]
     },
     "execution_count": 27,
     "metadata": {},
     "output_type": "execute_result"
    }
   ],
   "source": [
    "traindata[(traindata.TotalSpend > 0) & (traindata.HomePlanet == 'Europa')].Age.describe()"
   ]
  },
  {
   "cell_type": "markdown",
   "id": "58186e95",
   "metadata": {
    "papermill": {
     "duration": 0.022474,
     "end_time": "2025-01-20T13:57:47.372806",
     "exception": false,
     "start_time": "2025-01-20T13:57:47.350332",
     "status": "completed"
    },
    "tags": []
   },
   "source": [
    "For example, manipulating these 2 features produces a median difference of 18 vs 34 here."
   ]
  },
  {
   "cell_type": "code",
   "execution_count": 28,
   "id": "0395d409",
   "metadata": {
    "execution": {
     "iopub.execute_input": "2025-01-20T13:57:47.419981Z",
     "iopub.status.busy": "2025-01-20T13:57:47.419557Z",
     "iopub.status.idle": "2025-01-20T13:57:47.426078Z",
     "shell.execute_reply": "2025-01-20T13:57:47.424883Z"
    },
    "papermill": {
     "duration": 0.033045,
     "end_time": "2025-01-20T13:57:47.428208",
     "exception": false,
     "start_time": "2025-01-20T13:57:47.395163",
     "status": "completed"
    },
    "tags": []
   },
   "outputs": [],
   "source": [
    "#CREATING FILL FUNCTION BASED ON TOTALSPEND, HOMEPLANET\n",
    "def fill_age(row):\n",
    "    if row.TotalSpend == 0:\n",
    "        if row.HomePlanet == 'Earth':\n",
    "            row.SubAge = 18\n",
    "        elif row.HomePlanet == 'Europa':\n",
    "            row.SubAge = 30\n",
    "        else:\n",
    "            row.SubAge = 25\n",
    "    else:\n",
    "        if row.HomePlanet == 'Earth':\n",
    "            row.SubAge = 25\n",
    "        elif row.HomePlanet == 'Europa':\n",
    "            row.SubAge = 34\n",
    "        else:\n",
    "            row.SubAge = 30\n",
    "    return row"
   ]
  },
  {
   "cell_type": "code",
   "execution_count": 29,
   "id": "9eb8ff47",
   "metadata": {
    "execution": {
     "iopub.execute_input": "2025-01-20T13:57:47.473916Z",
     "iopub.status.busy": "2025-01-20T13:57:47.473541Z",
     "iopub.status.idle": "2025-01-20T13:57:48.246883Z",
     "shell.execute_reply": "2025-01-20T13:57:48.245810Z"
    },
    "papermill": {
     "duration": 0.799332,
     "end_time": "2025-01-20T13:57:48.249470",
     "exception": false,
     "start_time": "2025-01-20T13:57:47.450138",
     "status": "completed"
    },
    "tags": []
   },
   "outputs": [],
   "source": [
    "traindata['SubAge'] = traindata.Age\n",
    "traindata = traindata.apply(fill_age, axis=1)"
   ]
  },
  {
   "cell_type": "code",
   "execution_count": 30,
   "id": "636eaafc",
   "metadata": {
    "execution": {
     "iopub.execute_input": "2025-01-20T13:57:48.295256Z",
     "iopub.status.busy": "2025-01-20T13:57:48.294876Z",
     "iopub.status.idle": "2025-01-20T13:57:48.305683Z",
     "shell.execute_reply": "2025-01-20T13:57:48.304563Z"
    },
    "papermill": {
     "duration": 0.036992,
     "end_time": "2025-01-20T13:57:48.308492",
     "exception": false,
     "start_time": "2025-01-20T13:57:48.271500",
     "status": "completed"
    },
    "tags": []
   },
   "outputs": [],
   "source": [
    "traindata.Age.fillna(traindata.SubAge, inplace=True)\n",
    "traindata.drop(columns = 'SubAge', inplace=True)"
   ]
  },
  {
   "cell_type": "markdown",
   "id": "5962f11c",
   "metadata": {
    "papermill": {
     "duration": 0.021714,
     "end_time": "2025-01-20T13:57:48.353139",
     "exception": false,
     "start_time": "2025-01-20T13:57:48.331425",
     "status": "completed"
    },
    "tags": []
   },
   "source": [
    "<br />\n",
    "<br />\n",
    "<br />"
   ]
  },
  {
   "cell_type": "markdown",
   "id": "987649b7",
   "metadata": {
    "papermill": {
     "duration": 0.022046,
     "end_time": "2025-01-20T13:57:48.397165",
     "exception": false,
     "start_time": "2025-01-20T13:57:48.375119",
     "status": "completed"
    },
    "tags": []
   },
   "source": [
    "#### And finally, VIP..."
   ]
  },
  {
   "cell_type": "code",
   "execution_count": 31,
   "id": "476ed08f",
   "metadata": {
    "execution": {
     "iopub.execute_input": "2025-01-20T13:57:48.443809Z",
     "iopub.status.busy": "2025-01-20T13:57:48.443406Z",
     "iopub.status.idle": "2025-01-20T13:57:48.457159Z",
     "shell.execute_reply": "2025-01-20T13:57:48.455776Z"
    },
    "papermill": {
     "duration": 0.040107,
     "end_time": "2025-01-20T13:57:48.459613",
     "exception": false,
     "start_time": "2025-01-20T13:57:48.419506",
     "status": "completed"
    },
    "tags": []
   },
   "outputs": [
    {
     "data": {
      "text/plain": [
       "count      178.000000\n",
       "mean      4947.584270\n",
       "std       5171.239613\n",
       "min          0.000000\n",
       "25%       1684.500000\n",
       "50%       3142.000000\n",
       "75%       6627.500000\n",
       "max      31076.000000\n",
       "Name: TotalSpend, dtype: float64"
      ]
     },
     "execution_count": 31,
     "metadata": {},
     "output_type": "execute_result"
    }
   ],
   "source": [
    "traindata[(traindata.VIP == True) & (traindata.CryoSleep == False)].TotalSpend.describe()"
   ]
  },
  {
   "cell_type": "code",
   "execution_count": 32,
   "id": "b6131a63",
   "metadata": {
    "execution": {
     "iopub.execute_input": "2025-01-20T13:57:48.506597Z",
     "iopub.status.busy": "2025-01-20T13:57:48.506066Z",
     "iopub.status.idle": "2025-01-20T13:57:48.521312Z",
     "shell.execute_reply": "2025-01-20T13:57:48.520180Z"
    },
    "papermill": {
     "duration": 0.041996,
     "end_time": "2025-01-20T13:57:48.523772",
     "exception": false,
     "start_time": "2025-01-20T13:57:48.481776",
     "status": "completed"
    },
    "tags": []
   },
   "outputs": [
    {
     "data": {
      "text/plain": [
       "count     5256.000000\n",
       "mean      2163.459855\n",
       "std       3106.154435\n",
       "min          0.000000\n",
       "25%        739.000000\n",
       "50%        995.500000\n",
       "75%       2357.250000\n",
       "max      35987.000000\n",
       "Name: TotalSpend, dtype: float64"
      ]
     },
     "execution_count": 32,
     "metadata": {},
     "output_type": "execute_result"
    }
   ],
   "source": [
    "traindata[(traindata.VIP == False) & (traindata.CryoSleep == False)].TotalSpend.describe()"
   ]
  },
  {
   "cell_type": "markdown",
   "id": "841dd75a",
   "metadata": {
    "papermill": {
     "duration": 0.022239,
     "end_time": "2025-01-20T13:57:48.568260",
     "exception": false,
     "start_time": "2025-01-20T13:57:48.546021",
     "status": "completed"
    },
    "tags": []
   },
   "source": [
    "There is a clear difference in average spend based on VIP status. Using this, we can fill missing values in the VIP column based on a selected spend figure of 2500 (this figure can be tuned in testing)."
   ]
  },
  {
   "cell_type": "code",
   "execution_count": 33,
   "id": "2eafdb6b",
   "metadata": {
    "execution": {
     "iopub.execute_input": "2025-01-20T13:57:48.615569Z",
     "iopub.status.busy": "2025-01-20T13:57:48.614339Z",
     "iopub.status.idle": "2025-01-20T13:57:49.415836Z",
     "shell.execute_reply": "2025-01-20T13:57:49.414687Z"
    },
    "papermill": {
     "duration": 0.827769,
     "end_time": "2025-01-20T13:57:49.418206",
     "exception": false,
     "start_time": "2025-01-20T13:57:48.590437",
     "status": "completed"
    },
    "tags": []
   },
   "outputs": [],
   "source": [
    "#traindata.VIP.fillna(lambda x: 'True' if (traindata.TotalSpend>2500 and traindata.Age>17) else 'False', inplace=True)\n",
    "def fill_VIP(row):\n",
    "    if row.TotalSpend>2500 and row.Age>17:\n",
    "        row.VIP = 'True'\n",
    "    else:\n",
    "        row.VIP = 'False'\n",
    "    return row\n",
    "\n",
    "traindata = traindata.apply(fill_VIP, axis=1)"
   ]
  },
  {
   "cell_type": "code",
   "execution_count": 34,
   "id": "e6803304",
   "metadata": {
    "execution": {
     "iopub.execute_input": "2025-01-20T13:57:49.467887Z",
     "iopub.status.busy": "2025-01-20T13:57:49.467421Z",
     "iopub.status.idle": "2025-01-20T13:57:49.482759Z",
     "shell.execute_reply": "2025-01-20T13:57:49.481547Z"
    },
    "papermill": {
     "duration": 0.041827,
     "end_time": "2025-01-20T13:57:49.485047",
     "exception": false,
     "start_time": "2025-01-20T13:57:49.443220",
     "status": "completed"
    },
    "tags": []
   },
   "outputs": [
    {
     "data": {
      "text/plain": [
       "PassengerId     0\n",
       "HomePlanet      0\n",
       "CryoSleep       0\n",
       "Cabin           0\n",
       "Destination     0\n",
       "Age             0\n",
       "VIP             0\n",
       "RoomService     0\n",
       "FoodCourt       0\n",
       "ShoppingMall    0\n",
       "Spa             0\n",
       "VRDeck          0\n",
       "Name            0\n",
       "Transported     0\n",
       "TotalSpend      0\n",
       "Ticket1         0\n",
       "Ticket2         0\n",
       "dtype: int64"
      ]
     },
     "execution_count": 34,
     "metadata": {},
     "output_type": "execute_result"
    }
   ],
   "source": [
    "traindata.isnull().sum()"
   ]
  },
  {
   "cell_type": "markdown",
   "id": "71a99568",
   "metadata": {
    "papermill": {
     "duration": 0.02211,
     "end_time": "2025-01-20T13:57:49.529768",
     "exception": false,
     "start_time": "2025-01-20T13:57:49.507658",
     "status": "completed"
    },
    "tags": []
   },
   "source": [
    "All missing values are now filled."
   ]
  },
  {
   "cell_type": "markdown",
   "id": "3b49fcf4",
   "metadata": {
    "papermill": {
     "duration": 0.021842,
     "end_time": "2025-01-20T13:57:49.573742",
     "exception": false,
     "start_time": "2025-01-20T13:57:49.551900",
     "status": "completed"
    },
    "tags": []
   },
   "source": [
    "#### Now all values can be filled in the test set using the same methods."
   ]
  },
  {
   "cell_type": "code",
   "execution_count": 35,
   "id": "c2ef8b99",
   "metadata": {
    "execution": {
     "iopub.execute_input": "2025-01-20T13:57:49.620381Z",
     "iopub.status.busy": "2025-01-20T13:57:49.619979Z",
     "iopub.status.idle": "2025-01-20T13:57:52.002986Z",
     "shell.execute_reply": "2025-01-20T13:57:52.001820Z"
    },
    "papermill": {
     "duration": 2.409878,
     "end_time": "2025-01-20T13:57:52.005651",
     "exception": false,
     "start_time": "2025-01-20T13:57:49.595773",
     "status": "completed"
    },
    "tags": []
   },
   "outputs": [],
   "source": [
    "#Filling all testset missing values using the same principles\n",
    "testdata.RoomService.fillna(0, inplace=True)\n",
    "testdata.FoodCourt.fillna(0, inplace=True)\n",
    "testdata.ShoppingMall.fillna(0, inplace=True)\n",
    "testdata.Spa.fillna(0, inplace=True)\n",
    "testdata.VRDeck.fillna(0, inplace=True)\n",
    "testdata['TotalSpend'] = testdata['FoodCourt'] + testdata['RoomService'] + testdata['Spa'] + testdata['VRDeck'] + testdata['ShoppingMall']\n",
    "testdata = testdata.apply(fill_cryo, axis=1)\n",
    "testdata[['Ticket1','Ticket2']] = testdata['PassengerId'].str.split('_', expand = True)\n",
    "testdata.Name.fillna(value = 'Noname Noname', inplace = True)\n",
    "testdata.apply(get_homes, axis=1)\n",
    "testdata = testdata.apply(fill_homes, axis=1)\n",
    "testdata.apply(get_dest, axis=1)\n",
    "testdata = testdata.apply(fill_dest, axis=1)\n",
    "testdata.Cabin.fillna('M/99999/M', inplace=True)\n",
    "testdata['SubAge'] = testdata.Age\n",
    "testdata = testdata.apply(fill_age, axis=1)\n",
    "testdata.Age.fillna(testdata.SubAge, inplace=True)\n",
    "testdata.drop(columns = 'SubAge', inplace=True)\n",
    "testdata = testdata.apply(fill_VIP, axis=1)"
   ]
  },
  {
   "cell_type": "code",
   "execution_count": 36,
   "id": "dc4f401d",
   "metadata": {
    "execution": {
     "iopub.execute_input": "2025-01-20T13:57:52.055709Z",
     "iopub.status.busy": "2025-01-20T13:57:52.055282Z",
     "iopub.status.idle": "2025-01-20T13:57:52.071189Z",
     "shell.execute_reply": "2025-01-20T13:57:52.069868Z"
    },
    "papermill": {
     "duration": 0.04542,
     "end_time": "2025-01-20T13:57:52.073709",
     "exception": false,
     "start_time": "2025-01-20T13:57:52.028289",
     "status": "completed"
    },
    "tags": []
   },
   "outputs": [
    {
     "data": {
      "text/plain": [
       "PassengerId     0\n",
       "HomePlanet      0\n",
       "CryoSleep       0\n",
       "Cabin           0\n",
       "Destination     0\n",
       "Age             0\n",
       "VIP             0\n",
       "RoomService     0\n",
       "FoodCourt       0\n",
       "ShoppingMall    0\n",
       "Spa             0\n",
       "VRDeck          0\n",
       "Name            0\n",
       "TotalSpend      0\n",
       "Ticket1         0\n",
       "Ticket2         0\n",
       "dtype: int64"
      ]
     },
     "execution_count": 36,
     "metadata": {},
     "output_type": "execute_result"
    }
   ],
   "source": [
    "testdata.isnull().sum()"
   ]
  },
  {
   "cell_type": "markdown",
   "id": "b829fbe6",
   "metadata": {
    "papermill": {
     "duration": 0.022375,
     "end_time": "2025-01-20T13:57:52.118696",
     "exception": false,
     "start_time": "2025-01-20T13:57:52.096321",
     "status": "completed"
    },
    "tags": []
   },
   "source": [
    "<br />\n",
    "<br />\n",
    "<br />\n",
    "<br />\n",
    " \n",
    " ------\n",
    " ------"
   ]
  },
  {
   "cell_type": "markdown",
   "id": "bffd420e",
   "metadata": {
    "papermill": {
     "duration": 0.022569,
     "end_time": "2025-01-20T13:57:52.163705",
     "exception": false,
     "start_time": "2025-01-20T13:57:52.141136",
     "status": "completed"
    },
    "tags": []
   },
   "source": [
    "# FEATURE ENGINEERING"
   ]
  },
  {
   "cell_type": "markdown",
   "id": "0d4898a2",
   "metadata": {
    "papermill": {
     "duration": 0.024297,
     "end_time": "2025-01-20T13:57:52.212291",
     "exception": false,
     "start_time": "2025-01-20T13:57:52.187994",
     "status": "completed"
    },
    "tags": []
   },
   "source": [
    "To start, the Cabin feature is unusable in its current format. We will split this into 3 new features: CabinDeck, CabinNumber and CabinSide."
   ]
  },
  {
   "cell_type": "code",
   "execution_count": 37,
   "id": "b4d77ffa",
   "metadata": {
    "execution": {
     "iopub.execute_input": "2025-01-20T13:57:52.262270Z",
     "iopub.status.busy": "2025-01-20T13:57:52.261887Z",
     "iopub.status.idle": "2025-01-20T13:57:52.297684Z",
     "shell.execute_reply": "2025-01-20T13:57:52.295960Z"
    },
    "papermill": {
     "duration": 0.064428,
     "end_time": "2025-01-20T13:57:52.300586",
     "exception": false,
     "start_time": "2025-01-20T13:57:52.236158",
     "status": "completed"
    },
    "tags": []
   },
   "outputs": [],
   "source": [
    "#CREATING THE 3 NEW COLUMNS\n",
    "traindata[['CabinDeck','CabinNumber','CabinSide']] = traindata['Cabin'].str.split('/', expand=True)\n",
    "traindata.CabinNumber = traindata.CabinNumber.astype(int)\n",
    "traindata.CabinNumber = pd.qcut(traindata.CabinNumber, 15)"
   ]
  },
  {
   "cell_type": "markdown",
   "id": "c3b7f291",
   "metadata": {
    "papermill": {
     "duration": 0.022182,
     "end_time": "2025-01-20T13:57:52.345702",
     "exception": false,
     "start_time": "2025-01-20T13:57:52.323520",
     "status": "completed"
    },
    "tags": []
   },
   "source": [
    "<br />\n",
    "<br />\n",
    "\n",
    "-----"
   ]
  },
  {
   "cell_type": "markdown",
   "id": "23112f7e",
   "metadata": {
    "papermill": {
     "duration": 0.022255,
     "end_time": "2025-01-20T13:57:52.390312",
     "exception": false,
     "start_time": "2025-01-20T13:57:52.368057",
     "status": "completed"
    },
    "tags": []
   },
   "source": [
    "Next, Using the Ticket1 and 2 columns, we can create a GroupSize feature, based on the number of people travelling on the same ticket."
   ]
  },
  {
   "cell_type": "code",
   "execution_count": 38,
   "id": "c4c3deba",
   "metadata": {
    "execution": {
     "iopub.execute_input": "2025-01-20T13:57:52.438154Z",
     "iopub.status.busy": "2025-01-20T13:57:52.437782Z",
     "iopub.status.idle": "2025-01-20T13:57:52.444637Z",
     "shell.execute_reply": "2025-01-20T13:57:52.443536Z"
    },
    "papermill": {
     "duration": 0.03273,
     "end_time": "2025-01-20T13:57:52.446626",
     "exception": false,
     "start_time": "2025-01-20T13:57:52.413896",
     "status": "completed"
    },
    "tags": []
   },
   "outputs": [],
   "source": [
    "traindata['GroupSize'] = 0\n",
    "groups = {}\n",
    "def get_groups(row):\n",
    "    if row.Ticket1 not in groups:\n",
    "        groups.update({row.Ticket1:row.Ticket2})\n",
    "    elif row.Ticket2 > groups.get(row.Ticket1):\n",
    "        groups.update({row.Ticket1:row.Ticket2})\n",
    "    return row\n",
    "def give_groups(row):\n",
    "    row.GroupSize = groups.get(row.Ticket1)\n",
    "    return row"
   ]
  },
  {
   "cell_type": "code",
   "execution_count": 39,
   "id": "84eda296",
   "metadata": {
    "execution": {
     "iopub.execute_input": "2025-01-20T13:57:52.493301Z",
     "iopub.status.busy": "2025-01-20T13:57:52.492924Z",
     "iopub.status.idle": "2025-01-20T13:57:53.889996Z",
     "shell.execute_reply": "2025-01-20T13:57:53.888788Z"
    },
    "papermill": {
     "duration": 1.423592,
     "end_time": "2025-01-20T13:57:53.892674",
     "exception": false,
     "start_time": "2025-01-20T13:57:52.469082",
     "status": "completed"
    },
    "tags": []
   },
   "outputs": [],
   "source": [
    "traindata.apply(get_groups, axis=1)\n",
    "traindata = traindata.apply(give_groups, axis=1)"
   ]
  },
  {
   "cell_type": "markdown",
   "id": "edf2aed9",
   "metadata": {
    "papermill": {
     "duration": 0.022785,
     "end_time": "2025-01-20T13:57:53.938823",
     "exception": false,
     "start_time": "2025-01-20T13:57:53.916038",
     "status": "completed"
    },
    "tags": []
   },
   "source": [
    "<br />\n",
    "<br />\n",
    "\n",
    "-----"
   ]
  },
  {
   "cell_type": "markdown",
   "id": "ee51fe1b",
   "metadata": {
    "papermill": {
     "duration": 0.022264,
     "end_time": "2025-01-20T13:57:53.983576",
     "exception": false,
     "start_time": "2025-01-20T13:57:53.961312",
     "status": "completed"
    },
    "tags": []
   },
   "source": [
    "As we know from earlier analysis that some age groups are more likely to be transported than others, we can create some age group markers as features."
   ]
  },
  {
   "cell_type": "code",
   "execution_count": 40,
   "id": "55411f47",
   "metadata": {
    "execution": {
     "iopub.execute_input": "2025-01-20T13:57:54.031894Z",
     "iopub.status.busy": "2025-01-20T13:57:54.031493Z",
     "iopub.status.idle": "2025-01-20T13:57:55.010504Z",
     "shell.execute_reply": "2025-01-20T13:57:55.009465Z"
    },
    "papermill": {
     "duration": 1.006413,
     "end_time": "2025-01-20T13:57:55.013228",
     "exception": false,
     "start_time": "2025-01-20T13:57:54.006815",
     "status": "completed"
    },
    "tags": []
   },
   "outputs": [],
   "source": [
    "traindata['Is_Child'] = False\n",
    "traindata['Is_Teenager'] = False\n",
    "traindata['Is_Adult'] = False\n",
    "\n",
    "\n",
    "def age_markers(row):\n",
    "    if row.Age<13:\n",
    "        row.Is_Child = True\n",
    "    elif row.Age<18:\n",
    "        row.Is_Teenager = True\n",
    "    else:\n",
    "        row.Is_Adult = True\n",
    "    return row\n",
    "\n",
    "traindata = traindata.apply(age_markers, axis=1)"
   ]
  },
  {
   "cell_type": "markdown",
   "id": "5f7fe3d9",
   "metadata": {
    "papermill": {
     "duration": 0.022107,
     "end_time": "2025-01-20T13:57:55.058794",
     "exception": false,
     "start_time": "2025-01-20T13:57:55.036687",
     "status": "completed"
    },
    "tags": []
   },
   "source": [
    "<br />\n",
    "<br />\n",
    "\n",
    "----"
   ]
  },
  {
   "cell_type": "markdown",
   "id": "cac882f0",
   "metadata": {
    "papermill": {
     "duration": 0.022355,
     "end_time": "2025-01-20T13:57:55.105144",
     "exception": false,
     "start_time": "2025-01-20T13:57:55.082789",
     "status": "completed"
    },
    "tags": []
   },
   "source": [
    "Also from earlier analysis, we know that exact trip (combination of HomePlanet and Destination) has a large effect on probability of being transported. "
   ]
  },
  {
   "cell_type": "code",
   "execution_count": 41,
   "id": "3a041d7c",
   "metadata": {
    "execution": {
     "iopub.execute_input": "2025-01-20T13:57:55.151629Z",
     "iopub.status.busy": "2025-01-20T13:57:55.151160Z",
     "iopub.status.idle": "2025-01-20T13:57:55.891787Z",
     "shell.execute_reply": "2025-01-20T13:57:55.890367Z"
    },
    "papermill": {
     "duration": 0.767222,
     "end_time": "2025-01-20T13:57:55.894535",
     "exception": false,
     "start_time": "2025-01-20T13:57:55.127313",
     "status": "completed"
    },
    "tags": []
   },
   "outputs": [],
   "source": [
    "traindata['Trip'] = 0\n",
    "def give_trip(row):\n",
    "    if row.HomePlanet == 'Earth':\n",
    "        if row.Destination == 'PSO J318.5-22':\n",
    "            row.Trip = 1\n",
    "        elif row.Destination == '55 Cancri e':\n",
    "            row.Trip = 2\n",
    "    elif row.HomePlanet == 'Europa':\n",
    "        if row.Destination == 'TRAPPIST-1e':\n",
    "            row.Trip = 3\n",
    "        elif row.Destination == 'PSO J318.5-22':\n",
    "            row.Trip = 4\n",
    "        else:\n",
    "            row.Trip = 5\n",
    "    else:\n",
    "        if row.Destination == 'TRAPPIST-1e':\n",
    "            row.Trip = 6\n",
    "        elif row.Destination == 'PSO J318.5-22':\n",
    "            row.Trip = 7\n",
    "        else:\n",
    "            row.Trip = 8\n",
    "    return row\n",
    "traindata = traindata.apply(give_trip, axis=1)\n",
    "traindata.Trip = traindata.Trip.astype('category')            "
   ]
  },
  {
   "cell_type": "code",
   "execution_count": 42,
   "id": "75b88782",
   "metadata": {
    "execution": {
     "iopub.execute_input": "2025-01-20T13:57:55.941492Z",
     "iopub.status.busy": "2025-01-20T13:57:55.941050Z",
     "iopub.status.idle": "2025-01-20T13:57:55.971648Z",
     "shell.execute_reply": "2025-01-20T13:57:55.970537Z"
    },
    "papermill": {
     "duration": 0.056647,
     "end_time": "2025-01-20T13:57:55.974060",
     "exception": false,
     "start_time": "2025-01-20T13:57:55.917413",
     "status": "completed"
    },
    "tags": []
   },
   "outputs": [
    {
     "data": {
      "text/html": [
       "<div>\n",
       "<style scoped>\n",
       "    .dataframe tbody tr th:only-of-type {\n",
       "        vertical-align: middle;\n",
       "    }\n",
       "\n",
       "    .dataframe tbody tr th {\n",
       "        vertical-align: top;\n",
       "    }\n",
       "\n",
       "    .dataframe thead th {\n",
       "        text-align: right;\n",
       "    }\n",
       "</style>\n",
       "<table border=\"1\" class=\"dataframe\">\n",
       "  <thead>\n",
       "    <tr style=\"text-align: right;\">\n",
       "      <th></th>\n",
       "      <th>PassengerId</th>\n",
       "      <th>HomePlanet</th>\n",
       "      <th>CryoSleep</th>\n",
       "      <th>Cabin</th>\n",
       "      <th>Destination</th>\n",
       "      <th>Age</th>\n",
       "      <th>VIP</th>\n",
       "      <th>RoomService</th>\n",
       "      <th>FoodCourt</th>\n",
       "      <th>ShoppingMall</th>\n",
       "      <th>...</th>\n",
       "      <th>Ticket1</th>\n",
       "      <th>Ticket2</th>\n",
       "      <th>CabinDeck</th>\n",
       "      <th>CabinNumber</th>\n",
       "      <th>CabinSide</th>\n",
       "      <th>GroupSize</th>\n",
       "      <th>Is_Child</th>\n",
       "      <th>Is_Teenager</th>\n",
       "      <th>Is_Adult</th>\n",
       "      <th>Trip</th>\n",
       "    </tr>\n",
       "  </thead>\n",
       "  <tbody>\n",
       "    <tr>\n",
       "      <th>0</th>\n",
       "      <td>0001_01</td>\n",
       "      <td>Europa</td>\n",
       "      <td>False</td>\n",
       "      <td>B/0/P</td>\n",
       "      <td>TRAPPIST-1e</td>\n",
       "      <td>39.0</td>\n",
       "      <td>False</td>\n",
       "      <td>0.0</td>\n",
       "      <td>0.0</td>\n",
       "      <td>0.0</td>\n",
       "      <td>...</td>\n",
       "      <td>0001</td>\n",
       "      <td>01</td>\n",
       "      <td>B</td>\n",
       "      <td>(-0.001, 44.0]</td>\n",
       "      <td>P</td>\n",
       "      <td>01</td>\n",
       "      <td>False</td>\n",
       "      <td>False</td>\n",
       "      <td>True</td>\n",
       "      <td>3</td>\n",
       "    </tr>\n",
       "    <tr>\n",
       "      <th>1</th>\n",
       "      <td>0002_01</td>\n",
       "      <td>Earth</td>\n",
       "      <td>False</td>\n",
       "      <td>F/0/S</td>\n",
       "      <td>TRAPPIST-1e</td>\n",
       "      <td>24.0</td>\n",
       "      <td>False</td>\n",
       "      <td>109.0</td>\n",
       "      <td>9.0</td>\n",
       "      <td>25.0</td>\n",
       "      <td>...</td>\n",
       "      <td>0002</td>\n",
       "      <td>01</td>\n",
       "      <td>F</td>\n",
       "      <td>(-0.001, 44.0]</td>\n",
       "      <td>S</td>\n",
       "      <td>01</td>\n",
       "      <td>False</td>\n",
       "      <td>False</td>\n",
       "      <td>True</td>\n",
       "      <td>0</td>\n",
       "    </tr>\n",
       "    <tr>\n",
       "      <th>2</th>\n",
       "      <td>0003_01</td>\n",
       "      <td>Europa</td>\n",
       "      <td>False</td>\n",
       "      <td>A/0/S</td>\n",
       "      <td>TRAPPIST-1e</td>\n",
       "      <td>58.0</td>\n",
       "      <td>True</td>\n",
       "      <td>43.0</td>\n",
       "      <td>3576.0</td>\n",
       "      <td>0.0</td>\n",
       "      <td>...</td>\n",
       "      <td>0003</td>\n",
       "      <td>01</td>\n",
       "      <td>A</td>\n",
       "      <td>(-0.001, 44.0]</td>\n",
       "      <td>S</td>\n",
       "      <td>02</td>\n",
       "      <td>False</td>\n",
       "      <td>False</td>\n",
       "      <td>True</td>\n",
       "      <td>3</td>\n",
       "    </tr>\n",
       "    <tr>\n",
       "      <th>3</th>\n",
       "      <td>0003_02</td>\n",
       "      <td>Europa</td>\n",
       "      <td>False</td>\n",
       "      <td>A/0/S</td>\n",
       "      <td>TRAPPIST-1e</td>\n",
       "      <td>33.0</td>\n",
       "      <td>True</td>\n",
       "      <td>0.0</td>\n",
       "      <td>1283.0</td>\n",
       "      <td>371.0</td>\n",
       "      <td>...</td>\n",
       "      <td>0003</td>\n",
       "      <td>02</td>\n",
       "      <td>A</td>\n",
       "      <td>(-0.001, 44.0]</td>\n",
       "      <td>S</td>\n",
       "      <td>02</td>\n",
       "      <td>False</td>\n",
       "      <td>False</td>\n",
       "      <td>True</td>\n",
       "      <td>3</td>\n",
       "    </tr>\n",
       "    <tr>\n",
       "      <th>4</th>\n",
       "      <td>0004_01</td>\n",
       "      <td>Earth</td>\n",
       "      <td>False</td>\n",
       "      <td>F/1/S</td>\n",
       "      <td>TRAPPIST-1e</td>\n",
       "      <td>16.0</td>\n",
       "      <td>False</td>\n",
       "      <td>303.0</td>\n",
       "      <td>70.0</td>\n",
       "      <td>151.0</td>\n",
       "      <td>...</td>\n",
       "      <td>0004</td>\n",
       "      <td>01</td>\n",
       "      <td>F</td>\n",
       "      <td>(-0.001, 44.0]</td>\n",
       "      <td>S</td>\n",
       "      <td>01</td>\n",
       "      <td>False</td>\n",
       "      <td>True</td>\n",
       "      <td>False</td>\n",
       "      <td>0</td>\n",
       "    </tr>\n",
       "    <tr>\n",
       "      <th>5</th>\n",
       "      <td>0005_01</td>\n",
       "      <td>Earth</td>\n",
       "      <td>False</td>\n",
       "      <td>F/0/P</td>\n",
       "      <td>PSO J318.5-22</td>\n",
       "      <td>44.0</td>\n",
       "      <td>False</td>\n",
       "      <td>0.0</td>\n",
       "      <td>483.0</td>\n",
       "      <td>0.0</td>\n",
       "      <td>...</td>\n",
       "      <td>0005</td>\n",
       "      <td>01</td>\n",
       "      <td>F</td>\n",
       "      <td>(-0.001, 44.0]</td>\n",
       "      <td>P</td>\n",
       "      <td>01</td>\n",
       "      <td>False</td>\n",
       "      <td>False</td>\n",
       "      <td>True</td>\n",
       "      <td>1</td>\n",
       "    </tr>\n",
       "    <tr>\n",
       "      <th>6</th>\n",
       "      <td>0006_01</td>\n",
       "      <td>Earth</td>\n",
       "      <td>False</td>\n",
       "      <td>F/2/S</td>\n",
       "      <td>TRAPPIST-1e</td>\n",
       "      <td>26.0</td>\n",
       "      <td>False</td>\n",
       "      <td>42.0</td>\n",
       "      <td>1539.0</td>\n",
       "      <td>3.0</td>\n",
       "      <td>...</td>\n",
       "      <td>0006</td>\n",
       "      <td>01</td>\n",
       "      <td>F</td>\n",
       "      <td>(-0.001, 44.0]</td>\n",
       "      <td>S</td>\n",
       "      <td>02</td>\n",
       "      <td>False</td>\n",
       "      <td>False</td>\n",
       "      <td>True</td>\n",
       "      <td>0</td>\n",
       "    </tr>\n",
       "    <tr>\n",
       "      <th>7</th>\n",
       "      <td>0006_02</td>\n",
       "      <td>Earth</td>\n",
       "      <td>True</td>\n",
       "      <td>G/0/S</td>\n",
       "      <td>TRAPPIST-1e</td>\n",
       "      <td>28.0</td>\n",
       "      <td>False</td>\n",
       "      <td>0.0</td>\n",
       "      <td>0.0</td>\n",
       "      <td>0.0</td>\n",
       "      <td>...</td>\n",
       "      <td>0006</td>\n",
       "      <td>02</td>\n",
       "      <td>G</td>\n",
       "      <td>(-0.001, 44.0]</td>\n",
       "      <td>S</td>\n",
       "      <td>02</td>\n",
       "      <td>False</td>\n",
       "      <td>False</td>\n",
       "      <td>True</td>\n",
       "      <td>0</td>\n",
       "    </tr>\n",
       "    <tr>\n",
       "      <th>8</th>\n",
       "      <td>0007_01</td>\n",
       "      <td>Earth</td>\n",
       "      <td>False</td>\n",
       "      <td>F/3/S</td>\n",
       "      <td>TRAPPIST-1e</td>\n",
       "      <td>35.0</td>\n",
       "      <td>False</td>\n",
       "      <td>0.0</td>\n",
       "      <td>785.0</td>\n",
       "      <td>17.0</td>\n",
       "      <td>...</td>\n",
       "      <td>0007</td>\n",
       "      <td>01</td>\n",
       "      <td>F</td>\n",
       "      <td>(-0.001, 44.0]</td>\n",
       "      <td>S</td>\n",
       "      <td>01</td>\n",
       "      <td>False</td>\n",
       "      <td>False</td>\n",
       "      <td>True</td>\n",
       "      <td>0</td>\n",
       "    </tr>\n",
       "    <tr>\n",
       "      <th>9</th>\n",
       "      <td>0008_01</td>\n",
       "      <td>Europa</td>\n",
       "      <td>True</td>\n",
       "      <td>B/1/P</td>\n",
       "      <td>55 Cancri e</td>\n",
       "      <td>14.0</td>\n",
       "      <td>False</td>\n",
       "      <td>0.0</td>\n",
       "      <td>0.0</td>\n",
       "      <td>0.0</td>\n",
       "      <td>...</td>\n",
       "      <td>0008</td>\n",
       "      <td>01</td>\n",
       "      <td>B</td>\n",
       "      <td>(-0.001, 44.0]</td>\n",
       "      <td>P</td>\n",
       "      <td>03</td>\n",
       "      <td>False</td>\n",
       "      <td>True</td>\n",
       "      <td>False</td>\n",
       "      <td>5</td>\n",
       "    </tr>\n",
       "  </tbody>\n",
       "</table>\n",
       "<p>10 rows × 25 columns</p>\n",
       "</div>"
      ],
      "text/plain": [
       "  PassengerId HomePlanet  CryoSleep  Cabin    Destination   Age    VIP  \\\n",
       "0     0001_01     Europa      False  B/0/P    TRAPPIST-1e  39.0  False   \n",
       "1     0002_01      Earth      False  F/0/S    TRAPPIST-1e  24.0  False   \n",
       "2     0003_01     Europa      False  A/0/S    TRAPPIST-1e  58.0   True   \n",
       "3     0003_02     Europa      False  A/0/S    TRAPPIST-1e  33.0   True   \n",
       "4     0004_01      Earth      False  F/1/S    TRAPPIST-1e  16.0  False   \n",
       "5     0005_01      Earth      False  F/0/P  PSO J318.5-22  44.0  False   \n",
       "6     0006_01      Earth      False  F/2/S    TRAPPIST-1e  26.0  False   \n",
       "7     0006_02      Earth       True  G/0/S    TRAPPIST-1e  28.0  False   \n",
       "8     0007_01      Earth      False  F/3/S    TRAPPIST-1e  35.0  False   \n",
       "9     0008_01     Europa       True  B/1/P    55 Cancri e  14.0  False   \n",
       "\n",
       "   RoomService  FoodCourt  ShoppingMall  ...  Ticket1  Ticket2 CabinDeck  \\\n",
       "0          0.0        0.0           0.0  ...     0001       01         B   \n",
       "1        109.0        9.0          25.0  ...     0002       01         F   \n",
       "2         43.0     3576.0           0.0  ...     0003       01         A   \n",
       "3          0.0     1283.0         371.0  ...     0003       02         A   \n",
       "4        303.0       70.0         151.0  ...     0004       01         F   \n",
       "5          0.0      483.0           0.0  ...     0005       01         F   \n",
       "6         42.0     1539.0           3.0  ...     0006       01         F   \n",
       "7          0.0        0.0           0.0  ...     0006       02         G   \n",
       "8          0.0      785.0          17.0  ...     0007       01         F   \n",
       "9          0.0        0.0           0.0  ...     0008       01         B   \n",
       "\n",
       "      CabinNumber  CabinSide GroupSize Is_Child Is_Teenager Is_Adult Trip  \n",
       "0  (-0.001, 44.0]          P        01    False       False     True    3  \n",
       "1  (-0.001, 44.0]          S        01    False       False     True    0  \n",
       "2  (-0.001, 44.0]          S        02    False       False     True    3  \n",
       "3  (-0.001, 44.0]          S        02    False       False     True    3  \n",
       "4  (-0.001, 44.0]          S        01    False        True    False    0  \n",
       "5  (-0.001, 44.0]          P        01    False       False     True    1  \n",
       "6  (-0.001, 44.0]          S        02    False       False     True    0  \n",
       "7  (-0.001, 44.0]          S        02    False       False     True    0  \n",
       "8  (-0.001, 44.0]          S        01    False       False     True    0  \n",
       "9  (-0.001, 44.0]          P        03    False        True    False    5  \n",
       "\n",
       "[10 rows x 25 columns]"
      ]
     },
     "execution_count": 42,
     "metadata": {},
     "output_type": "execute_result"
    }
   ],
   "source": [
    "traindata.head(10)"
   ]
  },
  {
   "cell_type": "code",
   "execution_count": 43,
   "id": "aa740fcd",
   "metadata": {
    "execution": {
     "iopub.execute_input": "2025-01-20T13:57:56.022550Z",
     "iopub.status.busy": "2025-01-20T13:57:56.022116Z",
     "iopub.status.idle": "2025-01-20T13:57:56.029220Z",
     "shell.execute_reply": "2025-01-20T13:57:56.028139Z"
    },
    "papermill": {
     "duration": 0.033461,
     "end_time": "2025-01-20T13:57:56.031291",
     "exception": false,
     "start_time": "2025-01-20T13:57:55.997830",
     "status": "completed"
    },
    "tags": []
   },
   "outputs": [
    {
     "data": {
      "text/plain": [
       "interval[float64, right]"
      ]
     },
     "execution_count": 43,
     "metadata": {},
     "output_type": "execute_result"
    }
   ],
   "source": [
    "traindata.CabinNumber.dtype"
   ]
  },
  {
   "cell_type": "markdown",
   "id": "9a71d113",
   "metadata": {
    "papermill": {
     "duration": 0.022981,
     "end_time": "2025-01-20T13:57:56.077043",
     "exception": false,
     "start_time": "2025-01-20T13:57:56.054062",
     "status": "completed"
    },
    "tags": []
   },
   "source": [
    "<br />\n",
    "<br />\n",
    "\n",
    "----"
   ]
  },
  {
   "cell_type": "markdown",
   "id": "7cd2035b",
   "metadata": {
    "papermill": {
     "duration": 0.023319,
     "end_time": "2025-01-20T13:57:56.123979",
     "exception": false,
     "start_time": "2025-01-20T13:57:56.100660",
     "status": "completed"
    },
    "tags": []
   },
   "source": [
    "#### Now to create all of the same features in the test dataset."
   ]
  },
  {
   "cell_type": "code",
   "execution_count": 44,
   "id": "3ad0ed9a",
   "metadata": {
    "execution": {
     "iopub.execute_input": "2025-01-20T13:57:56.171995Z",
     "iopub.status.busy": "2025-01-20T13:57:56.171618Z",
     "iopub.status.idle": "2025-01-20T13:57:57.842640Z",
     "shell.execute_reply": "2025-01-20T13:57:57.841506Z"
    },
    "papermill": {
     "duration": 1.69828,
     "end_time": "2025-01-20T13:57:57.845297",
     "exception": false,
     "start_time": "2025-01-20T13:57:56.147017",
     "status": "completed"
    },
    "tags": []
   },
   "outputs": [],
   "source": [
    "testdata[['CabinDeck','CabinNumber','CabinSide']] = testdata['Cabin'].str.split('/', expand=True)\n",
    "testdata.CabinNumber = testdata.CabinNumber.astype(int)\n",
    "testdata['GroupSize'] = 0\n",
    "testdata.apply(get_groups, axis=1)\n",
    "testdata = testdata.apply(give_groups, axis=1)\n",
    "testdata['Is_Child'] = False\n",
    "testdata['Is_Teenager'] = False\n",
    "testdata['Is_Adult'] = False\n",
    "testdata = testdata.apply(age_markers, axis=1)\n",
    "testdata['Trip'] = 0\n",
    "testdata = testdata.apply(give_trip, axis=1)\n",
    "testdata.Trip = testdata.Trip.astype('category')\n",
    "testdata.CabinNumber = pd.qcut(testdata.CabinNumber, 15)"
   ]
  },
  {
   "cell_type": "markdown",
   "id": "038c3757",
   "metadata": {
    "papermill": {
     "duration": 0.024005,
     "end_time": "2025-01-20T13:57:57.897592",
     "exception": false,
     "start_time": "2025-01-20T13:57:57.873587",
     "status": "completed"
    },
    "tags": []
   },
   "source": [
    "<br />\n",
    "<br />\n",
    "<br />\n",
    "<br />\n",
    "\n",
    "----\n",
    "----"
   ]
  },
  {
   "cell_type": "markdown",
   "id": "b096d305",
   "metadata": {
    "papermill": {
     "duration": 0.022769,
     "end_time": "2025-01-20T13:57:57.943331",
     "exception": false,
     "start_time": "2025-01-20T13:57:57.920562",
     "status": "completed"
    },
    "tags": []
   },
   "source": [
    "# MODELLING"
   ]
  },
  {
   "cell_type": "markdown",
   "id": "8bf9d2c5",
   "metadata": {
    "papermill": {
     "duration": 0.022714,
     "end_time": "2025-01-20T13:57:57.989529",
     "exception": false,
     "start_time": "2025-01-20T13:57:57.966815",
     "status": "completed"
    },
    "tags": []
   },
   "source": [
    " #### First, we will discard some columns which will not be used for modelling."
   ]
  },
  {
   "cell_type": "markdown",
   "id": "1b1fd5df",
   "metadata": {
    "papermill": {
     "duration": 0.023012,
     "end_time": "2025-01-20T13:57:58.035747",
     "exception": false,
     "start_time": "2025-01-20T13:57:58.012735",
     "status": "completed"
    },
    "tags": []
   },
   "source": [
    "##### Some notes on this: \n",
    "* PassengerId is an index column\n",
    "* Cabin is unusable in its original state but has been transformed to other features\n",
    "* Name is unusable in its original state\n",
    "* Ticket1 and Ticket2 are a derivation of PassengerId that were used to engineer other features\n",
    "* TotalSpend and CabinNumber were discarded after testing showed them to be detrimental to model accuracy"
   ]
  },
  {
   "cell_type": "code",
   "execution_count": 45,
   "id": "eb9412a3",
   "metadata": {
    "execution": {
     "iopub.execute_input": "2025-01-20T13:57:58.087065Z",
     "iopub.status.busy": "2025-01-20T13:57:58.086272Z",
     "iopub.status.idle": "2025-01-20T13:57:58.101173Z",
     "shell.execute_reply": "2025-01-20T13:57:58.100052Z"
    },
    "papermill": {
     "duration": 0.043655,
     "end_time": "2025-01-20T13:57:58.103693",
     "exception": false,
     "start_time": "2025-01-20T13:57:58.060038",
     "status": "completed"
    },
    "tags": []
   },
   "outputs": [],
   "source": [
    "traindata_final = traindata.drop(columns = ['PassengerId','Cabin','Name','Ticket1','Ticket2','TotalSpend','CabinNumber'])\n",
    "testdata_final = testdata.drop(columns = ['PassengerId','Cabin','Name','Ticket1','Ticket2','TotalSpend','CabinNumber'])\n",
    "numerical_cols = [col for col in traindata_final.columns if traindata_final[col].dtype not in ['object','bool','category']]\n",
    "categorical_cols = [col for col in traindata_final.columns if traindata_final[col].dtype in ['object','bool','category','interval']]\n",
    "categorical_cols.remove('Transported')\n",
    "X = traindata_final.drop(columns = ['Transported'])\n",
    "y = traindata_final.Transported"
   ]
  },
  {
   "cell_type": "markdown",
   "id": "472a9587",
   "metadata": {
    "papermill": {
     "duration": 0.023667,
     "end_time": "2025-01-20T13:57:58.149992",
     "exception": false,
     "start_time": "2025-01-20T13:57:58.126325",
     "status": "completed"
    },
    "tags": []
   },
   "source": [
    "<br />\n",
    "<br />"
   ]
  },
  {
   "cell_type": "markdown",
   "id": "70d4f751",
   "metadata": {
    "papermill": {
     "duration": 0.022557,
     "end_time": "2025-01-20T13:57:58.195948",
     "exception": false,
     "start_time": "2025-01-20T13:57:58.173391",
     "status": "completed"
    },
    "tags": []
   },
   "source": [
    "#### Then, creating a Train-Test split."
   ]
  },
  {
   "cell_type": "code",
   "execution_count": 46,
   "id": "5b538a7d",
   "metadata": {
    "execution": {
     "iopub.execute_input": "2025-01-20T13:57:58.243421Z",
     "iopub.status.busy": "2025-01-20T13:57:58.242995Z",
     "iopub.status.idle": "2025-01-20T13:57:58.267389Z",
     "shell.execute_reply": "2025-01-20T13:57:58.266165Z"
    },
    "papermill": {
     "duration": 0.051426,
     "end_time": "2025-01-20T13:57:58.270138",
     "exception": false,
     "start_time": "2025-01-20T13:57:58.218712",
     "status": "completed"
    },
    "tags": []
   },
   "outputs": [],
   "source": [
    "X_train, X_valid, y_train, y_valid = train_test_split(pd.get_dummies(X), y, test_size=0.2, random_state=42)\n"
   ]
  },
  {
   "cell_type": "markdown",
   "id": "cb8b2748",
   "metadata": {
    "papermill": {
     "duration": 0.022185,
     "end_time": "2025-01-20T13:57:58.315377",
     "exception": false,
     "start_time": "2025-01-20T13:57:58.293192",
     "status": "completed"
    },
    "tags": []
   },
   "source": [
    "<br />\n",
    "<br />\n",
    "\n",
    "----"
   ]
  },
  {
   "cell_type": "markdown",
   "id": "fddcdbcd",
   "metadata": {
    "papermill": {
     "duration": 0.022583,
     "end_time": "2025-01-20T13:57:58.360400",
     "exception": false,
     "start_time": "2025-01-20T13:57:58.337817",
     "status": "completed"
    },
    "tags": []
   },
   "source": [
    "#### To start the modelling process, We will trial 2 models in the first instance and compare performance."
   ]
  },
  {
   "cell_type": "markdown",
   "id": "b2d1dbd2",
   "metadata": {
    "papermill": {
     "duration": 0.022598,
     "end_time": "2025-01-20T13:57:58.405387",
     "exception": false,
     "start_time": "2025-01-20T13:57:58.382789",
     "status": "completed"
    },
    "tags": []
   },
   "source": [
    "<br />\n",
    "<br />\n",
    "<br />\n",
    "<br />"
   ]
  },
  {
   "cell_type": "markdown",
   "id": "5e66176b",
   "metadata": {
    "papermill": {
     "duration": 0.022195,
     "end_time": "2025-01-20T13:57:58.450112",
     "exception": false,
     "start_time": "2025-01-20T13:57:58.427917",
     "status": "completed"
    },
    "tags": []
   },
   "source": [
    "### XGBOOST"
   ]
  },
  {
   "cell_type": "code",
   "execution_count": 47,
   "id": "e398c3c7",
   "metadata": {
    "execution": {
     "iopub.execute_input": "2025-01-20T13:57:58.498155Z",
     "iopub.status.busy": "2025-01-20T13:57:58.497293Z",
     "iopub.status.idle": "2025-01-20T13:57:58.503020Z",
     "shell.execute_reply": "2025-01-20T13:57:58.501984Z"
    },
    "papermill": {
     "duration": 0.032581,
     "end_time": "2025-01-20T13:57:58.505203",
     "exception": false,
     "start_time": "2025-01-20T13:57:58.472622",
     "status": "completed"
    },
    "tags": []
   },
   "outputs": [],
   "source": [
    "#FIRST MODEL - XGBOOST\n",
    "\n",
    "XGParams = {'n_estimators': 620,\n",
    " 'learning_rate': 0.01123731443293645,\n",
    " 'max_depth': 4,\n",
    " 'subsample': 0.6885307223746568,\n",
    " 'colsample_bytree': 0.7511271681266807}\n",
    "\n",
    "\n",
    "modelXG = XGBClassifier(**XGParams) \n",
    "\n",
    "#THIS IS THE FINAL OUTPUT MODEL USED FOR XGBOOST, WHICH WAS FOUND USING THE OPTUNA PROCESSES SHOWN BELOW..."
   ]
  },
  {
   "cell_type": "code",
   "execution_count": 48,
   "id": "9f6655fc",
   "metadata": {
    "execution": {
     "iopub.execute_input": "2025-01-20T13:57:58.552540Z",
     "iopub.status.busy": "2025-01-20T13:57:58.552116Z",
     "iopub.status.idle": "2025-01-20T13:57:59.385112Z",
     "shell.execute_reply": "2025-01-20T13:57:59.384015Z"
    },
    "papermill": {
     "duration": 0.859512,
     "end_time": "2025-01-20T13:57:59.387508",
     "exception": false,
     "start_time": "2025-01-20T13:57:58.527996",
     "status": "completed"
    },
    "tags": []
   },
   "outputs": [
    {
     "data": {
      "text/html": [
       "<style>#sk-container-id-1 {color: black;background-color: white;}#sk-container-id-1 pre{padding: 0;}#sk-container-id-1 div.sk-toggleable {background-color: white;}#sk-container-id-1 label.sk-toggleable__label {cursor: pointer;display: block;width: 100%;margin-bottom: 0;padding: 0.3em;box-sizing: border-box;text-align: center;}#sk-container-id-1 label.sk-toggleable__label-arrow:before {content: \"▸\";float: left;margin-right: 0.25em;color: #696969;}#sk-container-id-1 label.sk-toggleable__label-arrow:hover:before {color: black;}#sk-container-id-1 div.sk-estimator:hover label.sk-toggleable__label-arrow:before {color: black;}#sk-container-id-1 div.sk-toggleable__content {max-height: 0;max-width: 0;overflow: hidden;text-align: left;background-color: #f0f8ff;}#sk-container-id-1 div.sk-toggleable__content pre {margin: 0.2em;color: black;border-radius: 0.25em;background-color: #f0f8ff;}#sk-container-id-1 input.sk-toggleable__control:checked~div.sk-toggleable__content {max-height: 200px;max-width: 100%;overflow: auto;}#sk-container-id-1 input.sk-toggleable__control:checked~label.sk-toggleable__label-arrow:before {content: \"▾\";}#sk-container-id-1 div.sk-estimator input.sk-toggleable__control:checked~label.sk-toggleable__label {background-color: #d4ebff;}#sk-container-id-1 div.sk-label input.sk-toggleable__control:checked~label.sk-toggleable__label {background-color: #d4ebff;}#sk-container-id-1 input.sk-hidden--visually {border: 0;clip: rect(1px 1px 1px 1px);clip: rect(1px, 1px, 1px, 1px);height: 1px;margin: -1px;overflow: hidden;padding: 0;position: absolute;width: 1px;}#sk-container-id-1 div.sk-estimator {font-family: monospace;background-color: #f0f8ff;border: 1px dotted black;border-radius: 0.25em;box-sizing: border-box;margin-bottom: 0.5em;}#sk-container-id-1 div.sk-estimator:hover {background-color: #d4ebff;}#sk-container-id-1 div.sk-parallel-item::after {content: \"\";width: 100%;border-bottom: 1px solid gray;flex-grow: 1;}#sk-container-id-1 div.sk-label:hover label.sk-toggleable__label {background-color: #d4ebff;}#sk-container-id-1 div.sk-serial::before {content: \"\";position: absolute;border-left: 1px solid gray;box-sizing: border-box;top: 0;bottom: 0;left: 50%;z-index: 0;}#sk-container-id-1 div.sk-serial {display: flex;flex-direction: column;align-items: center;background-color: white;padding-right: 0.2em;padding-left: 0.2em;position: relative;}#sk-container-id-1 div.sk-item {position: relative;z-index: 1;}#sk-container-id-1 div.sk-parallel {display: flex;align-items: stretch;justify-content: center;background-color: white;position: relative;}#sk-container-id-1 div.sk-item::before, #sk-container-id-1 div.sk-parallel-item::before {content: \"\";position: absolute;border-left: 1px solid gray;box-sizing: border-box;top: 0;bottom: 0;left: 50%;z-index: -1;}#sk-container-id-1 div.sk-parallel-item {display: flex;flex-direction: column;z-index: 1;position: relative;background-color: white;}#sk-container-id-1 div.sk-parallel-item:first-child::after {align-self: flex-end;width: 50%;}#sk-container-id-1 div.sk-parallel-item:last-child::after {align-self: flex-start;width: 50%;}#sk-container-id-1 div.sk-parallel-item:only-child::after {width: 0;}#sk-container-id-1 div.sk-dashed-wrapped {border: 1px dashed gray;margin: 0 0.4em 0.5em 0.4em;box-sizing: border-box;padding-bottom: 0.4em;background-color: white;}#sk-container-id-1 div.sk-label label {font-family: monospace;font-weight: bold;display: inline-block;line-height: 1.2em;}#sk-container-id-1 div.sk-label-container {text-align: center;}#sk-container-id-1 div.sk-container {/* jupyter's `normalize.less` sets `[hidden] { display: none; }` but bootstrap.min.css set `[hidden] { display: none !important; }` so we also need the `!important` here to be able to override the default hidden behavior on the sphinx rendered scikit-learn.org. See: https://github.com/scikit-learn/scikit-learn/issues/21755 */display: inline-block !important;position: relative;}#sk-container-id-1 div.sk-text-repr-fallback {display: none;}</style><div id=\"sk-container-id-1\" class=\"sk-top-container\"><div class=\"sk-text-repr-fallback\"><pre>Pipeline(steps=[(&#x27;preprocessor&#x27;,\n",
       "                 ColumnTransformer(transformers=[(&#x27;num&#x27;,\n",
       "                                                  SimpleImputer(strategy=&#x27;constant&#x27;),\n",
       "                                                  [&#x27;Age&#x27;, &#x27;RoomService&#x27;,\n",
       "                                                   &#x27;FoodCourt&#x27;, &#x27;ShoppingMall&#x27;,\n",
       "                                                   &#x27;Spa&#x27;, &#x27;VRDeck&#x27;]),\n",
       "                                                 (&#x27;cat&#x27;,\n",
       "                                                  Pipeline(steps=[(&#x27;onehot&#x27;,\n",
       "                                                                   OneHotEncoder(handle_unknown=&#x27;ignore&#x27;))]),\n",
       "                                                  [&#x27;HomePlanet&#x27;, &#x27;CryoSleep&#x27;,\n",
       "                                                   &#x27;Destination&#x27;, &#x27;VIP&#x27;,\n",
       "                                                   &#x27;CabinDeck&#x27;, &#x27;CabinSide&#x27;,\n",
       "                                                   &#x27;GroupSize&#x27;, &#x27;Is_Child&#x27;,\n",
       "                                                   &#x27;Is_Teenage...\n",
       "                               feature_types=None, gamma=None, grow_policy=None,\n",
       "                               importance_type=None,\n",
       "                               interaction_constraints=None,\n",
       "                               learning_rate=0.01123731443293645, max_bin=None,\n",
       "                               max_cat_threshold=None, max_cat_to_onehot=None,\n",
       "                               max_delta_step=None, max_depth=4,\n",
       "                               max_leaves=None, min_child_weight=None,\n",
       "                               missing=nan, monotone_constraints=None,\n",
       "                               multi_strategy=None, n_estimators=620,\n",
       "                               n_jobs=None, num_parallel_tree=None,\n",
       "                               random_state=None, ...))])</pre><b>In a Jupyter environment, please rerun this cell to show the HTML representation or trust the notebook. <br />On GitHub, the HTML representation is unable to render, please try loading this page with nbviewer.org.</b></div><div class=\"sk-container\" hidden><div class=\"sk-item sk-dashed-wrapped\"><div class=\"sk-label-container\"><div class=\"sk-label sk-toggleable\"><input class=\"sk-toggleable__control sk-hidden--visually\" id=\"sk-estimator-id-1\" type=\"checkbox\" ><label for=\"sk-estimator-id-1\" class=\"sk-toggleable__label sk-toggleable__label-arrow\">Pipeline</label><div class=\"sk-toggleable__content\"><pre>Pipeline(steps=[(&#x27;preprocessor&#x27;,\n",
       "                 ColumnTransformer(transformers=[(&#x27;num&#x27;,\n",
       "                                                  SimpleImputer(strategy=&#x27;constant&#x27;),\n",
       "                                                  [&#x27;Age&#x27;, &#x27;RoomService&#x27;,\n",
       "                                                   &#x27;FoodCourt&#x27;, &#x27;ShoppingMall&#x27;,\n",
       "                                                   &#x27;Spa&#x27;, &#x27;VRDeck&#x27;]),\n",
       "                                                 (&#x27;cat&#x27;,\n",
       "                                                  Pipeline(steps=[(&#x27;onehot&#x27;,\n",
       "                                                                   OneHotEncoder(handle_unknown=&#x27;ignore&#x27;))]),\n",
       "                                                  [&#x27;HomePlanet&#x27;, &#x27;CryoSleep&#x27;,\n",
       "                                                   &#x27;Destination&#x27;, &#x27;VIP&#x27;,\n",
       "                                                   &#x27;CabinDeck&#x27;, &#x27;CabinSide&#x27;,\n",
       "                                                   &#x27;GroupSize&#x27;, &#x27;Is_Child&#x27;,\n",
       "                                                   &#x27;Is_Teenage...\n",
       "                               feature_types=None, gamma=None, grow_policy=None,\n",
       "                               importance_type=None,\n",
       "                               interaction_constraints=None,\n",
       "                               learning_rate=0.01123731443293645, max_bin=None,\n",
       "                               max_cat_threshold=None, max_cat_to_onehot=None,\n",
       "                               max_delta_step=None, max_depth=4,\n",
       "                               max_leaves=None, min_child_weight=None,\n",
       "                               missing=nan, monotone_constraints=None,\n",
       "                               multi_strategy=None, n_estimators=620,\n",
       "                               n_jobs=None, num_parallel_tree=None,\n",
       "                               random_state=None, ...))])</pre></div></div></div><div class=\"sk-serial\"><div class=\"sk-item sk-dashed-wrapped\"><div class=\"sk-label-container\"><div class=\"sk-label sk-toggleable\"><input class=\"sk-toggleable__control sk-hidden--visually\" id=\"sk-estimator-id-2\" type=\"checkbox\" ><label for=\"sk-estimator-id-2\" class=\"sk-toggleable__label sk-toggleable__label-arrow\">preprocessor: ColumnTransformer</label><div class=\"sk-toggleable__content\"><pre>ColumnTransformer(transformers=[(&#x27;num&#x27;, SimpleImputer(strategy=&#x27;constant&#x27;),\n",
       "                                 [&#x27;Age&#x27;, &#x27;RoomService&#x27;, &#x27;FoodCourt&#x27;,\n",
       "                                  &#x27;ShoppingMall&#x27;, &#x27;Spa&#x27;, &#x27;VRDeck&#x27;]),\n",
       "                                (&#x27;cat&#x27;,\n",
       "                                 Pipeline(steps=[(&#x27;onehot&#x27;,\n",
       "                                                  OneHotEncoder(handle_unknown=&#x27;ignore&#x27;))]),\n",
       "                                 [&#x27;HomePlanet&#x27;, &#x27;CryoSleep&#x27;, &#x27;Destination&#x27;,\n",
       "                                  &#x27;VIP&#x27;, &#x27;CabinDeck&#x27;, &#x27;CabinSide&#x27;, &#x27;GroupSize&#x27;,\n",
       "                                  &#x27;Is_Child&#x27;, &#x27;Is_Teenager&#x27;, &#x27;Is_Adult&#x27;,\n",
       "                                  &#x27;Trip&#x27;])])</pre></div></div></div><div class=\"sk-parallel\"><div class=\"sk-parallel-item\"><div class=\"sk-item\"><div class=\"sk-label-container\"><div class=\"sk-label sk-toggleable\"><input class=\"sk-toggleable__control sk-hidden--visually\" id=\"sk-estimator-id-3\" type=\"checkbox\" ><label for=\"sk-estimator-id-3\" class=\"sk-toggleable__label sk-toggleable__label-arrow\">num</label><div class=\"sk-toggleable__content\"><pre>[&#x27;Age&#x27;, &#x27;RoomService&#x27;, &#x27;FoodCourt&#x27;, &#x27;ShoppingMall&#x27;, &#x27;Spa&#x27;, &#x27;VRDeck&#x27;]</pre></div></div></div><div class=\"sk-serial\"><div class=\"sk-item\"><div class=\"sk-estimator sk-toggleable\"><input class=\"sk-toggleable__control sk-hidden--visually\" id=\"sk-estimator-id-4\" type=\"checkbox\" ><label for=\"sk-estimator-id-4\" class=\"sk-toggleable__label sk-toggleable__label-arrow\">SimpleImputer</label><div class=\"sk-toggleable__content\"><pre>SimpleImputer(strategy=&#x27;constant&#x27;)</pre></div></div></div></div></div></div><div class=\"sk-parallel-item\"><div class=\"sk-item\"><div class=\"sk-label-container\"><div class=\"sk-label sk-toggleable\"><input class=\"sk-toggleable__control sk-hidden--visually\" id=\"sk-estimator-id-5\" type=\"checkbox\" ><label for=\"sk-estimator-id-5\" class=\"sk-toggleable__label sk-toggleable__label-arrow\">cat</label><div class=\"sk-toggleable__content\"><pre>[&#x27;HomePlanet&#x27;, &#x27;CryoSleep&#x27;, &#x27;Destination&#x27;, &#x27;VIP&#x27;, &#x27;CabinDeck&#x27;, &#x27;CabinSide&#x27;, &#x27;GroupSize&#x27;, &#x27;Is_Child&#x27;, &#x27;Is_Teenager&#x27;, &#x27;Is_Adult&#x27;, &#x27;Trip&#x27;]</pre></div></div></div><div class=\"sk-serial\"><div class=\"sk-item\"><div class=\"sk-serial\"><div class=\"sk-item\"><div class=\"sk-estimator sk-toggleable\"><input class=\"sk-toggleable__control sk-hidden--visually\" id=\"sk-estimator-id-6\" type=\"checkbox\" ><label for=\"sk-estimator-id-6\" class=\"sk-toggleable__label sk-toggleable__label-arrow\">OneHotEncoder</label><div class=\"sk-toggleable__content\"><pre>OneHotEncoder(handle_unknown=&#x27;ignore&#x27;)</pre></div></div></div></div></div></div></div></div></div></div><div class=\"sk-item\"><div class=\"sk-estimator sk-toggleable\"><input class=\"sk-toggleable__control sk-hidden--visually\" id=\"sk-estimator-id-7\" type=\"checkbox\" ><label for=\"sk-estimator-id-7\" class=\"sk-toggleable__label sk-toggleable__label-arrow\">XGBClassifier</label><div class=\"sk-toggleable__content\"><pre>XGBClassifier(base_score=None, booster=None, callbacks=None,\n",
       "              colsample_bylevel=None, colsample_bynode=None,\n",
       "              colsample_bytree=0.7511271681266807, device=None,\n",
       "              early_stopping_rounds=None, enable_categorical=False,\n",
       "              eval_metric=None, feature_types=None, gamma=None,\n",
       "              grow_policy=None, importance_type=None,\n",
       "              interaction_constraints=None, learning_rate=0.01123731443293645,\n",
       "              max_bin=None, max_cat_threshold=None, max_cat_to_onehot=None,\n",
       "              max_delta_step=None, max_depth=4, max_leaves=None,\n",
       "              min_child_weight=None, missing=nan, monotone_constraints=None,\n",
       "              multi_strategy=None, n_estimators=620, n_jobs=None,\n",
       "              num_parallel_tree=None, random_state=None, ...)</pre></div></div></div></div></div></div></div>"
      ],
      "text/plain": [
       "Pipeline(steps=[('preprocessor',\n",
       "                 ColumnTransformer(transformers=[('num',\n",
       "                                                  SimpleImputer(strategy='constant'),\n",
       "                                                  ['Age', 'RoomService',\n",
       "                                                   'FoodCourt', 'ShoppingMall',\n",
       "                                                   'Spa', 'VRDeck']),\n",
       "                                                 ('cat',\n",
       "                                                  Pipeline(steps=[('onehot',\n",
       "                                                                   OneHotEncoder(handle_unknown='ignore'))]),\n",
       "                                                  ['HomePlanet', 'CryoSleep',\n",
       "                                                   'Destination', 'VIP',\n",
       "                                                   'CabinDeck', 'CabinSide',\n",
       "                                                   'GroupSize', 'Is_Child',\n",
       "                                                   'Is_Teenage...\n",
       "                               feature_types=None, gamma=None, grow_policy=None,\n",
       "                               importance_type=None,\n",
       "                               interaction_constraints=None,\n",
       "                               learning_rate=0.01123731443293645, max_bin=None,\n",
       "                               max_cat_threshold=None, max_cat_to_onehot=None,\n",
       "                               max_delta_step=None, max_depth=4,\n",
       "                               max_leaves=None, min_child_weight=None,\n",
       "                               missing=nan, monotone_constraints=None,\n",
       "                               multi_strategy=None, n_estimators=620,\n",
       "                               n_jobs=None, num_parallel_tree=None,\n",
       "                               random_state=None, ...))])"
      ]
     },
     "execution_count": 48,
     "metadata": {},
     "output_type": "execute_result"
    }
   ],
   "source": [
    "#CREATING PIPELINE\n",
    "numerical_transformer = SimpleImputer(strategy='constant')\n",
    "\n",
    "categorical_transformer = Pipeline(steps=[\n",
    "    ('onehot', OneHotEncoder(handle_unknown='ignore'))\n",
    "])\n",
    "\n",
    "\n",
    "preprocessor = ColumnTransformer(\n",
    "    transformers=[\n",
    "        ('num', numerical_transformer, numerical_cols),\n",
    "        ('cat', categorical_transformer, categorical_cols)\n",
    "    ])\n",
    "\n",
    "PipelineXG = Pipeline(steps = [('preprocessor', preprocessor), ('model', modelXG)])\n",
    "\n",
    "PipelineXG.fit(X, y)"
   ]
  },
  {
   "cell_type": "code",
   "execution_count": 49,
   "id": "2427cc89",
   "metadata": {
    "execution": {
     "iopub.execute_input": "2025-01-20T13:57:59.437076Z",
     "iopub.status.busy": "2025-01-20T13:57:59.436695Z",
     "iopub.status.idle": "2025-01-20T13:57:59.443864Z",
     "shell.execute_reply": "2025-01-20T13:57:59.442678Z"
    },
    "papermill": {
     "duration": 0.034466,
     "end_time": "2025-01-20T13:57:59.446040",
     "exception": false,
     "start_time": "2025-01-20T13:57:59.411574",
     "status": "completed"
    },
    "tags": []
   },
   "outputs": [],
   "source": [
    "#OPTIMISING HYPERPARAMETERS\n",
    "def objectiveXG(trial):\n",
    "    params = {\n",
    "        'n_estimators' : trial.suggest_int('n_estimators', 100, 4000),\n",
    "        'learning_rate' : trial.suggest_loguniform('learning_rate', 0.0001, 0.1),\n",
    "        'max_depth' : trial.suggest_int('max_depth', 3, 10),\n",
    "        'subsample' : trial.suggest_uniform('subsample', 0.5, 0.9),\n",
    "        'colsample_bytree' : trial.suggest_uniform('colsample_bytree', 0.5, 0.9)\n",
    "    }\n",
    "    \n",
    "    model = XGBClassifier(**params)\n",
    "    \n",
    "    model.fit(X_train, y_train)\n",
    "    \n",
    "    train_pred = model.predict(X_valid)\n",
    "    \n",
    "    score = accuracy_score(y_valid, train_pred)\n",
    "    \n",
    "    return score\n",
    "\n",
    "#studyXG = optuna.create_study(direction='maximize')\n",
    "#studyXG.optimize(objectiveXG)\n",
    "#studyXG.best_params"
   ]
  },
  {
   "cell_type": "code",
   "execution_count": 50,
   "id": "9e2ed8e0",
   "metadata": {
    "execution": {
     "iopub.execute_input": "2025-01-20T13:57:59.495271Z",
     "iopub.status.busy": "2025-01-20T13:57:59.494879Z",
     "iopub.status.idle": "2025-01-20T13:57:59.503679Z",
     "shell.execute_reply": "2025-01-20T13:57:59.502182Z"
    },
    "papermill": {
     "duration": 0.036007,
     "end_time": "2025-01-20T13:57:59.505906",
     "exception": false,
     "start_time": "2025-01-20T13:57:59.469899",
     "status": "completed"
    },
    "tags": []
   },
   "outputs": [],
   "source": [
    "#OPTIMISING BY KFOLD CV\n",
    "def objectiveXG2(trial):\n",
    "        X_local = pd.get_dummies(X)\n",
    "        \n",
    "        params = {\n",
    "        'n_estimators' : trial.suggest_int('n_estimators', 550, 650,10),\n",
    "        'learning_rate' : trial.suggest_loguniform('learning_rate', 0.01, 0.02),\n",
    "        'max_depth' : trial.suggest_int('max_depth', 3, 5),\n",
    "        'subsample' : trial.suggest_uniform('subsample', 0.6, 0.8),\n",
    "        'colsample_bytree' : trial.suggest_uniform('colsample_bytree', 0.6, 0.8)\n",
    "    }\n",
    "        \n",
    "        model = XGBClassifier(**params)\n",
    "        \n",
    "        skf = StratifiedKFold(n_splits=5, random_state=42, shuffle=True)\n",
    "        \n",
    "        for train_index,test_index in skf.split(X_local,y):\n",
    "            scores = []\n",
    "            X_train, y_train = X_local.iloc[train_index], y.iloc[train_index]\n",
    "            X_val, y_val = X_local.iloc[test_index], y.iloc[test_index]\n",
    "        \n",
    "            model.fit(X_train, y_train)\n",
    "        \n",
    "            pred = model.predict(X_val)\n",
    "        \n",
    "            score = accuracy_score(y_val, pred)\n",
    "            scores.append(score)\n",
    "        \n",
    "            \n",
    "        return (sum(scores)/len(scores))\n",
    "\n",
    "#studyXG2 = optuna.create_study(direction='maximize')\n",
    "#studyXG2.optimize(objectiveXG2, n_trials=100)"
   ]
  },
  {
   "cell_type": "code",
   "execution_count": 51,
   "id": "b1ac62ac",
   "metadata": {
    "execution": {
     "iopub.execute_input": "2025-01-20T13:57:59.554639Z",
     "iopub.status.busy": "2025-01-20T13:57:59.554208Z",
     "iopub.status.idle": "2025-01-20T13:58:03.224000Z",
     "shell.execute_reply": "2025-01-20T13:58:03.223229Z"
    },
    "papermill": {
     "duration": 3.699319,
     "end_time": "2025-01-20T13:58:03.228689",
     "exception": false,
     "start_time": "2025-01-20T13:57:59.529370",
     "status": "completed"
    },
    "tags": []
   },
   "outputs": [
    {
     "name": "stdout",
     "output_type": "stream",
     "text": [
      "Accuracy scores:\n",
      " [0.78550891 0.79815986 0.80161012 0.8164557  0.80667434]\n",
      "Average Accuracy score (across folds):\n",
      "0.8016817860879266\n"
     ]
    }
   ],
   "source": [
    "#CROSS VALIDATION SCORE\n",
    "scores = cross_val_score(PipelineXG, X, y, cv=5, scoring='accuracy')\n",
    "\n",
    "print(\"Accuracy scores:\\n\", scores)\n",
    "\n",
    "print(\"Average Accuracy score (across folds):\")\n",
    "print(scores.mean())"
   ]
  },
  {
   "cell_type": "markdown",
   "id": "8d4fddc9",
   "metadata": {
    "papermill": {
     "duration": 0.024935,
     "end_time": "2025-01-20T13:58:03.279951",
     "exception": false,
     "start_time": "2025-01-20T13:58:03.255016",
     "status": "completed"
    },
    "tags": []
   },
   "source": [
    "#### So, we have achieved 80+% accuracy in CV with the first model trialled. Now to trial other models to see if we can improve this..."
   ]
  },
  {
   "cell_type": "markdown",
   "id": "f4aa60ab",
   "metadata": {
    "papermill": {
     "duration": 0.023044,
     "end_time": "2025-01-20T13:58:03.326444",
     "exception": false,
     "start_time": "2025-01-20T13:58:03.303400",
     "status": "completed"
    },
    "tags": []
   },
   "source": [
    "<br/>\n",
    "<br/>\n",
    "<br/>\n",
    "<br/>"
   ]
  },
  {
   "cell_type": "markdown",
   "id": "2977bc48",
   "metadata": {
    "papermill": {
     "duration": 0.023344,
     "end_time": "2025-01-20T13:58:03.373262",
     "exception": false,
     "start_time": "2025-01-20T13:58:03.349918",
     "status": "completed"
    },
    "tags": []
   },
   "source": [
    "### CATBOOST"
   ]
  },
  {
   "cell_type": "code",
   "execution_count": 52,
   "id": "6a8b3ac7",
   "metadata": {
    "execution": {
     "iopub.execute_input": "2025-01-20T13:58:03.422670Z",
     "iopub.status.busy": "2025-01-20T13:58:03.422249Z",
     "iopub.status.idle": "2025-01-20T13:58:03.439047Z",
     "shell.execute_reply": "2025-01-20T13:58:03.437752Z"
    },
    "papermill": {
     "duration": 0.044302,
     "end_time": "2025-01-20T13:58:03.441607",
     "exception": false,
     "start_time": "2025-01-20T13:58:03.397305",
     "status": "completed"
    },
    "tags": []
   },
   "outputs": [],
   "source": [
    "#SECOND MODEL - CATBOOST\n",
    "X_train, X_valid, y_train, y_valid = train_test_split(X, y, test_size=0.2, random_state=42)\n",
    "\n",
    "\n",
    "cat_feature_indices = [X.columns.get_loc(col) for col in categorical_cols]\n",
    "\n",
    "CatParams = {'cat_features': cat_feature_indices,\n",
    "           'eval_metric' : 'Accuracy',\n",
    "           'depth' : 4\n",
    "          }\n",
    "\n",
    "modelCat = CatBoostClassifier(**CatParams)\n",
    "\n",
    "#DUE TO THE CONVENIENT NATURE OF CATBOOST, THE ONLY PARAMETER FOUND USING OPTUNA WAS DEPTH..."
   ]
  },
  {
   "cell_type": "code",
   "execution_count": 53,
   "id": "6ce4c767",
   "metadata": {
    "execution": {
     "iopub.execute_input": "2025-01-20T13:58:03.491609Z",
     "iopub.status.busy": "2025-01-20T13:58:03.491198Z",
     "iopub.status.idle": "2025-01-20T13:58:03.496693Z",
     "shell.execute_reply": "2025-01-20T13:58:03.495424Z"
    },
    "papermill": {
     "duration": 0.032534,
     "end_time": "2025-01-20T13:58:03.498794",
     "exception": false,
     "start_time": "2025-01-20T13:58:03.466260",
     "status": "completed"
    },
    "tags": []
   },
   "outputs": [],
   "source": [
    "#TUNING HYPERPARAMETERS\n",
    "\n",
    "def objectiveCat(trial):\n",
    "    params = {\n",
    "        'iterations': 5000,\n",
    "        'eval_metric':'accuracy',\n",
    "        'depth': trial.suggest_int('depth',3,7),\n",
    "    \n",
    "    }"
   ]
  },
  {
   "cell_type": "code",
   "execution_count": 54,
   "id": "24b637ae",
   "metadata": {
    "execution": {
     "iopub.execute_input": "2025-01-20T13:58:03.548656Z",
     "iopub.status.busy": "2025-01-20T13:58:03.548239Z",
     "iopub.status.idle": "2025-01-20T13:58:12.680193Z",
     "shell.execute_reply": "2025-01-20T13:58:12.678953Z"
    },
    "papermill": {
     "duration": 9.159395,
     "end_time": "2025-01-20T13:58:12.682612",
     "exception": false,
     "start_time": "2025-01-20T13:58:03.523217",
     "status": "completed"
    },
    "tags": []
   },
   "outputs": [
    {
     "data": {
      "application/vnd.jupyter.widget-view+json": {
       "model_id": "5a19237639214a5688f35e9086634b45",
       "version_major": 2,
       "version_minor": 0
      },
      "text/plain": [
       "MetricVisualizer(layout=Layout(align_self='stretch', height='500px'))"
      ]
     },
     "metadata": {},
     "output_type": "display_data"
    },
    {
     "name": "stdout",
     "output_type": "stream",
     "text": [
      "Learning rate set to 0.051161\n",
      "0:\tlearn: 0.7424504\ttest: 0.7441058\tbest: 0.7441058 (0)\ttotal: 66.6ms\tremaining: 1m 6s\n",
      "1:\tlearn: 0.7497843\ttest: 0.7372053\tbest: 0.7441058 (0)\ttotal: 76.5ms\tremaining: 38.2s\n",
      "2:\tlearn: 0.7451826\ttest: 0.7400805\tbest: 0.7441058 (0)\ttotal: 85.4ms\tremaining: 28.4s\n",
      "3:\tlearn: 0.7453264\ttest: 0.7429557\tbest: 0.7441058 (0)\ttotal: 93.2ms\tremaining: 23.2s\n",
      "4:\tlearn: 0.7592752\ttest: 0.7464060\tbest: 0.7464060 (4)\ttotal: 102ms\tremaining: 20.3s\n",
      "5:\tlearn: 0.7582686\ttest: 0.7469810\tbest: 0.7469810 (5)\ttotal: 112ms\tremaining: 18.6s\n",
      "6:\tlearn: 0.7575496\ttest: 0.7458309\tbest: 0.7469810 (5)\ttotal: 121ms\tremaining: 17.2s\n",
      "7:\tlearn: 0.7576934\ttest: 0.7492812\tbest: 0.7492812 (7)\ttotal: 131ms\tremaining: 16.2s\n",
      "8:\tlearn: 0.7575496\ttest: 0.7492812\tbest: 0.7492812 (7)\ttotal: 140ms\tremaining: 15.4s\n",
      "9:\tlearn: 0.7634455\ttest: 0.7533065\tbest: 0.7533065 (9)\ttotal: 149ms\tremaining: 14.7s\n",
      "10:\tlearn: 0.7653149\ttest: 0.7653824\tbest: 0.7653824 (10)\ttotal: 157ms\tremaining: 14.1s\n",
      "11:\tlearn: 0.7748059\ttest: 0.7740081\tbest: 0.7740081 (11)\ttotal: 164ms\tremaining: 13.5s\n",
      "12:\tlearn: 0.7756687\ttest: 0.7711328\tbest: 0.7740081 (11)\ttotal: 174ms\tremaining: 13.2s\n",
      "13:\tlearn: 0.7772505\ttest: 0.7688327\tbest: 0.7740081 (11)\ttotal: 182ms\tremaining: 12.8s\n",
      "14:\tlearn: 0.7850158\ttest: 0.7722829\tbest: 0.7740081 (11)\ttotal: 193ms\tremaining: 12.7s\n",
      "15:\tlearn: 0.7844406\ttest: 0.7676826\tbest: 0.7740081 (11)\ttotal: 203ms\tremaining: 12.5s\n",
      "16:\tlearn: 0.7850158\ttest: 0.7665325\tbest: 0.7740081 (11)\ttotal: 211ms\tremaining: 12.2s\n",
      "17:\tlearn: 0.7877481\ttest: 0.7734330\tbest: 0.7740081 (11)\ttotal: 221ms\tremaining: 12s\n",
      "18:\tlearn: 0.7886109\ttest: 0.7722829\tbest: 0.7740081 (11)\ttotal: 230ms\tremaining: 11.9s\n",
      "19:\tlearn: 0.7871729\ttest: 0.7705578\tbest: 0.7740081 (11)\ttotal: 239ms\tremaining: 11.7s\n",
      "20:\tlearn: 0.7914869\ttest: 0.7711328\tbest: 0.7740081 (11)\ttotal: 248ms\tremaining: 11.6s\n",
      "21:\tlearn: 0.7939316\ttest: 0.7745831\tbest: 0.7745831 (21)\ttotal: 257ms\tremaining: 11.4s\n",
      "22:\tlearn: 0.7937877\ttest: 0.7774583\tbest: 0.7774583 (22)\ttotal: 265ms\tremaining: 11.2s\n",
      "23:\tlearn: 0.7943630\ttest: 0.7757332\tbest: 0.7774583 (22)\ttotal: 275ms\tremaining: 11.2s\n",
      "24:\tlearn: 0.7972390\ttest: 0.7780334\tbest: 0.7780334 (24)\ttotal: 283ms\tremaining: 11s\n",
      "25:\tlearn: 0.7952258\ttest: 0.7768833\tbest: 0.7780334 (24)\ttotal: 291ms\tremaining: 10.9s\n",
      "26:\tlearn: 0.7942192\ttest: 0.7740081\tbest: 0.7780334 (24)\ttotal: 300ms\tremaining: 10.8s\n",
      "27:\tlearn: 0.7945068\ttest: 0.7728580\tbest: 0.7780334 (24)\ttotal: 307ms\tremaining: 10.7s\n",
      "28:\tlearn: 0.7955134\ttest: 0.7740081\tbest: 0.7780334 (24)\ttotal: 317ms\tremaining: 10.6s\n",
      "29:\tlearn: 0.7978142\ttest: 0.7757332\tbest: 0.7780334 (24)\ttotal: 325ms\tremaining: 10.5s\n",
      "30:\tlearn: 0.7985332\ttest: 0.7768833\tbest: 0.7780334 (24)\ttotal: 333ms\tremaining: 10.4s\n",
      "31:\tlearn: 0.7983894\ttest: 0.7751581\tbest: 0.7780334 (24)\ttotal: 341ms\tremaining: 10.3s\n",
      "32:\tlearn: 0.7985332\ttest: 0.7768833\tbest: 0.7780334 (24)\ttotal: 349ms\tremaining: 10.2s\n",
      "33:\tlearn: 0.8001150\ttest: 0.7774583\tbest: 0.7780334 (24)\ttotal: 357ms\tremaining: 10.1s\n",
      "34:\tlearn: 0.7989646\ttest: 0.7740081\tbest: 0.7780334 (24)\ttotal: 365ms\tremaining: 10.1s\n",
      "35:\tlearn: 0.7988208\ttest: 0.7763082\tbest: 0.7780334 (24)\ttotal: 374ms\tremaining: 10s\n",
      "36:\tlearn: 0.7989646\ttest: 0.7763082\tbest: 0.7780334 (24)\ttotal: 384ms\tremaining: 9.99s\n",
      "37:\tlearn: 0.7988208\ttest: 0.7786084\tbest: 0.7786084 (37)\ttotal: 392ms\tremaining: 9.92s\n",
      "38:\tlearn: 0.7993960\ttest: 0.7768833\tbest: 0.7786084 (37)\ttotal: 404ms\tremaining: 9.96s\n",
      "39:\tlearn: 0.7995398\ttest: 0.7786084\tbest: 0.7786084 (37)\ttotal: 414ms\tremaining: 9.93s\n",
      "40:\tlearn: 0.7999712\ttest: 0.7791834\tbest: 0.7791834 (40)\ttotal: 423ms\tremaining: 9.9s\n",
      "41:\tlearn: 0.7999712\ttest: 0.7809086\tbest: 0.7809086 (41)\ttotal: 432ms\tremaining: 9.84s\n",
      "42:\tlearn: 0.8002588\ttest: 0.7803335\tbest: 0.7809086 (41)\ttotal: 441ms\tremaining: 9.81s\n",
      "43:\tlearn: 0.8005464\ttest: 0.7832087\tbest: 0.7832087 (43)\ttotal: 449ms\tremaining: 9.75s\n",
      "44:\tlearn: 0.8002588\ttest: 0.7814836\tbest: 0.7832087 (43)\ttotal: 457ms\tremaining: 9.7s\n",
      "45:\tlearn: 0.7999712\ttest: 0.7826337\tbest: 0.7832087 (43)\ttotal: 468ms\tremaining: 9.7s\n",
      "46:\tlearn: 0.8004026\ttest: 0.7837838\tbest: 0.7837838 (46)\ttotal: 476ms\tremaining: 9.66s\n",
      "47:\tlearn: 0.8009779\ttest: 0.7832087\tbest: 0.7837838 (46)\ttotal: 485ms\tremaining: 9.61s\n",
      "48:\tlearn: 0.8009779\ttest: 0.7843588\tbest: 0.7843588 (48)\ttotal: 493ms\tremaining: 9.56s\n",
      "49:\tlearn: 0.8018407\ttest: 0.7826337\tbest: 0.7843588 (48)\ttotal: 502ms\tremaining: 9.54s\n",
      "50:\tlearn: 0.8032787\ttest: 0.7860840\tbest: 0.7860840 (50)\ttotal: 510ms\tremaining: 9.49s\n",
      "51:\tlearn: 0.8034225\ttest: 0.7872340\tbest: 0.7872340 (51)\ttotal: 521ms\tremaining: 9.49s\n",
      "52:\tlearn: 0.8041415\ttest: 0.7878091\tbest: 0.7878091 (52)\ttotal: 531ms\tremaining: 9.48s\n",
      "53:\tlearn: 0.8044291\ttest: 0.7872340\tbest: 0.7878091 (52)\ttotal: 539ms\tremaining: 9.44s\n",
      "54:\tlearn: 0.8041415\ttest: 0.7872340\tbest: 0.7878091 (52)\ttotal: 547ms\tremaining: 9.4s\n",
      "55:\tlearn: 0.8050043\ttest: 0.7866590\tbest: 0.7878091 (52)\ttotal: 556ms\tremaining: 9.37s\n",
      "56:\tlearn: 0.8048605\ttest: 0.7872340\tbest: 0.7878091 (52)\ttotal: 563ms\tremaining: 9.32s\n",
      "57:\tlearn: 0.8041415\ttest: 0.7883841\tbest: 0.7883841 (57)\ttotal: 572ms\tremaining: 9.28s\n",
      "58:\tlearn: 0.8045729\ttest: 0.7866590\tbest: 0.7883841 (57)\ttotal: 581ms\tremaining: 9.26s\n",
      "59:\tlearn: 0.8045729\ttest: 0.7878091\tbest: 0.7883841 (57)\ttotal: 589ms\tremaining: 9.23s\n",
      "60:\tlearn: 0.8048605\ttest: 0.7872340\tbest: 0.7883841 (57)\ttotal: 598ms\tremaining: 9.21s\n",
      "61:\tlearn: 0.8042853\ttest: 0.7872340\tbest: 0.7883841 (57)\ttotal: 607ms\tremaining: 9.18s\n",
      "62:\tlearn: 0.8044291\ttest: 0.7866590\tbest: 0.7883841 (57)\ttotal: 616ms\tremaining: 9.16s\n",
      "63:\tlearn: 0.8042853\ttest: 0.7860840\tbest: 0.7883841 (57)\ttotal: 625ms\tremaining: 9.14s\n",
      "64:\tlearn: 0.8048605\ttest: 0.7855089\tbest: 0.7883841 (57)\ttotal: 634ms\tremaining: 9.12s\n",
      "65:\tlearn: 0.8044291\ttest: 0.7855089\tbest: 0.7883841 (57)\ttotal: 642ms\tremaining: 9.09s\n",
      "66:\tlearn: 0.8044291\ttest: 0.7860840\tbest: 0.7883841 (57)\ttotal: 650ms\tremaining: 9.05s\n",
      "67:\tlearn: 0.8038539\ttest: 0.7872340\tbest: 0.7883841 (57)\ttotal: 658ms\tremaining: 9.02s\n",
      "68:\tlearn: 0.8042853\ttest: 0.7860840\tbest: 0.7883841 (57)\ttotal: 668ms\tremaining: 9.01s\n",
      "69:\tlearn: 0.8045729\ttest: 0.7855089\tbest: 0.7883841 (57)\ttotal: 676ms\tremaining: 8.98s\n",
      "70:\tlearn: 0.8044291\ttest: 0.7855089\tbest: 0.7883841 (57)\ttotal: 684ms\tremaining: 8.96s\n",
      "71:\tlearn: 0.8067299\ttest: 0.7866590\tbest: 0.7883841 (57)\ttotal: 692ms\tremaining: 8.92s\n",
      "72:\tlearn: 0.8070175\ttest: 0.7872340\tbest: 0.7883841 (57)\ttotal: 700ms\tremaining: 8.89s\n",
      "73:\tlearn: 0.8071613\ttest: 0.7872340\tbest: 0.7883841 (57)\ttotal: 707ms\tremaining: 8.85s\n",
      "74:\tlearn: 0.8065861\ttest: 0.7872340\tbest: 0.7883841 (57)\ttotal: 716ms\tremaining: 8.83s\n",
      "75:\tlearn: 0.8071613\ttest: 0.7866590\tbest: 0.7883841 (57)\ttotal: 724ms\tremaining: 8.8s\n",
      "76:\tlearn: 0.8071613\ttest: 0.7855089\tbest: 0.7883841 (57)\ttotal: 733ms\tremaining: 8.79s\n",
      "77:\tlearn: 0.8073051\ttest: 0.7860840\tbest: 0.7883841 (57)\ttotal: 741ms\tremaining: 8.75s\n",
      "78:\tlearn: 0.8075928\ttest: 0.7872340\tbest: 0.7883841 (57)\ttotal: 749ms\tremaining: 8.73s\n",
      "79:\tlearn: 0.8074490\ttest: 0.7866590\tbest: 0.7883841 (57)\ttotal: 758ms\tremaining: 8.72s\n",
      "80:\tlearn: 0.8071613\ttest: 0.7872340\tbest: 0.7883841 (57)\ttotal: 768ms\tremaining: 8.71s\n",
      "81:\tlearn: 0.8077366\ttest: 0.7866590\tbest: 0.7883841 (57)\ttotal: 777ms\tremaining: 8.69s\n",
      "82:\tlearn: 0.8065861\ttest: 0.7866590\tbest: 0.7883841 (57)\ttotal: 785ms\tremaining: 8.67s\n",
      "83:\tlearn: 0.8073051\ttest: 0.7860840\tbest: 0.7883841 (57)\ttotal: 795ms\tremaining: 8.66s\n",
      "84:\tlearn: 0.8074490\ttest: 0.7866590\tbest: 0.7883841 (57)\ttotal: 803ms\tremaining: 8.64s\n",
      "85:\tlearn: 0.8083118\ttest: 0.7855089\tbest: 0.7883841 (57)\ttotal: 811ms\tremaining: 8.62s\n",
      "86:\tlearn: 0.8084556\ttest: 0.7872340\tbest: 0.7883841 (57)\ttotal: 820ms\tremaining: 8.6s\n",
      "87:\tlearn: 0.8080242\ttest: 0.7866590\tbest: 0.7883841 (57)\ttotal: 827ms\tremaining: 8.57s\n",
      "88:\tlearn: 0.8080242\ttest: 0.7855089\tbest: 0.7883841 (57)\ttotal: 836ms\tremaining: 8.55s\n",
      "89:\tlearn: 0.8085994\ttest: 0.7860840\tbest: 0.7883841 (57)\ttotal: 843ms\tremaining: 8.53s\n",
      "90:\tlearn: 0.8080242\ttest: 0.7849339\tbest: 0.7883841 (57)\ttotal: 852ms\tremaining: 8.51s\n",
      "91:\tlearn: 0.8071613\ttest: 0.7855089\tbest: 0.7883841 (57)\ttotal: 859ms\tremaining: 8.48s\n",
      "92:\tlearn: 0.8078804\ttest: 0.7860840\tbest: 0.7883841 (57)\ttotal: 867ms\tremaining: 8.46s\n",
      "93:\tlearn: 0.8080242\ttest: 0.7866590\tbest: 0.7883841 (57)\ttotal: 875ms\tremaining: 8.44s\n",
      "94:\tlearn: 0.8081680\ttest: 0.7866590\tbest: 0.7883841 (57)\ttotal: 882ms\tremaining: 8.41s\n",
      "95:\tlearn: 0.8083118\ttest: 0.7860840\tbest: 0.7883841 (57)\ttotal: 890ms\tremaining: 8.38s\n",
      "96:\tlearn: 0.8081680\ttest: 0.7860840\tbest: 0.7883841 (57)\ttotal: 899ms\tremaining: 8.36s\n",
      "97:\tlearn: 0.8091746\ttest: 0.7860840\tbest: 0.7883841 (57)\ttotal: 907ms\tremaining: 8.35s\n",
      "98:\tlearn: 0.8084556\ttest: 0.7860840\tbest: 0.7883841 (57)\ttotal: 914ms\tremaining: 8.32s\n",
      "99:\tlearn: 0.8081680\ttest: 0.7866590\tbest: 0.7883841 (57)\ttotal: 922ms\tremaining: 8.3s\n",
      "100:\tlearn: 0.8081680\ttest: 0.7866590\tbest: 0.7883841 (57)\ttotal: 930ms\tremaining: 8.28s\n",
      "101:\tlearn: 0.8083118\ttest: 0.7866590\tbest: 0.7883841 (57)\ttotal: 943ms\tremaining: 8.3s\n",
      "102:\tlearn: 0.8084556\ttest: 0.7860840\tbest: 0.7883841 (57)\ttotal: 950ms\tremaining: 8.28s\n",
      "103:\tlearn: 0.8085994\ttest: 0.7860840\tbest: 0.7883841 (57)\ttotal: 958ms\tremaining: 8.26s\n",
      "104:\tlearn: 0.8088870\ttest: 0.7855089\tbest: 0.7883841 (57)\ttotal: 968ms\tremaining: 8.25s\n",
      "105:\tlearn: 0.8090308\ttest: 0.7860840\tbest: 0.7883841 (57)\ttotal: 976ms\tremaining: 8.23s\n",
      "106:\tlearn: 0.8091746\ttest: 0.7866590\tbest: 0.7883841 (57)\ttotal: 984ms\tremaining: 8.21s\n",
      "107:\tlearn: 0.8091746\ttest: 0.7855089\tbest: 0.7883841 (57)\ttotal: 992ms\tremaining: 8.19s\n",
      "108:\tlearn: 0.8094622\ttest: 0.7855089\tbest: 0.7883841 (57)\ttotal: 1s\tremaining: 8.18s\n",
      "109:\tlearn: 0.8094622\ttest: 0.7860840\tbest: 0.7883841 (57)\ttotal: 1.01s\tremaining: 8.16s\n",
      "110:\tlearn: 0.8093184\ttest: 0.7855089\tbest: 0.7883841 (57)\ttotal: 1.01s\tremaining: 8.13s\n",
      "111:\tlearn: 0.8093184\ttest: 0.7860840\tbest: 0.7883841 (57)\ttotal: 1.02s\tremaining: 8.13s\n",
      "112:\tlearn: 0.8091746\ttest: 0.7860840\tbest: 0.7883841 (57)\ttotal: 1.03s\tremaining: 8.12s\n",
      "113:\tlearn: 0.8100374\ttest: 0.7878091\tbest: 0.7883841 (57)\ttotal: 1.04s\tremaining: 8.1s\n",
      "114:\tlearn: 0.8100374\ttest: 0.7883841\tbest: 0.7883841 (57)\ttotal: 1.05s\tremaining: 8.07s\n",
      "115:\tlearn: 0.8100374\ttest: 0.7889592\tbest: 0.7889592 (115)\ttotal: 1.06s\tremaining: 8.05s\n",
      "116:\tlearn: 0.8096060\ttest: 0.7878091\tbest: 0.7889592 (115)\ttotal: 1.06s\tremaining: 8.04s\n",
      "117:\tlearn: 0.8103250\ttest: 0.7872340\tbest: 0.7889592 (115)\ttotal: 1.07s\tremaining: 8.02s\n",
      "118:\tlearn: 0.8101812\ttest: 0.7872340\tbest: 0.7889592 (115)\ttotal: 1.08s\tremaining: 8s\n",
      "119:\tlearn: 0.8101812\ttest: 0.7866590\tbest: 0.7889592 (115)\ttotal: 1.09s\tremaining: 7.98s\n",
      "120:\tlearn: 0.8093184\ttest: 0.7866590\tbest: 0.7889592 (115)\ttotal: 1.1s\tremaining: 7.96s\n",
      "121:\tlearn: 0.8097498\ttest: 0.7860840\tbest: 0.7889592 (115)\ttotal: 1.1s\tremaining: 7.95s\n",
      "122:\tlearn: 0.8098936\ttest: 0.7860840\tbest: 0.7889592 (115)\ttotal: 1.11s\tremaining: 7.94s\n",
      "123:\tlearn: 0.8098936\ttest: 0.7860840\tbest: 0.7889592 (115)\ttotal: 1.12s\tremaining: 7.92s\n",
      "124:\tlearn: 0.8098936\ttest: 0.7860840\tbest: 0.7889592 (115)\ttotal: 1.13s\tremaining: 7.9s\n",
      "125:\tlearn: 0.8100374\ttest: 0.7860840\tbest: 0.7889592 (115)\ttotal: 1.14s\tremaining: 7.88s\n",
      "126:\tlearn: 0.8106126\ttest: 0.7860840\tbest: 0.7889592 (115)\ttotal: 1.14s\tremaining: 7.86s\n",
      "127:\tlearn: 0.8106126\ttest: 0.7860840\tbest: 0.7889592 (115)\ttotal: 1.15s\tremaining: 7.84s\n",
      "128:\tlearn: 0.8103250\ttest: 0.7860840\tbest: 0.7889592 (115)\ttotal: 1.16s\tremaining: 7.83s\n",
      "129:\tlearn: 0.8104688\ttest: 0.7860840\tbest: 0.7889592 (115)\ttotal: 1.17s\tremaining: 7.81s\n",
      "130:\tlearn: 0.8098936\ttest: 0.7849339\tbest: 0.7889592 (115)\ttotal: 1.17s\tremaining: 7.79s\n",
      "131:\tlearn: 0.8098936\ttest: 0.7849339\tbest: 0.7889592 (115)\ttotal: 1.18s\tremaining: 7.78s\n",
      "132:\tlearn: 0.8104688\ttest: 0.7855089\tbest: 0.7889592 (115)\ttotal: 1.19s\tremaining: 7.77s\n",
      "133:\tlearn: 0.8106126\ttest: 0.7849339\tbest: 0.7889592 (115)\ttotal: 1.2s\tremaining: 7.77s\n",
      "134:\tlearn: 0.8107564\ttest: 0.7855089\tbest: 0.7889592 (115)\ttotal: 1.21s\tremaining: 7.76s\n",
      "135:\tlearn: 0.8110440\ttest: 0.7855089\tbest: 0.7889592 (115)\ttotal: 1.22s\tremaining: 7.74s\n",
      "136:\tlearn: 0.8113316\ttest: 0.7843588\tbest: 0.7889592 (115)\ttotal: 1.23s\tremaining: 7.72s\n",
      "137:\tlearn: 0.8110440\ttest: 0.7843588\tbest: 0.7889592 (115)\ttotal: 1.23s\tremaining: 7.71s\n",
      "138:\tlearn: 0.8111878\ttest: 0.7843588\tbest: 0.7889592 (115)\ttotal: 1.24s\tremaining: 7.69s\n",
      "139:\tlearn: 0.8110440\ttest: 0.7849339\tbest: 0.7889592 (115)\ttotal: 1.25s\tremaining: 7.67s\n",
      "140:\tlearn: 0.8110440\ttest: 0.7849339\tbest: 0.7889592 (115)\ttotal: 1.25s\tremaining: 7.64s\n",
      "141:\tlearn: 0.8110440\ttest: 0.7855089\tbest: 0.7889592 (115)\ttotal: 1.26s\tremaining: 7.63s\n",
      "142:\tlearn: 0.8113316\ttest: 0.7855089\tbest: 0.7889592 (115)\ttotal: 1.27s\tremaining: 7.61s\n",
      "143:\tlearn: 0.8113316\ttest: 0.7855089\tbest: 0.7889592 (115)\ttotal: 1.28s\tremaining: 7.6s\n",
      "144:\tlearn: 0.8110440\ttest: 0.7849339\tbest: 0.7889592 (115)\ttotal: 1.29s\tremaining: 7.59s\n",
      "145:\tlearn: 0.8113316\ttest: 0.7849339\tbest: 0.7889592 (115)\ttotal: 1.29s\tremaining: 7.57s\n",
      "146:\tlearn: 0.8111878\ttest: 0.7849339\tbest: 0.7889592 (115)\ttotal: 1.3s\tremaining: 7.56s\n",
      "147:\tlearn: 0.8113316\ttest: 0.7849339\tbest: 0.7889592 (115)\ttotal: 1.31s\tremaining: 7.55s\n",
      "148:\tlearn: 0.8116192\ttest: 0.7832087\tbest: 0.7889592 (115)\ttotal: 1.32s\tremaining: 7.54s\n",
      "149:\tlearn: 0.8111878\ttest: 0.7832087\tbest: 0.7889592 (115)\ttotal: 1.33s\tremaining: 7.52s\n",
      "150:\tlearn: 0.8113316\ttest: 0.7843588\tbest: 0.7889592 (115)\ttotal: 1.33s\tremaining: 7.51s\n",
      "151:\tlearn: 0.8111878\ttest: 0.7843588\tbest: 0.7889592 (115)\ttotal: 1.34s\tremaining: 7.48s\n",
      "152:\tlearn: 0.8110440\ttest: 0.7843588\tbest: 0.7889592 (115)\ttotal: 1.35s\tremaining: 7.46s\n",
      "153:\tlearn: 0.8111878\ttest: 0.7843588\tbest: 0.7889592 (115)\ttotal: 1.35s\tremaining: 7.44s\n",
      "154:\tlearn: 0.8114754\ttest: 0.7849339\tbest: 0.7889592 (115)\ttotal: 1.36s\tremaining: 7.43s\n",
      "155:\tlearn: 0.8107564\ttest: 0.7843588\tbest: 0.7889592 (115)\ttotal: 1.37s\tremaining: 7.41s\n",
      "156:\tlearn: 0.8110440\ttest: 0.7849339\tbest: 0.7889592 (115)\ttotal: 1.38s\tremaining: 7.4s\n",
      "157:\tlearn: 0.8110440\ttest: 0.7843588\tbest: 0.7889592 (115)\ttotal: 1.38s\tremaining: 7.38s\n",
      "158:\tlearn: 0.8109002\ttest: 0.7843588\tbest: 0.7889592 (115)\ttotal: 1.39s\tremaining: 7.37s\n",
      "159:\tlearn: 0.8120506\ttest: 0.7849339\tbest: 0.7889592 (115)\ttotal: 1.4s\tremaining: 7.35s\n",
      "160:\tlearn: 0.8117630\ttest: 0.7843588\tbest: 0.7889592 (115)\ttotal: 1.41s\tremaining: 7.34s\n",
      "161:\tlearn: 0.8117630\ttest: 0.7843588\tbest: 0.7889592 (115)\ttotal: 1.42s\tremaining: 7.33s\n",
      "162:\tlearn: 0.8114754\ttest: 0.7837838\tbest: 0.7889592 (115)\ttotal: 1.42s\tremaining: 7.31s\n",
      "163:\tlearn: 0.8117630\ttest: 0.7843588\tbest: 0.7889592 (115)\ttotal: 1.43s\tremaining: 7.3s\n",
      "164:\tlearn: 0.8120506\ttest: 0.7843588\tbest: 0.7889592 (115)\ttotal: 1.44s\tremaining: 7.29s\n",
      "165:\tlearn: 0.8116192\ttest: 0.7837838\tbest: 0.7889592 (115)\ttotal: 1.45s\tremaining: 7.29s\n",
      "166:\tlearn: 0.8120506\ttest: 0.7843588\tbest: 0.7889592 (115)\ttotal: 1.46s\tremaining: 7.27s\n",
      "167:\tlearn: 0.8120506\ttest: 0.7843588\tbest: 0.7889592 (115)\ttotal: 1.47s\tremaining: 7.26s\n",
      "168:\tlearn: 0.8123382\ttest: 0.7837838\tbest: 0.7889592 (115)\ttotal: 1.47s\tremaining: 7.25s\n",
      "169:\tlearn: 0.8123382\ttest: 0.7837838\tbest: 0.7889592 (115)\ttotal: 1.48s\tremaining: 7.23s\n",
      "170:\tlearn: 0.8121944\ttest: 0.7837838\tbest: 0.7889592 (115)\ttotal: 1.49s\tremaining: 7.22s\n",
      "171:\tlearn: 0.8121944\ttest: 0.7843588\tbest: 0.7889592 (115)\ttotal: 1.5s\tremaining: 7.21s\n",
      "172:\tlearn: 0.8123382\ttest: 0.7843588\tbest: 0.7889592 (115)\ttotal: 1.5s\tremaining: 7.2s\n",
      "173:\tlearn: 0.8129134\ttest: 0.7843588\tbest: 0.7889592 (115)\ttotal: 1.51s\tremaining: 7.18s\n",
      "174:\tlearn: 0.8123382\ttest: 0.7837838\tbest: 0.7889592 (115)\ttotal: 1.52s\tremaining: 7.17s\n",
      "175:\tlearn: 0.8123382\ttest: 0.7837838\tbest: 0.7889592 (115)\ttotal: 1.53s\tremaining: 7.16s\n",
      "176:\tlearn: 0.8123382\ttest: 0.7837838\tbest: 0.7889592 (115)\ttotal: 1.54s\tremaining: 7.15s\n",
      "177:\tlearn: 0.8132010\ttest: 0.7837838\tbest: 0.7889592 (115)\ttotal: 1.54s\tremaining: 7.14s\n",
      "178:\tlearn: 0.8132010\ttest: 0.7832087\tbest: 0.7889592 (115)\ttotal: 1.55s\tremaining: 7.12s\n",
      "179:\tlearn: 0.8133448\ttest: 0.7832087\tbest: 0.7889592 (115)\ttotal: 1.56s\tremaining: 7.11s\n",
      "180:\tlearn: 0.8130572\ttest: 0.7832087\tbest: 0.7889592 (115)\ttotal: 1.57s\tremaining: 7.09s\n",
      "181:\tlearn: 0.8130572\ttest: 0.7832087\tbest: 0.7889592 (115)\ttotal: 1.57s\tremaining: 7.08s\n",
      "182:\tlearn: 0.8129134\ttest: 0.7832087\tbest: 0.7889592 (115)\ttotal: 1.58s\tremaining: 7.07s\n",
      "183:\tlearn: 0.8130572\ttest: 0.7837838\tbest: 0.7889592 (115)\ttotal: 1.59s\tremaining: 7.06s\n",
      "184:\tlearn: 0.8130572\ttest: 0.7837838\tbest: 0.7889592 (115)\ttotal: 1.6s\tremaining: 7.05s\n",
      "185:\tlearn: 0.8130572\ttest: 0.7832087\tbest: 0.7889592 (115)\ttotal: 1.61s\tremaining: 7.04s\n",
      "186:\tlearn: 0.8127696\ttest: 0.7837838\tbest: 0.7889592 (115)\ttotal: 1.61s\tremaining: 7.02s\n",
      "187:\tlearn: 0.8127696\ttest: 0.7843588\tbest: 0.7889592 (115)\ttotal: 1.62s\tremaining: 7.01s\n",
      "188:\tlearn: 0.8129134\ttest: 0.7837838\tbest: 0.7889592 (115)\ttotal: 1.63s\tremaining: 7s\n",
      "189:\tlearn: 0.8130572\ttest: 0.7843588\tbest: 0.7889592 (115)\ttotal: 1.64s\tremaining: 6.99s\n",
      "190:\tlearn: 0.8130572\ttest: 0.7843588\tbest: 0.7889592 (115)\ttotal: 1.65s\tremaining: 6.97s\n",
      "191:\tlearn: 0.8134886\ttest: 0.7843588\tbest: 0.7889592 (115)\ttotal: 1.66s\tremaining: 6.97s\n",
      "192:\tlearn: 0.8132010\ttest: 0.7837838\tbest: 0.7889592 (115)\ttotal: 1.66s\tremaining: 6.95s\n",
      "193:\tlearn: 0.8132010\ttest: 0.7843588\tbest: 0.7889592 (115)\ttotal: 1.67s\tremaining: 6.94s\n",
      "194:\tlearn: 0.8133448\ttest: 0.7843588\tbest: 0.7889592 (115)\ttotal: 1.68s\tremaining: 6.93s\n",
      "195:\tlearn: 0.8132010\ttest: 0.7843588\tbest: 0.7889592 (115)\ttotal: 1.69s\tremaining: 6.93s\n",
      "196:\tlearn: 0.8129134\ttest: 0.7843588\tbest: 0.7889592 (115)\ttotal: 1.7s\tremaining: 6.91s\n",
      "197:\tlearn: 0.8132010\ttest: 0.7843588\tbest: 0.7889592 (115)\ttotal: 1.7s\tremaining: 6.9s\n",
      "198:\tlearn: 0.8132010\ttest: 0.7837838\tbest: 0.7889592 (115)\ttotal: 1.71s\tremaining: 6.89s\n",
      "199:\tlearn: 0.8129134\ttest: 0.7832087\tbest: 0.7889592 (115)\ttotal: 1.72s\tremaining: 6.88s\n",
      "200:\tlearn: 0.8129134\ttest: 0.7837838\tbest: 0.7889592 (115)\ttotal: 1.73s\tremaining: 6.87s\n",
      "201:\tlearn: 0.8129134\ttest: 0.7832087\tbest: 0.7889592 (115)\ttotal: 1.74s\tremaining: 6.86s\n",
      "202:\tlearn: 0.8133448\ttest: 0.7849339\tbest: 0.7889592 (115)\ttotal: 1.75s\tremaining: 6.86s\n",
      "203:\tlearn: 0.8130572\ttest: 0.7849339\tbest: 0.7889592 (115)\ttotal: 1.76s\tremaining: 6.86s\n",
      "204:\tlearn: 0.8140638\ttest: 0.7855089\tbest: 0.7889592 (115)\ttotal: 1.77s\tremaining: 6.86s\n",
      "205:\tlearn: 0.8140638\ttest: 0.7849339\tbest: 0.7889592 (115)\ttotal: 1.78s\tremaining: 6.85s\n",
      "206:\tlearn: 0.8140638\ttest: 0.7832087\tbest: 0.7889592 (115)\ttotal: 1.79s\tremaining: 6.84s\n",
      "207:\tlearn: 0.8140638\ttest: 0.7832087\tbest: 0.7889592 (115)\ttotal: 1.8s\tremaining: 6.86s\n",
      "208:\tlearn: 0.8140638\ttest: 0.7837838\tbest: 0.7889592 (115)\ttotal: 1.81s\tremaining: 6.85s\n",
      "209:\tlearn: 0.8142077\ttest: 0.7843588\tbest: 0.7889592 (115)\ttotal: 1.82s\tremaining: 6.85s\n",
      "210:\tlearn: 0.8143515\ttest: 0.7832087\tbest: 0.7889592 (115)\ttotal: 1.83s\tremaining: 6.85s\n",
      "211:\tlearn: 0.8144953\ttest: 0.7832087\tbest: 0.7889592 (115)\ttotal: 1.84s\tremaining: 6.85s\n",
      "212:\tlearn: 0.8146391\ttest: 0.7832087\tbest: 0.7889592 (115)\ttotal: 1.85s\tremaining: 6.84s\n",
      "213:\tlearn: 0.8149267\ttest: 0.7832087\tbest: 0.7889592 (115)\ttotal: 1.86s\tremaining: 6.83s\n",
      "214:\tlearn: 0.8149267\ttest: 0.7837838\tbest: 0.7889592 (115)\ttotal: 1.87s\tremaining: 6.82s\n",
      "215:\tlearn: 0.8152143\ttest: 0.7843588\tbest: 0.7889592 (115)\ttotal: 1.88s\tremaining: 6.82s\n",
      "216:\tlearn: 0.8153581\ttest: 0.7843588\tbest: 0.7889592 (115)\ttotal: 1.89s\tremaining: 6.81s\n",
      "217:\tlearn: 0.8152143\ttest: 0.7837838\tbest: 0.7889592 (115)\ttotal: 1.91s\tremaining: 6.84s\n",
      "218:\tlearn: 0.8155019\ttest: 0.7837838\tbest: 0.7889592 (115)\ttotal: 1.92s\tremaining: 6.86s\n",
      "219:\tlearn: 0.8160771\ttest: 0.7832087\tbest: 0.7889592 (115)\ttotal: 1.93s\tremaining: 6.85s\n",
      "220:\tlearn: 0.8160771\ttest: 0.7832087\tbest: 0.7889592 (115)\ttotal: 1.94s\tremaining: 6.85s\n",
      "221:\tlearn: 0.8159333\ttest: 0.7832087\tbest: 0.7889592 (115)\ttotal: 1.95s\tremaining: 6.84s\n",
      "222:\tlearn: 0.8153581\ttest: 0.7832087\tbest: 0.7889592 (115)\ttotal: 1.96s\tremaining: 6.84s\n",
      "223:\tlearn: 0.8153581\ttest: 0.7832087\tbest: 0.7889592 (115)\ttotal: 1.97s\tremaining: 6.82s\n",
      "224:\tlearn: 0.8159333\ttest: 0.7832087\tbest: 0.7889592 (115)\ttotal: 1.98s\tremaining: 6.82s\n",
      "225:\tlearn: 0.8156457\ttest: 0.7837838\tbest: 0.7889592 (115)\ttotal: 1.99s\tremaining: 6.8s\n",
      "226:\tlearn: 0.8159333\ttest: 0.7837838\tbest: 0.7889592 (115)\ttotal: 2s\tremaining: 6.79s\n",
      "227:\tlearn: 0.8160771\ttest: 0.7843588\tbest: 0.7889592 (115)\ttotal: 2.01s\tremaining: 6.8s\n",
      "228:\tlearn: 0.8160771\ttest: 0.7843588\tbest: 0.7889592 (115)\ttotal: 2.02s\tremaining: 6.8s\n",
      "229:\tlearn: 0.8162209\ttest: 0.7843588\tbest: 0.7889592 (115)\ttotal: 2.03s\tremaining: 6.78s\n",
      "230:\tlearn: 0.8159333\ttest: 0.7843588\tbest: 0.7889592 (115)\ttotal: 2.04s\tremaining: 6.78s\n",
      "231:\tlearn: 0.8159333\ttest: 0.7837838\tbest: 0.7889592 (115)\ttotal: 2.04s\tremaining: 6.77s\n",
      "232:\tlearn: 0.8156457\ttest: 0.7837838\tbest: 0.7889592 (115)\ttotal: 2.05s\tremaining: 6.76s\n",
      "233:\tlearn: 0.8159333\ttest: 0.7837838\tbest: 0.7889592 (115)\ttotal: 2.06s\tremaining: 6.75s\n",
      "234:\tlearn: 0.8156457\ttest: 0.7837838\tbest: 0.7889592 (115)\ttotal: 2.07s\tremaining: 6.74s\n",
      "235:\tlearn: 0.8160771\ttest: 0.7837838\tbest: 0.7889592 (115)\ttotal: 2.08s\tremaining: 6.73s\n",
      "236:\tlearn: 0.8160771\ttest: 0.7837838\tbest: 0.7889592 (115)\ttotal: 2.1s\tremaining: 6.75s\n",
      "237:\tlearn: 0.8157895\ttest: 0.7832087\tbest: 0.7889592 (115)\ttotal: 2.1s\tremaining: 6.74s\n",
      "238:\tlearn: 0.8160771\ttest: 0.7832087\tbest: 0.7889592 (115)\ttotal: 2.12s\tremaining: 6.74s\n",
      "239:\tlearn: 0.8159333\ttest: 0.7832087\tbest: 0.7889592 (115)\ttotal: 2.13s\tremaining: 6.73s\n",
      "240:\tlearn: 0.8162209\ttest: 0.7832087\tbest: 0.7889592 (115)\ttotal: 2.13s\tremaining: 6.72s\n",
      "241:\tlearn: 0.8167961\ttest: 0.7826337\tbest: 0.7889592 (115)\ttotal: 2.14s\tremaining: 6.71s\n",
      "242:\tlearn: 0.8167961\ttest: 0.7820587\tbest: 0.7889592 (115)\ttotal: 2.15s\tremaining: 6.7s\n",
      "243:\tlearn: 0.8169399\ttest: 0.7826337\tbest: 0.7889592 (115)\ttotal: 2.16s\tremaining: 6.69s\n",
      "244:\tlearn: 0.8172275\ttest: 0.7826337\tbest: 0.7889592 (115)\ttotal: 2.17s\tremaining: 6.69s\n",
      "245:\tlearn: 0.8170837\ttest: 0.7832087\tbest: 0.7889592 (115)\ttotal: 2.18s\tremaining: 6.68s\n",
      "246:\tlearn: 0.8172275\ttest: 0.7832087\tbest: 0.7889592 (115)\ttotal: 2.19s\tremaining: 6.68s\n",
      "247:\tlearn: 0.8175151\ttest: 0.7832087\tbest: 0.7889592 (115)\ttotal: 2.2s\tremaining: 6.67s\n",
      "248:\tlearn: 0.8173713\ttest: 0.7826337\tbest: 0.7889592 (115)\ttotal: 2.21s\tremaining: 6.68s\n",
      "249:\tlearn: 0.8172275\ttest: 0.7820587\tbest: 0.7889592 (115)\ttotal: 2.23s\tremaining: 6.67s\n",
      "250:\tlearn: 0.8172275\ttest: 0.7820587\tbest: 0.7889592 (115)\ttotal: 2.23s\tremaining: 6.67s\n",
      "251:\tlearn: 0.8173713\ttest: 0.7826337\tbest: 0.7889592 (115)\ttotal: 2.24s\tremaining: 6.66s\n",
      "252:\tlearn: 0.8178027\ttest: 0.7832087\tbest: 0.7889592 (115)\ttotal: 2.25s\tremaining: 6.65s\n",
      "253:\tlearn: 0.8176589\ttest: 0.7826337\tbest: 0.7889592 (115)\ttotal: 2.26s\tremaining: 6.64s\n",
      "254:\tlearn: 0.8179465\ttest: 0.7826337\tbest: 0.7889592 (115)\ttotal: 2.27s\tremaining: 6.64s\n",
      "255:\tlearn: 0.8173713\ttest: 0.7832087\tbest: 0.7889592 (115)\ttotal: 2.28s\tremaining: 6.64s\n",
      "256:\tlearn: 0.8176589\ttest: 0.7826337\tbest: 0.7889592 (115)\ttotal: 2.29s\tremaining: 6.63s\n",
      "257:\tlearn: 0.8172275\ttest: 0.7826337\tbest: 0.7889592 (115)\ttotal: 2.3s\tremaining: 6.63s\n",
      "258:\tlearn: 0.8173713\ttest: 0.7826337\tbest: 0.7889592 (115)\ttotal: 2.31s\tremaining: 6.62s\n",
      "259:\tlearn: 0.8173713\ttest: 0.7826337\tbest: 0.7889592 (115)\ttotal: 2.32s\tremaining: 6.61s\n",
      "260:\tlearn: 0.8176589\ttest: 0.7814836\tbest: 0.7889592 (115)\ttotal: 2.33s\tremaining: 6.6s\n",
      "261:\tlearn: 0.8178027\ttest: 0.7814836\tbest: 0.7889592 (115)\ttotal: 2.34s\tremaining: 6.59s\n",
      "262:\tlearn: 0.8179465\ttest: 0.7814836\tbest: 0.7889592 (115)\ttotal: 2.35s\tremaining: 6.59s\n",
      "263:\tlearn: 0.8179465\ttest: 0.7809086\tbest: 0.7889592 (115)\ttotal: 2.36s\tremaining: 6.59s\n",
      "264:\tlearn: 0.8182341\ttest: 0.7797585\tbest: 0.7889592 (115)\ttotal: 2.38s\tremaining: 6.61s\n",
      "265:\tlearn: 0.8182341\ttest: 0.7803335\tbest: 0.7889592 (115)\ttotal: 2.39s\tremaining: 6.6s\n",
      "266:\tlearn: 0.8180903\ttest: 0.7809086\tbest: 0.7889592 (115)\ttotal: 2.4s\tremaining: 6.6s\n",
      "267:\tlearn: 0.8182341\ttest: 0.7797585\tbest: 0.7889592 (115)\ttotal: 2.41s\tremaining: 6.59s\n",
      "268:\tlearn: 0.8182341\ttest: 0.7797585\tbest: 0.7889592 (115)\ttotal: 2.42s\tremaining: 6.58s\n",
      "269:\tlearn: 0.8185217\ttest: 0.7809086\tbest: 0.7889592 (115)\ttotal: 2.43s\tremaining: 6.58s\n",
      "270:\tlearn: 0.8186655\ttest: 0.7803335\tbest: 0.7889592 (115)\ttotal: 2.44s\tremaining: 6.58s\n",
      "271:\tlearn: 0.8186655\ttest: 0.7803335\tbest: 0.7889592 (115)\ttotal: 2.45s\tremaining: 6.57s\n",
      "272:\tlearn: 0.8186655\ttest: 0.7803335\tbest: 0.7889592 (115)\ttotal: 2.46s\tremaining: 6.56s\n",
      "273:\tlearn: 0.8188093\ttest: 0.7797585\tbest: 0.7889592 (115)\ttotal: 2.47s\tremaining: 6.55s\n",
      "274:\tlearn: 0.8186655\ttest: 0.7797585\tbest: 0.7889592 (115)\ttotal: 2.48s\tremaining: 6.54s\n",
      "275:\tlearn: 0.8186655\ttest: 0.7809086\tbest: 0.7889592 (115)\ttotal: 2.49s\tremaining: 6.53s\n",
      "276:\tlearn: 0.8186655\ttest: 0.7809086\tbest: 0.7889592 (115)\ttotal: 2.5s\tremaining: 6.52s\n",
      "277:\tlearn: 0.8186655\ttest: 0.7809086\tbest: 0.7889592 (115)\ttotal: 2.51s\tremaining: 6.52s\n",
      "278:\tlearn: 0.8186655\ttest: 0.7809086\tbest: 0.7889592 (115)\ttotal: 2.52s\tremaining: 6.51s\n",
      "279:\tlearn: 0.8190969\ttest: 0.7809086\tbest: 0.7889592 (115)\ttotal: 2.53s\tremaining: 6.51s\n",
      "280:\tlearn: 0.8190969\ttest: 0.7809086\tbest: 0.7889592 (115)\ttotal: 2.54s\tremaining: 6.5s\n",
      "281:\tlearn: 0.8183779\ttest: 0.7814836\tbest: 0.7889592 (115)\ttotal: 2.55s\tremaining: 6.49s\n",
      "282:\tlearn: 0.8183779\ttest: 0.7814836\tbest: 0.7889592 (115)\ttotal: 2.56s\tremaining: 6.48s\n",
      "283:\tlearn: 0.8186655\ttest: 0.7809086\tbest: 0.7889592 (115)\ttotal: 2.57s\tremaining: 6.47s\n",
      "284:\tlearn: 0.8189531\ttest: 0.7803335\tbest: 0.7889592 (115)\ttotal: 2.58s\tremaining: 6.47s\n",
      "285:\tlearn: 0.8190969\ttest: 0.7803335\tbest: 0.7889592 (115)\ttotal: 2.59s\tremaining: 6.46s\n",
      "286:\tlearn: 0.8189531\ttest: 0.7809086\tbest: 0.7889592 (115)\ttotal: 2.6s\tremaining: 6.45s\n",
      "287:\tlearn: 0.8189531\ttest: 0.7809086\tbest: 0.7889592 (115)\ttotal: 2.6s\tremaining: 6.44s\n",
      "288:\tlearn: 0.8189531\ttest: 0.7809086\tbest: 0.7889592 (115)\ttotal: 2.61s\tremaining: 6.43s\n",
      "289:\tlearn: 0.8190969\ttest: 0.7814836\tbest: 0.7889592 (115)\ttotal: 2.62s\tremaining: 6.42s\n",
      "290:\tlearn: 0.8190969\ttest: 0.7814836\tbest: 0.7889592 (115)\ttotal: 2.63s\tremaining: 6.41s\n",
      "291:\tlearn: 0.8190969\ttest: 0.7814836\tbest: 0.7889592 (115)\ttotal: 2.64s\tremaining: 6.4s\n",
      "292:\tlearn: 0.8193845\ttest: 0.7814836\tbest: 0.7889592 (115)\ttotal: 2.65s\tremaining: 6.39s\n",
      "293:\tlearn: 0.8195283\ttest: 0.7826337\tbest: 0.7889592 (115)\ttotal: 2.66s\tremaining: 6.38s\n",
      "294:\tlearn: 0.8195283\ttest: 0.7826337\tbest: 0.7889592 (115)\ttotal: 2.67s\tremaining: 6.37s\n",
      "295:\tlearn: 0.8196721\ttest: 0.7826337\tbest: 0.7889592 (115)\ttotal: 2.67s\tremaining: 6.36s\n",
      "296:\tlearn: 0.8196721\ttest: 0.7826337\tbest: 0.7889592 (115)\ttotal: 2.68s\tremaining: 6.35s\n",
      "297:\tlearn: 0.8196721\ttest: 0.7820587\tbest: 0.7889592 (115)\ttotal: 2.69s\tremaining: 6.34s\n",
      "298:\tlearn: 0.8196721\ttest: 0.7826337\tbest: 0.7889592 (115)\ttotal: 2.7s\tremaining: 6.33s\n",
      "299:\tlearn: 0.8199597\ttest: 0.7826337\tbest: 0.7889592 (115)\ttotal: 2.71s\tremaining: 6.33s\n",
      "300:\tlearn: 0.8193845\ttest: 0.7832087\tbest: 0.7889592 (115)\ttotal: 2.72s\tremaining: 6.32s\n",
      "301:\tlearn: 0.8198159\ttest: 0.7832087\tbest: 0.7889592 (115)\ttotal: 2.73s\tremaining: 6.3s\n",
      "302:\tlearn: 0.8198159\ttest: 0.7820587\tbest: 0.7889592 (115)\ttotal: 2.73s\tremaining: 6.29s\n",
      "303:\tlearn: 0.8196721\ttest: 0.7826337\tbest: 0.7889592 (115)\ttotal: 2.75s\tremaining: 6.28s\n",
      "304:\tlearn: 0.8198159\ttest: 0.7826337\tbest: 0.7889592 (115)\ttotal: 2.75s\tremaining: 6.28s\n",
      "305:\tlearn: 0.8195283\ttest: 0.7843588\tbest: 0.7889592 (115)\ttotal: 2.76s\tremaining: 6.27s\n",
      "306:\tlearn: 0.8196721\ttest: 0.7843588\tbest: 0.7889592 (115)\ttotal: 2.77s\tremaining: 6.25s\n",
      "307:\tlearn: 0.8198159\ttest: 0.7849339\tbest: 0.7889592 (115)\ttotal: 2.78s\tremaining: 6.25s\n",
      "308:\tlearn: 0.8196721\ttest: 0.7849339\tbest: 0.7889592 (115)\ttotal: 2.79s\tremaining: 6.24s\n",
      "309:\tlearn: 0.8196721\ttest: 0.7849339\tbest: 0.7889592 (115)\ttotal: 2.8s\tremaining: 6.23s\n",
      "310:\tlearn: 0.8199597\ttest: 0.7849339\tbest: 0.7889592 (115)\ttotal: 2.81s\tremaining: 6.22s\n",
      "311:\tlearn: 0.8201035\ttest: 0.7849339\tbest: 0.7889592 (115)\ttotal: 2.82s\tremaining: 6.21s\n",
      "312:\tlearn: 0.8201035\ttest: 0.7849339\tbest: 0.7889592 (115)\ttotal: 2.83s\tremaining: 6.2s\n",
      "313:\tlearn: 0.8196721\ttest: 0.7843588\tbest: 0.7889592 (115)\ttotal: 2.84s\tremaining: 6.2s\n",
      "314:\tlearn: 0.8195283\ttest: 0.7837838\tbest: 0.7889592 (115)\ttotal: 2.84s\tremaining: 6.18s\n",
      "315:\tlearn: 0.8199597\ttest: 0.7837838\tbest: 0.7889592 (115)\ttotal: 2.85s\tremaining: 6.18s\n",
      "316:\tlearn: 0.8201035\ttest: 0.7855089\tbest: 0.7889592 (115)\ttotal: 2.86s\tremaining: 6.17s\n",
      "317:\tlearn: 0.8201035\ttest: 0.7855089\tbest: 0.7889592 (115)\ttotal: 2.87s\tremaining: 6.16s\n",
      "318:\tlearn: 0.8201035\ttest: 0.7855089\tbest: 0.7889592 (115)\ttotal: 2.88s\tremaining: 6.15s\n",
      "319:\tlearn: 0.8201035\ttest: 0.7855089\tbest: 0.7889592 (115)\ttotal: 2.89s\tremaining: 6.14s\n",
      "320:\tlearn: 0.8201035\ttest: 0.7849339\tbest: 0.7889592 (115)\ttotal: 2.9s\tremaining: 6.13s\n",
      "321:\tlearn: 0.8202473\ttest: 0.7855089\tbest: 0.7889592 (115)\ttotal: 2.9s\tremaining: 6.11s\n",
      "322:\tlearn: 0.8203911\ttest: 0.7820587\tbest: 0.7889592 (115)\ttotal: 2.93s\tremaining: 6.13s\n",
      "323:\tlearn: 0.8202473\ttest: 0.7826337\tbest: 0.7889592 (115)\ttotal: 2.94s\tremaining: 6.13s\n",
      "324:\tlearn: 0.8203911\ttest: 0.7826337\tbest: 0.7889592 (115)\ttotal: 2.95s\tremaining: 6.12s\n",
      "325:\tlearn: 0.8203911\ttest: 0.7832087\tbest: 0.7889592 (115)\ttotal: 2.96s\tremaining: 6.11s\n",
      "326:\tlearn: 0.8203911\ttest: 0.7826337\tbest: 0.7889592 (115)\ttotal: 2.96s\tremaining: 6.1s\n",
      "327:\tlearn: 0.8203911\ttest: 0.7832087\tbest: 0.7889592 (115)\ttotal: 2.97s\tremaining: 6.09s\n",
      "328:\tlearn: 0.8208225\ttest: 0.7820587\tbest: 0.7889592 (115)\ttotal: 2.98s\tremaining: 6.08s\n",
      "329:\tlearn: 0.8208225\ttest: 0.7820587\tbest: 0.7889592 (115)\ttotal: 2.99s\tremaining: 6.08s\n",
      "330:\tlearn: 0.8208225\ttest: 0.7820587\tbest: 0.7889592 (115)\ttotal: 3s\tremaining: 6.07s\n",
      "331:\tlearn: 0.8209664\ttest: 0.7826337\tbest: 0.7889592 (115)\ttotal: 3.01s\tremaining: 6.06s\n",
      "332:\tlearn: 0.8212540\ttest: 0.7826337\tbest: 0.7889592 (115)\ttotal: 3.02s\tremaining: 6.05s\n",
      "333:\tlearn: 0.8211102\ttest: 0.7832087\tbest: 0.7889592 (115)\ttotal: 3.03s\tremaining: 6.04s\n",
      "334:\tlearn: 0.8212540\ttest: 0.7832087\tbest: 0.7889592 (115)\ttotal: 3.04s\tremaining: 6.03s\n",
      "335:\tlearn: 0.8208225\ttest: 0.7832087\tbest: 0.7889592 (115)\ttotal: 3.05s\tremaining: 6.02s\n",
      "336:\tlearn: 0.8206787\ttest: 0.7832087\tbest: 0.7889592 (115)\ttotal: 3.06s\tremaining: 6.01s\n",
      "337:\tlearn: 0.8209664\ttest: 0.7832087\tbest: 0.7889592 (115)\ttotal: 3.06s\tremaining: 6s\n",
      "338:\tlearn: 0.8209664\ttest: 0.7832087\tbest: 0.7889592 (115)\ttotal: 3.07s\tremaining: 5.99s\n",
      "339:\tlearn: 0.8205349\ttest: 0.7820587\tbest: 0.7889592 (115)\ttotal: 3.08s\tremaining: 5.98s\n",
      "340:\tlearn: 0.8203911\ttest: 0.7832087\tbest: 0.7889592 (115)\ttotal: 3.09s\tremaining: 5.97s\n",
      "341:\tlearn: 0.8208225\ttest: 0.7837838\tbest: 0.7889592 (115)\ttotal: 3.1s\tremaining: 5.96s\n",
      "342:\tlearn: 0.8208225\ttest: 0.7837838\tbest: 0.7889592 (115)\ttotal: 3.11s\tremaining: 5.95s\n",
      "343:\tlearn: 0.8209664\ttest: 0.7843588\tbest: 0.7889592 (115)\ttotal: 3.12s\tremaining: 5.94s\n",
      "344:\tlearn: 0.8211102\ttest: 0.7843588\tbest: 0.7889592 (115)\ttotal: 3.12s\tremaining: 5.93s\n",
      "345:\tlearn: 0.8206787\ttest: 0.7843588\tbest: 0.7889592 (115)\ttotal: 3.13s\tremaining: 5.92s\n",
      "346:\tlearn: 0.8209664\ttest: 0.7843588\tbest: 0.7889592 (115)\ttotal: 3.14s\tremaining: 5.91s\n",
      "347:\tlearn: 0.8211102\ttest: 0.7843588\tbest: 0.7889592 (115)\ttotal: 3.15s\tremaining: 5.9s\n",
      "348:\tlearn: 0.8212540\ttest: 0.7849339\tbest: 0.7889592 (115)\ttotal: 3.16s\tremaining: 5.89s\n",
      "349:\tlearn: 0.8215416\ttest: 0.7849339\tbest: 0.7889592 (115)\ttotal: 3.17s\tremaining: 5.88s\n",
      "350:\tlearn: 0.8218292\ttest: 0.7849339\tbest: 0.7889592 (115)\ttotal: 3.18s\tremaining: 5.88s\n",
      "351:\tlearn: 0.8225482\ttest: 0.7849339\tbest: 0.7889592 (115)\ttotal: 3.19s\tremaining: 5.87s\n",
      "352:\tlearn: 0.8225482\ttest: 0.7849339\tbest: 0.7889592 (115)\ttotal: 3.19s\tremaining: 5.86s\n",
      "353:\tlearn: 0.8226920\ttest: 0.7855089\tbest: 0.7889592 (115)\ttotal: 3.21s\tremaining: 5.85s\n",
      "354:\tlearn: 0.8226920\ttest: 0.7860840\tbest: 0.7889592 (115)\ttotal: 3.21s\tremaining: 5.84s\n",
      "355:\tlearn: 0.8225482\ttest: 0.7860840\tbest: 0.7889592 (115)\ttotal: 3.23s\tremaining: 5.84s\n",
      "356:\tlearn: 0.8228358\ttest: 0.7860840\tbest: 0.7889592 (115)\ttotal: 3.24s\tremaining: 5.84s\n",
      "357:\tlearn: 0.8225482\ttest: 0.7860840\tbest: 0.7889592 (115)\ttotal: 3.25s\tremaining: 5.83s\n",
      "358:\tlearn: 0.8225482\ttest: 0.7860840\tbest: 0.7889592 (115)\ttotal: 3.26s\tremaining: 5.82s\n",
      "359:\tlearn: 0.8228358\ttest: 0.7860840\tbest: 0.7889592 (115)\ttotal: 3.27s\tremaining: 5.81s\n",
      "360:\tlearn: 0.8231234\ttest: 0.7855089\tbest: 0.7889592 (115)\ttotal: 3.28s\tremaining: 5.8s\n",
      "361:\tlearn: 0.8228358\ttest: 0.7860840\tbest: 0.7889592 (115)\ttotal: 3.29s\tremaining: 5.79s\n",
      "362:\tlearn: 0.8225482\ttest: 0.7860840\tbest: 0.7889592 (115)\ttotal: 3.29s\tremaining: 5.78s\n",
      "363:\tlearn: 0.8228358\ttest: 0.7866590\tbest: 0.7889592 (115)\ttotal: 3.3s\tremaining: 5.77s\n",
      "364:\tlearn: 0.8228358\ttest: 0.7878091\tbest: 0.7889592 (115)\ttotal: 3.31s\tremaining: 5.76s\n",
      "365:\tlearn: 0.8226920\ttest: 0.7866590\tbest: 0.7889592 (115)\ttotal: 3.32s\tremaining: 5.75s\n",
      "366:\tlearn: 0.8228358\ttest: 0.7860840\tbest: 0.7889592 (115)\ttotal: 3.33s\tremaining: 5.74s\n",
      "367:\tlearn: 0.8231234\ttest: 0.7860840\tbest: 0.7889592 (115)\ttotal: 3.34s\tremaining: 5.73s\n",
      "368:\tlearn: 0.8231234\ttest: 0.7860840\tbest: 0.7889592 (115)\ttotal: 3.35s\tremaining: 5.72s\n",
      "369:\tlearn: 0.8231234\ttest: 0.7860840\tbest: 0.7889592 (115)\ttotal: 3.36s\tremaining: 5.71s\n",
      "370:\tlearn: 0.8235548\ttest: 0.7860840\tbest: 0.7889592 (115)\ttotal: 3.37s\tremaining: 5.71s\n",
      "371:\tlearn: 0.8234110\ttest: 0.7855089\tbest: 0.7889592 (115)\ttotal: 3.38s\tremaining: 5.7s\n",
      "372:\tlearn: 0.8235548\ttest: 0.7849339\tbest: 0.7889592 (115)\ttotal: 3.39s\tremaining: 5.69s\n",
      "373:\tlearn: 0.8235548\ttest: 0.7849339\tbest: 0.7889592 (115)\ttotal: 3.39s\tremaining: 5.68s\n",
      "374:\tlearn: 0.8235548\ttest: 0.7849339\tbest: 0.7889592 (115)\ttotal: 3.4s\tremaining: 5.67s\n",
      "375:\tlearn: 0.8235548\ttest: 0.7849339\tbest: 0.7889592 (115)\ttotal: 3.41s\tremaining: 5.66s\n",
      "376:\tlearn: 0.8235548\ttest: 0.7849339\tbest: 0.7889592 (115)\ttotal: 3.42s\tremaining: 5.65s\n",
      "377:\tlearn: 0.8236986\ttest: 0.7855089\tbest: 0.7889592 (115)\ttotal: 3.43s\tremaining: 5.64s\n",
      "378:\tlearn: 0.8236986\ttest: 0.7849339\tbest: 0.7889592 (115)\ttotal: 3.44s\tremaining: 5.63s\n",
      "379:\tlearn: 0.8236986\ttest: 0.7849339\tbest: 0.7889592 (115)\ttotal: 3.45s\tremaining: 5.63s\n",
      "380:\tlearn: 0.8235548\ttest: 0.7849339\tbest: 0.7889592 (115)\ttotal: 3.46s\tremaining: 5.62s\n",
      "381:\tlearn: 0.8238424\ttest: 0.7849339\tbest: 0.7889592 (115)\ttotal: 3.47s\tremaining: 5.62s\n",
      "382:\tlearn: 0.8238424\ttest: 0.7855089\tbest: 0.7889592 (115)\ttotal: 3.48s\tremaining: 5.61s\n",
      "383:\tlearn: 0.8236986\ttest: 0.7855089\tbest: 0.7889592 (115)\ttotal: 3.49s\tremaining: 5.6s\n",
      "384:\tlearn: 0.8238424\ttest: 0.7849339\tbest: 0.7889592 (115)\ttotal: 3.5s\tremaining: 5.59s\n",
      "385:\tlearn: 0.8238424\ttest: 0.7849339\tbest: 0.7889592 (115)\ttotal: 3.51s\tremaining: 5.58s\n",
      "386:\tlearn: 0.8238424\ttest: 0.7860840\tbest: 0.7889592 (115)\ttotal: 3.52s\tremaining: 5.57s\n",
      "387:\tlearn: 0.8238424\ttest: 0.7849339\tbest: 0.7889592 (115)\ttotal: 3.52s\tremaining: 5.56s\n",
      "388:\tlearn: 0.8241300\ttest: 0.7849339\tbest: 0.7889592 (115)\ttotal: 3.53s\tremaining: 5.55s\n",
      "389:\tlearn: 0.8245614\ttest: 0.7855089\tbest: 0.7889592 (115)\ttotal: 3.54s\tremaining: 5.54s\n",
      "390:\tlearn: 0.8247052\ttest: 0.7855089\tbest: 0.7889592 (115)\ttotal: 3.55s\tremaining: 5.53s\n",
      "391:\tlearn: 0.8248490\ttest: 0.7860840\tbest: 0.7889592 (115)\ttotal: 3.56s\tremaining: 5.52s\n",
      "392:\tlearn: 0.8248490\ttest: 0.7866590\tbest: 0.7889592 (115)\ttotal: 3.57s\tremaining: 5.52s\n",
      "393:\tlearn: 0.8247052\ttest: 0.7866590\tbest: 0.7889592 (115)\ttotal: 3.58s\tremaining: 5.5s\n",
      "394:\tlearn: 0.8244176\ttest: 0.7866590\tbest: 0.7889592 (115)\ttotal: 3.59s\tremaining: 5.5s\n",
      "395:\tlearn: 0.8245614\ttest: 0.7855089\tbest: 0.7889592 (115)\ttotal: 3.6s\tremaining: 5.49s\n",
      "396:\tlearn: 0.8244176\ttest: 0.7855089\tbest: 0.7889592 (115)\ttotal: 3.61s\tremaining: 5.48s\n",
      "397:\tlearn: 0.8244176\ttest: 0.7849339\tbest: 0.7889592 (115)\ttotal: 3.62s\tremaining: 5.47s\n",
      "398:\tlearn: 0.8245614\ttest: 0.7849339\tbest: 0.7889592 (115)\ttotal: 3.63s\tremaining: 5.46s\n",
      "399:\tlearn: 0.8245614\ttest: 0.7849339\tbest: 0.7889592 (115)\ttotal: 3.64s\tremaining: 5.46s\n",
      "400:\tlearn: 0.8245614\ttest: 0.7849339\tbest: 0.7889592 (115)\ttotal: 3.65s\tremaining: 5.45s\n",
      "401:\tlearn: 0.8248490\ttest: 0.7855089\tbest: 0.7889592 (115)\ttotal: 3.66s\tremaining: 5.44s\n",
      "402:\tlearn: 0.8248490\ttest: 0.7866590\tbest: 0.7889592 (115)\ttotal: 3.67s\tremaining: 5.43s\n",
      "403:\tlearn: 0.8255680\ttest: 0.7855089\tbest: 0.7889592 (115)\ttotal: 3.68s\tremaining: 5.42s\n",
      "404:\tlearn: 0.8254242\ttest: 0.7855089\tbest: 0.7889592 (115)\ttotal: 3.69s\tremaining: 5.42s\n",
      "405:\tlearn: 0.8255680\ttest: 0.7855089\tbest: 0.7889592 (115)\ttotal: 3.7s\tremaining: 5.41s\n",
      "406:\tlearn: 0.8255680\ttest: 0.7855089\tbest: 0.7889592 (115)\ttotal: 3.71s\tremaining: 5.4s\n",
      "407:\tlearn: 0.8259994\ttest: 0.7849339\tbest: 0.7889592 (115)\ttotal: 3.72s\tremaining: 5.39s\n",
      "408:\tlearn: 0.8258556\ttest: 0.7849339\tbest: 0.7889592 (115)\ttotal: 3.73s\tremaining: 5.38s\n",
      "409:\tlearn: 0.8257118\ttest: 0.7849339\tbest: 0.7889592 (115)\ttotal: 3.73s\tremaining: 5.38s\n",
      "410:\tlearn: 0.8258556\ttest: 0.7855089\tbest: 0.7889592 (115)\ttotal: 3.75s\tremaining: 5.37s\n",
      "411:\tlearn: 0.8258556\ttest: 0.7860840\tbest: 0.7889592 (115)\ttotal: 3.75s\tremaining: 5.36s\n",
      "412:\tlearn: 0.8259994\ttest: 0.7866590\tbest: 0.7889592 (115)\ttotal: 3.76s\tremaining: 5.35s\n",
      "413:\tlearn: 0.8259994\ttest: 0.7866590\tbest: 0.7889592 (115)\ttotal: 3.77s\tremaining: 5.34s\n",
      "414:\tlearn: 0.8255680\ttest: 0.7866590\tbest: 0.7889592 (115)\ttotal: 3.78s\tremaining: 5.33s\n",
      "415:\tlearn: 0.8257118\ttest: 0.7866590\tbest: 0.7889592 (115)\ttotal: 3.79s\tremaining: 5.32s\n",
      "416:\tlearn: 0.8257118\ttest: 0.7866590\tbest: 0.7889592 (115)\ttotal: 3.8s\tremaining: 5.31s\n",
      "417:\tlearn: 0.8259994\ttest: 0.7866590\tbest: 0.7889592 (115)\ttotal: 3.81s\tremaining: 5.3s\n",
      "418:\tlearn: 0.8258556\ttest: 0.7866590\tbest: 0.7889592 (115)\ttotal: 3.82s\tremaining: 5.3s\n",
      "419:\tlearn: 0.8258556\ttest: 0.7866590\tbest: 0.7889592 (115)\ttotal: 3.83s\tremaining: 5.29s\n",
      "420:\tlearn: 0.8258556\ttest: 0.7866590\tbest: 0.7889592 (115)\ttotal: 3.84s\tremaining: 5.28s\n",
      "421:\tlearn: 0.8258556\ttest: 0.7866590\tbest: 0.7889592 (115)\ttotal: 3.85s\tremaining: 5.27s\n",
      "422:\tlearn: 0.8257118\ttest: 0.7872340\tbest: 0.7889592 (115)\ttotal: 3.85s\tremaining: 5.26s\n",
      "423:\tlearn: 0.8262870\ttest: 0.7872340\tbest: 0.7889592 (115)\ttotal: 3.86s\tremaining: 5.25s\n",
      "424:\tlearn: 0.8259994\ttest: 0.7872340\tbest: 0.7889592 (115)\ttotal: 3.87s\tremaining: 5.24s\n",
      "425:\tlearn: 0.8261432\ttest: 0.7872340\tbest: 0.7889592 (115)\ttotal: 3.88s\tremaining: 5.24s\n",
      "426:\tlearn: 0.8261432\ttest: 0.7872340\tbest: 0.7889592 (115)\ttotal: 3.89s\tremaining: 5.22s\n",
      "427:\tlearn: 0.8262870\ttest: 0.7872340\tbest: 0.7889592 (115)\ttotal: 3.92s\tremaining: 5.23s\n",
      "428:\tlearn: 0.8261432\ttest: 0.7872340\tbest: 0.7889592 (115)\ttotal: 3.94s\tremaining: 5.24s\n",
      "429:\tlearn: 0.8259994\ttest: 0.7872340\tbest: 0.7889592 (115)\ttotal: 3.95s\tremaining: 5.23s\n",
      "430:\tlearn: 0.8259994\ttest: 0.7878091\tbest: 0.7889592 (115)\ttotal: 3.96s\tremaining: 5.22s\n",
      "431:\tlearn: 0.8259994\ttest: 0.7872340\tbest: 0.7889592 (115)\ttotal: 3.96s\tremaining: 5.21s\n",
      "432:\tlearn: 0.8262870\ttest: 0.7872340\tbest: 0.7889592 (115)\ttotal: 3.97s\tremaining: 5.2s\n",
      "433:\tlearn: 0.8262870\ttest: 0.7866590\tbest: 0.7889592 (115)\ttotal: 3.98s\tremaining: 5.19s\n",
      "434:\tlearn: 0.8262870\ttest: 0.7866590\tbest: 0.7889592 (115)\ttotal: 3.99s\tremaining: 5.18s\n",
      "435:\tlearn: 0.8265746\ttest: 0.7866590\tbest: 0.7889592 (115)\ttotal: 3.99s\tremaining: 5.16s\n",
      "436:\tlearn: 0.8262870\ttest: 0.7866590\tbest: 0.7889592 (115)\ttotal: 4s\tremaining: 5.16s\n",
      "437:\tlearn: 0.8265746\ttest: 0.7866590\tbest: 0.7889592 (115)\ttotal: 4.01s\tremaining: 5.14s\n",
      "438:\tlearn: 0.8265746\ttest: 0.7866590\tbest: 0.7889592 (115)\ttotal: 4.02s\tremaining: 5.13s\n",
      "439:\tlearn: 0.8262870\ttest: 0.7866590\tbest: 0.7889592 (115)\ttotal: 4.02s\tremaining: 5.12s\n",
      "440:\tlearn: 0.8272936\ttest: 0.7889592\tbest: 0.7889592 (115)\ttotal: 4.04s\tremaining: 5.12s\n",
      "441:\tlearn: 0.8271498\ttest: 0.7878091\tbest: 0.7889592 (115)\ttotal: 4.04s\tremaining: 5.11s\n",
      "442:\tlearn: 0.8271498\ttest: 0.7878091\tbest: 0.7889592 (115)\ttotal: 4.05s\tremaining: 5.09s\n",
      "443:\tlearn: 0.8271498\ttest: 0.7883841\tbest: 0.7889592 (115)\ttotal: 4.06s\tremaining: 5.08s\n",
      "444:\tlearn: 0.8270060\ttest: 0.7889592\tbest: 0.7889592 (115)\ttotal: 4.07s\tremaining: 5.07s\n",
      "445:\tlearn: 0.8272936\ttest: 0.7889592\tbest: 0.7889592 (115)\ttotal: 4.07s\tremaining: 5.06s\n",
      "446:\tlearn: 0.8274374\ttest: 0.7883841\tbest: 0.7889592 (115)\ttotal: 4.08s\tremaining: 5.05s\n",
      "447:\tlearn: 0.8271498\ttest: 0.7889592\tbest: 0.7889592 (115)\ttotal: 4.09s\tremaining: 5.04s\n",
      "448:\tlearn: 0.8274374\ttest: 0.7889592\tbest: 0.7889592 (115)\ttotal: 4.1s\tremaining: 5.03s\n",
      "449:\tlearn: 0.8271498\ttest: 0.7889592\tbest: 0.7889592 (115)\ttotal: 4.11s\tremaining: 5.02s\n",
      "450:\tlearn: 0.8270060\ttest: 0.7889592\tbest: 0.7889592 (115)\ttotal: 4.12s\tremaining: 5.01s\n",
      "451:\tlearn: 0.8270060\ttest: 0.7889592\tbest: 0.7889592 (115)\ttotal: 4.12s\tremaining: 5s\n",
      "452:\tlearn: 0.8270060\ttest: 0.7889592\tbest: 0.7889592 (115)\ttotal: 4.13s\tremaining: 4.99s\n",
      "453:\tlearn: 0.8272936\ttest: 0.7883841\tbest: 0.7889592 (115)\ttotal: 4.14s\tremaining: 4.98s\n",
      "454:\tlearn: 0.8274374\ttest: 0.7889592\tbest: 0.7889592 (115)\ttotal: 4.15s\tremaining: 4.97s\n",
      "455:\tlearn: 0.8272936\ttest: 0.7883841\tbest: 0.7889592 (115)\ttotal: 4.16s\tremaining: 4.96s\n",
      "456:\tlearn: 0.8277251\ttest: 0.7878091\tbest: 0.7889592 (115)\ttotal: 4.16s\tremaining: 4.95s\n",
      "457:\tlearn: 0.8275812\ttest: 0.7878091\tbest: 0.7889592 (115)\ttotal: 4.17s\tremaining: 4.93s\n",
      "458:\tlearn: 0.8277251\ttest: 0.7878091\tbest: 0.7889592 (115)\ttotal: 4.18s\tremaining: 4.93s\n",
      "459:\tlearn: 0.8280127\ttest: 0.7866590\tbest: 0.7889592 (115)\ttotal: 4.19s\tremaining: 4.92s\n",
      "460:\tlearn: 0.8280127\ttest: 0.7872340\tbest: 0.7889592 (115)\ttotal: 4.2s\tremaining: 4.91s\n",
      "461:\tlearn: 0.8280127\ttest: 0.7878091\tbest: 0.7889592 (115)\ttotal: 4.2s\tremaining: 4.89s\n",
      "462:\tlearn: 0.8281565\ttest: 0.7889592\tbest: 0.7889592 (115)\ttotal: 4.21s\tremaining: 4.88s\n",
      "463:\tlearn: 0.8284441\ttest: 0.7889592\tbest: 0.7889592 (115)\ttotal: 4.22s\tremaining: 4.87s\n",
      "464:\tlearn: 0.8283003\ttest: 0.7883841\tbest: 0.7889592 (115)\ttotal: 4.22s\tremaining: 4.86s\n",
      "465:\tlearn: 0.8287317\ttest: 0.7889592\tbest: 0.7889592 (115)\ttotal: 4.23s\tremaining: 4.85s\n",
      "466:\tlearn: 0.8288755\ttest: 0.7889592\tbest: 0.7889592 (115)\ttotal: 4.24s\tremaining: 4.84s\n",
      "467:\tlearn: 0.8293069\ttest: 0.7889592\tbest: 0.7889592 (115)\ttotal: 4.25s\tremaining: 4.83s\n",
      "468:\tlearn: 0.8288755\ttest: 0.7889592\tbest: 0.7889592 (115)\ttotal: 4.26s\tremaining: 4.82s\n",
      "469:\tlearn: 0.8287317\ttest: 0.7889592\tbest: 0.7889592 (115)\ttotal: 4.27s\tremaining: 4.81s\n",
      "470:\tlearn: 0.8290193\ttest: 0.7889592\tbest: 0.7889592 (115)\ttotal: 4.27s\tremaining: 4.8s\n",
      "471:\tlearn: 0.8290193\ttest: 0.7889592\tbest: 0.7889592 (115)\ttotal: 4.28s\tremaining: 4.79s\n",
      "472:\tlearn: 0.8294507\ttest: 0.7889592\tbest: 0.7889592 (115)\ttotal: 4.29s\tremaining: 4.78s\n",
      "473:\tlearn: 0.8291631\ttest: 0.7889592\tbest: 0.7889592 (115)\ttotal: 4.3s\tremaining: 4.77s\n",
      "474:\tlearn: 0.8293069\ttest: 0.7889592\tbest: 0.7889592 (115)\ttotal: 4.3s\tremaining: 4.76s\n",
      "475:\tlearn: 0.8293069\ttest: 0.7883841\tbest: 0.7889592 (115)\ttotal: 4.31s\tremaining: 4.75s\n",
      "476:\tlearn: 0.8293069\ttest: 0.7889592\tbest: 0.7889592 (115)\ttotal: 4.32s\tremaining: 4.74s\n",
      "477:\tlearn: 0.8293069\ttest: 0.7889592\tbest: 0.7889592 (115)\ttotal: 4.33s\tremaining: 4.73s\n",
      "478:\tlearn: 0.8293069\ttest: 0.7895342\tbest: 0.7895342 (478)\ttotal: 4.34s\tremaining: 4.72s\n",
      "479:\tlearn: 0.8293069\ttest: 0.7895342\tbest: 0.7895342 (478)\ttotal: 4.34s\tremaining: 4.71s\n",
      "480:\tlearn: 0.8295945\ttest: 0.7895342\tbest: 0.7895342 (478)\ttotal: 4.35s\tremaining: 4.7s\n",
      "481:\tlearn: 0.8295945\ttest: 0.7895342\tbest: 0.7895342 (478)\ttotal: 4.36s\tremaining: 4.69s\n",
      "482:\tlearn: 0.8295945\ttest: 0.7901093\tbest: 0.7901093 (482)\ttotal: 4.37s\tremaining: 4.68s\n",
      "483:\tlearn: 0.8297383\ttest: 0.7906843\tbest: 0.7906843 (483)\ttotal: 4.38s\tremaining: 4.67s\n",
      "484:\tlearn: 0.8297383\ttest: 0.7906843\tbest: 0.7906843 (483)\ttotal: 4.38s\tremaining: 4.66s\n",
      "485:\tlearn: 0.8294507\ttest: 0.7906843\tbest: 0.7906843 (483)\ttotal: 4.39s\tremaining: 4.65s\n",
      "486:\tlearn: 0.8295945\ttest: 0.7906843\tbest: 0.7906843 (483)\ttotal: 4.4s\tremaining: 4.64s\n",
      "487:\tlearn: 0.8294507\ttest: 0.7906843\tbest: 0.7906843 (483)\ttotal: 4.41s\tremaining: 4.63s\n",
      "488:\tlearn: 0.8294507\ttest: 0.7906843\tbest: 0.7906843 (483)\ttotal: 4.42s\tremaining: 4.61s\n",
      "489:\tlearn: 0.8294507\ttest: 0.7906843\tbest: 0.7906843 (483)\ttotal: 4.42s\tremaining: 4.6s\n",
      "490:\tlearn: 0.8297383\ttest: 0.7912593\tbest: 0.7912593 (490)\ttotal: 4.43s\tremaining: 4.59s\n",
      "491:\tlearn: 0.8295945\ttest: 0.7912593\tbest: 0.7912593 (490)\ttotal: 4.44s\tremaining: 4.59s\n",
      "492:\tlearn: 0.8297383\ttest: 0.7912593\tbest: 0.7912593 (490)\ttotal: 4.45s\tremaining: 4.58s\n",
      "493:\tlearn: 0.8300259\ttest: 0.7912593\tbest: 0.7912593 (490)\ttotal: 4.46s\tremaining: 4.57s\n",
      "494:\tlearn: 0.8295945\ttest: 0.7912593\tbest: 0.7912593 (490)\ttotal: 4.47s\tremaining: 4.56s\n",
      "495:\tlearn: 0.8290193\ttest: 0.7906843\tbest: 0.7912593 (490)\ttotal: 4.47s\tremaining: 4.55s\n",
      "496:\tlearn: 0.8290193\ttest: 0.7906843\tbest: 0.7912593 (490)\ttotal: 4.48s\tremaining: 4.54s\n",
      "497:\tlearn: 0.8288755\ttest: 0.7912593\tbest: 0.7912593 (490)\ttotal: 4.49s\tremaining: 4.53s\n",
      "498:\tlearn: 0.8290193\ttest: 0.7912593\tbest: 0.7912593 (490)\ttotal: 4.5s\tremaining: 4.52s\n",
      "499:\tlearn: 0.8287317\ttest: 0.7918344\tbest: 0.7918344 (499)\ttotal: 4.51s\tremaining: 4.51s\n",
      "500:\tlearn: 0.8285879\ttest: 0.7918344\tbest: 0.7918344 (499)\ttotal: 4.52s\tremaining: 4.5s\n",
      "501:\tlearn: 0.8287317\ttest: 0.7918344\tbest: 0.7918344 (499)\ttotal: 4.53s\tremaining: 4.49s\n",
      "502:\tlearn: 0.8290193\ttest: 0.7918344\tbest: 0.7918344 (499)\ttotal: 4.54s\tremaining: 4.48s\n",
      "503:\tlearn: 0.8290193\ttest: 0.7918344\tbest: 0.7918344 (499)\ttotal: 4.54s\tremaining: 4.47s\n",
      "504:\tlearn: 0.8297383\ttest: 0.7906843\tbest: 0.7918344 (499)\ttotal: 4.55s\tremaining: 4.46s\n",
      "505:\tlearn: 0.8298821\ttest: 0.7906843\tbest: 0.7918344 (499)\ttotal: 4.56s\tremaining: 4.45s\n",
      "506:\tlearn: 0.8298821\ttest: 0.7912593\tbest: 0.7918344 (499)\ttotal: 4.57s\tremaining: 4.44s\n",
      "507:\tlearn: 0.8303135\ttest: 0.7906843\tbest: 0.7918344 (499)\ttotal: 4.57s\tremaining: 4.43s\n",
      "508:\tlearn: 0.8301697\ttest: 0.7906843\tbest: 0.7918344 (499)\ttotal: 4.58s\tremaining: 4.42s\n",
      "509:\tlearn: 0.8304573\ttest: 0.7906843\tbest: 0.7918344 (499)\ttotal: 4.59s\tremaining: 4.41s\n",
      "510:\tlearn: 0.8304573\ttest: 0.7906843\tbest: 0.7918344 (499)\ttotal: 4.6s\tremaining: 4.4s\n",
      "511:\tlearn: 0.8301697\ttest: 0.7906843\tbest: 0.7918344 (499)\ttotal: 4.61s\tremaining: 4.39s\n",
      "512:\tlearn: 0.8300259\ttest: 0.7906843\tbest: 0.7918344 (499)\ttotal: 4.62s\tremaining: 4.38s\n",
      "513:\tlearn: 0.8301697\ttest: 0.7918344\tbest: 0.7918344 (499)\ttotal: 4.62s\tremaining: 4.37s\n",
      "514:\tlearn: 0.8301697\ttest: 0.7912593\tbest: 0.7918344 (499)\ttotal: 4.63s\tremaining: 4.36s\n",
      "515:\tlearn: 0.8301697\ttest: 0.7918344\tbest: 0.7918344 (499)\ttotal: 4.64s\tremaining: 4.35s\n",
      "516:\tlearn: 0.8303135\ttest: 0.7912593\tbest: 0.7918344 (499)\ttotal: 4.65s\tremaining: 4.34s\n",
      "517:\tlearn: 0.8304573\ttest: 0.7912593\tbest: 0.7918344 (499)\ttotal: 4.65s\tremaining: 4.33s\n",
      "518:\tlearn: 0.8304573\ttest: 0.7912593\tbest: 0.7918344 (499)\ttotal: 4.66s\tremaining: 4.32s\n",
      "519:\tlearn: 0.8303135\ttest: 0.7912593\tbest: 0.7918344 (499)\ttotal: 4.67s\tremaining: 4.31s\n",
      "520:\tlearn: 0.8300259\ttest: 0.7912593\tbest: 0.7918344 (499)\ttotal: 4.68s\tremaining: 4.3s\n",
      "521:\tlearn: 0.8303135\ttest: 0.7912593\tbest: 0.7918344 (499)\ttotal: 4.69s\tremaining: 4.29s\n",
      "522:\tlearn: 0.8304573\ttest: 0.7912593\tbest: 0.7918344 (499)\ttotal: 4.7s\tremaining: 4.28s\n",
      "523:\tlearn: 0.8303135\ttest: 0.7912593\tbest: 0.7918344 (499)\ttotal: 4.7s\tremaining: 4.27s\n",
      "524:\tlearn: 0.8301697\ttest: 0.7906843\tbest: 0.7918344 (499)\ttotal: 4.71s\tremaining: 4.26s\n",
      "525:\tlearn: 0.8301697\ttest: 0.7906843\tbest: 0.7918344 (499)\ttotal: 4.72s\tremaining: 4.25s\n",
      "526:\tlearn: 0.8301697\ttest: 0.7906843\tbest: 0.7918344 (499)\ttotal: 4.73s\tremaining: 4.24s\n",
      "527:\tlearn: 0.8303135\ttest: 0.7906843\tbest: 0.7918344 (499)\ttotal: 4.73s\tremaining: 4.23s\n",
      "528:\tlearn: 0.8303135\ttest: 0.7906843\tbest: 0.7918344 (499)\ttotal: 4.74s\tremaining: 4.22s\n",
      "529:\tlearn: 0.8306011\ttest: 0.7906843\tbest: 0.7918344 (499)\ttotal: 4.75s\tremaining: 4.21s\n",
      "530:\tlearn: 0.8308887\ttest: 0.7895342\tbest: 0.7918344 (499)\ttotal: 4.76s\tremaining: 4.2s\n",
      "531:\tlearn: 0.8311763\ttest: 0.7895342\tbest: 0.7918344 (499)\ttotal: 4.77s\tremaining: 4.19s\n",
      "532:\tlearn: 0.8311763\ttest: 0.7895342\tbest: 0.7918344 (499)\ttotal: 4.77s\tremaining: 4.18s\n",
      "533:\tlearn: 0.8311763\ttest: 0.7889592\tbest: 0.7918344 (499)\ttotal: 4.78s\tremaining: 4.17s\n",
      "534:\tlearn: 0.8311763\ttest: 0.7889592\tbest: 0.7918344 (499)\ttotal: 4.79s\tremaining: 4.16s\n",
      "535:\tlearn: 0.8310325\ttest: 0.7889592\tbest: 0.7918344 (499)\ttotal: 4.8s\tremaining: 4.15s\n",
      "536:\tlearn: 0.8307449\ttest: 0.7889592\tbest: 0.7918344 (499)\ttotal: 4.8s\tremaining: 4.14s\n",
      "537:\tlearn: 0.8310325\ttest: 0.7889592\tbest: 0.7918344 (499)\ttotal: 4.81s\tremaining: 4.13s\n",
      "538:\tlearn: 0.8311763\ttest: 0.7889592\tbest: 0.7918344 (499)\ttotal: 4.82s\tremaining: 4.12s\n",
      "539:\tlearn: 0.8311763\ttest: 0.7883841\tbest: 0.7918344 (499)\ttotal: 4.83s\tremaining: 4.11s\n",
      "540:\tlearn: 0.8311763\ttest: 0.7878091\tbest: 0.7918344 (499)\ttotal: 4.84s\tremaining: 4.11s\n",
      "541:\tlearn: 0.8310325\ttest: 0.7878091\tbest: 0.7918344 (499)\ttotal: 4.85s\tremaining: 4.1s\n",
      "542:\tlearn: 0.8313201\ttest: 0.7883841\tbest: 0.7918344 (499)\ttotal: 4.86s\tremaining: 4.09s\n",
      "543:\tlearn: 0.8314639\ttest: 0.7883841\tbest: 0.7918344 (499)\ttotal: 4.86s\tremaining: 4.08s\n",
      "544:\tlearn: 0.8314639\ttest: 0.7883841\tbest: 0.7918344 (499)\ttotal: 4.87s\tremaining: 4.07s\n",
      "545:\tlearn: 0.8314639\ttest: 0.7883841\tbest: 0.7918344 (499)\ttotal: 4.88s\tremaining: 4.06s\n",
      "546:\tlearn: 0.8314639\ttest: 0.7883841\tbest: 0.7918344 (499)\ttotal: 4.89s\tremaining: 4.05s\n",
      "547:\tlearn: 0.8318953\ttest: 0.7889592\tbest: 0.7918344 (499)\ttotal: 4.91s\tremaining: 4.05s\n",
      "548:\tlearn: 0.8318953\ttest: 0.7895342\tbest: 0.7918344 (499)\ttotal: 4.91s\tremaining: 4.04s\n",
      "549:\tlearn: 0.8321829\ttest: 0.7889592\tbest: 0.7918344 (499)\ttotal: 4.92s\tremaining: 4.03s\n",
      "550:\tlearn: 0.8326143\ttest: 0.7889592\tbest: 0.7918344 (499)\ttotal: 4.93s\tremaining: 4.02s\n",
      "551:\tlearn: 0.8327581\ttest: 0.7883841\tbest: 0.7918344 (499)\ttotal: 4.94s\tremaining: 4.01s\n",
      "552:\tlearn: 0.8327581\ttest: 0.7889592\tbest: 0.7918344 (499)\ttotal: 4.95s\tremaining: 4s\n",
      "553:\tlearn: 0.8326143\ttest: 0.7895342\tbest: 0.7918344 (499)\ttotal: 4.96s\tremaining: 3.99s\n",
      "554:\tlearn: 0.8326143\ttest: 0.7895342\tbest: 0.7918344 (499)\ttotal: 4.96s\tremaining: 3.98s\n",
      "555:\tlearn: 0.8326143\ttest: 0.7883841\tbest: 0.7918344 (499)\ttotal: 4.97s\tremaining: 3.97s\n",
      "556:\tlearn: 0.8326143\ttest: 0.7883841\tbest: 0.7918344 (499)\ttotal: 4.98s\tremaining: 3.96s\n",
      "557:\tlearn: 0.8324705\ttest: 0.7889592\tbest: 0.7918344 (499)\ttotal: 4.99s\tremaining: 3.95s\n",
      "558:\tlearn: 0.8321829\ttest: 0.7895342\tbest: 0.7918344 (499)\ttotal: 5s\tremaining: 3.94s\n",
      "559:\tlearn: 0.8320391\ttest: 0.7889592\tbest: 0.7918344 (499)\ttotal: 5.01s\tremaining: 3.93s\n",
      "560:\tlearn: 0.8320391\ttest: 0.7889592\tbest: 0.7918344 (499)\ttotal: 5.01s\tremaining: 3.92s\n",
      "561:\tlearn: 0.8323267\ttest: 0.7901093\tbest: 0.7918344 (499)\ttotal: 5.02s\tremaining: 3.91s\n",
      "562:\tlearn: 0.8321829\ttest: 0.7901093\tbest: 0.7918344 (499)\ttotal: 5.03s\tremaining: 3.9s\n",
      "563:\tlearn: 0.8324705\ttest: 0.7901093\tbest: 0.7918344 (499)\ttotal: 5.04s\tremaining: 3.9s\n",
      "564:\tlearn: 0.8323267\ttest: 0.7906843\tbest: 0.7918344 (499)\ttotal: 5.05s\tremaining: 3.88s\n",
      "565:\tlearn: 0.8326143\ttest: 0.7906843\tbest: 0.7918344 (499)\ttotal: 5.05s\tremaining: 3.88s\n",
      "566:\tlearn: 0.8329019\ttest: 0.7901093\tbest: 0.7918344 (499)\ttotal: 5.06s\tremaining: 3.87s\n",
      "567:\tlearn: 0.8330457\ttest: 0.7901093\tbest: 0.7918344 (499)\ttotal: 5.07s\tremaining: 3.85s\n",
      "568:\tlearn: 0.8331895\ttest: 0.7906843\tbest: 0.7918344 (499)\ttotal: 5.08s\tremaining: 3.85s\n",
      "569:\tlearn: 0.8331895\ttest: 0.7901093\tbest: 0.7918344 (499)\ttotal: 5.08s\tremaining: 3.84s\n",
      "570:\tlearn: 0.8330457\ttest: 0.7906843\tbest: 0.7918344 (499)\ttotal: 5.09s\tremaining: 3.83s\n",
      "571:\tlearn: 0.8326143\ttest: 0.7912593\tbest: 0.7918344 (499)\ttotal: 5.1s\tremaining: 3.82s\n",
      "572:\tlearn: 0.8326143\ttest: 0.7912593\tbest: 0.7918344 (499)\ttotal: 5.11s\tremaining: 3.81s\n",
      "573:\tlearn: 0.8329019\ttest: 0.7912593\tbest: 0.7918344 (499)\ttotal: 5.12s\tremaining: 3.8s\n",
      "574:\tlearn: 0.8326143\ttest: 0.7912593\tbest: 0.7918344 (499)\ttotal: 5.13s\tremaining: 3.79s\n",
      "575:\tlearn: 0.8327581\ttest: 0.7912593\tbest: 0.7918344 (499)\ttotal: 5.13s\tremaining: 3.78s\n",
      "576:\tlearn: 0.8327581\ttest: 0.7912593\tbest: 0.7918344 (499)\ttotal: 5.14s\tremaining: 3.77s\n",
      "577:\tlearn: 0.8327581\ttest: 0.7912593\tbest: 0.7918344 (499)\ttotal: 5.15s\tremaining: 3.76s\n",
      "578:\tlearn: 0.8327581\ttest: 0.7912593\tbest: 0.7918344 (499)\ttotal: 5.16s\tremaining: 3.75s\n",
      "579:\tlearn: 0.8329019\ttest: 0.7912593\tbest: 0.7918344 (499)\ttotal: 5.17s\tremaining: 3.74s\n",
      "580:\tlearn: 0.8330457\ttest: 0.7912593\tbest: 0.7918344 (499)\ttotal: 5.17s\tremaining: 3.73s\n",
      "581:\tlearn: 0.8330457\ttest: 0.7912593\tbest: 0.7918344 (499)\ttotal: 5.18s\tremaining: 3.72s\n",
      "582:\tlearn: 0.8329019\ttest: 0.7912593\tbest: 0.7918344 (499)\ttotal: 5.19s\tremaining: 3.71s\n",
      "583:\tlearn: 0.8331895\ttest: 0.7912593\tbest: 0.7918344 (499)\ttotal: 5.2s\tremaining: 3.7s\n",
      "584:\tlearn: 0.8331895\ttest: 0.7912593\tbest: 0.7918344 (499)\ttotal: 5.21s\tremaining: 3.69s\n",
      "585:\tlearn: 0.8333333\ttest: 0.7912593\tbest: 0.7918344 (499)\ttotal: 5.21s\tremaining: 3.68s\n",
      "586:\tlearn: 0.8331895\ttest: 0.7912593\tbest: 0.7918344 (499)\ttotal: 5.22s\tremaining: 3.67s\n",
      "587:\tlearn: 0.8334771\ttest: 0.7912593\tbest: 0.7918344 (499)\ttotal: 5.23s\tremaining: 3.67s\n",
      "588:\tlearn: 0.8334771\ttest: 0.7912593\tbest: 0.7918344 (499)\ttotal: 5.24s\tremaining: 3.66s\n",
      "589:\tlearn: 0.8334771\ttest: 0.7912593\tbest: 0.7918344 (499)\ttotal: 5.25s\tremaining: 3.65s\n",
      "590:\tlearn: 0.8334771\ttest: 0.7912593\tbest: 0.7918344 (499)\ttotal: 5.26s\tremaining: 3.64s\n",
      "591:\tlearn: 0.8337647\ttest: 0.7912593\tbest: 0.7918344 (499)\ttotal: 5.26s\tremaining: 3.63s\n",
      "592:\tlearn: 0.8336209\ttest: 0.7912593\tbest: 0.7918344 (499)\ttotal: 5.27s\tremaining: 3.62s\n",
      "593:\tlearn: 0.8337647\ttest: 0.7912593\tbest: 0.7918344 (499)\ttotal: 5.28s\tremaining: 3.61s\n",
      "594:\tlearn: 0.8337647\ttest: 0.7912593\tbest: 0.7918344 (499)\ttotal: 5.29s\tremaining: 3.6s\n",
      "595:\tlearn: 0.8336209\ttest: 0.7912593\tbest: 0.7918344 (499)\ttotal: 5.3s\tremaining: 3.59s\n",
      "596:\tlearn: 0.8336209\ttest: 0.7912593\tbest: 0.7918344 (499)\ttotal: 5.3s\tremaining: 3.58s\n",
      "597:\tlearn: 0.8341961\ttest: 0.7912593\tbest: 0.7918344 (499)\ttotal: 5.31s\tremaining: 3.57s\n",
      "598:\tlearn: 0.8341961\ttest: 0.7912593\tbest: 0.7918344 (499)\ttotal: 5.32s\tremaining: 3.56s\n",
      "599:\tlearn: 0.8336209\ttest: 0.7912593\tbest: 0.7918344 (499)\ttotal: 5.33s\tremaining: 3.55s\n",
      "600:\tlearn: 0.8336209\ttest: 0.7912593\tbest: 0.7918344 (499)\ttotal: 5.34s\tremaining: 3.55s\n",
      "601:\tlearn: 0.8336209\ttest: 0.7906843\tbest: 0.7918344 (499)\ttotal: 5.35s\tremaining: 3.54s\n",
      "602:\tlearn: 0.8336209\ttest: 0.7906843\tbest: 0.7918344 (499)\ttotal: 5.36s\tremaining: 3.53s\n",
      "603:\tlearn: 0.8337647\ttest: 0.7906843\tbest: 0.7918344 (499)\ttotal: 5.37s\tremaining: 3.52s\n",
      "604:\tlearn: 0.8337647\ttest: 0.7906843\tbest: 0.7918344 (499)\ttotal: 5.38s\tremaining: 3.51s\n",
      "605:\tlearn: 0.8336209\ttest: 0.7906843\tbest: 0.7918344 (499)\ttotal: 5.38s\tremaining: 3.5s\n",
      "606:\tlearn: 0.8336209\ttest: 0.7906843\tbest: 0.7918344 (499)\ttotal: 5.39s\tremaining: 3.49s\n",
      "607:\tlearn: 0.8337647\ttest: 0.7906843\tbest: 0.7918344 (499)\ttotal: 5.4s\tremaining: 3.48s\n",
      "608:\tlearn: 0.8337647\ttest: 0.7906843\tbest: 0.7918344 (499)\ttotal: 5.41s\tremaining: 3.47s\n",
      "609:\tlearn: 0.8340523\ttest: 0.7906843\tbest: 0.7918344 (499)\ttotal: 5.42s\tremaining: 3.46s\n",
      "610:\tlearn: 0.8339085\ttest: 0.7906843\tbest: 0.7918344 (499)\ttotal: 5.42s\tremaining: 3.45s\n",
      "611:\tlearn: 0.8337647\ttest: 0.7906843\tbest: 0.7918344 (499)\ttotal: 5.43s\tremaining: 3.44s\n",
      "612:\tlearn: 0.8336209\ttest: 0.7906843\tbest: 0.7918344 (499)\ttotal: 5.44s\tremaining: 3.44s\n",
      "613:\tlearn: 0.8337647\ttest: 0.7906843\tbest: 0.7918344 (499)\ttotal: 5.45s\tremaining: 3.43s\n",
      "614:\tlearn: 0.8339085\ttest: 0.7912593\tbest: 0.7918344 (499)\ttotal: 5.46s\tremaining: 3.42s\n",
      "615:\tlearn: 0.8337647\ttest: 0.7912593\tbest: 0.7918344 (499)\ttotal: 5.47s\tremaining: 3.41s\n",
      "616:\tlearn: 0.8337647\ttest: 0.7912593\tbest: 0.7918344 (499)\ttotal: 5.48s\tremaining: 3.4s\n",
      "617:\tlearn: 0.8337647\ttest: 0.7912593\tbest: 0.7918344 (499)\ttotal: 5.49s\tremaining: 3.39s\n",
      "618:\tlearn: 0.8337647\ttest: 0.7912593\tbest: 0.7918344 (499)\ttotal: 5.49s\tremaining: 3.38s\n",
      "619:\tlearn: 0.8337647\ttest: 0.7912593\tbest: 0.7918344 (499)\ttotal: 5.5s\tremaining: 3.37s\n",
      "620:\tlearn: 0.8339085\ttest: 0.7912593\tbest: 0.7918344 (499)\ttotal: 5.51s\tremaining: 3.36s\n",
      "621:\tlearn: 0.8340523\ttest: 0.7906843\tbest: 0.7918344 (499)\ttotal: 5.52s\tremaining: 3.35s\n",
      "622:\tlearn: 0.8341961\ttest: 0.7912593\tbest: 0.7918344 (499)\ttotal: 5.53s\tremaining: 3.34s\n",
      "623:\tlearn: 0.8341961\ttest: 0.7912593\tbest: 0.7918344 (499)\ttotal: 5.54s\tremaining: 3.33s\n",
      "624:\tlearn: 0.8341961\ttest: 0.7912593\tbest: 0.7918344 (499)\ttotal: 5.54s\tremaining: 3.33s\n",
      "625:\tlearn: 0.8343399\ttest: 0.7912593\tbest: 0.7918344 (499)\ttotal: 5.55s\tremaining: 3.32s\n",
      "626:\tlearn: 0.8346276\ttest: 0.7912593\tbest: 0.7918344 (499)\ttotal: 5.56s\tremaining: 3.31s\n",
      "627:\tlearn: 0.8346276\ttest: 0.7918344\tbest: 0.7918344 (499)\ttotal: 5.57s\tremaining: 3.3s\n",
      "628:\tlearn: 0.8347714\ttest: 0.7912593\tbest: 0.7918344 (499)\ttotal: 5.58s\tremaining: 3.29s\n",
      "629:\tlearn: 0.8347714\ttest: 0.7912593\tbest: 0.7918344 (499)\ttotal: 5.58s\tremaining: 3.28s\n",
      "630:\tlearn: 0.8346276\ttest: 0.7912593\tbest: 0.7918344 (499)\ttotal: 5.59s\tremaining: 3.27s\n",
      "631:\tlearn: 0.8347714\ttest: 0.7912593\tbest: 0.7918344 (499)\ttotal: 5.6s\tremaining: 3.26s\n",
      "632:\tlearn: 0.8346276\ttest: 0.7912593\tbest: 0.7918344 (499)\ttotal: 5.61s\tremaining: 3.25s\n",
      "633:\tlearn: 0.8347714\ttest: 0.7912593\tbest: 0.7918344 (499)\ttotal: 5.62s\tremaining: 3.24s\n",
      "634:\tlearn: 0.8349152\ttest: 0.7912593\tbest: 0.7918344 (499)\ttotal: 5.63s\tremaining: 3.23s\n",
      "635:\tlearn: 0.8349152\ttest: 0.7918344\tbest: 0.7918344 (499)\ttotal: 5.63s\tremaining: 3.22s\n",
      "636:\tlearn: 0.8353466\ttest: 0.7924094\tbest: 0.7924094 (636)\ttotal: 5.64s\tremaining: 3.21s\n",
      "637:\tlearn: 0.8354904\ttest: 0.7918344\tbest: 0.7924094 (636)\ttotal: 5.65s\tremaining: 3.21s\n",
      "638:\tlearn: 0.8354904\ttest: 0.7918344\tbest: 0.7924094 (636)\ttotal: 5.66s\tremaining: 3.2s\n",
      "639:\tlearn: 0.8354904\ttest: 0.7924094\tbest: 0.7924094 (636)\ttotal: 5.67s\tremaining: 3.19s\n",
      "640:\tlearn: 0.8353466\ttest: 0.7918344\tbest: 0.7924094 (636)\ttotal: 5.68s\tremaining: 3.18s\n",
      "641:\tlearn: 0.8356342\ttest: 0.7924094\tbest: 0.7924094 (636)\ttotal: 5.68s\tremaining: 3.17s\n",
      "642:\tlearn: 0.8353466\ttest: 0.7924094\tbest: 0.7924094 (636)\ttotal: 5.69s\tremaining: 3.16s\n",
      "643:\tlearn: 0.8353466\ttest: 0.7924094\tbest: 0.7924094 (636)\ttotal: 5.7s\tremaining: 3.15s\n",
      "644:\tlearn: 0.8354904\ttest: 0.7924094\tbest: 0.7924094 (636)\ttotal: 5.71s\tremaining: 3.14s\n",
      "645:\tlearn: 0.8354904\ttest: 0.7924094\tbest: 0.7924094 (636)\ttotal: 5.71s\tremaining: 3.13s\n",
      "646:\tlearn: 0.8357780\ttest: 0.7924094\tbest: 0.7924094 (636)\ttotal: 5.72s\tremaining: 3.12s\n",
      "647:\tlearn: 0.8357780\ttest: 0.7918344\tbest: 0.7924094 (636)\ttotal: 5.73s\tremaining: 3.11s\n",
      "648:\tlearn: 0.8357780\ttest: 0.7918344\tbest: 0.7924094 (636)\ttotal: 5.74s\tremaining: 3.1s\n",
      "649:\tlearn: 0.8357780\ttest: 0.7918344\tbest: 0.7924094 (636)\ttotal: 5.75s\tremaining: 3.1s\n",
      "650:\tlearn: 0.8353466\ttest: 0.7918344\tbest: 0.7924094 (636)\ttotal: 5.76s\tremaining: 3.09s\n",
      "651:\tlearn: 0.8359218\ttest: 0.7918344\tbest: 0.7924094 (636)\ttotal: 5.77s\tremaining: 3.08s\n",
      "652:\tlearn: 0.8360656\ttest: 0.7918344\tbest: 0.7924094 (636)\ttotal: 5.78s\tremaining: 3.07s\n",
      "653:\tlearn: 0.8357780\ttest: 0.7912593\tbest: 0.7924094 (636)\ttotal: 5.79s\tremaining: 3.06s\n",
      "654:\tlearn: 0.8360656\ttest: 0.7912593\tbest: 0.7924094 (636)\ttotal: 5.79s\tremaining: 3.05s\n",
      "655:\tlearn: 0.8360656\ttest: 0.7912593\tbest: 0.7924094 (636)\ttotal: 5.8s\tremaining: 3.04s\n",
      "656:\tlearn: 0.8357780\ttest: 0.7912593\tbest: 0.7924094 (636)\ttotal: 5.81s\tremaining: 3.03s\n",
      "657:\tlearn: 0.8359218\ttest: 0.7906843\tbest: 0.7924094 (636)\ttotal: 5.82s\tremaining: 3.02s\n",
      "658:\tlearn: 0.8360656\ttest: 0.7901093\tbest: 0.7924094 (636)\ttotal: 5.83s\tremaining: 3.02s\n",
      "659:\tlearn: 0.8360656\ttest: 0.7901093\tbest: 0.7924094 (636)\ttotal: 5.84s\tremaining: 3.01s\n",
      "660:\tlearn: 0.8363532\ttest: 0.7912593\tbest: 0.7924094 (636)\ttotal: 5.84s\tremaining: 3s\n",
      "661:\tlearn: 0.8362094\ttest: 0.7918344\tbest: 0.7924094 (636)\ttotal: 5.85s\tremaining: 2.99s\n",
      "662:\tlearn: 0.8360656\ttest: 0.7912593\tbest: 0.7924094 (636)\ttotal: 5.86s\tremaining: 2.98s\n",
      "663:\tlearn: 0.8363532\ttest: 0.7906843\tbest: 0.7924094 (636)\ttotal: 5.87s\tremaining: 2.97s\n",
      "664:\tlearn: 0.8362094\ttest: 0.7906843\tbest: 0.7924094 (636)\ttotal: 5.88s\tremaining: 2.96s\n",
      "665:\tlearn: 0.8360656\ttest: 0.7906843\tbest: 0.7924094 (636)\ttotal: 5.9s\tremaining: 2.96s\n",
      "666:\tlearn: 0.8362094\ttest: 0.7906843\tbest: 0.7924094 (636)\ttotal: 5.91s\tremaining: 2.95s\n",
      "667:\tlearn: 0.8359218\ttest: 0.7901093\tbest: 0.7924094 (636)\ttotal: 5.91s\tremaining: 2.94s\n",
      "668:\tlearn: 0.8364970\ttest: 0.7906843\tbest: 0.7924094 (636)\ttotal: 5.92s\tremaining: 2.93s\n",
      "669:\tlearn: 0.8366408\ttest: 0.7906843\tbest: 0.7924094 (636)\ttotal: 5.93s\tremaining: 2.92s\n",
      "670:\tlearn: 0.8366408\ttest: 0.7918344\tbest: 0.7924094 (636)\ttotal: 5.95s\tremaining: 2.92s\n",
      "671:\tlearn: 0.8360656\ttest: 0.7918344\tbest: 0.7924094 (636)\ttotal: 5.96s\tremaining: 2.91s\n",
      "672:\tlearn: 0.8362094\ttest: 0.7918344\tbest: 0.7924094 (636)\ttotal: 5.97s\tremaining: 2.9s\n",
      "673:\tlearn: 0.8364970\ttest: 0.7918344\tbest: 0.7924094 (636)\ttotal: 5.98s\tremaining: 2.89s\n",
      "674:\tlearn: 0.8369284\ttest: 0.7912593\tbest: 0.7924094 (636)\ttotal: 5.99s\tremaining: 2.88s\n",
      "675:\tlearn: 0.8369284\ttest: 0.7906843\tbest: 0.7924094 (636)\ttotal: 6s\tremaining: 2.88s\n",
      "676:\tlearn: 0.8369284\ttest: 0.7906843\tbest: 0.7924094 (636)\ttotal: 6.01s\tremaining: 2.87s\n",
      "677:\tlearn: 0.8369284\ttest: 0.7906843\tbest: 0.7924094 (636)\ttotal: 6.03s\tremaining: 2.86s\n",
      "678:\tlearn: 0.8367846\ttest: 0.7912593\tbest: 0.7924094 (636)\ttotal: 6.03s\tremaining: 2.85s\n",
      "679:\tlearn: 0.8367846\ttest: 0.7906843\tbest: 0.7924094 (636)\ttotal: 6.04s\tremaining: 2.84s\n",
      "680:\tlearn: 0.8369284\ttest: 0.7912593\tbest: 0.7924094 (636)\ttotal: 6.05s\tremaining: 2.83s\n",
      "681:\tlearn: 0.8370722\ttest: 0.7912593\tbest: 0.7924094 (636)\ttotal: 6.06s\tremaining: 2.83s\n",
      "682:\tlearn: 0.8370722\ttest: 0.7906843\tbest: 0.7924094 (636)\ttotal: 6.07s\tremaining: 2.82s\n",
      "683:\tlearn: 0.8367846\ttest: 0.7906843\tbest: 0.7924094 (636)\ttotal: 6.08s\tremaining: 2.81s\n",
      "684:\tlearn: 0.8370722\ttest: 0.7906843\tbest: 0.7924094 (636)\ttotal: 6.08s\tremaining: 2.8s\n",
      "685:\tlearn: 0.8372160\ttest: 0.7906843\tbest: 0.7924094 (636)\ttotal: 6.09s\tremaining: 2.79s\n",
      "686:\tlearn: 0.8366408\ttest: 0.7906843\tbest: 0.7924094 (636)\ttotal: 6.1s\tremaining: 2.78s\n",
      "687:\tlearn: 0.8364970\ttest: 0.7906843\tbest: 0.7924094 (636)\ttotal: 6.11s\tremaining: 2.77s\n",
      "688:\tlearn: 0.8364970\ttest: 0.7906843\tbest: 0.7924094 (636)\ttotal: 6.12s\tremaining: 2.76s\n",
      "689:\tlearn: 0.8372160\ttest: 0.7906843\tbest: 0.7924094 (636)\ttotal: 6.12s\tremaining: 2.75s\n",
      "690:\tlearn: 0.8369284\ttest: 0.7906843\tbest: 0.7924094 (636)\ttotal: 6.13s\tremaining: 2.74s\n",
      "691:\tlearn: 0.8369284\ttest: 0.7906843\tbest: 0.7924094 (636)\ttotal: 6.14s\tremaining: 2.73s\n",
      "692:\tlearn: 0.8370722\ttest: 0.7906843\tbest: 0.7924094 (636)\ttotal: 6.15s\tremaining: 2.72s\n",
      "693:\tlearn: 0.8372160\ttest: 0.7906843\tbest: 0.7924094 (636)\ttotal: 6.16s\tremaining: 2.71s\n",
      "694:\tlearn: 0.8373598\ttest: 0.7906843\tbest: 0.7924094 (636)\ttotal: 6.17s\tremaining: 2.71s\n",
      "695:\tlearn: 0.8370722\ttest: 0.7906843\tbest: 0.7924094 (636)\ttotal: 6.17s\tremaining: 2.7s\n",
      "696:\tlearn: 0.8370722\ttest: 0.7906843\tbest: 0.7924094 (636)\ttotal: 6.18s\tremaining: 2.69s\n",
      "697:\tlearn: 0.8372160\ttest: 0.7901093\tbest: 0.7924094 (636)\ttotal: 6.19s\tremaining: 2.68s\n",
      "698:\tlearn: 0.8372160\ttest: 0.7901093\tbest: 0.7924094 (636)\ttotal: 6.2s\tremaining: 2.67s\n",
      "699:\tlearn: 0.8372160\ttest: 0.7906843\tbest: 0.7924094 (636)\ttotal: 6.21s\tremaining: 2.66s\n",
      "700:\tlearn: 0.8370722\ttest: 0.7901093\tbest: 0.7924094 (636)\ttotal: 6.21s\tremaining: 2.65s\n",
      "701:\tlearn: 0.8370722\ttest: 0.7901093\tbest: 0.7924094 (636)\ttotal: 6.22s\tremaining: 2.64s\n",
      "702:\tlearn: 0.8370722\ttest: 0.7901093\tbest: 0.7924094 (636)\ttotal: 6.23s\tremaining: 2.63s\n",
      "703:\tlearn: 0.8372160\ttest: 0.7906843\tbest: 0.7924094 (636)\ttotal: 6.24s\tremaining: 2.62s\n",
      "704:\tlearn: 0.8372160\ttest: 0.7901093\tbest: 0.7924094 (636)\ttotal: 6.24s\tremaining: 2.61s\n",
      "705:\tlearn: 0.8373598\ttest: 0.7906843\tbest: 0.7924094 (636)\ttotal: 6.25s\tremaining: 2.6s\n",
      "706:\tlearn: 0.8375036\ttest: 0.7901093\tbest: 0.7924094 (636)\ttotal: 6.26s\tremaining: 2.6s\n",
      "707:\tlearn: 0.8376474\ttest: 0.7901093\tbest: 0.7924094 (636)\ttotal: 6.27s\tremaining: 2.58s\n",
      "708:\tlearn: 0.8375036\ttest: 0.7901093\tbest: 0.7924094 (636)\ttotal: 6.28s\tremaining: 2.58s\n",
      "709:\tlearn: 0.8375036\ttest: 0.7906843\tbest: 0.7924094 (636)\ttotal: 6.29s\tremaining: 2.57s\n",
      "710:\tlearn: 0.8375036\ttest: 0.7912593\tbest: 0.7924094 (636)\ttotal: 6.29s\tremaining: 2.56s\n",
      "711:\tlearn: 0.8377912\ttest: 0.7906843\tbest: 0.7924094 (636)\ttotal: 6.3s\tremaining: 2.55s\n",
      "712:\tlearn: 0.8382226\ttest: 0.7906843\tbest: 0.7924094 (636)\ttotal: 6.31s\tremaining: 2.54s\n",
      "713:\tlearn: 0.8382226\ttest: 0.7906843\tbest: 0.7924094 (636)\ttotal: 6.32s\tremaining: 2.53s\n",
      "714:\tlearn: 0.8382226\ttest: 0.7901093\tbest: 0.7924094 (636)\ttotal: 6.33s\tremaining: 2.52s\n",
      "715:\tlearn: 0.8382226\ttest: 0.7895342\tbest: 0.7924094 (636)\ttotal: 6.33s\tremaining: 2.51s\n",
      "716:\tlearn: 0.8382226\ttest: 0.7895342\tbest: 0.7924094 (636)\ttotal: 6.34s\tremaining: 2.5s\n",
      "717:\tlearn: 0.8376474\ttest: 0.7906843\tbest: 0.7924094 (636)\ttotal: 6.35s\tremaining: 2.49s\n",
      "718:\tlearn: 0.8379350\ttest: 0.7906843\tbest: 0.7924094 (636)\ttotal: 6.36s\tremaining: 2.48s\n",
      "719:\tlearn: 0.8383664\ttest: 0.7906843\tbest: 0.7924094 (636)\ttotal: 6.37s\tremaining: 2.48s\n",
      "720:\tlearn: 0.8382226\ttest: 0.7906843\tbest: 0.7924094 (636)\ttotal: 6.37s\tremaining: 2.47s\n",
      "721:\tlearn: 0.8380788\ttest: 0.7912593\tbest: 0.7924094 (636)\ttotal: 6.38s\tremaining: 2.46s\n",
      "722:\tlearn: 0.8382226\ttest: 0.7912593\tbest: 0.7924094 (636)\ttotal: 6.39s\tremaining: 2.45s\n",
      "723:\tlearn: 0.8385102\ttest: 0.7912593\tbest: 0.7924094 (636)\ttotal: 6.4s\tremaining: 2.44s\n",
      "724:\tlearn: 0.8383664\ttest: 0.7906843\tbest: 0.7924094 (636)\ttotal: 6.41s\tremaining: 2.43s\n",
      "725:\tlearn: 0.8382226\ttest: 0.7906843\tbest: 0.7924094 (636)\ttotal: 6.41s\tremaining: 2.42s\n",
      "726:\tlearn: 0.8389416\ttest: 0.7906843\tbest: 0.7924094 (636)\ttotal: 6.42s\tremaining: 2.41s\n",
      "727:\tlearn: 0.8389416\ttest: 0.7906843\tbest: 0.7924094 (636)\ttotal: 6.43s\tremaining: 2.4s\n",
      "728:\tlearn: 0.8398044\ttest: 0.7906843\tbest: 0.7924094 (636)\ttotal: 6.44s\tremaining: 2.39s\n",
      "729:\tlearn: 0.8396606\ttest: 0.7906843\tbest: 0.7924094 (636)\ttotal: 6.45s\tremaining: 2.38s\n",
      "730:\tlearn: 0.8389416\ttest: 0.7912593\tbest: 0.7924094 (636)\ttotal: 6.45s\tremaining: 2.37s\n",
      "731:\tlearn: 0.8392292\ttest: 0.7912593\tbest: 0.7924094 (636)\ttotal: 6.46s\tremaining: 2.37s\n",
      "732:\tlearn: 0.8392292\ttest: 0.7912593\tbest: 0.7924094 (636)\ttotal: 6.47s\tremaining: 2.36s\n",
      "733:\tlearn: 0.8390854\ttest: 0.7918344\tbest: 0.7924094 (636)\ttotal: 6.48s\tremaining: 2.35s\n",
      "734:\tlearn: 0.8390854\ttest: 0.7918344\tbest: 0.7924094 (636)\ttotal: 6.49s\tremaining: 2.34s\n",
      "735:\tlearn: 0.8389416\ttest: 0.7912593\tbest: 0.7924094 (636)\ttotal: 6.49s\tremaining: 2.33s\n",
      "736:\tlearn: 0.8389416\ttest: 0.7912593\tbest: 0.7924094 (636)\ttotal: 6.5s\tremaining: 2.32s\n",
      "737:\tlearn: 0.8390854\ttest: 0.7912593\tbest: 0.7924094 (636)\ttotal: 6.51s\tremaining: 2.31s\n",
      "738:\tlearn: 0.8392292\ttest: 0.7912593\tbest: 0.7924094 (636)\ttotal: 6.52s\tremaining: 2.3s\n",
      "739:\tlearn: 0.8392292\ttest: 0.7912593\tbest: 0.7924094 (636)\ttotal: 6.53s\tremaining: 2.29s\n",
      "740:\tlearn: 0.8393730\ttest: 0.7912593\tbest: 0.7924094 (636)\ttotal: 6.54s\tremaining: 2.28s\n",
      "741:\tlearn: 0.8392292\ttest: 0.7918344\tbest: 0.7924094 (636)\ttotal: 6.54s\tremaining: 2.27s\n",
      "742:\tlearn: 0.8390854\ttest: 0.7924094\tbest: 0.7924094 (636)\ttotal: 6.55s\tremaining: 2.27s\n",
      "743:\tlearn: 0.8395168\ttest: 0.7924094\tbest: 0.7924094 (636)\ttotal: 6.56s\tremaining: 2.26s\n",
      "744:\tlearn: 0.8395168\ttest: 0.7924094\tbest: 0.7924094 (636)\ttotal: 6.56s\tremaining: 2.25s\n",
      "745:\tlearn: 0.8395168\ttest: 0.7929845\tbest: 0.7929845 (745)\ttotal: 6.57s\tremaining: 2.24s\n",
      "746:\tlearn: 0.8395168\ttest: 0.7929845\tbest: 0.7929845 (745)\ttotal: 6.58s\tremaining: 2.23s\n",
      "747:\tlearn: 0.8395168\ttest: 0.7924094\tbest: 0.7929845 (745)\ttotal: 6.59s\tremaining: 2.22s\n",
      "748:\tlearn: 0.8395168\ttest: 0.7924094\tbest: 0.7929845 (745)\ttotal: 6.59s\tremaining: 2.21s\n",
      "749:\tlearn: 0.8395168\ttest: 0.7924094\tbest: 0.7929845 (745)\ttotal: 6.6s\tremaining: 2.2s\n",
      "750:\tlearn: 0.8393730\ttest: 0.7924094\tbest: 0.7929845 (745)\ttotal: 6.61s\tremaining: 2.19s\n",
      "751:\tlearn: 0.8393730\ttest: 0.7924094\tbest: 0.7929845 (745)\ttotal: 6.62s\tremaining: 2.18s\n",
      "752:\tlearn: 0.8393730\ttest: 0.7924094\tbest: 0.7929845 (745)\ttotal: 6.63s\tremaining: 2.17s\n",
      "753:\tlearn: 0.8398044\ttest: 0.7924094\tbest: 0.7929845 (745)\ttotal: 6.63s\tremaining: 2.16s\n",
      "754:\tlearn: 0.8400920\ttest: 0.7924094\tbest: 0.7929845 (745)\ttotal: 6.64s\tremaining: 2.15s\n",
      "755:\tlearn: 0.8399482\ttest: 0.7924094\tbest: 0.7929845 (745)\ttotal: 6.65s\tremaining: 2.15s\n",
      "756:\tlearn: 0.8400920\ttest: 0.7924094\tbest: 0.7929845 (745)\ttotal: 6.66s\tremaining: 2.14s\n",
      "757:\tlearn: 0.8400920\ttest: 0.7929845\tbest: 0.7929845 (745)\ttotal: 6.67s\tremaining: 2.13s\n",
      "758:\tlearn: 0.8400920\ttest: 0.7929845\tbest: 0.7929845 (745)\ttotal: 6.68s\tremaining: 2.12s\n",
      "759:\tlearn: 0.8400920\ttest: 0.7929845\tbest: 0.7929845 (745)\ttotal: 6.69s\tremaining: 2.11s\n",
      "760:\tlearn: 0.8400920\ttest: 0.7929845\tbest: 0.7929845 (745)\ttotal: 6.69s\tremaining: 2.1s\n",
      "761:\tlearn: 0.8402358\ttest: 0.7929845\tbest: 0.7929845 (745)\ttotal: 6.7s\tremaining: 2.09s\n",
      "762:\tlearn: 0.8402358\ttest: 0.7929845\tbest: 0.7929845 (745)\ttotal: 6.71s\tremaining: 2.08s\n",
      "763:\tlearn: 0.8403796\ttest: 0.7935595\tbest: 0.7935595 (763)\ttotal: 6.72s\tremaining: 2.08s\n",
      "764:\tlearn: 0.8403796\ttest: 0.7935595\tbest: 0.7935595 (763)\ttotal: 6.73s\tremaining: 2.07s\n",
      "765:\tlearn: 0.8408110\ttest: 0.7935595\tbest: 0.7935595 (763)\ttotal: 6.73s\tremaining: 2.06s\n",
      "766:\tlearn: 0.8408110\ttest: 0.7935595\tbest: 0.7935595 (763)\ttotal: 6.74s\tremaining: 2.05s\n",
      "767:\tlearn: 0.8408110\ttest: 0.7929845\tbest: 0.7935595 (763)\ttotal: 6.75s\tremaining: 2.04s\n",
      "768:\tlearn: 0.8408110\ttest: 0.7929845\tbest: 0.7935595 (763)\ttotal: 6.76s\tremaining: 2.03s\n",
      "769:\tlearn: 0.8409548\ttest: 0.7924094\tbest: 0.7935595 (763)\ttotal: 6.77s\tremaining: 2.02s\n",
      "770:\tlearn: 0.8409548\ttest: 0.7924094\tbest: 0.7935595 (763)\ttotal: 6.78s\tremaining: 2.01s\n",
      "771:\tlearn: 0.8409548\ttest: 0.7924094\tbest: 0.7935595 (763)\ttotal: 6.78s\tremaining: 2s\n",
      "772:\tlearn: 0.8408110\ttest: 0.7924094\tbest: 0.7935595 (763)\ttotal: 6.79s\tremaining: 1.99s\n",
      "773:\tlearn: 0.8410986\ttest: 0.7924094\tbest: 0.7935595 (763)\ttotal: 6.8s\tremaining: 1.99s\n",
      "774:\tlearn: 0.8409548\ttest: 0.7918344\tbest: 0.7935595 (763)\ttotal: 6.81s\tremaining: 1.98s\n",
      "775:\tlearn: 0.8412425\ttest: 0.7918344\tbest: 0.7935595 (763)\ttotal: 6.82s\tremaining: 1.97s\n",
      "776:\tlearn: 0.8412425\ttest: 0.7924094\tbest: 0.7935595 (763)\ttotal: 6.82s\tremaining: 1.96s\n",
      "777:\tlearn: 0.8415301\ttest: 0.7924094\tbest: 0.7935595 (763)\ttotal: 6.83s\tremaining: 1.95s\n",
      "778:\tlearn: 0.8413863\ttest: 0.7924094\tbest: 0.7935595 (763)\ttotal: 6.84s\tremaining: 1.94s\n",
      "779:\tlearn: 0.8415301\ttest: 0.7924094\tbest: 0.7935595 (763)\ttotal: 6.85s\tremaining: 1.93s\n",
      "780:\tlearn: 0.8415301\ttest: 0.7924094\tbest: 0.7935595 (763)\ttotal: 6.86s\tremaining: 1.92s\n",
      "781:\tlearn: 0.8415301\ttest: 0.7924094\tbest: 0.7935595 (763)\ttotal: 6.87s\tremaining: 1.91s\n",
      "782:\tlearn: 0.8415301\ttest: 0.7924094\tbest: 0.7935595 (763)\ttotal: 6.88s\tremaining: 1.91s\n",
      "783:\tlearn: 0.8415301\ttest: 0.7924094\tbest: 0.7935595 (763)\ttotal: 6.9s\tremaining: 1.9s\n",
      "784:\tlearn: 0.8410986\ttest: 0.7924094\tbest: 0.7935595 (763)\ttotal: 6.91s\tremaining: 1.89s\n",
      "785:\tlearn: 0.8413863\ttest: 0.7924094\tbest: 0.7935595 (763)\ttotal: 6.92s\tremaining: 1.88s\n",
      "786:\tlearn: 0.8413863\ttest: 0.7924094\tbest: 0.7935595 (763)\ttotal: 6.93s\tremaining: 1.87s\n",
      "787:\tlearn: 0.8412425\ttest: 0.7929845\tbest: 0.7935595 (763)\ttotal: 6.93s\tremaining: 1.86s\n",
      "788:\tlearn: 0.8412425\ttest: 0.7929845\tbest: 0.7935595 (763)\ttotal: 6.94s\tremaining: 1.86s\n",
      "789:\tlearn: 0.8412425\ttest: 0.7929845\tbest: 0.7935595 (763)\ttotal: 6.95s\tremaining: 1.85s\n",
      "790:\tlearn: 0.8413863\ttest: 0.7924094\tbest: 0.7935595 (763)\ttotal: 6.96s\tremaining: 1.84s\n",
      "791:\tlearn: 0.8413863\ttest: 0.7924094\tbest: 0.7935595 (763)\ttotal: 6.97s\tremaining: 1.83s\n",
      "792:\tlearn: 0.8413863\ttest: 0.7929845\tbest: 0.7935595 (763)\ttotal: 6.98s\tremaining: 1.82s\n",
      "793:\tlearn: 0.8412425\ttest: 0.7929845\tbest: 0.7935595 (763)\ttotal: 6.98s\tremaining: 1.81s\n",
      "794:\tlearn: 0.8412425\ttest: 0.7929845\tbest: 0.7935595 (763)\ttotal: 6.99s\tremaining: 1.8s\n",
      "795:\tlearn: 0.8416739\ttest: 0.7929845\tbest: 0.7935595 (763)\ttotal: 7s\tremaining: 1.79s\n",
      "796:\tlearn: 0.8418177\ttest: 0.7929845\tbest: 0.7935595 (763)\ttotal: 7.01s\tremaining: 1.78s\n",
      "797:\tlearn: 0.8419615\ttest: 0.7929845\tbest: 0.7935595 (763)\ttotal: 7.01s\tremaining: 1.77s\n",
      "798:\tlearn: 0.8416739\ttest: 0.7924094\tbest: 0.7935595 (763)\ttotal: 7.02s\tremaining: 1.77s\n",
      "799:\tlearn: 0.8418177\ttest: 0.7929845\tbest: 0.7935595 (763)\ttotal: 7.03s\tremaining: 1.76s\n",
      "800:\tlearn: 0.8418177\ttest: 0.7929845\tbest: 0.7935595 (763)\ttotal: 7.04s\tremaining: 1.75s\n",
      "801:\tlearn: 0.8418177\ttest: 0.7929845\tbest: 0.7935595 (763)\ttotal: 7.04s\tremaining: 1.74s\n",
      "802:\tlearn: 0.8415301\ttest: 0.7929845\tbest: 0.7935595 (763)\ttotal: 7.05s\tremaining: 1.73s\n",
      "803:\tlearn: 0.8415301\ttest: 0.7929845\tbest: 0.7935595 (763)\ttotal: 7.06s\tremaining: 1.72s\n",
      "804:\tlearn: 0.8418177\ttest: 0.7924094\tbest: 0.7935595 (763)\ttotal: 7.07s\tremaining: 1.71s\n",
      "805:\tlearn: 0.8419615\ttest: 0.7935595\tbest: 0.7935595 (763)\ttotal: 7.08s\tremaining: 1.7s\n",
      "806:\tlearn: 0.8419615\ttest: 0.7929845\tbest: 0.7935595 (763)\ttotal: 7.08s\tremaining: 1.69s\n",
      "807:\tlearn: 0.8419615\ttest: 0.7935595\tbest: 0.7935595 (763)\ttotal: 7.09s\tremaining: 1.69s\n",
      "808:\tlearn: 0.8421053\ttest: 0.7935595\tbest: 0.7935595 (763)\ttotal: 7.1s\tremaining: 1.68s\n",
      "809:\tlearn: 0.8421053\ttest: 0.7935595\tbest: 0.7935595 (763)\ttotal: 7.11s\tremaining: 1.67s\n",
      "810:\tlearn: 0.8422491\ttest: 0.7935595\tbest: 0.7935595 (763)\ttotal: 7.11s\tremaining: 1.66s\n",
      "811:\tlearn: 0.8422491\ttest: 0.7935595\tbest: 0.7935595 (763)\ttotal: 7.12s\tremaining: 1.65s\n",
      "812:\tlearn: 0.8425367\ttest: 0.7929845\tbest: 0.7935595 (763)\ttotal: 7.13s\tremaining: 1.64s\n",
      "813:\tlearn: 0.8425367\ttest: 0.7929845\tbest: 0.7935595 (763)\ttotal: 7.14s\tremaining: 1.63s\n",
      "814:\tlearn: 0.8426805\ttest: 0.7929845\tbest: 0.7935595 (763)\ttotal: 7.14s\tremaining: 1.62s\n",
      "815:\tlearn: 0.8426805\ttest: 0.7929845\tbest: 0.7935595 (763)\ttotal: 7.15s\tremaining: 1.61s\n",
      "816:\tlearn: 0.8426805\ttest: 0.7929845\tbest: 0.7935595 (763)\ttotal: 7.16s\tremaining: 1.6s\n",
      "817:\tlearn: 0.8426805\ttest: 0.7929845\tbest: 0.7935595 (763)\ttotal: 7.17s\tremaining: 1.59s\n",
      "818:\tlearn: 0.8426805\ttest: 0.7929845\tbest: 0.7935595 (763)\ttotal: 7.17s\tremaining: 1.58s\n",
      "819:\tlearn: 0.8426805\ttest: 0.7929845\tbest: 0.7935595 (763)\ttotal: 7.18s\tremaining: 1.58s\n",
      "820:\tlearn: 0.8428243\ttest: 0.7929845\tbest: 0.7935595 (763)\ttotal: 7.19s\tremaining: 1.57s\n",
      "821:\tlearn: 0.8429681\ttest: 0.7929845\tbest: 0.7935595 (763)\ttotal: 7.2s\tremaining: 1.56s\n",
      "822:\tlearn: 0.8429681\ttest: 0.7935595\tbest: 0.7935595 (763)\ttotal: 7.21s\tremaining: 1.55s\n",
      "823:\tlearn: 0.8428243\ttest: 0.7935595\tbest: 0.7935595 (763)\ttotal: 7.21s\tremaining: 1.54s\n",
      "824:\tlearn: 0.8428243\ttest: 0.7935595\tbest: 0.7935595 (763)\ttotal: 7.22s\tremaining: 1.53s\n",
      "825:\tlearn: 0.8429681\ttest: 0.7941346\tbest: 0.7941346 (825)\ttotal: 7.23s\tremaining: 1.52s\n",
      "826:\tlearn: 0.8428243\ttest: 0.7935595\tbest: 0.7941346 (825)\ttotal: 7.24s\tremaining: 1.51s\n",
      "827:\tlearn: 0.8429681\ttest: 0.7935595\tbest: 0.7941346 (825)\ttotal: 7.25s\tremaining: 1.51s\n",
      "828:\tlearn: 0.8428243\ttest: 0.7935595\tbest: 0.7941346 (825)\ttotal: 7.26s\tremaining: 1.5s\n",
      "829:\tlearn: 0.8429681\ttest: 0.7935595\tbest: 0.7941346 (825)\ttotal: 7.27s\tremaining: 1.49s\n",
      "830:\tlearn: 0.8429681\ttest: 0.7935595\tbest: 0.7941346 (825)\ttotal: 7.27s\tremaining: 1.48s\n",
      "831:\tlearn: 0.8432557\ttest: 0.7935595\tbest: 0.7941346 (825)\ttotal: 7.28s\tremaining: 1.47s\n",
      "832:\tlearn: 0.8431119\ttest: 0.7935595\tbest: 0.7941346 (825)\ttotal: 7.29s\tremaining: 1.46s\n",
      "833:\tlearn: 0.8429681\ttest: 0.7929845\tbest: 0.7941346 (825)\ttotal: 7.3s\tremaining: 1.45s\n",
      "834:\tlearn: 0.8432557\ttest: 0.7929845\tbest: 0.7941346 (825)\ttotal: 7.31s\tremaining: 1.44s\n",
      "835:\tlearn: 0.8429681\ttest: 0.7929845\tbest: 0.7941346 (825)\ttotal: 7.31s\tremaining: 1.43s\n",
      "836:\tlearn: 0.8431119\ttest: 0.7929845\tbest: 0.7941346 (825)\ttotal: 7.32s\tremaining: 1.43s\n",
      "837:\tlearn: 0.8429681\ttest: 0.7929845\tbest: 0.7941346 (825)\ttotal: 7.33s\tremaining: 1.42s\n",
      "838:\tlearn: 0.8429681\ttest: 0.7929845\tbest: 0.7941346 (825)\ttotal: 7.34s\tremaining: 1.41s\n",
      "839:\tlearn: 0.8431119\ttest: 0.7929845\tbest: 0.7941346 (825)\ttotal: 7.34s\tremaining: 1.4s\n",
      "840:\tlearn: 0.8432557\ttest: 0.7929845\tbest: 0.7941346 (825)\ttotal: 7.35s\tremaining: 1.39s\n",
      "841:\tlearn: 0.8435433\ttest: 0.7929845\tbest: 0.7941346 (825)\ttotal: 7.36s\tremaining: 1.38s\n",
      "842:\tlearn: 0.8435433\ttest: 0.7929845\tbest: 0.7941346 (825)\ttotal: 7.37s\tremaining: 1.37s\n",
      "843:\tlearn: 0.8435433\ttest: 0.7929845\tbest: 0.7941346 (825)\ttotal: 7.38s\tremaining: 1.36s\n",
      "844:\tlearn: 0.8433995\ttest: 0.7929845\tbest: 0.7941346 (825)\ttotal: 7.38s\tremaining: 1.35s\n",
      "845:\tlearn: 0.8431119\ttest: 0.7929845\tbest: 0.7941346 (825)\ttotal: 7.39s\tremaining: 1.35s\n",
      "846:\tlearn: 0.8432557\ttest: 0.7929845\tbest: 0.7941346 (825)\ttotal: 7.4s\tremaining: 1.34s\n",
      "847:\tlearn: 0.8431119\ttest: 0.7929845\tbest: 0.7941346 (825)\ttotal: 7.41s\tremaining: 1.33s\n",
      "848:\tlearn: 0.8433995\ttest: 0.7929845\tbest: 0.7941346 (825)\ttotal: 7.42s\tremaining: 1.32s\n",
      "849:\tlearn: 0.8433995\ttest: 0.7929845\tbest: 0.7941346 (825)\ttotal: 7.43s\tremaining: 1.31s\n",
      "850:\tlearn: 0.8432557\ttest: 0.7929845\tbest: 0.7941346 (825)\ttotal: 7.43s\tremaining: 1.3s\n",
      "851:\tlearn: 0.8432557\ttest: 0.7929845\tbest: 0.7941346 (825)\ttotal: 7.45s\tremaining: 1.29s\n",
      "852:\tlearn: 0.8429681\ttest: 0.7924094\tbest: 0.7941346 (825)\ttotal: 7.45s\tremaining: 1.28s\n",
      "853:\tlearn: 0.8429681\ttest: 0.7924094\tbest: 0.7941346 (825)\ttotal: 7.46s\tremaining: 1.27s\n",
      "854:\tlearn: 0.8431119\ttest: 0.7935595\tbest: 0.7941346 (825)\ttotal: 7.47s\tremaining: 1.27s\n",
      "855:\tlearn: 0.8433995\ttest: 0.7935595\tbest: 0.7941346 (825)\ttotal: 7.48s\tremaining: 1.26s\n",
      "856:\tlearn: 0.8433995\ttest: 0.7935595\tbest: 0.7941346 (825)\ttotal: 7.49s\tremaining: 1.25s\n",
      "857:\tlearn: 0.8435433\ttest: 0.7929845\tbest: 0.7941346 (825)\ttotal: 7.5s\tremaining: 1.24s\n",
      "858:\tlearn: 0.8435433\ttest: 0.7929845\tbest: 0.7941346 (825)\ttotal: 7.5s\tremaining: 1.23s\n",
      "859:\tlearn: 0.8433995\ttest: 0.7935595\tbest: 0.7941346 (825)\ttotal: 7.51s\tremaining: 1.22s\n",
      "860:\tlearn: 0.8431119\ttest: 0.7935595\tbest: 0.7941346 (825)\ttotal: 7.52s\tremaining: 1.21s\n",
      "861:\tlearn: 0.8431119\ttest: 0.7935595\tbest: 0.7941346 (825)\ttotal: 7.53s\tremaining: 1.21s\n",
      "862:\tlearn: 0.8429681\ttest: 0.7935595\tbest: 0.7941346 (825)\ttotal: 7.53s\tremaining: 1.2s\n",
      "863:\tlearn: 0.8433995\ttest: 0.7935595\tbest: 0.7941346 (825)\ttotal: 7.54s\tremaining: 1.19s\n",
      "864:\tlearn: 0.8438309\ttest: 0.7941346\tbest: 0.7941346 (825)\ttotal: 7.55s\tremaining: 1.18s\n",
      "865:\tlearn: 0.8436871\ttest: 0.7935595\tbest: 0.7941346 (825)\ttotal: 7.56s\tremaining: 1.17s\n",
      "866:\tlearn: 0.8436871\ttest: 0.7935595\tbest: 0.7941346 (825)\ttotal: 7.57s\tremaining: 1.16s\n",
      "867:\tlearn: 0.8438309\ttest: 0.7935595\tbest: 0.7941346 (825)\ttotal: 7.57s\tremaining: 1.15s\n",
      "868:\tlearn: 0.8436871\ttest: 0.7941346\tbest: 0.7941346 (825)\ttotal: 7.58s\tremaining: 1.14s\n",
      "869:\tlearn: 0.8438309\ttest: 0.7941346\tbest: 0.7941346 (825)\ttotal: 7.59s\tremaining: 1.13s\n",
      "870:\tlearn: 0.8438309\ttest: 0.7941346\tbest: 0.7941346 (825)\ttotal: 7.6s\tremaining: 1.13s\n",
      "871:\tlearn: 0.8438309\ttest: 0.7941346\tbest: 0.7941346 (825)\ttotal: 7.61s\tremaining: 1.12s\n",
      "872:\tlearn: 0.8438309\ttest: 0.7935595\tbest: 0.7941346 (825)\ttotal: 7.61s\tremaining: 1.11s\n",
      "873:\tlearn: 0.8436871\ttest: 0.7935595\tbest: 0.7941346 (825)\ttotal: 7.62s\tremaining: 1.1s\n",
      "874:\tlearn: 0.8438309\ttest: 0.7941346\tbest: 0.7941346 (825)\ttotal: 7.63s\tremaining: 1.09s\n",
      "875:\tlearn: 0.8438309\ttest: 0.7935595\tbest: 0.7941346 (825)\ttotal: 7.64s\tremaining: 1.08s\n",
      "876:\tlearn: 0.8438309\ttest: 0.7941346\tbest: 0.7941346 (825)\ttotal: 7.65s\tremaining: 1.07s\n",
      "877:\tlearn: 0.8438309\ttest: 0.7941346\tbest: 0.7941346 (825)\ttotal: 7.66s\tremaining: 1.06s\n",
      "878:\tlearn: 0.8438309\ttest: 0.7941346\tbest: 0.7941346 (825)\ttotal: 7.66s\tremaining: 1.05s\n",
      "879:\tlearn: 0.8436871\ttest: 0.7941346\tbest: 0.7941346 (825)\ttotal: 7.67s\tremaining: 1.05s\n",
      "880:\tlearn: 0.8441185\ttest: 0.7935595\tbest: 0.7941346 (825)\ttotal: 7.68s\tremaining: 1.04s\n",
      "881:\tlearn: 0.8442623\ttest: 0.7935595\tbest: 0.7941346 (825)\ttotal: 7.69s\tremaining: 1.03s\n",
      "882:\tlearn: 0.8441185\ttest: 0.7935595\tbest: 0.7941346 (825)\ttotal: 7.7s\tremaining: 1.02s\n",
      "883:\tlearn: 0.8441185\ttest: 0.7929845\tbest: 0.7941346 (825)\ttotal: 7.7s\tremaining: 1.01s\n",
      "884:\tlearn: 0.8441185\ttest: 0.7929845\tbest: 0.7941346 (825)\ttotal: 7.71s\tremaining: 1s\n",
      "885:\tlearn: 0.8444061\ttest: 0.7929845\tbest: 0.7941346 (825)\ttotal: 7.72s\tremaining: 993ms\n",
      "886:\tlearn: 0.8441185\ttest: 0.7929845\tbest: 0.7941346 (825)\ttotal: 7.73s\tremaining: 985ms\n",
      "887:\tlearn: 0.8444061\ttest: 0.7929845\tbest: 0.7941346 (825)\ttotal: 7.74s\tremaining: 976ms\n",
      "888:\tlearn: 0.8444061\ttest: 0.7929845\tbest: 0.7941346 (825)\ttotal: 7.74s\tremaining: 967ms\n",
      "889:\tlearn: 0.8441185\ttest: 0.7929845\tbest: 0.7941346 (825)\ttotal: 7.75s\tremaining: 958ms\n",
      "890:\tlearn: 0.8441185\ttest: 0.7929845\tbest: 0.7941346 (825)\ttotal: 7.76s\tremaining: 949ms\n",
      "891:\tlearn: 0.8442623\ttest: 0.7929845\tbest: 0.7941346 (825)\ttotal: 7.77s\tremaining: 940ms\n",
      "892:\tlearn: 0.8442623\ttest: 0.7929845\tbest: 0.7941346 (825)\ttotal: 7.78s\tremaining: 932ms\n",
      "893:\tlearn: 0.8442623\ttest: 0.7929845\tbest: 0.7941346 (825)\ttotal: 7.78s\tremaining: 923ms\n",
      "894:\tlearn: 0.8442623\ttest: 0.7929845\tbest: 0.7941346 (825)\ttotal: 7.79s\tremaining: 914ms\n",
      "895:\tlearn: 0.8446937\ttest: 0.7929845\tbest: 0.7941346 (825)\ttotal: 7.8s\tremaining: 905ms\n",
      "896:\tlearn: 0.8446937\ttest: 0.7929845\tbest: 0.7941346 (825)\ttotal: 7.81s\tremaining: 897ms\n",
      "897:\tlearn: 0.8446937\ttest: 0.7929845\tbest: 0.7941346 (825)\ttotal: 7.82s\tremaining: 888ms\n",
      "898:\tlearn: 0.8446937\ttest: 0.7929845\tbest: 0.7941346 (825)\ttotal: 7.82s\tremaining: 879ms\n",
      "899:\tlearn: 0.8448375\ttest: 0.7929845\tbest: 0.7941346 (825)\ttotal: 7.83s\tremaining: 870ms\n",
      "900:\tlearn: 0.8448375\ttest: 0.7929845\tbest: 0.7941346 (825)\ttotal: 7.84s\tremaining: 862ms\n",
      "901:\tlearn: 0.8446937\ttest: 0.7929845\tbest: 0.7941346 (825)\ttotal: 7.85s\tremaining: 853ms\n",
      "902:\tlearn: 0.8449813\ttest: 0.7935595\tbest: 0.7941346 (825)\ttotal: 7.86s\tremaining: 844ms\n",
      "903:\tlearn: 0.8449813\ttest: 0.7935595\tbest: 0.7941346 (825)\ttotal: 7.87s\tremaining: 835ms\n",
      "904:\tlearn: 0.8448375\ttest: 0.7935595\tbest: 0.7941346 (825)\ttotal: 7.89s\tremaining: 828ms\n",
      "905:\tlearn: 0.8448375\ttest: 0.7935595\tbest: 0.7941346 (825)\ttotal: 7.9s\tremaining: 820ms\n",
      "906:\tlearn: 0.8446937\ttest: 0.7935595\tbest: 0.7941346 (825)\ttotal: 7.91s\tremaining: 811ms\n",
      "907:\tlearn: 0.8446937\ttest: 0.7935595\tbest: 0.7941346 (825)\ttotal: 7.92s\tremaining: 803ms\n",
      "908:\tlearn: 0.8445499\ttest: 0.7935595\tbest: 0.7941346 (825)\ttotal: 7.93s\tremaining: 794ms\n",
      "909:\tlearn: 0.8444061\ttest: 0.7935595\tbest: 0.7941346 (825)\ttotal: 7.94s\tremaining: 785ms\n",
      "910:\tlearn: 0.8446937\ttest: 0.7935595\tbest: 0.7941346 (825)\ttotal: 7.94s\tremaining: 776ms\n",
      "911:\tlearn: 0.8446937\ttest: 0.7935595\tbest: 0.7941346 (825)\ttotal: 7.95s\tremaining: 767ms\n",
      "912:\tlearn: 0.8446937\ttest: 0.7935595\tbest: 0.7941346 (825)\ttotal: 7.96s\tremaining: 759ms\n",
      "913:\tlearn: 0.8446937\ttest: 0.7935595\tbest: 0.7941346 (825)\ttotal: 7.97s\tremaining: 750ms\n",
      "914:\tlearn: 0.8448375\ttest: 0.7935595\tbest: 0.7941346 (825)\ttotal: 7.98s\tremaining: 741ms\n",
      "915:\tlearn: 0.8449813\ttest: 0.7941346\tbest: 0.7941346 (825)\ttotal: 7.99s\tremaining: 732ms\n",
      "916:\tlearn: 0.8454127\ttest: 0.7941346\tbest: 0.7941346 (825)\ttotal: 7.99s\tremaining: 724ms\n",
      "917:\tlearn: 0.8452689\ttest: 0.7941346\tbest: 0.7941346 (825)\ttotal: 8s\tremaining: 715ms\n",
      "918:\tlearn: 0.8454127\ttest: 0.7947096\tbest: 0.7947096 (918)\ttotal: 8.01s\tremaining: 706ms\n",
      "919:\tlearn: 0.8452689\ttest: 0.7947096\tbest: 0.7947096 (918)\ttotal: 8.02s\tremaining: 697ms\n",
      "920:\tlearn: 0.8452689\ttest: 0.7947096\tbest: 0.7947096 (918)\ttotal: 8.03s\tremaining: 689ms\n",
      "921:\tlearn: 0.8451251\ttest: 0.7947096\tbest: 0.7947096 (918)\ttotal: 8.04s\tremaining: 680ms\n",
      "922:\tlearn: 0.8455565\ttest: 0.7941346\tbest: 0.7947096 (918)\ttotal: 8.04s\tremaining: 671ms\n",
      "923:\tlearn: 0.8457003\ttest: 0.7935595\tbest: 0.7947096 (918)\ttotal: 8.05s\tremaining: 662ms\n",
      "924:\tlearn: 0.8457003\ttest: 0.7935595\tbest: 0.7947096 (918)\ttotal: 8.06s\tremaining: 654ms\n",
      "925:\tlearn: 0.8458441\ttest: 0.7935595\tbest: 0.7947096 (918)\ttotal: 8.07s\tremaining: 645ms\n",
      "926:\tlearn: 0.8458441\ttest: 0.7941346\tbest: 0.7947096 (918)\ttotal: 8.08s\tremaining: 636ms\n",
      "927:\tlearn: 0.8458441\ttest: 0.7941346\tbest: 0.7947096 (918)\ttotal: 8.09s\tremaining: 627ms\n",
      "928:\tlearn: 0.8452689\ttest: 0.7935595\tbest: 0.7947096 (918)\ttotal: 8.09s\tremaining: 619ms\n",
      "929:\tlearn: 0.8454127\ttest: 0.7941346\tbest: 0.7947096 (918)\ttotal: 8.1s\tremaining: 610ms\n",
      "930:\tlearn: 0.8454127\ttest: 0.7941346\tbest: 0.7947096 (918)\ttotal: 8.11s\tremaining: 601ms\n",
      "931:\tlearn: 0.8452689\ttest: 0.7941346\tbest: 0.7947096 (918)\ttotal: 8.12s\tremaining: 592ms\n",
      "932:\tlearn: 0.8454127\ttest: 0.7941346\tbest: 0.7947096 (918)\ttotal: 8.13s\tremaining: 584ms\n",
      "933:\tlearn: 0.8455565\ttest: 0.7941346\tbest: 0.7947096 (918)\ttotal: 8.13s\tremaining: 575ms\n",
      "934:\tlearn: 0.8455565\ttest: 0.7941346\tbest: 0.7947096 (918)\ttotal: 8.14s\tremaining: 566ms\n",
      "935:\tlearn: 0.8455565\ttest: 0.7941346\tbest: 0.7947096 (918)\ttotal: 8.15s\tremaining: 558ms\n",
      "936:\tlearn: 0.8455565\ttest: 0.7941346\tbest: 0.7947096 (918)\ttotal: 8.16s\tremaining: 549ms\n",
      "937:\tlearn: 0.8455565\ttest: 0.7935595\tbest: 0.7947096 (918)\ttotal: 8.17s\tremaining: 540ms\n",
      "938:\tlearn: 0.8457003\ttest: 0.7941346\tbest: 0.7947096 (918)\ttotal: 8.18s\tremaining: 531ms\n",
      "939:\tlearn: 0.8458441\ttest: 0.7935595\tbest: 0.7947096 (918)\ttotal: 8.19s\tremaining: 523ms\n",
      "940:\tlearn: 0.8459879\ttest: 0.7935595\tbest: 0.7947096 (918)\ttotal: 8.19s\tremaining: 514ms\n",
      "941:\tlearn: 0.8461317\ttest: 0.7935595\tbest: 0.7947096 (918)\ttotal: 8.2s\tremaining: 505ms\n",
      "942:\tlearn: 0.8461317\ttest: 0.7935595\tbest: 0.7947096 (918)\ttotal: 8.21s\tremaining: 496ms\n",
      "943:\tlearn: 0.8461317\ttest: 0.7935595\tbest: 0.7947096 (918)\ttotal: 8.22s\tremaining: 487ms\n",
      "944:\tlearn: 0.8457003\ttest: 0.7935595\tbest: 0.7947096 (918)\ttotal: 8.22s\tremaining: 479ms\n",
      "945:\tlearn: 0.8457003\ttest: 0.7935595\tbest: 0.7947096 (918)\ttotal: 8.23s\tremaining: 470ms\n",
      "946:\tlearn: 0.8457003\ttest: 0.7941346\tbest: 0.7947096 (918)\ttotal: 8.24s\tremaining: 461ms\n",
      "947:\tlearn: 0.8457003\ttest: 0.7941346\tbest: 0.7947096 (918)\ttotal: 8.25s\tremaining: 453ms\n",
      "948:\tlearn: 0.8457003\ttest: 0.7935595\tbest: 0.7947096 (918)\ttotal: 8.26s\tremaining: 444ms\n",
      "949:\tlearn: 0.8457003\ttest: 0.7935595\tbest: 0.7947096 (918)\ttotal: 8.27s\tremaining: 435ms\n",
      "950:\tlearn: 0.8457003\ttest: 0.7935595\tbest: 0.7947096 (918)\ttotal: 8.27s\tremaining: 426ms\n",
      "951:\tlearn: 0.8458441\ttest: 0.7935595\tbest: 0.7947096 (918)\ttotal: 8.28s\tremaining: 418ms\n",
      "952:\tlearn: 0.8459879\ttest: 0.7935595\tbest: 0.7947096 (918)\ttotal: 8.29s\tremaining: 409ms\n",
      "953:\tlearn: 0.8461317\ttest: 0.7935595\tbest: 0.7947096 (918)\ttotal: 8.3s\tremaining: 400ms\n",
      "954:\tlearn: 0.8461317\ttest: 0.7935595\tbest: 0.7947096 (918)\ttotal: 8.3s\tremaining: 391ms\n",
      "955:\tlearn: 0.8459879\ttest: 0.7929845\tbest: 0.7947096 (918)\ttotal: 8.31s\tremaining: 383ms\n",
      "956:\tlearn: 0.8461317\ttest: 0.7935595\tbest: 0.7947096 (918)\ttotal: 8.32s\tremaining: 374ms\n",
      "957:\tlearn: 0.8462755\ttest: 0.7935595\tbest: 0.7947096 (918)\ttotal: 8.33s\tremaining: 365ms\n",
      "958:\tlearn: 0.8464193\ttest: 0.7935595\tbest: 0.7947096 (918)\ttotal: 8.34s\tremaining: 356ms\n",
      "959:\tlearn: 0.8464193\ttest: 0.7935595\tbest: 0.7947096 (918)\ttotal: 8.34s\tremaining: 348ms\n",
      "960:\tlearn: 0.8467069\ttest: 0.7935595\tbest: 0.7947096 (918)\ttotal: 8.35s\tremaining: 339ms\n",
      "961:\tlearn: 0.8467069\ttest: 0.7935595\tbest: 0.7947096 (918)\ttotal: 8.36s\tremaining: 330ms\n",
      "962:\tlearn: 0.8467069\ttest: 0.7935595\tbest: 0.7947096 (918)\ttotal: 8.37s\tremaining: 322ms\n",
      "963:\tlearn: 0.8469945\ttest: 0.7935595\tbest: 0.7947096 (918)\ttotal: 8.38s\tremaining: 313ms\n",
      "964:\tlearn: 0.8467069\ttest: 0.7935595\tbest: 0.7947096 (918)\ttotal: 8.39s\tremaining: 304ms\n",
      "965:\tlearn: 0.8464193\ttest: 0.7935595\tbest: 0.7947096 (918)\ttotal: 8.39s\tremaining: 295ms\n",
      "966:\tlearn: 0.8464193\ttest: 0.7935595\tbest: 0.7947096 (918)\ttotal: 8.4s\tremaining: 287ms\n",
      "967:\tlearn: 0.8464193\ttest: 0.7935595\tbest: 0.7947096 (918)\ttotal: 8.41s\tremaining: 278ms\n",
      "968:\tlearn: 0.8464193\ttest: 0.7935595\tbest: 0.7947096 (918)\ttotal: 8.42s\tremaining: 269ms\n",
      "969:\tlearn: 0.8464193\ttest: 0.7935595\tbest: 0.7947096 (918)\ttotal: 8.43s\tremaining: 261ms\n",
      "970:\tlearn: 0.8464193\ttest: 0.7935595\tbest: 0.7947096 (918)\ttotal: 8.43s\tremaining: 252ms\n",
      "971:\tlearn: 0.8462755\ttest: 0.7935595\tbest: 0.7947096 (918)\ttotal: 8.44s\tremaining: 243ms\n",
      "972:\tlearn: 0.8465631\ttest: 0.7935595\tbest: 0.7947096 (918)\ttotal: 8.45s\tremaining: 234ms\n",
      "973:\tlearn: 0.8465631\ttest: 0.7935595\tbest: 0.7947096 (918)\ttotal: 8.46s\tremaining: 226ms\n",
      "974:\tlearn: 0.8464193\ttest: 0.7935595\tbest: 0.7947096 (918)\ttotal: 8.46s\tremaining: 217ms\n",
      "975:\tlearn: 0.8464193\ttest: 0.7935595\tbest: 0.7947096 (918)\ttotal: 8.47s\tremaining: 208ms\n",
      "976:\tlearn: 0.8464193\ttest: 0.7935595\tbest: 0.7947096 (918)\ttotal: 8.48s\tremaining: 200ms\n",
      "977:\tlearn: 0.8462755\ttest: 0.7935595\tbest: 0.7947096 (918)\ttotal: 8.49s\tremaining: 191ms\n",
      "978:\tlearn: 0.8462755\ttest: 0.7935595\tbest: 0.7947096 (918)\ttotal: 8.5s\tremaining: 182ms\n",
      "979:\tlearn: 0.8462755\ttest: 0.7935595\tbest: 0.7947096 (918)\ttotal: 8.51s\tremaining: 174ms\n",
      "980:\tlearn: 0.8462755\ttest: 0.7935595\tbest: 0.7947096 (918)\ttotal: 8.52s\tremaining: 165ms\n",
      "981:\tlearn: 0.8464193\ttest: 0.7929845\tbest: 0.7947096 (918)\ttotal: 8.52s\tremaining: 156ms\n",
      "982:\tlearn: 0.8465631\ttest: 0.7929845\tbest: 0.7947096 (918)\ttotal: 8.53s\tremaining: 148ms\n",
      "983:\tlearn: 0.8467069\ttest: 0.7929845\tbest: 0.7947096 (918)\ttotal: 8.54s\tremaining: 139ms\n",
      "984:\tlearn: 0.8467069\ttest: 0.7929845\tbest: 0.7947096 (918)\ttotal: 8.55s\tremaining: 130ms\n",
      "985:\tlearn: 0.8462755\ttest: 0.7929845\tbest: 0.7947096 (918)\ttotal: 8.56s\tremaining: 122ms\n",
      "986:\tlearn: 0.8462755\ttest: 0.7935595\tbest: 0.7947096 (918)\ttotal: 8.57s\tremaining: 113ms\n",
      "987:\tlearn: 0.8465631\ttest: 0.7935595\tbest: 0.7947096 (918)\ttotal: 8.57s\tremaining: 104ms\n",
      "988:\tlearn: 0.8461317\ttest: 0.7929845\tbest: 0.7947096 (918)\ttotal: 8.58s\tremaining: 95.5ms\n",
      "989:\tlearn: 0.8462755\ttest: 0.7929845\tbest: 0.7947096 (918)\ttotal: 8.59s\tremaining: 86.8ms\n",
      "990:\tlearn: 0.8462755\ttest: 0.7929845\tbest: 0.7947096 (918)\ttotal: 8.6s\tremaining: 78.1ms\n",
      "991:\tlearn: 0.8459879\ttest: 0.7935595\tbest: 0.7947096 (918)\ttotal: 8.61s\tremaining: 69.4ms\n",
      "992:\tlearn: 0.8459879\ttest: 0.7935595\tbest: 0.7947096 (918)\ttotal: 8.61s\tremaining: 60.7ms\n",
      "993:\tlearn: 0.8459879\ttest: 0.7935595\tbest: 0.7947096 (918)\ttotal: 8.62s\tremaining: 52ms\n",
      "994:\tlearn: 0.8461317\ttest: 0.7935595\tbest: 0.7947096 (918)\ttotal: 8.63s\tremaining: 43.4ms\n",
      "995:\tlearn: 0.8464193\ttest: 0.7935595\tbest: 0.7947096 (918)\ttotal: 8.63s\tremaining: 34.7ms\n",
      "996:\tlearn: 0.8464193\ttest: 0.7929845\tbest: 0.7947096 (918)\ttotal: 8.64s\tremaining: 26ms\n",
      "997:\tlearn: 0.8464193\ttest: 0.7929845\tbest: 0.7947096 (918)\ttotal: 8.65s\tremaining: 17.3ms\n",
      "998:\tlearn: 0.8465631\ttest: 0.7929845\tbest: 0.7947096 (918)\ttotal: 8.66s\tremaining: 8.67ms\n",
      "999:\tlearn: 0.8465631\ttest: 0.7929845\tbest: 0.7947096 (918)\ttotal: 8.67s\tremaining: 0us\n",
      "\n",
      "bestTest = 0.7947096032\n",
      "bestIteration = 918\n",
      "\n",
      "Shrink model to first 919 iterations.\n"
     ]
    },
    {
     "data": {
      "text/plain": [
       "<catboost.core.CatBoostClassifier at 0x7a575f6b65f0>"
      ]
     },
     "execution_count": 54,
     "metadata": {},
     "output_type": "execute_result"
    }
   ],
   "source": [
    "# CROSS VALIDATION\n",
    "\n",
    "modelCat.fit(X_train, y_train,\n",
    "          eval_set=(X_valid, y_valid),\n",
    "          use_best_model=True,\n",
    "          plot=True\n",
    "         )"
   ]
  },
  {
   "cell_type": "markdown",
   "id": "f48853d0",
   "metadata": {
    "papermill": {
     "duration": 0.027561,
     "end_time": "2025-01-20T13:58:12.739141",
     "exception": false,
     "start_time": "2025-01-20T13:58:12.711580",
     "status": "completed"
    },
    "tags": []
   },
   "source": [
    "<br />\n",
    "<br />"
   ]
  },
  {
   "cell_type": "markdown",
   "id": "7b75c6a5",
   "metadata": {
    "papermill": {
     "duration": 0.027945,
     "end_time": "2025-01-20T13:58:12.795875",
     "exception": false,
     "start_time": "2025-01-20T13:58:12.767930",
     "status": "completed"
    },
    "tags": []
   },
   "source": [
    "##### So this model achieves a slightly lower accuracy, based on this built-in CV method above.\n",
    "\n",
    "##### However, if each model is used for a single model prediction and submission, the catboost model performs better than the XGBoost model..."
   ]
  },
  {
   "cell_type": "code",
   "execution_count": 55,
   "id": "503c512f",
   "metadata": {
    "execution": {
     "iopub.execute_input": "2025-01-20T13:58:12.856190Z",
     "iopub.status.busy": "2025-01-20T13:58:12.855584Z",
     "iopub.status.idle": "2025-01-20T13:58:12.956230Z",
     "shell.execute_reply": "2025-01-20T13:58:12.955026Z"
    },
    "papermill": {
     "duration": 0.132481,
     "end_time": "2025-01-20T13:58:12.958886",
     "exception": false,
     "start_time": "2025-01-20T13:58:12.826405",
     "status": "completed"
    },
    "tags": []
   },
   "outputs": [],
   "source": [
    "pred1 = PipelineXG.predict(testdata_final)\n",
    "pred2 = modelCat.predict(testdata_final)"
   ]
  },
  {
   "cell_type": "markdown",
   "id": "1ceaa605",
   "metadata": {
    "papermill": {
     "duration": 0.027252,
     "end_time": "2025-01-20T13:58:13.014347",
     "exception": false,
     "start_time": "2025-01-20T13:58:12.987095",
     "status": "completed"
    },
    "tags": []
   },
   "source": [
    "______"
   ]
  },
  {
   "cell_type": "markdown",
   "id": "450c9ad3",
   "metadata": {
    "papermill": {
     "duration": 0.029552,
     "end_time": "2025-01-20T13:58:13.071570",
     "exception": false,
     "start_time": "2025-01-20T13:58:13.042018",
     "status": "completed"
    },
    "tags": []
   },
   "source": [
    "____________"
   ]
  },
  {
   "cell_type": "markdown",
   "id": "f47bc9dc",
   "metadata": {
    "papermill": {
     "duration": 0.027591,
     "end_time": "2025-01-20T13:58:13.127164",
     "exception": false,
     "start_time": "2025-01-20T13:58:13.099573",
     "status": "completed"
    },
    "tags": []
   },
   "source": [
    "### ENSEMBLING"
   ]
  },
  {
   "cell_type": "markdown",
   "id": "f869de1d",
   "metadata": {
    "papermill": {
     "duration": 0.027765,
     "end_time": "2025-01-20T13:58:13.182994",
     "exception": false,
     "start_time": "2025-01-20T13:58:13.155229",
     "status": "completed"
    },
    "tags": []
   },
   "source": [
    "<br />\n",
    "<br />"
   ]
  },
  {
   "cell_type": "markdown",
   "id": "67ffa61e",
   "metadata": {
    "papermill": {
     "duration": 0.027072,
     "end_time": "2025-01-20T13:58:13.237769",
     "exception": false,
     "start_time": "2025-01-20T13:58:13.210697",
     "status": "completed"
    },
    "tags": []
   },
   "source": [
    "#### Both model achieve good accuracy with tuned hyperparameters. Now, we can try to improve this performance by combining and weighting model predictions..."
   ]
  },
  {
   "cell_type": "code",
   "execution_count": 56,
   "id": "86ed1e54",
   "metadata": {
    "execution": {
     "iopub.execute_input": "2025-01-20T13:58:13.295616Z",
     "iopub.status.busy": "2025-01-20T13:58:13.295181Z",
     "iopub.status.idle": "2025-01-20T13:58:13.396426Z",
     "shell.execute_reply": "2025-01-20T13:58:13.395270Z"
    },
    "papermill": {
     "duration": 0.13353,
     "end_time": "2025-01-20T13:58:13.399205",
     "exception": false,
     "start_time": "2025-01-20T13:58:13.265675",
     "status": "completed"
    },
    "tags": []
   },
   "outputs": [],
   "source": [
    "#EXAMINING THE PROBABILITY PREDICTIONS OF THE TWO MODELS\n",
    "probXG = PipelineXG.predict_proba(testdata_final)\n",
    "probCat = modelCat.predict_proba(testdata_final)\n",
    "\n",
    "probXG = [i[0] for i in probXG]\n",
    "probCat = [i[0] for i in probCat]\n",
    "\n",
    "probframe = pd.DataFrame({'PassengerId':testdata.PassengerId,'XGProb':probXG,'CatProb':probCat})"
   ]
  },
  {
   "cell_type": "markdown",
   "id": "8297b474",
   "metadata": {
    "papermill": {
     "duration": 0.028711,
     "end_time": "2025-01-20T13:58:13.455933",
     "exception": false,
     "start_time": "2025-01-20T13:58:13.427222",
     "status": "completed"
    },
    "tags": []
   },
   "source": [
    " ##### Let's see how many passenger outcomes have a significant difference in probability prediction (in this case, I have chosen above 2% difference)"
   ]
  },
  {
   "cell_type": "code",
   "execution_count": 57,
   "id": "bb9ef1c4",
   "metadata": {
    "execution": {
     "iopub.execute_input": "2025-01-20T13:58:13.513849Z",
     "iopub.status.busy": "2025-01-20T13:58:13.513413Z",
     "iopub.status.idle": "2025-01-20T13:58:13.528130Z",
     "shell.execute_reply": "2025-01-20T13:58:13.527043Z"
    },
    "papermill": {
     "duration": 0.046439,
     "end_time": "2025-01-20T13:58:13.530466",
     "exception": false,
     "start_time": "2025-01-20T13:58:13.484027",
     "status": "completed"
    },
    "tags": []
   },
   "outputs": [
    {
     "data": {
      "text/html": [
       "<div>\n",
       "<style scoped>\n",
       "    .dataframe tbody tr th:only-of-type {\n",
       "        vertical-align: middle;\n",
       "    }\n",
       "\n",
       "    .dataframe tbody tr th {\n",
       "        vertical-align: top;\n",
       "    }\n",
       "\n",
       "    .dataframe thead th {\n",
       "        text-align: right;\n",
       "    }\n",
       "</style>\n",
       "<table border=\"1\" class=\"dataframe\">\n",
       "  <thead>\n",
       "    <tr style=\"text-align: right;\">\n",
       "      <th></th>\n",
       "      <th>PassengerId</th>\n",
       "      <th>XGProb</th>\n",
       "      <th>CatProb</th>\n",
       "    </tr>\n",
       "  </thead>\n",
       "  <tbody>\n",
       "    <tr>\n",
       "      <th>1</th>\n",
       "      <td>0018_01</td>\n",
       "      <td>0.959333</td>\n",
       "      <td>0.985868</td>\n",
       "    </tr>\n",
       "    <tr>\n",
       "      <th>4</th>\n",
       "      <td>0023_01</td>\n",
       "      <td>0.405765</td>\n",
       "      <td>0.339835</td>\n",
       "    </tr>\n",
       "    <tr>\n",
       "      <th>5</th>\n",
       "      <td>0027_01</td>\n",
       "      <td>0.469537</td>\n",
       "      <td>0.538428</td>\n",
       "    </tr>\n",
       "    <tr>\n",
       "      <th>9</th>\n",
       "      <td>0033_01</td>\n",
       "      <td>0.374471</td>\n",
       "      <td>0.308009</td>\n",
       "    </tr>\n",
       "    <tr>\n",
       "      <th>10</th>\n",
       "      <td>0037_01</td>\n",
       "      <td>0.714378</td>\n",
       "      <td>0.758555</td>\n",
       "    </tr>\n",
       "    <tr>\n",
       "      <th>...</th>\n",
       "      <td>...</td>\n",
       "      <td>...</td>\n",
       "      <td>...</td>\n",
       "    </tr>\n",
       "    <tr>\n",
       "      <th>4271</th>\n",
       "      <td>9266_01</td>\n",
       "      <td>0.334519</td>\n",
       "      <td>0.255888</td>\n",
       "    </tr>\n",
       "    <tr>\n",
       "      <th>4273</th>\n",
       "      <td>9269_01</td>\n",
       "      <td>0.601099</td>\n",
       "      <td>0.541049</td>\n",
       "    </tr>\n",
       "    <tr>\n",
       "      <th>4274</th>\n",
       "      <td>9271_01</td>\n",
       "      <td>0.078969</td>\n",
       "      <td>0.037612</td>\n",
       "    </tr>\n",
       "    <tr>\n",
       "      <th>4275</th>\n",
       "      <td>9273_01</td>\n",
       "      <td>0.308545</td>\n",
       "      <td>0.264264</td>\n",
       "    </tr>\n",
       "    <tr>\n",
       "      <th>4276</th>\n",
       "      <td>9277_01</td>\n",
       "      <td>0.291221</td>\n",
       "      <td>0.262221</td>\n",
       "    </tr>\n",
       "  </tbody>\n",
       "</table>\n",
       "<p>2495 rows × 3 columns</p>\n",
       "</div>"
      ],
      "text/plain": [
       "     PassengerId    XGProb   CatProb\n",
       "1        0018_01  0.959333  0.985868\n",
       "4        0023_01  0.405765  0.339835\n",
       "5        0027_01  0.469537  0.538428\n",
       "9        0033_01  0.374471  0.308009\n",
       "10       0037_01  0.714378  0.758555\n",
       "...          ...       ...       ...\n",
       "4271     9266_01  0.334519  0.255888\n",
       "4273     9269_01  0.601099  0.541049\n",
       "4274     9271_01  0.078969  0.037612\n",
       "4275     9273_01  0.308545  0.264264\n",
       "4276     9277_01  0.291221  0.262221\n",
       "\n",
       "[2495 rows x 3 columns]"
      ]
     },
     "execution_count": 57,
     "metadata": {},
     "output_type": "execute_result"
    }
   ],
   "source": [
    "probframe[abs(probframe.XGProb-probframe.CatProb)>0.02]"
   ]
  },
  {
   "cell_type": "markdown",
   "id": "372c0f7e",
   "metadata": {
    "papermill": {
     "duration": 0.027485,
     "end_time": "2025-01-20T13:58:13.585653",
     "exception": false,
     "start_time": "2025-01-20T13:58:13.558168",
     "status": "completed"
    },
    "tags": []
   },
   "source": [
    "##### So, we can see that there are almost 2500 passengers that show this level of difference in prediction. \n",
    "\n",
    "##### Now, perhaps more importantly, let's examine the number of passengers where the overall prediction was given differently between the two models...."
   ]
  },
  {
   "cell_type": "code",
   "execution_count": 58,
   "id": "ea1d07b7",
   "metadata": {
    "execution": {
     "iopub.execute_input": "2025-01-20T13:58:13.643237Z",
     "iopub.status.busy": "2025-01-20T13:58:13.642087Z",
     "iopub.status.idle": "2025-01-20T13:58:13.657739Z",
     "shell.execute_reply": "2025-01-20T13:58:13.656551Z"
    },
    "papermill": {
     "duration": 0.047354,
     "end_time": "2025-01-20T13:58:13.660418",
     "exception": false,
     "start_time": "2025-01-20T13:58:13.613064",
     "status": "completed"
    },
    "tags": []
   },
   "outputs": [
    {
     "data": {
      "text/html": [
       "<div>\n",
       "<style scoped>\n",
       "    .dataframe tbody tr th:only-of-type {\n",
       "        vertical-align: middle;\n",
       "    }\n",
       "\n",
       "    .dataframe tbody tr th {\n",
       "        vertical-align: top;\n",
       "    }\n",
       "\n",
       "    .dataframe thead th {\n",
       "        text-align: right;\n",
       "    }\n",
       "</style>\n",
       "<table border=\"1\" class=\"dataframe\">\n",
       "  <thead>\n",
       "    <tr style=\"text-align: right;\">\n",
       "      <th></th>\n",
       "      <th>PassengerId</th>\n",
       "      <th>XGProb</th>\n",
       "      <th>CatProb</th>\n",
       "    </tr>\n",
       "  </thead>\n",
       "  <tbody>\n",
       "    <tr>\n",
       "      <th>5</th>\n",
       "      <td>0027_01</td>\n",
       "      <td>0.469537</td>\n",
       "      <td>0.538428</td>\n",
       "    </tr>\n",
       "    <tr>\n",
       "      <th>24</th>\n",
       "      <td>0054_03</td>\n",
       "      <td>0.464375</td>\n",
       "      <td>0.796928</td>\n",
       "    </tr>\n",
       "    <tr>\n",
       "      <th>48</th>\n",
       "      <td>0118_01</td>\n",
       "      <td>0.505332</td>\n",
       "      <td>0.495844</td>\n",
       "    </tr>\n",
       "    <tr>\n",
       "      <th>79</th>\n",
       "      <td>0175_03</td>\n",
       "      <td>0.439240</td>\n",
       "      <td>0.543580</td>\n",
       "    </tr>\n",
       "    <tr>\n",
       "      <th>80</th>\n",
       "      <td>0175_04</td>\n",
       "      <td>0.479834</td>\n",
       "      <td>0.547951</td>\n",
       "    </tr>\n",
       "    <tr>\n",
       "      <th>...</th>\n",
       "      <td>...</td>\n",
       "      <td>...</td>\n",
       "      <td>...</td>\n",
       "    </tr>\n",
       "    <tr>\n",
       "      <th>4045</th>\n",
       "      <td>8800_01</td>\n",
       "      <td>0.439240</td>\n",
       "      <td>0.543580</td>\n",
       "    </tr>\n",
       "    <tr>\n",
       "      <th>4047</th>\n",
       "      <td>8800_03</td>\n",
       "      <td>0.450585</td>\n",
       "      <td>0.642902</td>\n",
       "    </tr>\n",
       "    <tr>\n",
       "      <th>4049</th>\n",
       "      <td>8800_05</td>\n",
       "      <td>0.478431</td>\n",
       "      <td>0.514204</td>\n",
       "    </tr>\n",
       "    <tr>\n",
       "      <th>4133</th>\n",
       "      <td>8979_01</td>\n",
       "      <td>0.478979</td>\n",
       "      <td>0.513903</td>\n",
       "    </tr>\n",
       "    <tr>\n",
       "      <th>4231</th>\n",
       "      <td>9187_01</td>\n",
       "      <td>0.393579</td>\n",
       "      <td>0.622203</td>\n",
       "    </tr>\n",
       "  </tbody>\n",
       "</table>\n",
       "<p>188 rows × 3 columns</p>\n",
       "</div>"
      ],
      "text/plain": [
       "     PassengerId    XGProb   CatProb\n",
       "5        0027_01  0.469537  0.538428\n",
       "24       0054_03  0.464375  0.796928\n",
       "48       0118_01  0.505332  0.495844\n",
       "79       0175_03  0.439240  0.543580\n",
       "80       0175_04  0.479834  0.547951\n",
       "...          ...       ...       ...\n",
       "4045     8800_01  0.439240  0.543580\n",
       "4047     8800_03  0.450585  0.642902\n",
       "4049     8800_05  0.478431  0.514204\n",
       "4133     8979_01  0.478979  0.513903\n",
       "4231     9187_01  0.393579  0.622203\n",
       "\n",
       "[188 rows x 3 columns]"
      ]
     },
     "execution_count": 58,
     "metadata": {},
     "output_type": "execute_result"
    }
   ],
   "source": [
    "probframe[((probframe.XGProb > 0.5) & (probframe.CatProb < 0.5)) | ((probframe.XGProb < 0.5) & (probframe.CatProb > 0.5))]"
   ]
  },
  {
   "cell_type": "markdown",
   "id": "65a08549",
   "metadata": {
    "papermill": {
     "duration": 0.02819,
     "end_time": "2025-01-20T13:58:13.716974",
     "exception": false,
     "start_time": "2025-01-20T13:58:13.688784",
     "status": "completed"
    },
    "tags": []
   },
   "source": [
    "##### So, 188 passengers were predicted differently by the two models.\n",
    "\n",
    "##### We can do a simple equal weight ensemble and see if this improves the accuracy score...."
   ]
  },
  {
   "cell_type": "code",
   "execution_count": 59,
   "id": "715a088c",
   "metadata": {
    "execution": {
     "iopub.execute_input": "2025-01-20T13:58:13.775560Z",
     "iopub.status.busy": "2025-01-20T13:58:13.775116Z",
     "iopub.status.idle": "2025-01-20T13:58:13.782734Z",
     "shell.execute_reply": "2025-01-20T13:58:13.781555Z"
    },
    "papermill": {
     "duration": 0.039607,
     "end_time": "2025-01-20T13:58:13.784937",
     "exception": false,
     "start_time": "2025-01-20T13:58:13.745330",
     "status": "completed"
    },
    "tags": []
   },
   "outputs": [],
   "source": [
    "probframe['AvgProb'] = (probframe.XGProb + probframe.CatProb) / 2\n",
    "probframe['AvgDecision'] = False"
   ]
  },
  {
   "cell_type": "code",
   "execution_count": 60,
   "id": "e49a1862",
   "metadata": {
    "execution": {
     "iopub.execute_input": "2025-01-20T13:58:13.846023Z",
     "iopub.status.busy": "2025-01-20T13:58:13.845636Z",
     "iopub.status.idle": "2025-01-20T13:58:13.851079Z",
     "shell.execute_reply": "2025-01-20T13:58:13.849986Z"
    },
    "papermill": {
     "duration": 0.039958,
     "end_time": "2025-01-20T13:58:13.853267",
     "exception": false,
     "start_time": "2025-01-20T13:58:13.813309",
     "status": "completed"
    },
    "tags": []
   },
   "outputs": [],
   "source": [
    "def Decision(row):\n",
    "    if row.AvgProb > 0.5:\n",
    "        row.AvgDecision = False\n",
    "    else:\n",
    "        row.AvgDecision = True\n",
    "    \n",
    "    return row"
   ]
  },
  {
   "cell_type": "code",
   "execution_count": 61,
   "id": "106ed0aa",
   "metadata": {
    "execution": {
     "iopub.execute_input": "2025-01-20T13:58:13.911958Z",
     "iopub.status.busy": "2025-01-20T13:58:13.911555Z",
     "iopub.status.idle": "2025-01-20T13:58:14.312737Z",
     "shell.execute_reply": "2025-01-20T13:58:14.311521Z"
    },
    "papermill": {
     "duration": 0.433311,
     "end_time": "2025-01-20T13:58:14.315132",
     "exception": false,
     "start_time": "2025-01-20T13:58:13.881821",
     "status": "completed"
    },
    "tags": []
   },
   "outputs": [],
   "source": [
    "probframe = probframe.apply(Decision, axis=1)\n",
    "\n",
    "#probframe[probframe.AvgDecision != pred2]"
   ]
  },
  {
   "cell_type": "code",
   "execution_count": 62,
   "id": "9dde0746",
   "metadata": {
    "execution": {
     "iopub.execute_input": "2025-01-20T13:58:14.372873Z",
     "iopub.status.busy": "2025-01-20T13:58:14.372433Z",
     "iopub.status.idle": "2025-01-20T13:58:14.384998Z",
     "shell.execute_reply": "2025-01-20T13:58:14.383937Z"
    },
    "papermill": {
     "duration": 0.044308,
     "end_time": "2025-01-20T13:58:14.387337",
     "exception": false,
     "start_time": "2025-01-20T13:58:14.343029",
     "status": "completed"
    },
    "tags": []
   },
   "outputs": [],
   "source": [
    "output2 = pd.DataFrame({\"PassengerId\":testdata.PassengerId,\"Transported\":probframe.AvgDecision.astype('bool')})\n",
    "output2.to_csv('submission.csv', index=False)"
   ]
  },
  {
   "cell_type": "markdown",
   "id": "55f7df8e",
   "metadata": {
    "papermill": {
     "duration": 0.02802,
     "end_time": "2025-01-20T13:58:14.444360",
     "exception": false,
     "start_time": "2025-01-20T13:58:14.416340",
     "status": "completed"
    },
    "tags": []
   },
   "source": [
    "#### This simple ensemble gives a leaderboard score of 0.80687, good enough for top 7% at the time of publishing. I'm sure that more improvement could be made if more models were included or weights adjusted."
   ]
  },
  {
   "cell_type": "markdown",
   "id": "4889acda",
   "metadata": {
    "papermill": {
     "duration": 0.029078,
     "end_time": "2025-01-20T13:58:14.501906",
     "exception": false,
     "start_time": "2025-01-20T13:58:14.472828",
     "status": "completed"
    },
    "tags": []
   },
   "source": [
    "<img src=\"https://www.miguelclaro.com/wp/wp-content/uploads/2013/11/MilkyWayDeepLaPalma-net.jpg\" width=\"3000\" height=\"100\" style=\"display: block; margin: 0 auto\">\n"
   ]
  }
 ],
 "metadata": {
  "kaggle": {
   "accelerator": "none",
   "dataSources": [
    {
     "databundleVersionId": 3220602,
     "sourceId": 34377,
     "sourceType": "competition"
    }
   ],
   "dockerImageVersionId": 30761,
   "isGpuEnabled": false,
   "isInternetEnabled": true,
   "language": "python",
   "sourceType": "notebook"
  },
  "kernelspec": {
   "display_name": "Python 3",
   "language": "python",
   "name": "python3"
  },
  "language_info": {
   "codemirror_mode": {
    "name": "ipython",
    "version": 3
   },
   "file_extension": ".py",
   "mimetype": "text/x-python",
   "name": "python",
   "nbconvert_exporter": "python",
   "pygments_lexer": "ipython3",
   "version": "3.10.14"
  },
  "papermill": {
   "default_parameters": {},
   "duration": 41.592291,
   "end_time": "2025-01-20T13:58:15.258813",
   "environment_variables": {},
   "exception": null,
   "input_path": "__notebook__.ipynb",
   "output_path": "__notebook__.ipynb",
   "parameters": {},
   "start_time": "2025-01-20T13:57:33.666522",
   "version": "2.6.0"
  },
  "widgets": {
   "application/vnd.jupyter.widget-state+json": {
    "state": {
     "5a19237639214a5688f35e9086634b45": {
      "model_module": "catboost-widget",
      "model_module_version": "^1.0.0",
      "model_name": "CatboostWidgetModel",
      "state": {
       "_dom_classes": [],
       "_model_module": "catboost-widget",
       "_model_module_version": "^1.0.0",
       "_model_name": "CatboostWidgetModel",
       "_view_count": null,
       "_view_module": "catboost-widget",
       "_view_module_version": "^1.0.0",
       "_view_name": "CatboostWidgetView",
       "data": {
        "catboost_info": {
         "content": {
          "data": {
           "iterations": [
            {
             "iteration": 0,
             "learn": [
              0.7424503883,
              0.6717752293
             ],
             "passed_time": 0.06656024512,
             "remaining_time": 66.49368487,
             "test": [
              0.7441058079,
              0.6714002516
             ]
            },
            {
             "iteration": 1,
             "learn": [
              0.7497842968,
              0.6530798208
             ],
             "passed_time": 0.07652445039,
             "remaining_time": 38.18570075,
             "test": [
              0.7372052904,
              0.6530719718
             ]
            },
            {
             "iteration": 2,
             "learn": [
              0.7451826287,
              0.6392889746
             ],
             "passed_time": 0.08541097948,
             "remaining_time": 28.38491551,
             "test": [
              0.740080506,
              0.6398169676
             ]
            },
            {
             "iteration": 3,
             "learn": [
              0.7453264308,
              0.6231077222
             ],
             "passed_time": 0.09316630283,
             "remaining_time": 23.1984094,
             "test": [
              0.7429557217,
              0.6234150442
             ]
            },
            {
             "iteration": 4,
             "learn": [
              0.7592752373,
              0.6105451778
             ],
             "passed_time": 0.1019318281,
             "remaining_time": 20.2844338,
             "test": [
              0.7464059804,
              0.6117309425
             ]
            },
            {
             "iteration": 5,
             "learn": [
              0.7582686224,
              0.597088029
             ],
             "passed_time": 0.1120074653,
             "remaining_time": 18.55590342,
             "test": [
              0.7469810236,
              0.5985095444
             ]
            },
            {
             "iteration": 6,
             "learn": [
              0.7575496117,
              0.5877858303
             ],
             "passed_time": 0.121417948,
             "remaining_time": 17.2240032,
             "test": [
              0.7458309373,
              0.5899072406
             ]
            },
            {
             "iteration": 7,
             "learn": [
              0.7576934139,
              0.5779323877
             ],
             "passed_time": 0.1309520177,
             "remaining_time": 16.2380502,
             "test": [
              0.7492811961,
              0.5800648399
             ]
            },
            {
             "iteration": 8,
             "learn": [
              0.7575496117,
              0.5695932532
             ],
             "passed_time": 0.1400170552,
             "remaining_time": 15.41743352,
             "test": [
              0.7492811961,
              0.5720166052
             ]
            },
            {
             "iteration": 9,
             "learn": [
              0.763445499,
              0.5614366971
             ],
             "passed_time": 0.1486590703,
             "remaining_time": 14.71724796,
             "test": [
              0.753306498,
              0.5642373312
             ]
            },
            {
             "iteration": 10,
             "learn": [
              0.7653149267,
              0.5540746335
             ],
             "passed_time": 0.1569607271,
             "remaining_time": 14.11219628,
             "test": [
              0.7653824037,
              0.5575081871
             ]
            },
            {
             "iteration": 11,
             "learn": [
              0.7748058671,
              0.548255599
             ],
             "passed_time": 0.1644734269,
             "remaining_time": 13.54164549,
             "test": [
              0.7740080506,
              0.5521415848
             ]
            },
            {
             "iteration": 12,
             "learn": [
              0.7756686799,
              0.5418253659
             ],
             "passed_time": 0.1738346929,
             "remaining_time": 13.19806476,
             "test": [
              0.771132835,
              0.5463121582
             ]
            },
            {
             "iteration": 13,
             "learn": [
              0.7772505033,
              0.5353986046
             ],
             "passed_time": 0.1822601093,
             "remaining_time": 12.83631913,
             "test": [
              0.7688326624,
              0.5406100492
             ]
            },
            {
             "iteration": 14,
             "learn": [
              0.7850158182,
              0.5281757839
             ],
             "passed_time": 0.1926656553,
             "remaining_time": 12.65171136,
             "test": [
              0.7722829212,
              0.5343115984
             ]
            },
            {
             "iteration": 15,
             "learn": [
              0.7844406097,
              0.5238666567
             ],
             "passed_time": 0.2026888629,
             "remaining_time": 12.46536507,
             "test": [
              0.7676825762,
              0.530550949
             ]
            },
            {
             "iteration": 16,
             "learn": [
              0.7850158182,
              0.5197829801
             ],
             "passed_time": 0.2106686627,
             "remaining_time": 12.18160561,
             "test": [
              0.7665324899,
              0.5271076581
             ]
            },
            {
             "iteration": 17,
             "learn": [
              0.7877480587,
              0.5143333084
             ],
             "passed_time": 0.2208364725,
             "remaining_time": 12.04785644,
             "test": [
              0.7734330075,
              0.5221769662
             ]
            },
            {
             "iteration": 18,
             "learn": [
              0.7886108714,
              0.5087334338
             ],
             "passed_time": 0.2297016959,
             "remaining_time": 11.85986125,
             "test": [
              0.7722829212,
              0.5169956488
             ]
            },
            {
             "iteration": 19,
             "learn": [
              0.7871728502,
              0.5058447337
             ],
             "passed_time": 0.238941874,
             "remaining_time": 11.70815183,
             "test": [
              0.7705577918,
              0.5141244002
             ]
            },
            {
             "iteration": 20,
             "learn": [
              0.791486914,
              0.5016303367
             ],
             "passed_time": 0.2481987468,
             "remaining_time": 11.57078919,
             "test": [
              0.771132835,
              0.5104442199
             ]
            },
            {
             "iteration": 21,
             "learn": [
              0.7939315502,
              0.4963348967
             ],
             "passed_time": 0.2568437319,
             "remaining_time": 11.41787136,
             "test": [
              0.7745830937,
              0.5054836703
             ]
            },
            {
             "iteration": 22,
             "learn": [
              0.7937877481,
              0.4933473417
             ],
             "passed_time": 0.264811604,
             "remaining_time": 11.24873639,
             "test": [
              0.7774583094,
              0.5029107009
             ]
            },
            {
             "iteration": 23,
             "learn": [
              0.7943629566,
              0.4895221451
             ],
             "passed_time": 0.2746894567,
             "remaining_time": 11.17070457,
             "test": [
              0.77573318,
              0.4991577682
             ]
            },
            {
             "iteration": 24,
             "learn": [
              0.7972389991,
              0.4870729567
             ],
             "passed_time": 0.2828734437,
             "remaining_time": 11.03206431,
             "test": [
              0.7780333525,
              0.497174041
             ]
            },
            {
             "iteration": 25,
             "learn": [
              0.7952257693,
              0.4846698904
             ],
             "passed_time": 0.291346707,
             "remaining_time": 10.91429587,
             "test": [
              0.7768832662,
              0.4952356352
             ]
            },
            {
             "iteration": 26,
             "learn": [
              0.7942191544,
              0.4825749081
             ],
             "passed_time": 0.2995527678,
             "remaining_time": 10.79499419,
             "test": [
              0.7740080506,
              0.493639537
             ]
            },
            {
             "iteration": 27,
             "learn": [
              0.7945067587,
              0.48030442
             ],
             "passed_time": 0.3073518584,
             "remaining_time": 10.66950023,
             "test": [
              0.7728579643,
              0.4918401782
             ]
            },
            {
             "iteration": 28,
             "learn": [
              0.7955133736,
              0.4774848459
             ],
             "passed_time": 0.3167874232,
             "remaining_time": 10.60691682,
             "test": [
              0.7740080506,
              0.489210763
             ]
            },
            {
             "iteration": 29,
             "learn": [
              0.7978142077,
              0.4747338604
             ],
             "passed_time": 0.3252673364,
             "remaining_time": 10.51697721,
             "test": [
              0.77573318,
              0.4865925534
             ]
            },
            {
             "iteration": 30,
             "learn": [
              0.7985332183,
              0.4726993087
             ],
             "passed_time": 0.3333809565,
             "remaining_time": 10.42084345,
             "test": [
              0.7768832662,
              0.4847752462
             ]
            },
            {
             "iteration": 31,
             "learn": [
              0.7983894162,
              0.4708015919
             ],
             "passed_time": 0.3413812829,
             "remaining_time": 10.32678381,
             "test": [
              0.7751581369,
              0.4833652604
             ]
            },
            {
             "iteration": 32,
             "learn": [
              0.7985332183,
              0.4690648169
             ],
             "passed_time": 0.3493887439,
             "remaining_time": 10.23814895,
             "test": [
              0.7768832662,
              0.4815364785
             ]
            },
            {
             "iteration": 33,
             "learn": [
              0.8001150417,
              0.4673849873
             ],
             "passed_time": 0.3570266153,
             "remaining_time": 10.14375619,
             "test": [
              0.7774583094,
              0.4800916306
             ]
            },
            {
             "iteration": 34,
             "learn": [
              0.7989646247,
              0.4658242575
             ],
             "passed_time": 0.3650422655,
             "remaining_time": 10.06473675,
             "test": [
              0.7740080506,
              0.4789275525
             ]
            },
            {
             "iteration": 35,
             "learn": [
              0.7988208225,
              0.4635793186
             ],
             "passed_time": 0.3743884954,
             "remaining_time": 10.02529193,
             "test": [
              0.7763082231,
              0.4766151459
             ]
            },
            {
             "iteration": 36,
             "learn": [
              0.7989646247,
              0.4613472244
             ],
             "passed_time": 0.3840307769,
             "remaining_time": 9.995179411,
             "test": [
              0.7763082231,
              0.4745349384
             ]
            },
            {
             "iteration": 37,
             "learn": [
              0.7988208225,
              0.4601673275
             ],
             "passed_time": 0.3920046486,
             "remaining_time": 9.923907156,
             "test": [
              0.7786083956,
              0.4734209273
             ]
            },
            {
             "iteration": 38,
             "learn": [
              0.7993960311,
              0.4585494029
             ],
             "passed_time": 0.4040286213,
             "remaining_time": 9.955679617,
             "test": [
              0.7768832662,
              0.472200843
             ]
            },
            {
             "iteration": 39,
             "learn": [
              0.7995398332,
              0.4571630568
             ],
             "passed_time": 0.4137968094,
             "remaining_time": 9.931123426,
             "test": [
              0.7786083956,
              0.4710497365
             ]
            },
            {
             "iteration": 40,
             "learn": [
              0.7999712396,
              0.4558466626
             ],
             "passed_time": 0.4231628595,
             "remaining_time": 9.897882494,
             "test": [
              0.7791834388,
              0.4698148353
             ]
            },
            {
             "iteration": 41,
             "learn": [
              0.7999712396,
              0.4546090047
             ],
             "passed_time": 0.4315463506,
             "remaining_time": 9.843366758,
             "test": [
              0.7809085681,
              0.4688883622
             ]
            },
            {
             "iteration": 42,
             "learn": [
              0.8002588438,
              0.4531521855
             ],
             "passed_time": 0.4409749389,
             "remaining_time": 9.814256198,
             "test": [
              0.780333525,
              0.4677943297
             ]
            },
            {
             "iteration": 43,
             "learn": [
              0.8005464481,
              0.4521336781
             ],
             "passed_time": 0.4489559315,
             "remaining_time": 9.754587966,
             "test": [
              0.7832087407,
              0.466683349
             ]
            },
            {
             "iteration": 44,
             "learn": [
              0.8002588438,
              0.4511408782
             ],
             "passed_time": 0.4572383735,
             "remaining_time": 9.703614371,
             "test": [
              0.7814836113,
              0.4660346894
             ]
            },
            {
             "iteration": 45,
             "learn": [
              0.7999712396,
              0.450145583
             ],
             "passed_time": 0.4675336707,
             "remaining_time": 9.69624178,
             "test": [
              0.7826336975,
              0.4650848546
             ]
            },
            {
             "iteration": 46,
             "learn": [
              0.800402646,
              0.449530685
             ],
             "passed_time": 0.4764419796,
             "remaining_time": 9.660621416,
             "test": [
              0.7837837838,
              0.464555901
             ]
            },
            {
             "iteration": 47,
             "learn": [
              0.8009778545,
              0.4482759222
             ],
             "passed_time": 0.484780098,
             "remaining_time": 9.614805277,
             "test": [
              0.7832087407,
              0.4633689301
             ]
            },
            {
             "iteration": 48,
             "learn": [
              0.8009778545,
              0.4474197611
             ],
             "passed_time": 0.4928099987,
             "remaining_time": 9.564536914,
             "test": [
              0.7843588269,
              0.4625739428
             ]
            },
            {
             "iteration": 49,
             "learn": [
              0.8018406672,
              0.4465915981
             ],
             "passed_time": 0.5020435572,
             "remaining_time": 9.538827586,
             "test": [
              0.7826336975,
              0.4618775691
             ]
            },
            {
             "iteration": 50,
             "learn": [
              0.8032786885,
              0.4458091556
             ],
             "passed_time": 0.510023762,
             "remaining_time": 9.49044216,
             "test": [
              0.7860839563,
              0.4611750877
             ]
            },
            {
             "iteration": 51,
             "learn": [
              0.8034224907,
              0.444804423
             ],
             "passed_time": 0.5207928302,
             "remaining_time": 9.494453905,
             "test": [
              0.7872340426,
              0.4604506927
             ]
            },
            {
             "iteration": 52,
             "learn": [
              0.8041415013,
              0.4439277322
             ],
             "passed_time": 0.53080751,
             "remaining_time": 9.484428528,
             "test": [
              0.7878090857,
              0.4599955773
             ]
            },
            {
             "iteration": 53,
             "learn": [
              0.8044291056,
              0.4422962088
             ],
             "passed_time": 0.5386904945,
             "remaining_time": 9.437059403,
             "test": [
              0.7872340426,
              0.4581193015
             ]
            },
            {
             "iteration": 54,
             "learn": [
              0.8041415013,
              0.441378126
             ],
             "passed_time": 0.5471141064,
             "remaining_time": 9.4004151,
             "test": [
              0.7872340426,
              0.4572810498
             ]
            },
            {
             "iteration": 55,
             "learn": [
              0.8050043141,
              0.4403027099
             ],
             "passed_time": 0.5556514574,
             "remaining_time": 9.366695996,
             "test": [
              0.7866589994,
              0.4561249239
             ]
            },
            {
             "iteration": 56,
             "learn": [
              0.8048605119,
              0.4396182709
             ],
             "passed_time": 0.5634852269,
             "remaining_time": 9.322220508,
             "test": [
              0.7872340426,
              0.4556565361
             ]
            },
            {
             "iteration": 57,
             "learn": [
              0.8041415013,
              0.4387967563
             ],
             "passed_time": 0.571660823,
             "remaining_time": 9.284560263,
             "test": [
              0.7883841288,
              0.4548603741
             ]
            },
            {
             "iteration": 58,
             "learn": [
              0.8045729077,
              0.4377950929
             ],
             "passed_time": 0.5807720595,
             "remaining_time": 9.262822169,
             "test": [
              0.7866589994,
              0.4540834118
             ]
            },
            {
             "iteration": 59,
             "learn": [
              0.8045729077,
              0.4368934751
             ],
             "passed_time": 0.5893620883,
             "remaining_time": 9.233339383,
             "test": [
              0.7878090857,
              0.4533335027
             ]
            },
            {
             "iteration": 60,
             "learn": [
              0.8048605119,
              0.4359987041
             ],
             "passed_time": 0.5983041996,
             "remaining_time": 9.209961368,
             "test": [
              0.7872340426,
              0.4526680389
             ]
            },
            {
             "iteration": 61,
             "learn": [
              0.8042853034,
              0.4355022039
             ],
             "passed_time": 0.6068624418,
             "remaining_time": 9.181241458,
             "test": [
              0.7872340426,
              0.4522009555
             ]
            },
            {
             "iteration": 62,
             "learn": [
              0.8044291056,
              0.435139755
             ],
             "passed_time": 0.6157120765,
             "remaining_time": 9.157495486,
             "test": [
              0.7866589994,
              0.4518562397
             ]
            },
            {
             "iteration": 63,
             "learn": [
              0.8042853034,
              0.4346873665
             ],
             "passed_time": 0.6247557542,
             "remaining_time": 9.137052905,
             "test": [
              0.7860839563,
              0.4515477216
             ]
            },
            {
             "iteration": 64,
             "learn": [
              0.8048605119,
              0.4339250631
             ],
             "passed_time": 0.6339524342,
             "remaining_time": 9.119161937,
             "test": [
              0.7855089132,
              0.4509350291
             ]
            },
            {
             "iteration": 65,
             "learn": [
              0.8044291056,
              0.4335198135
             ],
             "passed_time": 0.6422857598,
             "remaining_time": 9.089316661,
             "test": [
              0.7855089132,
              0.450614347
             ]
            },
            {
             "iteration": 66,
             "learn": [
              0.8044291056,
              0.4331850952
             ],
             "passed_time": 0.649866113,
             "remaining_time": 9.049628111,
             "test": [
              0.7860839563,
              0.4504711365
             ]
            },
            {
             "iteration": 67,
             "learn": [
              0.803853897,
              0.4324627663
             ],
             "passed_time": 0.6581420281,
             "remaining_time": 9.020417209,
             "test": [
              0.7872340426,
              0.4498280428
             ]
            },
            {
             "iteration": 68,
             "learn": [
              0.8042853034,
              0.4319135307
             ],
             "passed_time": 0.6675189424,
             "remaining_time": 9.006668628,
             "test": [
              0.7860839563,
              0.4494468012
             ]
            },
            {
             "iteration": 69,
             "learn": [
              0.8045729077,
              0.4315965382
             ],
             "passed_time": 0.6758742628,
             "remaining_time": 8.979472348,
             "test": [
              0.7855089132,
              0.4492644989
             ]
            },
            {
             "iteration": 70,
             "learn": [
              0.8044291056,
              0.4312631994
             ],
             "passed_time": 0.6844989046,
             "remaining_time": 8.956330737,
             "test": [
              0.7855089132,
              0.4490319054
             ]
            },
            {
             "iteration": 71,
             "learn": [
              0.8067299396,
              0.4304949813
             ],
             "passed_time": 0.6920404665,
             "remaining_time": 8.91963268,
             "test": [
              0.7866589994,
              0.4481311072
             ]
            },
            {
             "iteration": 72,
             "learn": [
              0.8070175439,
              0.4298715689
             ],
             "passed_time": 0.700328749,
             "remaining_time": 8.893215758,
             "test": [
              0.7872340426,
              0.4476874166
             ]
            },
            {
             "iteration": 73,
             "learn": [
              0.807161346,
              0.4292241906
             ],
             "passed_time": 0.7069897647,
             "remaining_time": 8.846925974,
             "test": [
              0.7872340426,
              0.4469662021
             ]
            },
            {
             "iteration": 74,
             "learn": [
              0.8065861375,
              0.4287903184
             ],
             "passed_time": 0.7159579345,
             "remaining_time": 8.830147859,
             "test": [
              0.7872340426,
              0.4466352916
             ]
            },
            {
             "iteration": 75,
             "learn": [
              0.807161346,
              0.4280426473
             ],
             "passed_time": 0.7241483839,
             "remaining_time": 8.804119825,
             "test": [
              0.7866589994,
              0.4460739102
             ]
            },
            {
             "iteration": 76,
             "learn": [
              0.807161346,
              0.4276527301
             ],
             "passed_time": 0.733339127,
             "remaining_time": 8.790545639,
             "test": [
              0.7855089132,
              0.4457964811
             ]
            },
            {
             "iteration": 77,
             "learn": [
              0.8073051481,
              0.4272447541
             ],
             "passed_time": 0.7405534633,
             "remaining_time": 8.753721708,
             "test": [
              0.7860839563,
              0.4454336865
             ]
            },
            {
             "iteration": 78,
             "learn": [
              0.8075927524,
              0.4268743528
             ],
             "passed_time": 0.7487174189,
             "remaining_time": 8.728718263,
             "test": [
              0.7872340426,
              0.445154784
             ]
            },
            {
             "iteration": 79,
             "learn": [
              0.8074489502,
              0.4260857539
             ],
             "passed_time": 0.7583859025,
             "remaining_time": 8.721437879,
             "test": [
              0.7866589994,
              0.4441430406
             ]
            },
            {
             "iteration": 80,
             "learn": [
              0.807161346,
              0.4257173853
             ],
             "passed_time": 0.7679426965,
             "remaining_time": 8.712831334,
             "test": [
              0.7872340426,
              0.4438669862
             ]
            },
            {
             "iteration": 81,
             "learn": [
              0.8077365545,
              0.4251730696
             ],
             "passed_time": 0.7765033746,
             "remaining_time": 8.693049974,
             "test": [
              0.7866589994,
              0.4433463568
             ]
            },
            {
             "iteration": 82,
             "learn": [
              0.8065861375,
              0.4245518618
             ],
             "passed_time": 0.785049908,
             "remaining_time": 8.673382718,
             "test": [
              0.7866589994,
              0.442959306
             ]
            },
            {
             "iteration": 83,
             "learn": [
              0.8073051481,
              0.4240725426
             ],
             "passed_time": 0.794629364,
             "remaining_time": 8.665244017,
             "test": [
              0.7860839563,
              0.4425830751
             ]
            },
            {
             "iteration": 84,
             "learn": [
              0.8074489502,
              0.4238272718
             ],
             "passed_time": 0.8026702589,
             "remaining_time": 8.640509258,
             "test": [
              0.7866589994,
              0.4425463802
             ]
            },
            {
             "iteration": 85,
             "learn": [
              0.808311763,
              0.4234003817
             ],
             "passed_time": 0.8107915336,
             "remaining_time": 8.617016997,
             "test": [
              0.7855089132,
              0.4422336961
             ]
            },
            {
             "iteration": 86,
             "learn": [
              0.8084555651,
              0.4228279566
             ],
             "passed_time": 0.8196513448,
             "remaining_time": 8.60162848,
             "test": [
              0.7872340426,
              0.4418130742
             ]
            },
            {
             "iteration": 87,
             "learn": [
              0.8080241588,
              0.4224724527
             ],
             "passed_time": 0.8274067363,
             "remaining_time": 8.57494254,
             "test": [
              0.7866589994,
              0.441466257
             ]
            },
            {
             "iteration": 88,
             "learn": [
              0.8080241588,
              0.4219683623
             ],
             "passed_time": 0.8356773586,
             "remaining_time": 8.553955885,
             "test": [
              0.7855089132,
              0.4410911295
             ]
            },
            {
             "iteration": 89,
             "learn": [
              0.8085993673,
              0.4216611944
             ],
             "passed_time": 0.843422346,
             "remaining_time": 8.527937054,
             "test": [
              0.7860839563,
              0.4407627858
             ]
            },
            {
             "iteration": 90,
             "learn": [
              0.8080241588,
              0.4213853682
             ],
             "passed_time": 0.8517534825,
             "remaining_time": 8.508174897,
             "test": [
              0.78493387,
              0.4407271254
             ]
            },
            {
             "iteration": 91,
             "learn": [
              0.807161346,
              0.4207139206
             ],
             "passed_time": 0.8590332895,
             "remaining_time": 8.478285074,
             "test": [
              0.7855089132,
              0.4401788371
             ]
            },
            {
             "iteration": 92,
             "learn": [
              0.8078803566,
              0.4205403326
             ],
             "passed_time": 0.8672542364,
             "remaining_time": 8.458060133,
             "test": [
              0.7860839563,
              0.4399101916
             ]
            },
            {
             "iteration": 93,
             "learn": [
              0.8080241588,
              0.4202217788
             ],
             "passed_time": 0.8753857676,
             "remaining_time": 8.437228781,
             "test": [
              0.7866589994,
              0.4397411687
             ]
            },
            {
             "iteration": 94,
             "learn": [
              0.8081679609,
              0.4201123872
             ],
             "passed_time": 0.8824419162,
             "remaining_time": 8.406420359,
             "test": [
              0.7866589994,
              0.4396355805
             ]
            },
            {
             "iteration": 95,
             "learn": [
              0.808311763,
              0.4199213453
             ],
             "passed_time": 0.8904779997,
             "remaining_time": 8.385334497,
             "test": [
              0.7860839563,
              0.4395423216
             ]
            },
            {
             "iteration": 96,
             "learn": [
              0.8081679609,
              0.419678618
             ],
             "passed_time": 0.8985137209,
             "remaining_time": 8.36451433,
             "test": [
              0.7860839563,
              0.4393180826
             ]
            },
            {
             "iteration": 97,
             "learn": [
              0.8091745758,
              0.419318057
             ],
             "passed_time": 0.907004182,
             "remaining_time": 8.348140533,
             "test": [
              0.7860839563,
              0.439101249
             ]
            },
            {
             "iteration": 98,
             "learn": [
              0.8084555651,
              0.4191427552
             ],
             "passed_time": 0.91430057,
             "remaining_time": 8.321058723,
             "test": [
              0.7860839563,
              0.438980208
             ]
            },
            {
             "iteration": 99,
             "learn": [
              0.8081679609,
              0.418687772
             ],
             "passed_time": 0.9220058052,
             "remaining_time": 8.298052247,
             "test": [
              0.7866589994,
              0.4387345172
             ]
            },
            {
             "iteration": 100,
             "learn": [
              0.8081679609,
              0.4184390989
             ],
             "passed_time": 0.9299208904,
             "remaining_time": 8.277216638,
             "test": [
              0.7866589994,
              0.4385383586
             ]
            },
            {
             "iteration": 101,
             "learn": [
              0.808311763,
              0.4179714708
             ],
             "passed_time": 0.9425404151,
             "remaining_time": 8.29805189,
             "test": [
              0.7866589994,
              0.4382465172
             ]
            },
            {
             "iteration": 102,
             "learn": [
              0.8084555651,
              0.4178394867
             ],
             "passed_time": 0.950333302,
             "remaining_time": 8.27620361,
             "test": [
              0.7860839563,
              0.4381583933
             ]
            },
            {
             "iteration": 103,
             "learn": [
              0.8085993673,
              0.4175746481
             ],
             "passed_time": 0.9583570881,
             "remaining_time": 8.256614913,
             "test": [
              0.7860839563,
              0.4380354439
             ]
            },
            {
             "iteration": 104,
             "learn": [
              0.8088869715,
              0.4171495382
             ],
             "passed_time": 0.9680120298,
             "remaining_time": 8.251150159,
             "test": [
              0.7855089132,
              0.4378094671
             ]
            },
            {
             "iteration": 105,
             "learn": [
              0.8090307737,
              0.4166401469
             ],
             "passed_time": 0.97577259,
             "remaining_time": 8.229629202,
             "test": [
              0.7860839563,
              0.4371470859
             ]
            },
            {
             "iteration": 106,
             "learn": [
              0.8091745758,
              0.4164256154
             ],
             "passed_time": 0.9842304844,
             "remaining_time": 8.214185258,
             "test": [
              0.7866589994,
              0.4369106693
             ]
            },
            {
             "iteration": 107,
             "learn": [
              0.8091745758,
              0.4160090004
             ],
             "passed_time": 0.9918915251,
             "remaining_time": 8.192289263,
             "test": [
              0.7855089132,
              0.4364967868
             ]
            },
            {
             "iteration": 108,
             "learn": [
              0.80946218,
              0.4152617398
             ],
             "passed_time": 1.000180218,
             "remaining_time": 8.175785086,
             "test": [
              0.7855089132,
              0.4356309706
             ]
            },
            {
             "iteration": 109,
             "learn": [
              0.80946218,
              0.414802422
             ],
             "passed_time": 1.008283805,
             "remaining_time": 8.157932604,
             "test": [
              0.7860839563,
              0.4351476556
             ]
            },
            {
             "iteration": 110,
             "learn": [
              0.8093183779,
              0.4145146718
             ],
             "passed_time": 1.015519336,
             "remaining_time": 8.133303511,
             "test": [
              0.7855089132,
              0.4349544982
             ]
            },
            {
             "iteration": 111,
             "learn": [
              0.8093183779,
              0.4141215115
             ],
             "passed_time": 1.025348408,
             "remaining_time": 8.129548095,
             "test": [
              0.7860839563,
              0.4344408728
             ]
            },
            {
             "iteration": 112,
             "learn": [
              0.8091745758,
              0.4137442273
             ],
             "passed_time": 1.034242816,
             "remaining_time": 8.118348477,
             "test": [
              0.7860839563,
              0.434327849
             ]
            },
            {
             "iteration": 113,
             "learn": [
              0.8100373886,
              0.4134630431
             ],
             "passed_time": 1.041953588,
             "remaining_time": 8.097990164,
             "test": [
              0.7878090857,
              0.4342192949
             ]
            },
            {
             "iteration": 114,
             "learn": [
              0.8100373886,
              0.4132612783
             ],
             "passed_time": 1.048820442,
             "remaining_time": 8.071357314,
             "test": [
              0.7883841288,
              0.4340599517
             ]
            },
            {
             "iteration": 115,
             "learn": [
              0.8100373886,
              0.4131129524
             ],
             "passed_time": 1.056774118,
             "remaining_time": 8.053347592,
             "test": [
              0.7889591719,
              0.4340231552
             ]
            },
            {
             "iteration": 116,
             "learn": [
              0.8096059822,
              0.4128933421
             ],
             "passed_time": 1.065330601,
             "remaining_time": 8.040059148,
             "test": [
              0.7878090857,
              0.4337999464
             ]
            },
            {
             "iteration": 117,
             "learn": [
              0.8103249928,
              0.4126376132
             ],
             "passed_time": 1.07257715,
             "remaining_time": 8.017059717,
             "test": [
              0.7872340426,
              0.43369604
             ]
            },
            {
             "iteration": 118,
             "learn": [
              0.8101811907,
              0.4124428738
             ],
             "passed_time": 1.080858705,
             "remaining_time": 8.001987553,
             "test": [
              0.7872340426,
              0.4335745637
             ]
            },
            {
             "iteration": 119,
             "learn": [
              0.8101811907,
              0.4119884817
             ],
             "passed_time": 1.087980431,
             "remaining_time": 7.978523161,
             "test": [
              0.7866589994,
              0.4329992144
             ]
            },
            {
             "iteration": 120,
             "learn": [
              0.8093183779,
              0.4118122255
             ],
             "passed_time": 1.096233181,
             "remaining_time": 7.963545175,
             "test": [
              0.7866589994,
              0.4328553073
             ]
            },
            {
             "iteration": 121,
             "learn": [
              0.8097497843,
              0.4115986992
             ],
             "passed_time": 1.105288463,
             "remaining_time": 7.95445304,
             "test": [
              0.7860839563,
              0.4328513155
             ]
            },
            {
             "iteration": 122,
             "learn": [
              0.8098935864,
              0.4112353204
             ],
             "passed_time": 1.11358429,
             "remaining_time": 7.93994652,
             "test": [
              0.7860839563,
              0.432601856
             ]
            },
            {
             "iteration": 123,
             "learn": [
              0.8098935864,
              0.4110458684
             ],
             "passed_time": 1.12052933,
             "remaining_time": 7.915997528,
             "test": [
              0.7860839563,
              0.4325055785
             ]
            },
            {
             "iteration": 124,
             "learn": [
              0.8098935864,
              0.4108636377
             ],
             "passed_time": 1.128267293,
             "remaining_time": 7.897871053,
             "test": [
              0.7860839563,
              0.4324710517
             ]
            },
            {
             "iteration": 125,
             "learn": [
              0.8100373886,
              0.4106726896
             ],
             "passed_time": 1.136787168,
             "remaining_time": 7.885333211,
             "test": [
              0.7860839563,
              0.4322138943
             ]
            },
            {
             "iteration": 126,
             "learn": [
              0.8106125971,
              0.4104240701
             ],
             "passed_time": 1.14366374,
             "remaining_time": 7.861562561,
             "test": [
              0.7860839563,
              0.4320191162
             ]
            },
            {
             "iteration": 127,
             "learn": [
              0.8106125971,
              0.410289998
             ],
             "passed_time": 1.151703608,
             "remaining_time": 7.845980829,
             "test": [
              0.7860839563,
              0.4319777505
             ]
            },
            {
             "iteration": 128,
             "learn": [
              0.8103249928,
              0.4101258689
             ],
             "passed_time": 1.16030132,
             "remaining_time": 7.834282556,
             "test": [
              0.7860839563,
              0.4318362248
             ]
            },
            {
             "iteration": 129,
             "learn": [
              0.8104687949,
              0.4099820204
             ],
             "passed_time": 1.166957788,
             "remaining_time": 7.80964058,
             "test": [
              0.7860839563,
              0.4316970557
             ]
            },
            {
             "iteration": 130,
             "learn": [
              0.8098935864,
              0.4096705477
             ],
             "passed_time": 1.174102026,
             "remaining_time": 7.788508859,
             "test": [
              0.78493387,
              0.4313767018
             ]
            },
            {
             "iteration": 131,
             "learn": [
              0.8098935864,
              0.4095397068
             ],
             "passed_time": 1.182781374,
             "remaining_time": 7.777683578,
             "test": [
              0.78493387,
              0.4313170711
             ]
            },
            {
             "iteration": 132,
             "learn": [
              0.8104687949,
              0.4093632768
             ],
             "passed_time": 1.192471666,
             "remaining_time": 7.77348071,
             "test": [
              0.7855089132,
              0.4312599743
             ]
            },
            {
             "iteration": 133,
             "learn": [
              0.8106125971,
              0.4091631665
             ],
             "passed_time": 1.202349029,
             "remaining_time": 7.77040492,
             "test": [
              0.78493387,
              0.4311609744
             ]
            },
            {
             "iteration": 134,
             "learn": [
              0.8107563992,
              0.4090890872
             ],
             "passed_time": 1.210656691,
             "remaining_time": 7.757170647,
             "test": [
              0.7855089132,
              0.431076938
             ]
            },
            {
             "iteration": 135,
             "learn": [
              0.8110440035,
              0.4087827168
             ],
             "passed_time": 1.217648219,
             "remaining_time": 7.735647506,
             "test": [
              0.7855089132,
              0.430809141
             ]
            },
            {
             "iteration": 136,
             "learn": [
              0.8113316077,
              0.4084925301
             ],
             "passed_time": 1.225590463,
             "remaining_time": 7.720325326,
             "test": [
              0.7843588269,
              0.4305735779
             ]
            },
            {
             "iteration": 137,
             "learn": [
              0.8110440035,
              0.4083681512
             ],
             "passed_time": 1.23351845,
             "remaining_time": 7.705021044,
             "test": [
              0.7843588269,
              0.430514386
             ]
            },
            {
             "iteration": 138,
             "learn": [
              0.8111878056,
              0.408004564
             ],
             "passed_time": 1.241876285,
             "remaining_time": 7.692485479,
             "test": [
              0.7843588269,
              0.4302583628
             ]
            },
            {
             "iteration": 139,
             "learn": [
              0.8110440035,
              0.4078162522
             ],
             "passed_time": 1.248938545,
             "remaining_time": 7.672051063,
             "test": [
              0.78493387,
              0.4301269414
             ]
            },
            {
             "iteration": 140,
             "learn": [
              0.8110440035,
              0.4077834241
             ],
             "passed_time": 1.254754359,
             "remaining_time": 7.644212729,
             "test": [
              0.78493387,
              0.4300756065
             ]
            },
            {
             "iteration": 141,
             "learn": [
              0.8110440035,
              0.4076455599
             ],
             "passed_time": 1.262209026,
             "remaining_time": 7.626586929,
             "test": [
              0.7855089132,
              0.4300273669
             ]
            },
            {
             "iteration": 142,
             "learn": [
              0.8113316077,
              0.4074691541
             ],
             "passed_time": 1.270108661,
             "remaining_time": 7.611770085,
             "test": [
              0.7855089132,
              0.429881696
             ]
            },
            {
             "iteration": 143,
             "learn": [
              0.8113316077,
              0.4072048576
             ],
             "passed_time": 1.278866341,
             "remaining_time": 7.602149918,
             "test": [
              0.7855089132,
              0.4296419599
             ]
            },
            {
             "iteration": 144,
             "learn": [
              0.8110440035,
              0.4068784941
             ],
             "passed_time": 1.287118259,
             "remaining_time": 7.589559389,
             "test": [
              0.78493387,
              0.429339561
             ]
            },
            {
             "iteration": 145,
             "learn": [
              0.8113316077,
              0.4067156023
             ],
             "passed_time": 1.294760266,
             "remaining_time": 7.573460733,
             "test": [
              0.78493387,
              0.4292948249
             ]
            },
            {
             "iteration": 146,
             "learn": [
              0.8111878056,
              0.4065600528
             ],
             "passed_time": 1.303383029,
             "remaining_time": 7.563168186,
             "test": [
              0.78493387,
              0.4291735382
             ]
            },
            {
             "iteration": 147,
             "learn": [
              0.8113316077,
              0.4064979909
             ],
             "passed_time": 1.311613806,
             "remaining_time": 7.55064164,
             "test": [
              0.78493387,
              0.4291140103
             ]
            },
            {
             "iteration": 148,
             "learn": [
              0.811619212,
              0.4063658124
             ],
             "passed_time": 1.319607867,
             "remaining_time": 7.536820773,
             "test": [
              0.7832087407,
              0.4291887438
             ]
            },
            {
             "iteration": 149,
             "learn": [
              0.8111878056,
              0.4062536613
             ],
             "passed_time": 1.327481448,
             "remaining_time": 7.522394873,
             "test": [
              0.7832087407,
              0.4291352794
             ]
            },
            {
             "iteration": 150,
             "learn": [
              0.8113316077,
              0.4060883753
             ],
             "passed_time": 1.335273385,
             "remaining_time": 7.507596712,
             "test": [
              0.7843588269,
              0.4290757683
             ]
            },
            {
             "iteration": 151,
             "learn": [
              0.8111878056,
              0.4060573307
             ],
             "passed_time": 1.340459196,
             "remaining_time": 7.478351307,
             "test": [
              0.7843588269,
              0.4290407728
             ]
            },
            {
             "iteration": 152,
             "learn": [
              0.8110440035,
              0.4059750042
             ],
             "passed_time": 1.347510498,
             "remaining_time": 7.459747658,
             "test": [
              0.7843588269,
              0.428912419
             ]
            },
            {
             "iteration": 153,
             "learn": [
              0.8111878056,
              0.4059005752
             ],
             "passed_time": 1.354786223,
             "remaining_time": 7.442526915,
             "test": [
              0.7843588269,
              0.4289112157
             ]
            },
            {
             "iteration": 154,
             "learn": [
              0.8114754098,
              0.4058717527
             ],
             "passed_time": 1.362369192,
             "remaining_time": 7.427109463,
             "test": [
              0.78493387,
              0.4289132191
             ]
            },
            {
             "iteration": 155,
             "learn": [
              0.8107563992,
              0.4055425655
             ],
             "passed_time": 1.369934245,
             "remaining_time": 7.411695531,
             "test": [
              0.7843588269,
              0.4286298008
             ]
            },
            {
             "iteration": 156,
             "learn": [
              0.8110440035,
              0.4052944195
             ],
             "passed_time": 1.377510908,
             "remaining_time": 7.396443919,
             "test": [
              0.78493387,
              0.4283029514
             ]
            },
            {
             "iteration": 157,
             "learn": [
              0.8110440035,
              0.4051029832
             ],
             "passed_time": 1.384679628,
             "remaining_time": 7.379115485,
             "test": [
              0.7843588269,
              0.4280733216
             ]
            },
            {
             "iteration": 158,
             "learn": [
              0.8109002013,
              0.4049826319
             ],
             "passed_time": 1.392947753,
             "remaining_time": 7.367729938,
             "test": [
              0.7843588269,
              0.4279733759
             ]
            },
            {
             "iteration": 159,
             "learn": [
              0.8120506183,
              0.4046421949
             ],
             "passed_time": 1.400698693,
             "remaining_time": 7.353668141,
             "test": [
              0.78493387,
              0.42765929
             ]
            },
            {
             "iteration": 160,
             "learn": [
              0.8117630141,
              0.4045292986
             ],
             "passed_time": 1.408572186,
             "remaining_time": 7.340323382,
             "test": [
              0.7843588269,
              0.4276522798
             ]
            },
            {
             "iteration": 161,
             "learn": [
              0.8117630141,
              0.4043814526
             ],
             "passed_time": 1.416838679,
             "remaining_time": 7.329079094,
             "test": [
              0.7843588269,
              0.4274785932
             ]
            },
            {
             "iteration": 162,
             "learn": [
              0.8114754098,
              0.4040808942
             ],
             "passed_time": 1.42445457,
             "remaining_time": 7.314530522,
             "test": [
              0.7837837838,
              0.4273309878
             ]
            },
            {
             "iteration": 163,
             "learn": [
              0.8117630141,
              0.4039945192
             ],
             "passed_time": 1.431969824,
             "remaining_time": 7.299553491,
             "test": [
              0.7843588269,
              0.4272488837
             ]
            },
            {
             "iteration": 164,
             "learn": [
              0.8120506183,
              0.4038245651
             ],
             "passed_time": 1.440580052,
             "remaining_time": 7.290208142,
             "test": [
              0.7843588269,
              0.4271673914
             ]
            },
            {
             "iteration": 165,
             "learn": [
              0.811619212,
              0.4035246965
             ],
             "passed_time": 1.450129781,
             "remaining_time": 7.285591791,
             "test": [
              0.7837837838,
              0.4271005
             ]
            },
            {
             "iteration": 166,
             "learn": [
              0.8120506183,
              0.4033024528
             ],
             "passed_time": 1.458066308,
             "remaining_time": 7.272869667,
             "test": [
              0.7843588269,
              0.4269052476
             ]
            },
            {
             "iteration": 167,
             "learn": [
              0.8120506183,
              0.403120773
             ],
             "passed_time": 1.465715511,
             "remaining_time": 7.258781578,
             "test": [
              0.7843588269,
              0.4267510633
             ]
            },
            {
             "iteration": 168,
             "learn": [
              0.8123382226,
              0.4029580376
             ],
             "passed_time": 1.473473772,
             "remaining_time": 7.245305942,
             "test": [
              0.7837837838,
              0.4266598679
             ]
            },
            {
             "iteration": 169,
             "learn": [
              0.8123382226,
              0.4028938173
             ],
             "passed_time": 1.480932862,
             "remaining_time": 7.230436912,
             "test": [
              0.7837837838,
              0.4266854794
             ]
            },
            {
             "iteration": 170,
             "learn": [
              0.8121944205,
              0.4026440711
             ],
             "passed_time": 1.489340879,
             "remaining_time": 7.220254906,
             "test": [
              0.7837837838,
              0.4265292032
             ]
            },
            {
             "iteration": 171,
             "learn": [
              0.8121944205,
              0.4025054036
             ],
             "passed_time": 1.4975457,
             "remaining_time": 7.209115345,
             "test": [
              0.7843588269,
              0.4263801315
             ]
            },
            {
             "iteration": 172,
             "learn": [
              0.8123382226,
              0.402398998
             ],
             "passed_time": 1.505668494,
             "remaining_time": 7.1976176,
             "test": [
              0.7843588269,
              0.4262827157
             ]
            },
            {
             "iteration": 173,
             "learn": [
              0.8129134311,
              0.4020936196
             ],
             "passed_time": 1.513516195,
             "remaining_time": 7.184852741,
             "test": [
              0.7843588269,
              0.4260199623
             ]
            },
            {
             "iteration": 174,
             "learn": [
              0.8123382226,
              0.4018194151
             ],
             "passed_time": 1.521602457,
             "remaining_time": 7.173268724,
             "test": [
              0.7837837838,
              0.425865282
             ]
            },
            {
             "iteration": 175,
             "learn": [
              0.8123382226,
              0.4016633646
             ],
             "passed_time": 1.529079259,
             "remaining_time": 7.158871077,
             "test": [
              0.7837837838,
              0.4257670682
             ]
            },
            {
             "iteration": 176,
             "learn": [
              0.8123382226,
              0.4016235013
             ],
             "passed_time": 1.537647964,
             "remaining_time": 7.149628668,
             "test": [
              0.7837837838,
              0.4257690019
             ]
            },
            {
             "iteration": 177,
             "learn": [
              0.8132010354,
              0.4014698901
             ],
             "passed_time": 1.545645755,
             "remaining_time": 7.137757362,
             "test": [
              0.7837837838,
              0.425707724
             ]
            },
            {
             "iteration": 178,
             "learn": [
              0.8132010354,
              0.4012810907
             ],
             "passed_time": 1.552810111,
             "remaining_time": 7.122106711,
             "test": [
              0.7832087407,
              0.4255922218
             ]
            },
            {
             "iteration": 179,
             "learn": [
              0.8133448375,
              0.4012406651
             ],
             "passed_time": 1.560407668,
             "remaining_time": 7.108523823,
             "test": [
              0.7832087407,
              0.4255590606
             ]
            },
            {
             "iteration": 180,
             "learn": [
              0.8130572332,
              0.4009965804
             ],
             "passed_time": 1.567398335,
             "remaining_time": 7.092260975,
             "test": [
              0.7832087407,
              0.4254438519
             ]
            },
            {
             "iteration": 181,
             "learn": [
              0.8130572332,
              0.4008567927
             ],
             "passed_time": 1.575831427,
             "remaining_time": 7.082583008,
             "test": [
              0.7832087407,
              0.4253779236
             ]
            },
            {
             "iteration": 182,
             "learn": [
              0.8129134311,
              0.4007917619
             ],
             "passed_time": 1.583478218,
             "remaining_time": 7.069408218,
             "test": [
              0.7832087407,
              0.42528685
             ]
            },
            {
             "iteration": 183,
             "learn": [
              0.8130572332,
              0.4006406538
             ],
             "passed_time": 1.59174048,
             "remaining_time": 7.059022998,
             "test": [
              0.7837837838,
              0.4252536447
             ]
            },
            {
             "iteration": 184,
             "learn": [
              0.8130572332,
              0.4005815839
             ],
             "passed_time": 1.600891399,
             "remaining_time": 7.052575623,
             "test": [
              0.7837837838,
              0.425224528
             ]
            },
            {
             "iteration": 185,
             "learn": [
              0.8130572332,
              0.4003760524
             ],
             "passed_time": 1.608187453,
             "remaining_time": 7.037981649,
             "test": [
              0.7832087407,
              0.425013704
             ]
            },
            {
             "iteration": 186,
             "learn": [
              0.812769629,
              0.400247765
             ],
             "passed_time": 1.615692951,
             "remaining_time": 7.024376306,
             "test": [
              0.7837837838,
              0.4247963371
             ]
            },
            {
             "iteration": 187,
             "learn": [
              0.812769629,
              0.4001121068
             ],
             "passed_time": 1.623973705,
             "remaining_time": 7.0141843,
             "test": [
              0.7843588269,
              0.4247055524
             ]
            },
            {
             "iteration": 188,
             "learn": [
              0.8129134311,
              0.4000092743
             ],
             "passed_time": 1.631491455,
             "remaining_time": 7.000738467,
             "test": [
              0.7837837838,
              0.4246434523
             ]
            },
            {
             "iteration": 189,
             "learn": [
              0.8130572332,
              0.3998541944
             ],
             "passed_time": 1.638935979,
             "remaining_time": 6.98704286,
             "test": [
              0.7843588269,
              0.4245308038
             ]
            },
            {
             "iteration": 190,
             "learn": [
              0.8130572332,
              0.3997503786
             ],
             "passed_time": 1.646933874,
             "remaining_time": 6.975756566,
             "test": [
              0.7843588269,
              0.424498316
             ]
            },
            {
             "iteration": 191,
             "learn": [
              0.8134886396,
              0.3993784944
             ],
             "passed_time": 1.65537816,
             "remaining_time": 6.966383091,
             "test": [
              0.7843588269,
              0.4241060563
             ]
            },
            {
             "iteration": 192,
             "learn": [
              0.8132010354,
              0.3993018881
             ],
             "passed_time": 1.662881991,
             "remaining_time": 6.953086876,
             "test": [
              0.7837837838,
              0.4241021624
             ]
            },
            {
             "iteration": 193,
             "learn": [
              0.8132010354,
              0.3987906538
             ],
             "passed_time": 1.670431992,
             "remaining_time": 6.940042192,
             "test": [
              0.7843588269,
              0.4234146544
             ]
            },
            {
             "iteration": 194,
             "learn": [
              0.8133448375,
              0.3984913377
             ],
             "passed_time": 1.679270066,
             "remaining_time": 6.932371297,
             "test": [
              0.7843588269,
              0.4232644292
             ]
            },
            {
             "iteration": 195,
             "learn": [
              0.8132010354,
              0.3982874514
             ],
             "passed_time": 1.688671615,
             "remaining_time": 6.926999889,
             "test": [
              0.7843588269,
              0.4231417005
             ]
            },
            {
             "iteration": 196,
             "learn": [
              0.8129134311,
              0.398143119
             ],
             "passed_time": 1.696353505,
             "remaining_time": 6.914577993,
             "test": [
              0.7843588269,
              0.4230664762
             ]
            },
            {
             "iteration": 197,
             "learn": [
              0.8132010354,
              0.3979331286
             ],
             "passed_time": 1.703338882,
             "remaining_time": 6.899382745,
             "test": [
              0.7843588269,
              0.4229931022
             ]
            },
            {
             "iteration": 198,
             "learn": [
              0.8132010354,
              0.3978755586
             ],
             "passed_time": 1.710902708,
             "remaining_time": 6.886598339,
             "test": [
              0.7837837838,
              0.4229509822
             ]
            },
            {
             "iteration": 199,
             "learn": [
              0.8129134311,
              0.3977866771
             ],
             "passed_time": 1.718795234,
             "remaining_time": 6.875180936,
             "test": [
              0.7832087407,
              0.4229398599
             ]
            },
            {
             "iteration": 200,
             "learn": [
              0.8129134311,
              0.3976416587
             ],
             "passed_time": 1.727020106,
             "remaining_time": 6.865119724,
             "test": [
              0.7837837838,
              0.4229826003
             ]
            },
            {
             "iteration": 201,
             "learn": [
              0.8129134311,
              0.39726557
             ],
             "passed_time": 1.736310485,
             "remaining_time": 6.859285975,
             "test": [
              0.7832087407,
              0.4227518878
             ]
            },
            {
             "iteration": 202,
             "learn": [
              0.8133448375,
              0.3970801858
             ],
             "passed_time": 1.747401051,
             "remaining_time": 6.860485899,
             "test": [
              0.78493387,
              0.4225471747
             ]
            },
            {
             "iteration": 203,
             "learn": [
              0.8130572332,
              0.3969035733
             ],
             "passed_time": 1.757630714,
             "remaining_time": 6.858206119,
             "test": [
              0.78493387,
              0.4225454614
             ]
            },
            {
             "iteration": 204,
             "learn": [
              0.8140638481,
              0.3967569048
             ],
             "passed_time": 1.768913406,
             "remaining_time": 6.859932479,
             "test": [
              0.7855089132,
              0.4224974718
             ]
            },
            {
             "iteration": 205,
             "learn": [
              0.8140638481,
              0.3965515617
             ],
             "passed_time": 1.778232452,
             "remaining_time": 6.853963917,
             "test": [
              0.78493387,
              0.4224084931
             ]
            },
            {
             "iteration": 206,
             "learn": [
              0.8140638481,
              0.3961650289
             ],
             "passed_time": 1.78634543,
             "remaining_time": 6.843342637,
             "test": [
              0.7832087407,
              0.4220271328
             ]
            },
            {
             "iteration": 207,
             "learn": [
              0.8140638481,
              0.3960199467
             ],
             "passed_time": 1.802626638,
             "remaining_time": 6.863847584,
             "test": [
              0.7832087407,
              0.4219233994
             ]
            },
            {
             "iteration": 208,
             "learn": [
              0.8140638481,
              0.3957835388
             ],
             "passed_time": 1.811171868,
             "remaining_time": 6.854722237,
             "test": [
              0.7837837838,
              0.4218077584
             ]
            },
            {
             "iteration": 209,
             "learn": [
              0.8142076503,
              0.3956380859
             ],
             "passed_time": 1.820186492,
             "remaining_time": 6.847368231,
             "test": [
              0.7843588269,
              0.4217343348
             ]
            },
            {
             "iteration": 210,
             "learn": [
              0.8143514524,
              0.3953576111
             ],
             "passed_time": 1.831944472,
             "remaining_time": 6.850256818,
             "test": [
              0.7832087407,
              0.4215014492
             ]
            },
            {
             "iteration": 211,
             "learn": [
              0.8144952545,
              0.3953159224
             ],
             "passed_time": 1.84253643,
             "remaining_time": 6.848673147,
             "test": [
              0.7832087407,
              0.4214209928
             ]
            },
            {
             "iteration": 212,
             "learn": [
              0.8146390567,
              0.3952776879
             ],
             "passed_time": 1.850474768,
             "remaining_time": 6.837200199,
             "test": [
              0.7832087407,
              0.421395896
             ]
            },
            {
             "iteration": 213,
             "learn": [
              0.8149266609,
              0.394973969
             ],
             "passed_time": 1.859581655,
             "remaining_time": 6.830052246,
             "test": [
              0.7832087407,
              0.4211305879
             ]
            },
            {
             "iteration": 214,
             "learn": [
              0.8149266609,
              0.3948312967
             ],
             "passed_time": 1.868186551,
             "remaining_time": 6.82105322,
             "test": [
              0.7837837838,
              0.4210557017
             ]
            },
            {
             "iteration": 215,
             "learn": [
              0.8152142652,
              0.3945758314
             ],
             "passed_time": 1.877816841,
             "remaining_time": 6.815779644,
             "test": [
              0.7843588269,
              0.4209056135
             ]
            },
            {
             "iteration": 216,
             "learn": [
              0.8153580673,
              0.3943437582
             ],
             "passed_time": 1.888433321,
             "remaining_time": 6.81402438,
             "test": [
              0.7843588269,
              0.4208482705
             ]
            },
            {
             "iteration": 217,
             "learn": [
              0.8152142652,
              0.3941369564
             ],
             "passed_time": 1.907024107,
             "remaining_time": 6.840792897,
             "test": [
              0.7837837838,
              0.4206496048
             ]
            },
            {
             "iteration": 218,
             "learn": [
              0.8155018694,
              0.3940240888
             ],
             "passed_time": 1.922979148,
             "remaining_time": 6.857747555,
             "test": [
              0.7837837838,
              0.4206002528
             ]
            },
            {
             "iteration": 219,
             "learn": [
              0.8160770779,
              0.3937015614
             ],
             "passed_time": 1.933375292,
             "remaining_time": 6.854694215,
             "test": [
              0.7832087407,
              0.4202454264
             ]
            },
            {
             "iteration": 220,
             "learn": [
              0.8160770779,
              0.393656904
             ],
             "passed_time": 1.942360974,
             "remaining_time": 6.84660271,
             "test": [
              0.7832087407,
              0.4202167499
             ]
            },
            {
             "iteration": 221,
             "learn": [
              0.8159332758,
              0.3935184169
             ],
             "passed_time": 1.952764273,
             "remaining_time": 6.843471192,
             "test": [
              0.7832087407,
              0.4202378934
             ]
            },
            {
             "iteration": 222,
             "learn": [
              0.8153580673,
              0.3933827906
             ],
             "passed_time": 1.962256604,
             "remaining_time": 6.837100366,
             "test": [
              0.7832087407,
              0.4201075955
             ]
            },
            {
             "iteration": 223,
             "learn": [
              0.8153580673,
              0.3933273302
             ],
             "passed_time": 1.969723628,
             "remaining_time": 6.823685427,
             "test": [
              0.7832087407,
              0.4201030207
             ]
            },
            {
             "iteration": 224,
             "learn": [
              0.8159332758,
              0.3930559569
             ],
             "passed_time": 1.979293379,
             "remaining_time": 6.817566083,
             "test": [
              0.7832087407,
              0.4199277119
             ]
            },
            {
             "iteration": 225,
             "learn": [
              0.8156456716,
              0.3929197142
             ],
             "passed_time": 1.987207796,
             "remaining_time": 6.805747053,
             "test": [
              0.7837837838,
              0.4198141366
             ]
            },
            {
             "iteration": 226,
             "learn": [
              0.8159332758,
              0.39284452
             ],
             "passed_time": 1.995681111,
             "remaining_time": 6.795865632,
             "test": [
              0.7837837838,
              0.4197668223
             ]
            },
            {
             "iteration": 227,
             "learn": [
              0.8160770779,
              0.3926541266
             ],
             "passed_time": 2.0086396,
             "remaining_time": 6.801183207,
             "test": [
              0.7843588269,
              0.4196613915
             ]
            },
            {
             "iteration": 228,
             "learn": [
              0.8160770779,
              0.3926065386
             ],
             "passed_time": 2.01859556,
             "remaining_time": 6.796232212,
             "test": [
              0.7843588269,
              0.4196287991
             ]
            },
            {
             "iteration": 229,
             "learn": [
              0.8162208801,
              0.3923177628
             ],
             "passed_time": 2.02622754,
             "remaining_time": 6.783457416,
             "test": [
              0.7843588269,
              0.4194048923
             ]
            },
            {
             "iteration": 230,
             "learn": [
              0.8159332758,
              0.3921143423
             ],
             "passed_time": 2.035256788,
             "remaining_time": 6.775378659,
             "test": [
              0.7843588269,
              0.4194245417
             ]
            },
            {
             "iteration": 231,
             "learn": [
              0.8159332758,
              0.3919248663
             ],
             "passed_time": 2.045165132,
             "remaining_time": 6.770201817,
             "test": [
              0.7837837838,
              0.4195146258
             ]
            },
            {
             "iteration": 232,
             "learn": [
              0.8156456716,
              0.3918692161
             ],
             "passed_time": 2.054493181,
             "remaining_time": 6.76307412,
             "test": [
              0.7837837838,
              0.4195147057
             ]
            },
            {
             "iteration": 233,
             "learn": [
              0.8159332758,
              0.3917766369
             ],
             "passed_time": 2.063733141,
             "remaining_time": 6.755639256,
             "test": [
              0.7837837838,
              0.4194437699
             ]
            },
            {
             "iteration": 234,
             "learn": [
              0.8156456716,
              0.3917265772
             ],
             "passed_time": 2.070533751,
             "remaining_time": 6.740248169,
             "test": [
              0.7837837838,
              0.4194290397
             ]
            },
            {
             "iteration": 235,
             "learn": [
              0.8160770779,
              0.3914130969
             ],
             "passed_time": 2.079998054,
             "remaining_time": 6.733553021,
             "test": [
              0.7837837838,
              0.4192066864
             ]
            },
            {
             "iteration": 236,
             "learn": [
              0.8160770779,
              0.3911086389
             ],
             "passed_time": 2.095380553,
             "remaining_time": 6.745887604,
             "test": [
              0.7837837838,
              0.4188668879
             ]
            },
            {
             "iteration": 237,
             "learn": [
              0.8157894737,
              0.3910471539
             ],
             "passed_time": 2.105742978,
             "remaining_time": 6.741916595,
             "test": [
              0.7832087407,
              0.4188942297
             ]
            },
            {
             "iteration": 238,
             "learn": [
              0.8160770779,
              0.3908613116
             ],
             "passed_time": 2.116489317,
             "remaining_time": 6.739114521,
             "test": [
              0.7832087407,
              0.4187835117
             ]
            },
            {
             "iteration": 239,
             "learn": [
              0.8159332758,
              0.3907849618
             ],
             "passed_time": 2.12658958,
             "remaining_time": 6.734200336,
             "test": [
              0.7832087407,
              0.4187594366
             ]
            },
            {
             "iteration": 240,
             "learn": [
              0.8162208801,
              0.3907587384
             ],
             "passed_time": 2.134758189,
             "remaining_time": 6.723159608,
             "test": [
              0.7832087407,
              0.4187536374
             ]
            },
            {
             "iteration": 241,
             "learn": [
              0.8167960886,
              0.3904867937
             ],
             "passed_time": 2.142444114,
             "remaining_time": 6.710630739,
             "test": [
              0.7826336975,
              0.4184769121
             ]
            },
            {
             "iteration": 242,
             "learn": [
              0.8167960886,
              0.3903945757
             ],
             "passed_time": 2.150177223,
             "remaining_time": 6.698288714,
             "test": [
              0.7820586544,
              0.4183914865
             ]
            },
            {
             "iteration": 243,
             "learn": [
              0.8169398907,
              0.3902883347
             ],
             "passed_time": 2.15816949,
             "remaining_time": 6.686787436,
             "test": [
              0.7826336975,
              0.4183254494
             ]
            },
            {
             "iteration": 244,
             "learn": [
              0.817227495,
              0.3900351319
             ],
             "passed_time": 2.170918445,
             "remaining_time": 6.689973168,
             "test": [
              0.7826336975,
              0.4182864964
             ]
            },
            {
             "iteration": 245,
             "learn": [
              0.8170836928,
              0.3899264808
             ],
             "passed_time": 2.18022149,
             "remaining_time": 6.682467494,
             "test": [
              0.7832087407,
              0.4182068163
             ]
            },
            {
             "iteration": 246,
             "learn": [
              0.817227495,
              0.3897325348
             ],
             "passed_time": 2.190638147,
             "remaining_time": 6.678342206,
             "test": [
              0.7832087407,
              0.4181404984
             ]
            },
            {
             "iteration": 247,
             "learn": [
              0.8175150992,
              0.389593685
             ],
             "passed_time": 2.201289915,
             "remaining_time": 6.674879098,
             "test": [
              0.7832087407,
              0.4181324897
             ]
            },
            {
             "iteration": 248,
             "learn": [
              0.8173712971,
              0.3894977045
             ],
             "passed_time": 2.21434703,
             "remaining_time": 6.67861293,
             "test": [
              0.7826336975,
              0.418112713
             ]
            },
            {
             "iteration": 249,
             "learn": [
              0.817227495,
              0.3894381236
             ],
             "passed_time": 2.225032793,
             "remaining_time": 6.675098379,
             "test": [
              0.7820586544,
              0.4180951504
             ]
            },
            {
             "iteration": 250,
             "learn": [
              0.817227495,
              0.389404356
             ],
             "passed_time": 2.234942661,
             "remaining_time": 6.669211367,
             "test": [
              0.7820586544,
              0.4180769875
             ]
            },
            {
             "iteration": 251,
             "learn": [
              0.8173712971,
              0.3893937838
             ],
             "passed_time": 2.244573177,
             "remaining_time": 6.662463241,
             "test": [
              0.7826336975,
              0.4180722229
             ]
            },
            {
             "iteration": 252,
             "learn": [
              0.8178027035,
              0.3893342879
             ],
             "passed_time": 2.253460898,
             "remaining_time": 6.653499174,
             "test": [
              0.7832087407,
              0.4180426366
             ]
            },
            {
             "iteration": 253,
             "learn": [
              0.8176589014,
              0.3892029016
             ],
             "passed_time": 2.262457393,
             "remaining_time": 6.644855178,
             "test": [
              0.7826336975,
              0.4179427098
             ]
            },
            {
             "iteration": 254,
             "learn": [
              0.8179465056,
              0.3890206758
             ],
             "passed_time": 2.273831953,
             "remaining_time": 6.643156097,
             "test": [
              0.7826336975,
              0.417864508
             ]
            },
            {
             "iteration": 255,
             "learn": [
              0.8173712971,
              0.388960038
             ],
             "passed_time": 2.284209927,
             "remaining_time": 6.638485101,
             "test": [
              0.7832087407,
              0.4177789387
             ]
            },
            {
             "iteration": 256,
             "learn": [
              0.8176589014,
              0.3888986706
             ],
             "passed_time": 2.295189077,
             "remaining_time": 6.63550772,
             "test": [
              0.7826336975,
              0.4177622658
             ]
            },
            {
             "iteration": 257,
             "learn": [
              0.817227495,
              0.3887873816
             ],
             "passed_time": 2.304871536,
             "remaining_time": 6.628739069,
             "test": [
              0.7826336975,
              0.4176250535
             ]
            },
            {
             "iteration": 258,
             "learn": [
              0.8173712971,
              0.3887339212
             ],
             "passed_time": 2.312895008,
             "remaining_time": 6.617201549,
             "test": [
              0.7826336975,
              0.4176093052
             ]
            },
            {
             "iteration": 259,
             "learn": [
              0.8173712971,
              0.38857575
             ],
             "passed_time": 2.320992038,
             "remaining_time": 6.605900417,
             "test": [
              0.7826336975,
              0.4175109368
             ]
            },
            {
             "iteration": 260,
             "learn": [
              0.8176589014,
              0.3884596366
             ],
             "passed_time": 2.330764327,
             "remaining_time": 6.599367195,
             "test": [
              0.7814836113,
              0.4175816998
             ]
            },
            {
             "iteration": 261,
             "learn": [
              0.8178027035,
              0.388414007
             ],
             "passed_time": 2.338632398,
             "remaining_time": 6.587445458,
             "test": [
              0.7814836113,
              0.4175688934
             ]
            },
            {
             "iteration": 262,
             "learn": [
              0.8179465056,
              0.3881979459
             ],
             "passed_time": 2.35355263,
             "remaining_time": 6.595316684,
             "test": [
              0.7814836113,
              0.4174463007
             ]
            },
            {
             "iteration": 263,
             "learn": [
              0.8179465056,
              0.388179532
             ],
             "passed_time": 2.363516144,
             "remaining_time": 6.589196523,
             "test": [
              0.7809085681,
              0.4174631596
             ]
            },
            {
             "iteration": 264,
             "learn": [
              0.8182341099,
              0.388040204
             ],
             "passed_time": 2.381895876,
             "remaining_time": 6.606390447,
             "test": [
              0.7797584819,
              0.4173543999
             ]
            },
            {
             "iteration": 265,
             "learn": [
              0.8182341099,
              0.3880033312
             ],
             "passed_time": 2.392606166,
             "remaining_time": 6.602153857,
             "test": [
              0.780333525,
              0.4173710767
             ]
            },
            {
             "iteration": 266,
             "learn": [
              0.8180903077,
              0.3878500653
             ],
             "passed_time": 2.403459289,
             "remaining_time": 6.598260893,
             "test": [
              0.7809085681,
              0.4173496968
             ]
            },
            {
             "iteration": 267,
             "learn": [
              0.8182341099,
              0.3876730002
             ],
             "passed_time": 2.411911742,
             "remaining_time": 6.587758936,
             "test": [
              0.7797584819,
              0.4172811739
             ]
            },
            {
             "iteration": 268,
             "learn": [
              0.8182341099,
              0.3874584723
             ],
             "passed_time": 2.423015479,
             "remaining_time": 6.584477007,
             "test": [
              0.7797584819,
              0.4171763882
             ]
            },
            {
             "iteration": 269,
             "learn": [
              0.8185217141,
              0.3873336294
             ],
             "passed_time": 2.434875313,
             "remaining_time": 6.583181402,
             "test": [
              0.7809085681,
              0.4170838598
             ]
            },
            {
             "iteration": 270,
             "learn": [
              0.8186655162,
              0.387303013
             ],
             "passed_time": 2.444640778,
             "remaining_time": 6.5761739,
             "test": [
              0.780333525,
              0.4170725646
             ]
            },
            {
             "iteration": 271,
             "learn": [
              0.8186655162,
              0.3872655837
             ],
             "passed_time": 2.453295592,
             "remaining_time": 6.566173497,
             "test": [
              0.780333525,
              0.4170597369
             ]
            },
            {
             "iteration": 272,
             "learn": [
              0.8186655162,
              0.3871435654
             ],
             "passed_time": 2.462174271,
             "remaining_time": 6.556779104,
             "test": [
              0.780333525,
              0.4170469024
             ]
            },
            {
             "iteration": 273,
             "learn": [
              0.8188093184,
              0.3871154915
             ],
             "passed_time": 2.471519164,
             "remaining_time": 6.548623771,
             "test": [
              0.7797584819,
              0.417064489
             ]
            },
            {
             "iteration": 274,
             "learn": [
              0.8186655162,
              0.3870704785
             ],
             "passed_time": 2.479679907,
             "remaining_time": 6.537337937,
             "test": [
              0.7797584819,
              0.4170511862
             ]
            },
            {
             "iteration": 275,
             "learn": [
              0.8186655162,
              0.3869905733
             ],
             "passed_time": 2.488353416,
             "remaining_time": 6.527419831,
             "test": [
              0.7809085681,
              0.4170133616
             ]
            },
            {
             "iteration": 276,
             "learn": [
              0.8186655162,
              0.3869320082
             ],
             "passed_time": 2.499166229,
             "remaining_time": 6.523094525,
             "test": [
              0.7809085681,
              0.416978466
             ]
            },
            {
             "iteration": 277,
             "learn": [
              0.8186655162,
              0.38687678
             ],
             "passed_time": 2.510760997,
             "remaining_time": 6.520753381,
             "test": [
              0.7809085681,
              0.4169632218
             ]
            },
            {
             "iteration": 278,
             "learn": [
              0.8186655162,
              0.3868090137
             ],
             "passed_time": 2.520566587,
             "remaining_time": 6.513722255,
             "test": [
              0.7809085681,
              0.4169815341
             ]
            },
            {
             "iteration": 279,
             "learn": [
              0.8190969226,
              0.3866770964
             ],
             "passed_time": 2.53214166,
             "remaining_time": 6.511221412,
             "test": [
              0.7809085681,
              0.4170249028
             ]
            },
            {
             "iteration": 280,
             "learn": [
              0.8190969226,
              0.3866441401
             ],
             "passed_time": 2.540757009,
             "remaining_time": 6.501082881,
             "test": [
              0.7809085681,
              0.4170040708
             ]
            },
            {
             "iteration": 281,
             "learn": [
              0.818377912,
              0.3864867639
             ],
             "passed_time": 2.550234877,
             "remaining_time": 6.493151211,
             "test": [
              0.7814836113,
              0.4168878966
             ]
            },
            {
             "iteration": 282,
             "learn": [
              0.818377912,
              0.3864419776
             ],
             "passed_time": 2.558405353,
             "remaining_time": 6.481896247,
             "test": [
              0.7814836113,
              0.4168264163
             ]
            },
            {
             "iteration": 283,
             "learn": [
              0.8186655162,
              0.3861512641
             ],
             "passed_time": 2.567608654,
             "remaining_time": 6.473266888,
             "test": [
              0.7809085681,
              0.4164437005
             ]
            },
            {
             "iteration": 284,
             "learn": [
              0.8189531205,
              0.3859996341
             ],
             "passed_time": 2.577391682,
             "remaining_time": 6.466087905,
             "test": [
              0.780333525,
              0.4163421793
             ]
            },
            {
             "iteration": 285,
             "learn": [
              0.8190969226,
              0.3859444928
             ],
             "passed_time": 2.587405698,
             "remaining_time": 6.459467372,
             "test": [
              0.780333525,
              0.4162969163
             ]
            },
            {
             "iteration": 286,
             "learn": [
              0.8189531205,
              0.3858991343
             ],
             "passed_time": 2.595779602,
             "remaining_time": 6.448748628,
             "test": [
              0.7809085681,
              0.4162877327
             ]
            },
            {
             "iteration": 287,
             "learn": [
              0.8189531205,
              0.3858718732
             ],
             "passed_time": 2.605057111,
             "remaining_time": 6.440280079,
             "test": [
              0.7809085681,
              0.4162868978
             ]
            },
            {
             "iteration": 288,
             "learn": [
              0.8189531205,
              0.38585512
             ],
             "passed_time": 2.614116293,
             "remaining_time": 6.431268805,
             "test": [
              0.7809085681,
              0.4162867974
             ]
            },
            {
             "iteration": 289,
             "learn": [
              0.8190969226,
              0.385785126
             ],
             "passed_time": 2.622009831,
             "remaining_time": 6.41940338,
             "test": [
              0.7814836113,
              0.4162392325
             ]
            },
            {
             "iteration": 290,
             "learn": [
              0.8190969226,
              0.3857585319
             ],
             "passed_time": 2.632464143,
             "remaining_time": 6.413804391,
             "test": [
              0.7814836113,
              0.4162325011
             ]
            },
            {
             "iteration": 291,
             "learn": [
              0.8190969226,
              0.3857363785
             ],
             "passed_time": 2.639656925,
             "remaining_time": 6.400264052,
             "test": [
              0.7814836113,
              0.4162284298
             ]
            },
            {
             "iteration": 292,
             "learn": [
              0.8193845269,
              0.3854973192
             ],
             "passed_time": 2.649020399,
             "remaining_time": 6.392004853,
             "test": [
              0.7814836113,
              0.4161087049
             ]
            },
            {
             "iteration": 293,
             "learn": [
              0.819528329,
              0.3853841305
             ],
             "passed_time": 2.657039982,
             "remaining_time": 6.380510977,
             "test": [
              0.7826336975,
              0.4160331653
             ]
            },
            {
             "iteration": 294,
             "learn": [
              0.819528329,
              0.3853413212
             ],
             "passed_time": 2.66509933,
             "remaining_time": 6.369135687,
             "test": [
              0.7826336975,
              0.4160316849
             ]
            },
            {
             "iteration": 295,
             "learn": [
              0.8196721311,
              0.3853010005
             ],
             "passed_time": 2.674289112,
             "remaining_time": 6.360471402,
             "test": [
              0.7826336975,
              0.4159955379
             ]
            },
            {
             "iteration": 296,
             "learn": [
              0.8196721311,
              0.3852637809
             ],
             "passed_time": 2.681663483,
             "remaining_time": 6.347506492,
             "test": [
              0.7826336975,
              0.4159949563
             ]
            },
            {
             "iteration": 297,
             "learn": [
              0.8196721311,
              0.385057619
             ],
             "passed_time": 2.691958256,
             "remaining_time": 6.341458711,
             "test": [
              0.7820586544,
              0.4159588954
             ]
            },
            {
             "iteration": 298,
             "learn": [
              0.8196721311,
              0.3849730237
             ],
             "passed_time": 2.701157207,
             "remaining_time": 6.332813385,
             "test": [
              0.7826336975,
              0.4159319363
             ]
            },
            {
             "iteration": 299,
             "learn": [
              0.8199597354,
              0.3847964153
             ],
             "passed_time": 2.711122345,
             "remaining_time": 6.325952137,
             "test": [
              0.7826336975,
              0.4158972325
             ]
            },
            {
             "iteration": 300,
             "learn": [
              0.8193845269,
              0.384679054
             ],
             "passed_time": 2.720050696,
             "remaining_time": 6.316662581,
             "test": [
              0.7832087407,
              0.4158132009
             ]
            },
            {
             "iteration": 301,
             "learn": [
              0.8198159333,
              0.3846422996
             ],
             "passed_time": 2.728029146,
             "remaining_time": 6.305179947,
             "test": [
              0.7832087407,
              0.4157626557
             ]
            },
            {
             "iteration": 302,
             "learn": [
              0.8198159333,
              0.3846117934
             ],
             "passed_time": 2.735614329,
             "remaining_time": 6.2928158,
             "test": [
              0.7820586544,
              0.4157403691
             ]
            },
            {
             "iteration": 303,
             "learn": [
              0.8196721311,
              0.3844331182
             ],
             "passed_time": 2.745077245,
             "remaining_time": 6.284782114,
             "test": [
              0.7826336975,
              0.4155740862
             ]
            },
            {
             "iteration": 304,
             "learn": [
              0.8198159333,
              0.3844231588
             ],
             "passed_time": 2.75465987,
             "remaining_time": 6.277011835,
             "test": [
              0.7826336975,
              0.4155743391
             ]
            },
            {
             "iteration": 305,
             "learn": [
              0.819528329,
              0.384293732
             ],
             "passed_time": 2.763518555,
             "remaining_time": 6.267587833,
             "test": [
              0.7843588269,
              0.4154183424
             ]
            },
            {
             "iteration": 306,
             "learn": [
              0.8196721311,
              0.3841995285
             ],
             "passed_time": 2.770981994,
             "remaining_time": 6.255017986,
             "test": [
              0.7843588269,
              0.4154486044
             ]
            },
            {
             "iteration": 307,
             "learn": [
              0.8198159333,
              0.3839547961
             ],
             "passed_time": 2.781516317,
             "remaining_time": 6.249380815,
             "test": [
              0.78493387,
              0.4155131234
             ]
            },
            {
             "iteration": 308,
             "learn": [
              0.8196721311,
              0.3839140863
             ],
             "passed_time": 2.789601407,
             "remaining_time": 6.238234863,
             "test": [
              0.78493387,
              0.4155253439
             ]
            },
            {
             "iteration": 309,
             "learn": [
              0.8196721311,
              0.3839028267
             ],
             "passed_time": 2.798223388,
             "remaining_time": 6.22830367,
             "test": [
              0.78493387,
              0.4155469048
             ]
            },
            {
             "iteration": 310,
             "learn": [
              0.8199597354,
              0.3838870911
             ],
             "passed_time": 2.807332993,
             "remaining_time": 6.219461196,
             "test": [
              0.78493387,
              0.4155628878
             ]
            },
            {
             "iteration": 311,
             "learn": [
              0.8201035375,
              0.3838667839
             ],
             "passed_time": 2.816788228,
             "remaining_time": 6.211379168,
             "test": [
              0.78493387,
              0.4155654855
             ]
            },
            {
             "iteration": 312,
             "learn": [
              0.8201035375,
              0.3838117342
             ],
             "passed_time": 2.826593665,
             "remaining_time": 6.204057022,
             "test": [
              0.78493387,
              0.4155247679
             ]
            },
            {
             "iteration": 313,
             "learn": [
              0.8196721311,
              0.3836799454
             ],
             "passed_time": 2.836313751,
             "remaining_time": 6.196532591,
             "test": [
              0.7843588269,
              0.4155405744
             ]
            },
            {
             "iteration": 314,
             "learn": [
              0.819528329,
              0.3836662227
             ],
             "passed_time": 2.844643565,
             "remaining_time": 6.185970927,
             "test": [
              0.7837837838,
              0.4155344665
             ]
            },
            {
             "iteration": 315,
             "learn": [
              0.8199597354,
              0.3834740507
             ],
             "passed_time": 2.855683756,
             "remaining_time": 6.181290155,
             "test": [
              0.7837837838,
              0.4154738896
             ]
            },
            {
             "iteration": 316,
             "learn": [
              0.8201035375,
              0.3833711504
             ],
             "passed_time": 2.86434443,
             "remaining_time": 6.171442416,
             "test": [
              0.7855089132,
              0.4154031455
             ]
            },
            {
             "iteration": 317,
             "learn": [
              0.8201035375,
              0.383271477
             ],
             "passed_time": 2.872975778,
             "remaining_time": 6.161539247,
             "test": [
              0.7855089132,
              0.4153031444
             ]
            },
            {
             "iteration": 318,
             "learn": [
              0.8201035375,
              0.3832413602
             ],
             "passed_time": 2.880658186,
             "remaining_time": 6.149618259,
             "test": [
              0.7855089132,
              0.4153152684
             ]
            },
            {
             "iteration": 319,
             "learn": [
              0.8201035375,
              0.3831575636
             ],
             "passed_time": 2.888696381,
             "remaining_time": 6.13847981,
             "test": [
              0.7855089132,
              0.4152831524
             ]
            },
            {
             "iteration": 320,
             "learn": [
              0.8201035375,
              0.3830736934
             ],
             "passed_time": 2.896461044,
             "remaining_time": 6.126782085,
             "test": [
              0.78493387,
              0.4152032835
             ]
            },
            {
             "iteration": 321,
             "learn": [
              0.8202473397,
              0.3829567489
             ],
             "passed_time": 2.90383669,
             "remaining_time": 6.114289676,
             "test": [
              0.7855089132,
              0.4150821525
             ]
            },
            {
             "iteration": 322,
             "learn": [
              0.8203911418,
              0.3827709695
             ],
             "passed_time": 2.927357296,
             "remaining_time": 6.135668389,
             "test": [
              0.7820586544,
              0.4150090217
             ]
            },
            {
             "iteration": 323,
             "learn": [
              0.8202473397,
              0.3825876902
             ],
             "passed_time": 2.938220012,
             "remaining_time": 6.130360273,
             "test": [
              0.7826336975,
              0.4149527065
             ]
            },
            {
             "iteration": 324,
             "learn": [
              0.8203911418,
              0.3825684478
             ],
             "passed_time": 2.946196555,
             "remaining_time": 6.119023615,
             "test": [
              0.7826336975,
              0.414949881
             ]
            },
            {
             "iteration": 325,
             "learn": [
              0.8203911418,
              0.3823653675
             ],
             "passed_time": 2.955140143,
             "remaining_time": 6.109706922,
             "test": [
              0.7832087407,
              0.4149253064
             ]
            },
            {
             "iteration": 326,
             "learn": [
              0.8203911418,
              0.3823399884
             ],
             "passed_time": 2.962694486,
             "remaining_time": 6.0975333,
             "test": [
              0.7826336975,
              0.4149137536
             ]
            },
            {
             "iteration": 327,
             "learn": [
              0.8203911418,
              0.3823220566
             ],
             "passed_time": 2.971383843,
             "remaining_time": 6.08771324,
             "test": [
              0.7832087407,
              0.4149196807
             ]
            },
            {
             "iteration": 328,
             "learn": [
              0.8208225482,
              0.3822426413
             ],
             "passed_time": 2.980159623,
             "remaining_time": 6.078076312,
             "test": [
              0.7820586544,
              0.4147927183
             ]
            },
            {
             "iteration": 329,
             "learn": [
              0.8208225482,
              0.3821640743
             ],
             "passed_time": 2.992174826,
             "remaining_time": 6.075021616,
             "test": [
              0.7820586544,
              0.4147763469
             ]
            },
            {
             "iteration": 330,
             "learn": [
              0.8208225482,
              0.3819355492
             ],
             "passed_time": 3.002020995,
             "remaining_time": 6.067528839,
             "test": [
              0.7820586544,
              0.4146682285
             ]
            },
            {
             "iteration": 331,
             "learn": [
              0.8209663503,
              0.3818877559
             ],
             "passed_time": 3.010094134,
             "remaining_time": 6.056454462,
             "test": [
              0.7826336975,
              0.4146890295
             ]
            },
            {
             "iteration": 332,
             "learn": [
              0.8212539546,
              0.3818621139
             ],
             "passed_time": 3.020798842,
             "remaining_time": 6.050669153,
             "test": [
              0.7826336975,
              0.4146899754
             ]
            },
            {
             "iteration": 333,
             "learn": [
              0.8211101524,
              0.3817586127
             ],
             "passed_time": 3.029031326,
             "remaining_time": 6.039924739,
             "test": [
              0.7832087407,
              0.4147249635
             ]
            },
            {
             "iteration": 334,
             "learn": [
              0.8212539546,
              0.3816268937
             ],
             "passed_time": 3.037529631,
             "remaining_time": 6.029722998,
             "test": [
              0.7832087407,
              0.4146587792
             ]
            },
            {
             "iteration": 335,
             "learn": [
              0.8208225482,
              0.3815636767
             ],
             "passed_time": 3.047790276,
             "remaining_time": 6.023014117,
             "test": [
              0.7832087407,
              0.414712016
             ]
            },
            {
             "iteration": 336,
             "learn": [
              0.820678746,
              0.3815161037
             ],
             "passed_time": 3.056079438,
             "remaining_time": 6.012405541,
             "test": [
              0.7832087407,
              0.414675704
             ]
            },
            {
             "iteration": 337,
             "learn": [
              0.8209663503,
              0.3815013078
             ],
             "passed_time": 3.065346483,
             "remaining_time": 6.003725952,
             "test": [
              0.7832087407,
              0.4146940749
             ]
            },
            {
             "iteration": 338,
             "learn": [
              0.8209663503,
              0.3814809461
             ],
             "passed_time": 3.07297411,
             "remaining_time": 5.991846273,
             "test": [
              0.7832087407,
              0.4146799698
             ]
            },
            {
             "iteration": 339,
             "learn": [
              0.8205349439,
              0.3813013255
             ],
             "passed_time": 3.081268808,
             "remaining_time": 5.981286509,
             "test": [
              0.7820586544,
              0.4144604857
             ]
            },
            {
             "iteration": 340,
             "learn": [
              0.8203911418,
              0.3812149813
             ],
             "passed_time": 3.088926264,
             "remaining_time": 5.969508527,
             "test": [
              0.7832087407,
              0.4144364065
             ]
            },
            {
             "iteration": 341,
             "learn": [
              0.8208225482,
              0.381102455
             ],
             "passed_time": 3.097790119,
             "remaining_time": 5.960075725,
             "test": [
              0.7837837838,
              0.4142928565
             ]
            },
            {
             "iteration": 342,
             "learn": [
              0.8208225482,
              0.380888024
             ],
             "passed_time": 3.106822786,
             "remaining_time": 5.950969593,
             "test": [
              0.7837837838,
              0.4140458671
             ]
            },
            {
             "iteration": 343,
             "learn": [
              0.8209663503,
              0.3807519251
             ],
             "passed_time": 3.115899039,
             "remaining_time": 5.941947004,
             "test": [
              0.7843588269,
              0.4140447815
             ]
            },
            {
             "iteration": 344,
             "learn": [
              0.8211101524,
              0.380665886
             ],
             "passed_time": 3.124022893,
             "remaining_time": 5.931115927,
             "test": [
              0.7843588269,
              0.4141135635
             ]
            },
            {
             "iteration": 345,
             "learn": [
              0.820678746,
              0.3804923919
             ],
             "passed_time": 3.132004309,
             "remaining_time": 5.920031266,
             "test": [
              0.7843588269,
              0.4140602558
             ]
            },
            {
             "iteration": 346,
             "learn": [
              0.8209663503,
              0.3804703983
             ],
             "passed_time": 3.140049667,
             "remaining_time": 5.909084821,
             "test": [
              0.7843588269,
              0.4140628256
             ]
            },
            {
             "iteration": 347,
             "learn": [
              0.8211101524,
              0.3804155041
             ],
             "passed_time": 3.147892171,
             "remaining_time": 5.897774987,
             "test": [
              0.7843588269,
              0.4140004537
             ]
            },
            {
             "iteration": 348,
             "learn": [
              0.8212539546,
              0.3802120754
             ],
             "passed_time": 3.15809602,
             "remaining_time": 5.89088971,
             "test": [
              0.78493387,
              0.4139090275
             ]
            },
            {
             "iteration": 349,
             "learn": [
              0.8215415588,
              0.3801444077
             ],
             "passed_time": 3.167828358,
             "remaining_time": 5.883109808,
             "test": [
              0.78493387,
              0.413838754
             ]
            },
            {
             "iteration": 350,
             "learn": [
              0.8218291631,
              0.3799456985
             ],
             "passed_time": 3.178275079,
             "remaining_time": 5.876639677,
             "test": [
              0.78493387,
              0.4137535003
             ]
            },
            {
             "iteration": 351,
             "learn": [
              0.8225481737,
              0.3795475808
             ],
             "passed_time": 3.186424882,
             "remaining_time": 5.865918533,
             "test": [
              0.78493387,
              0.4132709251
             ]
            },
            {
             "iteration": 352,
             "learn": [
              0.8225481737,
              0.3795197577
             ],
             "passed_time": 3.195992471,
             "remaining_time": 5.857810562,
             "test": [
              0.78493387,
              0.4132554298
             ]
            },
            {
             "iteration": 353,
             "learn": [
              0.8226919758,
              0.3793516848
             ],
             "passed_time": 3.205314075,
             "remaining_time": 5.849245459,
             "test": [
              0.7855089132,
              0.4132628707
             ]
            },
            {
             "iteration": 354,
             "learn": [
              0.8226919758,
              0.3792275298
             ],
             "passed_time": 3.214183446,
             "remaining_time": 5.83985443,
             "test": [
              0.7860839563,
              0.4132647653
             ]
            },
            {
             "iteration": 355,
             "learn": [
              0.8225481737,
              0.3791198263
             ],
             "passed_time": 3.23009141,
             "remaining_time": 5.843199068,
             "test": [
              0.7860839563,
              0.4132891022
             ]
            },
            {
             "iteration": 356,
             "learn": [
              0.822835778,
              0.3790108651
             ],
             "passed_time": 3.241088653,
             "remaining_time": 5.837591047,
             "test": [
              0.7860839563,
              0.4132909443
             ]
            },
            {
             "iteration": 357,
             "learn": [
              0.8225481737,
              0.3789865644
             ],
             "passed_time": 3.250771384,
             "remaining_time": 5.82959561,
             "test": [
              0.7860839563,
              0.4132955203
             ]
            },
            {
             "iteration": 358,
             "learn": [
              0.8225481737,
              0.3789435335
             ],
             "passed_time": 3.259835397,
             "remaining_time": 5.820486043,
             "test": [
              0.7860839563,
              0.41328847
             ]
            },
            {
             "iteration": 359,
             "learn": [
              0.822835778,
              0.3788706686
             ],
             "passed_time": 3.266831342,
             "remaining_time": 5.807700163,
             "test": [
              0.7860839563,
              0.4133110356
             ]
            },
            {
             "iteration": 360,
             "learn": [
              0.8231233822,
              0.3787808034
             ],
             "passed_time": 3.276939897,
             "remaining_time": 5.800455939,
             "test": [
              0.7855089132,
              0.4132283512
             ]
            },
            {
             "iteration": 361,
             "learn": [
              0.822835778,
              0.3787638323
             ],
             "passed_time": 3.286830308,
             "remaining_time": 5.792811427,
             "test": [
              0.7860839563,
              0.413233757
             ]
            },
            {
             "iteration": 362,
             "learn": [
              0.8225481737,
              0.3787284659
             ],
             "passed_time": 3.294318763,
             "remaining_time": 5.780939538,
             "test": [
              0.7860839563,
              0.4131862994
             ]
            },
            {
             "iteration": 363,
             "learn": [
              0.822835778,
              0.3787022982
             ],
             "passed_time": 3.30286117,
             "remaining_time": 5.770933254,
             "test": [
              0.7866589994,
              0.4131936578
             ]
            },
            {
             "iteration": 364,
             "learn": [
              0.822835778,
              0.3784486846
             ],
             "passed_time": 3.310863322,
             "remaining_time": 5.759995094,
             "test": [
              0.7878090857,
              0.4128657648
             ]
            },
            {
             "iteration": 365,
             "learn": [
              0.8226919758,
              0.3783825814
             ],
             "passed_time": 3.319891532,
             "remaining_time": 5.750850358,
             "test": [
              0.7866589994,
              0.4128487787
             ]
            },
            {
             "iteration": 366,
             "learn": [
              0.822835778,
              0.37834777
             ],
             "passed_time": 3.328788463,
             "remaining_time": 5.741479829,
             "test": [
              0.7860839563,
              0.4128676289
             ]
            },
            {
             "iteration": 367,
             "learn": [
              0.8231233822,
              0.3782194233
             ],
             "passed_time": 3.338994796,
             "remaining_time": 5.734360629,
             "test": [
              0.7860839563,
              0.4128605536
             ]
            },
            {
             "iteration": 368,
             "learn": [
              0.8231233822,
              0.3781820612
             ],
             "passed_time": 3.348425403,
             "remaining_time": 5.725898182,
             "test": [
              0.7860839563,
              0.4128230988
             ]
            },
            {
             "iteration": 369,
             "learn": [
              0.8231233822,
              0.3781274365
             ],
             "passed_time": 3.356676102,
             "remaining_time": 5.715421471,
             "test": [
              0.7860839563,
              0.4128335599
             ]
            },
            {
             "iteration": 370,
             "learn": [
              0.8235547886,
              0.3778428537
             ],
             "passed_time": 3.367089884,
             "remaining_time": 5.708624089,
             "test": [
              0.7860839563,
              0.412565422
             ]
            },
            {
             "iteration": 371,
             "learn": [
              0.8234109865,
              0.377751657
             ],
             "passed_time": 3.375787018,
             "remaining_time": 5.698909266,
             "test": [
              0.7855089132,
              0.4125683749
             ]
            },
            {
             "iteration": 372,
             "learn": [
              0.8235547886,
              0.3776403791
             ],
             "passed_time": 3.386031729,
             "remaining_time": 5.691801324,
             "test": [
              0.78493387,
              0.4125554265
             ]
            },
            {
             "iteration": 373,
             "learn": [
              0.8235547886,
              0.3775996358
             ],
             "passed_time": 3.393561557,
             "remaining_time": 5.680132445,
             "test": [
              0.78493387,
              0.4125134199
             ]
            },
            {
             "iteration": 374,
             "learn": [
              0.8235547886,
              0.3775836327
             ],
             "passed_time": 3.401258165,
             "remaining_time": 5.668763609,
             "test": [
              0.78493387,
              0.4124994529
             ]
            },
            {
             "iteration": 375,
             "learn": [
              0.8235547886,
              0.3775574386
             ],
             "passed_time": 3.409569006,
             "remaining_time": 5.65843367,
             "test": [
              0.78493387,
              0.412482387
             ]
            },
            {
             "iteration": 376,
             "learn": [
              0.8235547886,
              0.3775205662
             ],
             "passed_time": 3.418714132,
             "remaining_time": 5.649493114,
             "test": [
              0.78493387,
              0.412444893
             ]
            },
            {
             "iteration": 377,
             "learn": [
              0.8236985907,
              0.377470947
             ],
             "passed_time": 3.428915473,
             "remaining_time": 5.642289482,
             "test": [
              0.7855089132,
              0.412412765
             ]
            },
            {
             "iteration": 378,
             "learn": [
              0.8236985907,
              0.3774067256
             ],
             "passed_time": 3.43945123,
             "remaining_time": 5.635617979,
             "test": [
              0.78493387,
              0.4123933603
             ]
            },
            {
             "iteration": 379,
             "learn": [
              0.8236985907,
              0.3773037795
             ],
             "passed_time": 3.449893503,
             "remaining_time": 5.628773611,
             "test": [
              0.78493387,
              0.4122985472
             ]
            },
            {
             "iteration": 380,
             "learn": [
              0.8235547886,
              0.3770758002
             ],
             "passed_time": 3.460250336,
             "remaining_time": 5.621771543,
             "test": [
              0.78493387,
              0.4123680906
             ]
            },
            {
             "iteration": 381,
             "learn": [
              0.8238423929,
              0.3769712921
             ],
             "passed_time": 3.471185573,
             "remaining_time": 5.615687655,
             "test": [
              0.78493387,
              0.4123451772
             ]
            },
            {
             "iteration": 382,
             "learn": [
              0.8238423929,
              0.3769149351
             ],
             "passed_time": 3.480636112,
             "remaining_time": 5.607186635,
             "test": [
              0.7855089132,
              0.412370598
             ]
            },
            {
             "iteration": 383,
             "learn": [
              0.8236985907,
              0.3768920137
             ],
             "passed_time": 3.491696276,
             "remaining_time": 5.601262776,
             "test": [
              0.7855089132,
              0.4123742583
             ]
            },
            {
             "iteration": 384,
             "learn": [
              0.8238423929,
              0.3768222439
             ],
             "passed_time": 3.500036448,
             "remaining_time": 5.590967313,
             "test": [
              0.78493387,
              0.4123445776
             ]
            },
            {
             "iteration": 385,
             "learn": [
              0.8238423929,
              0.3768070732
             ],
             "passed_time": 3.508151038,
             "remaining_time": 5.580323154,
             "test": [
              0.78493387,
              0.4123447063
             ]
            },
            {
             "iteration": 386,
             "learn": [
              0.8238423929,
              0.3765549012
             ],
             "passed_time": 3.517018787,
             "remaining_time": 5.570885055,
             "test": [
              0.7860839563,
              0.4121151521
             ]
            },
            {
             "iteration": 387,
             "learn": [
              0.8238423929,
              0.3764967005
             ],
             "passed_time": 3.525896592,
             "remaining_time": 5.561465758,
             "test": [
              0.78493387,
              0.4121431104
             ]
            },
            {
             "iteration": 388,
             "learn": [
              0.8241299971,
              0.3764656016
             ],
             "passed_time": 3.534055707,
             "remaining_time": 5.550920404,
             "test": [
              0.78493387,
              0.4121039272
             ]
            },
            {
             "iteration": 389,
             "learn": [
              0.8245614035,
              0.3762618596
             ],
             "passed_time": 3.542423536,
             "remaining_time": 5.540713736,
             "test": [
              0.7855089132,
              0.4119247111
             ]
            },
            {
             "iteration": 390,
             "learn": [
              0.8247052056,
              0.3761663892
             ],
             "passed_time": 3.551693013,
             "remaining_time": 5.531920831,
             "test": [
              0.7855089132,
              0.4118921291
             ]
            },
            {
             "iteration": 391,
             "learn": [
              0.8248490078,
              0.3760374396
             ],
             "passed_time": 3.561599103,
             "remaining_time": 5.524112894,
             "test": [
              0.7860839563,
              0.4119175481
             ]
            },
            {
             "iteration": 392,
             "learn": [
              0.8248490078,
              0.3759661928
             ],
             "passed_time": 3.571579695,
             "remaining_time": 5.516409351,
             "test": [
              0.7866589994,
              0.4119267199
             ]
            },
            {
             "iteration": 393,
             "learn": [
              0.8247052056,
              0.3759428734
             ],
             "passed_time": 3.579638958,
             "remaining_time": 5.505739108,
             "test": [
              0.7866589994,
              0.4119144569
             ]
            },
            {
             "iteration": 394,
             "learn": [
              0.8244176014,
              0.375785498
             ],
             "passed_time": 3.590618138,
             "remaining_time": 5.499554364,
             "test": [
              0.7866589994,
              0.4118950045
             ]
            },
            {
             "iteration": 395,
             "learn": [
              0.8245614035,
              0.3756977135
             ],
             "passed_time": 3.600555164,
             "remaining_time": 5.491755857,
             "test": [
              0.7855089132,
              0.4119808325
             ]
            },
            {
             "iteration": 396,
             "learn": [
              0.8244176014,
              0.375666395
             ],
             "passed_time": 3.609381725,
             "remaining_time": 5.482259899,
             "test": [
              0.7855089132,
              0.4119462176
             ]
            },
            {
             "iteration": 397,
             "learn": [
              0.8244176014,
              0.3755857591
             ],
             "passed_time": 3.617708245,
             "remaining_time": 5.472010963,
             "test": [
              0.78493387,
              0.411867657
             ]
            },
            {
             "iteration": 398,
             "learn": [
              0.8245614035,
              0.3754360281
             ],
             "passed_time": 3.628401177,
             "remaining_time": 5.465336109,
             "test": [
              0.78493387,
              0.4117494685
             ]
            },
            {
             "iteration": 399,
             "learn": [
              0.8245614035,
              0.3752861828
             ],
             "passed_time": 3.638961025,
             "remaining_time": 5.458441537,
             "test": [
              0.78493387,
              0.4117679122
             ]
            },
            {
             "iteration": 400,
             "learn": [
              0.8245614035,
              0.3751133009
             ],
             "passed_time": 3.649225754,
             "remaining_time": 5.451087847,
             "test": [
              0.78493387,
              0.4117731555
             ]
            },
            {
             "iteration": 401,
             "learn": [
              0.8248490078,
              0.375065029
             ],
             "passed_time": 3.658250309,
             "remaining_time": 5.441874838,
             "test": [
              0.7855089132,
              0.4117835837
             ]
            },
            {
             "iteration": 402,
             "learn": [
              0.8248490078,
              0.3750120474
             ],
             "passed_time": 3.668030055,
             "remaining_time": 5.433781495,
             "test": [
              0.7866589994,
              0.4117373268
             ]
            },
            {
             "iteration": 403,
             "learn": [
              0.8255680184,
              0.3749081269
             ],
             "passed_time": 3.677249682,
             "remaining_time": 5.424853491,
             "test": [
              0.7855089132,
              0.4117472043
             ]
            },
            {
             "iteration": 404,
             "learn": [
              0.8254242163,
              0.3748706432
             ],
             "passed_time": 3.688523377,
             "remaining_time": 5.418941752,
             "test": [
              0.7855089132,
              0.4117531182
             ]
            },
            {
             "iteration": 405,
             "learn": [
              0.8255680184,
              0.3748071732
             ],
             "passed_time": 3.700547247,
             "remaining_time": 5.414101145,
             "test": [
              0.7855089132,
              0.4118418801
             ]
            },
            {
             "iteration": 406,
             "learn": [
              0.8255680184,
              0.3746755914
             ],
             "passed_time": 3.708795609,
             "remaining_time": 5.403724314,
             "test": [
              0.7855089132,
              0.4119249675
             ]
            },
            {
             "iteration": 407,
             "learn": [
              0.8259994248,
              0.3746046487
             ],
             "passed_time": 3.717043382,
             "remaining_time": 5.393357064,
             "test": [
              0.78493387,
              0.4119607728
             ]
            },
            {
             "iteration": 408,
             "learn": [
              0.8258556227,
              0.3745646391
             ],
             "passed_time": 3.726517231,
             "remaining_time": 5.384771843,
             "test": [
              0.78493387,
              0.4119631338
             ]
            },
            {
             "iteration": 409,
             "learn": [
              0.8257118205,
              0.3745498947
             ],
             "passed_time": 3.735388603,
             "remaining_time": 5.375315306,
             "test": [
              0.78493387,
              0.4119621143
             ]
            },
            {
             "iteration": 410,
             "learn": [
              0.8258556227,
              0.3744259259
             ],
             "passed_time": 3.745570299,
             "remaining_time": 5.367739431,
             "test": [
              0.7855089132,
              0.4119518178
             ]
            },
            {
             "iteration": 411,
             "learn": [
              0.8258556227,
              0.3743509688
             ],
             "passed_time": 3.754443279,
             "remaining_time": 5.358283127,
             "test": [
              0.7860839563,
              0.4119670256
             ]
            },
            {
             "iteration": 412,
             "learn": [
              0.8259994248,
              0.3741624503
             ],
             "passed_time": 3.763611868,
             "remaining_time": 5.349249798,
             "test": [
              0.7866589994,
              0.4118120564
             ]
            },
            {
             "iteration": 413,
             "learn": [
              0.8259994248,
              0.3741366005
             ],
             "passed_time": 3.77269907,
             "remaining_time": 5.340100616,
             "test": [
              0.7866589994,
              0.4117824952
             ]
            },
            {
             "iteration": 414,
             "learn": [
              0.8255680184,
              0.3741023555
             ],
             "passed_time": 3.782218876,
             "remaining_time": 5.331561548,
             "test": [
              0.7866589994,
              0.4117781991
             ]
            },
            {
             "iteration": 415,
             "learn": [
              0.8257118205,
              0.3740911982
             ],
             "passed_time": 3.790585456,
             "remaining_time": 5.321398813,
             "test": [
              0.7866589994,
              0.4117917419
             ]
            },
            {
             "iteration": 416,
             "learn": [
              0.8257118205,
              0.3740732142
             ],
             "passed_time": 3.798595328,
             "remaining_time": 5.310745986,
             "test": [
              0.7866589994,
              0.4117907837
             ]
            },
            {
             "iteration": 417,
             "learn": [
              0.8259994248,
              0.3740295976
             ],
             "passed_time": 3.808504471,
             "remaining_time": 5.302750244,
             "test": [
              0.7866589994,
              0.4117819077
             ]
            },
            {
             "iteration": 418,
             "learn": [
              0.8258556227,
              0.3739444911
             ],
             "passed_time": 3.819326353,
             "remaining_time": 5.296011005,
             "test": [
              0.7866589994,
              0.4117306928
             ]
            },
            {
             "iteration": 419,
             "learn": [
              0.8258556227,
              0.3738062231
             ],
             "passed_time": 3.82936818,
             "remaining_time": 5.288175106,
             "test": [
              0.7866589994,
              0.4117058754
             ]
            },
            {
             "iteration": 420,
             "learn": [
              0.8258556227,
              0.3737946484
             ],
             "passed_time": 3.838812286,
             "remaining_time": 5.279506683,
             "test": [
              0.7866589994,
              0.4117107543
             ]
            },
            {
             "iteration": 421,
             "learn": [
              0.8258556227,
              0.3737098676
             ],
             "passed_time": 3.846858408,
             "remaining_time": 5.26891981,
             "test": [
              0.7866589994,
              0.4117053595
             ]
            },
            {
             "iteration": 422,
             "learn": [
              0.8257118205,
              0.3736570883
             ],
             "passed_time": 3.855855956,
             "remaining_time": 5.259642758,
             "test": [
              0.7872340426,
              0.4116481823
             ]
            },
            {
             "iteration": 423,
             "learn": [
              0.826287029,
              0.373551274
             ],
             "passed_time": 3.864898823,
             "remaining_time": 5.25042859,
             "test": [
              0.7872340426,
              0.411593803
             ]
            },
            {
             "iteration": 424,
             "learn": [
              0.8259994248,
              0.3735308939
             ],
             "passed_time": 3.873704864,
             "remaining_time": 5.240894816,
             "test": [
              0.7872340426,
              0.411581725
             ]
            },
            {
             "iteration": 425,
             "learn": [
              0.8261432269,
              0.3733608761
             ],
             "passed_time": 3.885675867,
             "remaining_time": 5.235628985,
             "test": [
              0.7872340426,
              0.4116277905
             ]
            },
            {
             "iteration": 426,
             "learn": [
              0.8261432269,
              0.3733431668
             ],
             "passed_time": 3.893633249,
             "remaining_time": 5.224945788,
             "test": [
              0.7872340426,
              0.4116355154
             ]
            },
            {
             "iteration": 427,
             "learn": [
              0.826287029,
              0.3733008
             ],
             "passed_time": 3.915318017,
             "remaining_time": 5.232621275,
             "test": [
              0.7872340426,
              0.411636513
             ]
            },
            {
             "iteration": 428,
             "learn": [
              0.8261432269,
              0.3732098441
             ],
             "passed_time": 3.937821702,
             "remaining_time": 5.241249864,
             "test": [
              0.7872340426,
              0.4115817374
             ]
            },
            {
             "iteration": 429,
             "learn": [
              0.8259994248,
              0.3731946969
             ],
             "passed_time": 3.947532677,
             "remaining_time": 5.232775874,
             "test": [
              0.7872340426,
              0.4115771305
             ]
            },
            {
             "iteration": 430,
             "learn": [
              0.8259994248,
              0.37308892
             ],
             "passed_time": 3.957171906,
             "remaining_time": 5.224201425,
             "test": [
              0.7878090857,
              0.411588796
             ]
            },
            {
             "iteration": 431,
             "learn": [
              0.8259994248,
              0.3729934594
             ],
             "passed_time": 3.963795744,
             "remaining_time": 5.211657367,
             "test": [
              0.7872340426,
              0.4116047455
             ]
            },
            {
             "iteration": 432,
             "learn": [
              0.826287029,
              0.37296645
             ],
             "passed_time": 3.970469236,
             "remaining_time": 5.199205674,
             "test": [
              0.7872340426,
              0.4116072999
             ]
            },
            {
             "iteration": 433,
             "learn": [
              0.826287029,
              0.3728844518
             ],
             "passed_time": 3.978446534,
             "remaining_time": 5.188480964,
             "test": [
              0.7866589994,
              0.4116090416
             ]
            },
            {
             "iteration": 434,
             "learn": [
              0.826287029,
              0.3728644621
             ],
             "passed_time": 3.986042868,
             "remaining_time": 5.177274071,
             "test": [
              0.7866589994,
              0.4116095757
             ]
            },
            {
             "iteration": 435,
             "learn": [
              0.8265746333,
              0.3728433579
             ],
             "passed_time": 3.992691247,
             "remaining_time": 5.164857485,
             "test": [
              0.7866589994,
              0.4115998524
             ]
            },
            {
             "iteration": 436,
             "learn": [
              0.826287029,
              0.372733816
             ],
             "passed_time": 4.001812288,
             "remaining_time": 5.155652902,
             "test": [
              0.7866589994,
              0.4115659609
             ]
            },
            {
             "iteration": 437,
             "learn": [
              0.8265746333,
              0.3727007713
             ],
             "passed_time": 4.009449389,
             "remaining_time": 5.14454465,
             "test": [
              0.7866589994,
              0.4115586753
             ]
            },
            {
             "iteration": 438,
             "learn": [
              0.8265746333,
              0.3725685835
             ],
             "passed_time": 4.01697117,
             "remaining_time": 5.133304843,
             "test": [
              0.7866589994,
              0.411628225
             ]
            },
            {
             "iteration": 439,
             "learn": [
              0.826287029,
              0.3725346765
             ],
             "passed_time": 4.024403944,
             "remaining_time": 5.121968656,
             "test": [
              0.7866589994,
              0.4116372194
             ]
            },
            {
             "iteration": 440,
             "learn": [
              0.8272936439,
              0.3723784726
             ],
             "passed_time": 4.035494304,
             "remaining_time": 5.115286431,
             "test": [
              0.7889591719,
              0.4115065237
             ]
            },
            {
             "iteration": 441,
             "learn": [
              0.8271498418,
              0.3723512151
             ],
             "passed_time": 4.043893173,
             "remaining_time": 5.105186404,
             "test": [
              0.7878090857,
              0.411476517
             ]
            },
            {
             "iteration": 442,
             "learn": [
              0.8271498418,
              0.372320649
             ],
             "passed_time": 4.051484484,
             "remaining_time": 5.094078685,
             "test": [
              0.7878090857,
              0.4114181281
             ]
            },
            {
             "iteration": 443,
             "learn": [
              0.8271498418,
              0.3722929662
             ],
             "passed_time": 4.059794211,
             "remaining_time": 5.083886445,
             "test": [
              0.7883841288,
              0.4114000212
             ]
            },
            {
             "iteration": 444,
             "learn": [
              0.8270060397,
              0.3722417289
             ],
             "passed_time": 4.066952946,
             "remaining_time": 5.072267158,
             "test": [
              0.7889591719,
              0.411413983
             ]
            },
            {
             "iteration": 445,
             "learn": [
              0.8272936439,
              0.3722044781
             ],
             "passed_time": 4.074854881,
             "remaining_time": 5.061591041,
             "test": [
              0.7889591719,
              0.41143265
             ]
            },
            {
             "iteration": 446,
             "learn": [
              0.8274374461,
              0.3721208796
             ],
             "passed_time": 4.08235813,
             "remaining_time": 5.050434107,
             "test": [
              0.7883841288,
              0.4113423026
             ]
            },
            {
             "iteration": 447,
             "learn": [
              0.8271498418,
              0.3719945976
             ],
             "passed_time": 4.091445734,
             "remaining_time": 5.041245636,
             "test": [
              0.7889591719,
              0.4113667165
             ]
            },
            {
             "iteration": 448,
             "learn": [
              0.8274374461,
              0.3718995503
             ],
             "passed_time": 4.09991904,
             "remaining_time": 5.031303766,
             "test": [
              0.7889591719,
              0.4112968738
             ]
            },
            {
             "iteration": 449,
             "learn": [
              0.8271498418,
              0.3718885213
             ],
             "passed_time": 4.107243506,
             "remaining_time": 5.019964286,
             "test": [
              0.7889591719,
              0.4113058055
             ]
            },
            {
             "iteration": 450,
             "learn": [
              0.8270060397,
              0.3717557613
             ],
             "passed_time": 4.115530014,
             "remaining_time": 5.009813698,
             "test": [
              0.7889591719,
              0.4112078943
             ]
            },
            {
             "iteration": 451,
             "learn": [
              0.8270060397,
              0.3717116211
             ],
             "passed_time": 4.123621162,
             "remaining_time": 4.999434507,
             "test": [
              0.7889591719,
              0.4112138954
             ]
            },
            {
             "iteration": 452,
             "learn": [
              0.8270060397,
              0.3716964686
             ],
             "passed_time": 4.131553036,
             "remaining_time": 4.988873093,
             "test": [
              0.7889591719,
              0.4112162851
             ]
            },
            {
             "iteration": 453,
             "learn": [
              0.8272936439,
              0.3716509378
             ],
             "passed_time": 4.139460976,
             "remaining_time": 4.978294478,
             "test": [
              0.7883841288,
              0.4112233162
             ]
            },
            {
             "iteration": 454,
             "learn": [
              0.8274374461,
              0.3714464308
             ],
             "passed_time": 4.147817332,
             "remaining_time": 4.968264717,
             "test": [
              0.7889591719,
              0.4112483947
             ]
            },
            {
             "iteration": 455,
             "learn": [
              0.8272936439,
              0.3713130644
             ],
             "passed_time": 4.155964647,
             "remaining_time": 4.957992913,
             "test": [
              0.7883841288,
              0.4112061266
             ]
            },
            {
             "iteration": 456,
             "learn": [
              0.8277250503,
              0.3712197695
             ],
             "passed_time": 4.162856718,
             "remaining_time": 4.946238945,
             "test": [
              0.7878090857,
              0.4111669475
             ]
            },
            {
             "iteration": 457,
             "learn": [
              0.8275812482,
              0.3710800824
             ],
             "passed_time": 4.170741492,
             "remaining_time": 4.935680979,
             "test": [
              0.7878090857,
              0.4112225369
             ]
            },
            {
             "iteration": 458,
             "learn": [
              0.8277250503,
              0.3710022494
             ],
             "passed_time": 4.179593571,
             "remaining_time": 4.926274776,
             "test": [
              0.7878090857,
              0.4112103127
             ]
            },
            {
             "iteration": 459,
             "learn": [
              0.8280126546,
              0.3708296687
             ],
             "passed_time": 4.187727503,
             "remaining_time": 4.916027938,
             "test": [
              0.7866589994,
              0.4111232603
             ]
            },
            {
             "iteration": 460,
             "learn": [
              0.8280126546,
              0.370722087
             ],
             "passed_time": 4.195509119,
             "remaining_time": 4.905378341,
             "test": [
              0.7872340426,
              0.4110436888
             ]
            },
            {
             "iteration": 461,
             "learn": [
              0.8280126546,
              0.3706003095
             ],
             "passed_time": 4.203384302,
             "remaining_time": 4.894850118,
             "test": [
              0.7878090857,
              0.4109167595
             ]
            },
            {
             "iteration": 462,
             "learn": [
              0.8281564567,
              0.370179967
             ],
             "passed_time": 4.210380788,
             "remaining_time": 4.883314218,
             "test": [
              0.7889591719,
              0.410322969
             ]
            },
            {
             "iteration": 463,
             "learn": [
              0.828444061,
              0.370118058
             ],
             "passed_time": 4.218092881,
             "remaining_time": 4.872624535,
             "test": [
              0.7889591719,
              0.4103562964
             ]
            },
            {
             "iteration": 464,
             "learn": [
              0.8283002588,
              0.3701078394
             ],
             "passed_time": 4.22558381,
             "remaining_time": 4.861693201,
             "test": [
              0.7883841288,
              0.4103615504
             ]
            },
            {
             "iteration": 465,
             "learn": [
              0.8287316652,
              0.3698989257
             ],
             "passed_time": 4.234710254,
             "remaining_time": 4.852650806,
             "test": [
              0.7889591719,
              0.4103550909
             ]
            },
            {
             "iteration": 466,
             "learn": [
              0.8288754674,
              0.3698695024
             ],
             "passed_time": 4.241861178,
             "remaining_time": 4.841353336,
             "test": [
              0.7889591719,
              0.4103625856
             ]
            },
            {
             "iteration": 467,
             "learn": [
              0.8293068737,
              0.3698217026
             ],
             "passed_time": 4.250041699,
             "remaining_time": 4.831243982,
             "test": [
              0.7889591719,
              0.4103103171
             ]
            },
            {
             "iteration": 468,
             "learn": [
              0.8288754674,
              0.3697608106
             ],
             "passed_time": 4.258413114,
             "remaining_time": 4.821358984,
             "test": [
              0.7889591719,
              0.4102329795
             ]
            },
            {
             "iteration": 469,
             "learn": [
              0.8287316652,
              0.3696461513
             ],
             "passed_time": 4.266869289,
             "remaining_time": 4.811576006,
             "test": [
              0.7889591719,
              0.4101403438
             ]
            },
            {
             "iteration": 470,
             "learn": [
              0.8290192695,
              0.3695570512
             ],
             "passed_time": 4.274227209,
             "remaining_time": 4.800565167,
             "test": [
              0.7889591719,
              0.4101323716
             ]
            },
            {
             "iteration": 471,
             "learn": [
              0.8290192695,
              0.3695296938
             ],
             "passed_time": 4.28088538,
             "remaining_time": 4.788787035,
             "test": [
              0.7889591719,
              0.4101397178
             ]
            },
            {
             "iteration": 472,
             "learn": [
              0.8294506759,
              0.3693388602
             ],
             "passed_time": 4.290263034,
             "remaining_time": 4.780060505,
             "test": [
              0.7889591719,
              0.4099652889
             ]
            },
            {
             "iteration": 473,
             "learn": [
              0.8291630716,
              0.3692808589
             ],
             "passed_time": 4.298132232,
             "remaining_time": 4.769657287,
             "test": [
              0.7889591719,
              0.4099905265
             ]
            },
            {
             "iteration": 474,
             "learn": [
              0.8293068737,
              0.3692586215
             ],
             "passed_time": 4.304409219,
             "remaining_time": 4.757504926,
             "test": [
              0.7889591719,
              0.4099980086
             ]
            },
            {
             "iteration": 475,
             "learn": [
              0.8293068737,
              0.3691453533
             ],
             "passed_time": 4.311884719,
             "remaining_time": 4.746696623,
             "test": [
              0.7883841288,
              0.4099395248
             ]
            },
            {
             "iteration": 476,
             "learn": [
              0.8293068737,
              0.3690494227
             ],
             "passed_time": 4.320627754,
             "remaining_time": 4.737292066,
             "test": [
              0.7889591719,
              0.4099190776
             ]
            },
            {
             "iteration": 477,
             "learn": [
              0.8293068737,
              0.3689501834
             ],
             "passed_time": 4.329442746,
             "remaining_time": 4.727968856,
             "test": [
              0.7889591719,
              0.4098228247
             ]
            },
            {
             "iteration": 478,
             "learn": [
              0.8293068737,
              0.3689045559
             ],
             "passed_time": 4.337979321,
             "remaining_time": 4.71834494,
             "test": [
              0.7895342151,
              0.4097682644
             ]
            },
            {
             "iteration": 479,
             "learn": [
              0.8293068737,
              0.3688872748
             ],
             "passed_time": 4.34482429,
             "remaining_time": 4.706892981,
             "test": [
              0.7895342151,
              0.4097691269
             ]
            },
            {
             "iteration": 480,
             "learn": [
              0.829594478,
              0.368740077
             ],
             "passed_time": 4.353136915,
             "remaining_time": 4.697043782,
             "test": [
              0.7895342151,
              0.4097912151
             ]
            },
            {
             "iteration": 481,
             "learn": [
              0.829594478,
              0.3687201595
             ],
             "passed_time": 4.360493239,
             "remaining_time": 4.686173232,
             "test": [
              0.7895342151,
              0.409793926
             ]
            },
            {
             "iteration": 482,
             "learn": [
              0.829594478,
              0.3686201164
             ],
             "passed_time": 4.369616207,
             "remaining_time": 4.677208238,
             "test": [
              0.7901092582,
              0.4097942254
             ]
            },
            {
             "iteration": 483,
             "learn": [
              0.8297382801,
              0.3685140817
             ],
             "passed_time": 4.377527067,
             "remaining_time": 4.666950344,
             "test": [
              0.7906843013,
              0.409789073
             ]
            },
            {
             "iteration": 484,
             "learn": [
              0.8297382801,
              0.3684506574
             ],
             "passed_time": 4.38573422,
             "remaining_time": 4.657016749,
             "test": [
              0.7906843013,
              0.4097409891
             ]
            },
            {
             "iteration": 485,
             "learn": [
              0.8294506759,
              0.3684125566
             ],
             "passed_time": 4.392938612,
             "remaining_time": 4.646029726,
             "test": [
              0.7906843013,
              0.4097506306
             ]
            },
            {
             "iteration": 486,
             "learn": [
              0.829594478,
              0.3683884394
             ],
             "passed_time": 4.40126606,
             "remaining_time": 4.63624125,
             "test": [
              0.7906843013,
              0.40975261
             ]
            },
            {
             "iteration": 487,
             "learn": [
              0.8294506759,
              0.3683741498
             ],
             "passed_time": 4.409374539,
             "remaining_time": 4.626229025,
             "test": [
              0.7906843013,
              0.4097501714
             ]
            },
            {
             "iteration": 488,
             "learn": [
              0.8294506759,
              0.3683564508
             ],
             "passed_time": 4.41605354,
             "remaining_time": 4.614730795,
             "test": [
              0.7906843013,
              0.4097522087
             ]
            },
            {
             "iteration": 489,
             "learn": [
              0.8294506759,
              0.368339285
             ],
             "passed_time": 4.42334195,
             "remaining_time": 4.60388652,
             "test": [
              0.7906843013,
              0.4097517972
             ]
            },
            {
             "iteration": 490,
             "learn": [
              0.8297382801,
              0.368241222
             ],
             "passed_time": 4.430454131,
             "remaining_time": 4.592874038,
             "test": [
              0.7912593445,
              0.4096314606
             ]
            },
            {
             "iteration": 491,
             "learn": [
              0.829594478,
              0.3681998119
             ],
             "passed_time": 4.442274032,
             "remaining_time": 4.586738228,
             "test": [
              0.7912593445,
              0.4095793589
             ]
            },
            {
             "iteration": 492,
             "learn": [
              0.8297382801,
              0.3681983587
             ],
             "passed_time": 4.449931717,
             "remaining_time": 4.576298946,
             "test": [
              0.7912593445,
              0.4095828594
             ]
            },
            {
             "iteration": 493,
             "learn": [
              0.8300258844,
              0.3681788824
             ],
             "passed_time": 4.45836506,
             "remaining_time": 4.566665425,
             "test": [
              0.7912593445,
              0.409588964
             ]
            },
            {
             "iteration": 494,
             "learn": [
              0.829594478,
              0.3681593428
             ],
             "passed_time": 4.466895624,
             "remaining_time": 4.55713594,
             "test": [
              0.7912593445,
              0.4095816312
             ]
            },
            {
             "iteration": 495,
             "learn": [
              0.8290192695,
              0.3678986556
             ],
             "passed_time": 4.474720061,
             "remaining_time": 4.546892965,
             "test": [
              0.7906843013,
              0.4093733238
             ]
            },
            {
             "iteration": 496,
             "learn": [
              0.8290192695,
              0.3678781031
             ],
             "passed_time": 4.481914399,
             "remaining_time": 4.536022017,
             "test": [
              0.7906843013,
              0.4093853292
             ]
            },
            {
             "iteration": 497,
             "learn": [
              0.8288754674,
              0.3677574809
             ],
             "passed_time": 4.490891593,
             "remaining_time": 4.526963011,
             "test": [
              0.7912593445,
              0.4094702081
             ]
            },
            {
             "iteration": 498,
             "learn": [
              0.8290192695,
              0.3677387566
             ],
             "passed_time": 4.499378272,
             "remaining_time": 4.517411852,
             "test": [
              0.7912593445,
              0.4094613058
             ]
            },
            {
             "iteration": 499,
             "learn": [
              0.8287316652,
              0.3676339644
             ],
             "passed_time": 4.509097401,
             "remaining_time": 4.509097401,
             "test": [
              0.7918343876,
              0.4095285655
             ]
            },
            {
             "iteration": 500,
             "learn": [
              0.8285878631,
              0.367492115
             ],
             "passed_time": 4.517773013,
             "remaining_time": 4.499737991,
             "test": [
              0.7918343876,
              0.4095730065
             ]
            },
            {
             "iteration": 501,
             "learn": [
              0.8287316652,
              0.3674026907
             ],
             "passed_time": 4.527327419,
             "remaining_time": 4.491253097,
             "test": [
              0.7918343876,
              0.4095817093
             ]
            },
            {
             "iteration": 502,
             "learn": [
              0.8290192695,
              0.3673239415
             ],
             "passed_time": 4.535756368,
             "remaining_time": 4.481651918,
             "test": [
              0.7918343876,
              0.4095003446
             ]
            },
            {
             "iteration": 503,
             "learn": [
              0.8290192695,
              0.3672868017
             ],
             "passed_time": 4.542573927,
             "remaining_time": 4.470469579,
             "test": [
              0.7918343876,
              0.409503378
             ]
            },
            {
             "iteration": 504,
             "learn": [
              0.8297382801,
              0.3671500184
             ],
             "passed_time": 4.550925248,
             "remaining_time": 4.460807917,
             "test": [
              0.7906843013,
              0.409529919
             ]
            },
            {
             "iteration": 505,
             "learn": [
              0.8298820823,
              0.3671340617
             ],
             "passed_time": 4.558350967,
             "remaining_time": 4.450247782,
             "test": [
              0.7906843013,
              0.4095317676
             ]
            },
            {
             "iteration": 506,
             "learn": [
              0.8298820823,
              0.3670756626
             ],
             "passed_time": 4.566186452,
             "remaining_time": 4.440098463,
             "test": [
              0.7912593445,
              0.4095353394
             ]
            },
            {
             "iteration": 507,
             "learn": [
              0.8303134886,
              0.3669356431
             ],
             "passed_time": 4.574869775,
             "remaining_time": 4.430779389,
             "test": [
              0.7906843013,
              0.409434844
             ]
            },
            {
             "iteration": 508,
             "learn": [
              0.8301696865,
              0.3668950929
             ],
             "passed_time": 4.583669278,
             "remaining_time": 4.421574883,
             "test": [
              0.7906843013,
              0.4094098832
             ]
            },
            {
             "iteration": 509,
             "learn": [
              0.8304572908,
              0.3668644464
             ],
             "passed_time": 4.592135313,
             "remaining_time": 4.412051575,
             "test": [
              0.7906843013,
              0.409412492
             ]
            },
            {
             "iteration": 510,
             "learn": [
              0.8304572908,
              0.3668557014
             ],
             "passed_time": 4.599475304,
             "remaining_time": 4.401454841,
             "test": [
              0.7906843013,
              0.4094104362
             ]
            },
            {
             "iteration": 511,
             "learn": [
              0.8301696865,
              0.3666356356
             ],
             "passed_time": 4.607035001,
             "remaining_time": 4.391080235,
             "test": [
              0.7906843013,
              0.4091939393
             ]
            },
            {
             "iteration": 512,
             "learn": [
              0.8300258844,
              0.3666188141
             ],
             "passed_time": 4.615518009,
             "remaining_time": 4.381593119,
             "test": [
              0.7906843013,
              0.4092022809
             ]
            },
            {
             "iteration": 513,
             "learn": [
              0.8301696865,
              0.3666036425
             ],
             "passed_time": 4.622700391,
             "remaining_time": 4.370880136,
             "test": [
              0.7918343876,
              0.4091934604
             ]
            },
            {
             "iteration": 514,
             "learn": [
              0.8301696865,
              0.3665093705
             ],
             "passed_time": 4.630445655,
             "remaining_time": 4.360710957,
             "test": [
              0.7912593445,
              0.4091803479
             ]
            },
            {
             "iteration": 515,
             "learn": [
              0.8301696865,
              0.3664640874
             ],
             "passed_time": 4.6377798,
             "remaining_time": 4.350165548,
             "test": [
              0.7918343876,
              0.4091920971
             ]
            },
            {
             "iteration": 516,
             "learn": [
              0.8303134886,
              0.3663326997
             ],
             "passed_time": 4.646867579,
             "remaining_time": 4.341270871,
             "test": [
              0.7912593445,
              0.4093002474
             ]
            },
            {
             "iteration": 517,
             "learn": [
              0.8304572908,
              0.3662471665
             ],
             "passed_time": 4.65451676,
             "remaining_time": 4.331036831,
             "test": [
              0.7912593445,
              0.4091965887
             ]
            },
            {
             "iteration": 518,
             "learn": [
              0.8304572908,
              0.3662361674
             ],
             "passed_time": 4.662532319,
             "remaining_time": 4.321152303,
             "test": [
              0.7912593445,
              0.4091963943
             ]
            },
            {
             "iteration": 519,
             "learn": [
              0.8303134886,
              0.3662016312
             ],
             "passed_time": 4.670518631,
             "remaining_time": 4.311247967,
             "test": [
              0.7912593445,
              0.4091845598
             ]
            },
            {
             "iteration": 520,
             "learn": [
              0.8300258844,
              0.3661688739
             ],
             "passed_time": 4.677575668,
             "remaining_time": 4.300496632,
             "test": [
              0.7912593445,
              0.4091643327
             ]
            },
            {
             "iteration": 521,
             "learn": [
              0.8303134886,
              0.366089402
             ],
             "passed_time": 4.686950177,
             "remaining_time": 4.291881579,
             "test": [
              0.7912593445,
              0.4091732981
             ]
            },
            {
             "iteration": 522,
             "learn": [
              0.8304572908,
              0.3660515422
             ],
             "passed_time": 4.695234497,
             "remaining_time": 4.282269322,
             "test": [
              0.7912593445,
              0.4091473597
             ]
            },
            {
             "iteration": 523,
             "learn": [
              0.8303134886,
              0.3660301483
             ],
             "passed_time": 4.70287474,
             "remaining_time": 4.272077054,
             "test": [
              0.7912593445,
              0.4091227794
             ]
            },
            {
             "iteration": 524,
             "learn": [
              0.8301696865,
              0.3658860983
             ],
             "passed_time": 4.710698121,
             "remaining_time": 4.262060205,
             "test": [
              0.7906843013,
              0.4090348432
             ]
            },
            {
             "iteration": 525,
             "learn": [
              0.8301696865,
              0.3658788434
             ],
             "passed_time": 4.718829557,
             "remaining_time": 4.252329297,
             "test": [
              0.7906843013,
              0.4090239769
             ]
            },
            {
             "iteration": 526,
             "learn": [
              0.8301696865,
              0.3658501371
             ],
             "passed_time": 4.726912836,
             "remaining_time": 4.242561236,
             "test": [
              0.7906843013,
              0.4090064729
             ]
            },
            {
             "iteration": 527,
             "learn": [
              0.8303134886,
              0.365819438
             ],
             "passed_time": 4.734918023,
             "remaining_time": 4.232729748,
             "test": [
              0.7906843013,
              0.4090151867
             ]
            },
            {
             "iteration": 528,
             "learn": [
              0.8303134886,
              0.3657476274
             ],
             "passed_time": 4.743775078,
             "remaining_time": 4.223663633,
             "test": [
              0.7906843013,
              0.4090002003
             ]
            },
            {
             "iteration": 529,
             "learn": [
              0.8306010929,
              0.3656059537
             ],
             "passed_time": 4.752307642,
             "remaining_time": 4.21431055,
             "test": [
              0.7906843013,
              0.4090363815
             ]
            },
            {
             "iteration": 530,
             "learn": [
              0.8308886972,
              0.3654736674
             ],
             "passed_time": 4.759966299,
             "remaining_time": 4.20418869,
             "test": [
              0.7895342151,
              0.4090538165
             ]
            },
            {
             "iteration": 531,
             "learn": [
              0.8311763014,
              0.3654018494
             ],
             "passed_time": 4.767648832,
             "remaining_time": 4.194097093,
             "test": [
              0.7895342151,
              0.409026909
             ]
            },
            {
             "iteration": 532,
             "learn": [
              0.8311763014,
              0.3653968062
             ],
             "passed_time": 4.774492848,
             "remaining_time": 4.18327985,
             "test": [
              0.7895342151,
              0.4090293489
             ]
            },
            {
             "iteration": 533,
             "learn": [
              0.8311763014,
              0.3652835379
             ],
             "passed_time": 4.783330016,
             "remaining_time": 4.17421683,
             "test": [
              0.7889591719,
              0.4089933371
             ]
            },
            {
             "iteration": 534,
             "learn": [
              0.8311763014,
              0.365273698
             ],
             "passed_time": 4.789708974,
             "remaining_time": 4.16301808,
             "test": [
              0.7889591719,
              0.4089931308
             ]
            },
            {
             "iteration": 535,
             "learn": [
              0.8310324993,
              0.3651884239
             ],
             "passed_time": 4.798169363,
             "remaining_time": 4.15363915,
             "test": [
              0.7889591719,
              0.4089527114
             ]
            },
            {
             "iteration": 536,
             "learn": [
              0.830744895,
              0.3651164916
             ],
             "passed_time": 4.805537939,
             "remaining_time": 4.143322283,
             "test": [
              0.7889591719,
              0.408961839
             ]
            },
            {
             "iteration": 537,
             "learn": [
              0.8310324993,
              0.3650338862
             ],
             "passed_time": 4.814174759,
             "remaining_time": 4.134105462,
             "test": [
              0.7889591719,
              0.408941735
             ]
            },
            {
             "iteration": 538,
             "learn": [
              0.8311763014,
              0.3649881558
             ],
             "passed_time": 4.822234085,
             "remaining_time": 4.12439687,
             "test": [
              0.7889591719,
              0.4089407425
             ]
            },
            {
             "iteration": 539,
             "learn": [
              0.8311763014,
              0.3648968016
             ],
             "passed_time": 4.830524062,
             "remaining_time": 4.114890868,
             "test": [
              0.7883841288,
              0.4088880043
             ]
            },
            {
             "iteration": 540,
             "learn": [
              0.8311763014,
              0.3647881322
             ],
             "passed_time": 4.838581303,
             "remaining_time": 4.1051919,
             "test": [
              0.7878090857,
              0.4088631563
             ]
            },
            {
             "iteration": 541,
             "learn": [
              0.8310324993,
              0.3646121033
             ],
             "passed_time": 4.848049223,
             "remaining_time": 4.096691041,
             "test": [
              0.7878090857,
              0.4088479873
             ]
            },
            {
             "iteration": 542,
             "learn": [
              0.8313201035,
              0.3645582995
             ],
             "passed_time": 4.855134508,
             "remaining_time": 4.086181344,
             "test": [
              0.7883841288,
              0.4089322121
             ]
            },
            {
             "iteration": 543,
             "learn": [
              0.8314639057,
              0.3645292108
             ],
             "passed_time": 4.862929728,
             "remaining_time": 4.076279331,
             "test": [
              0.7883841288,
              0.4089620873
             ]
            },
            {
             "iteration": 544,
             "learn": [
              0.8314639057,
              0.3645036963
             ],
             "passed_time": 4.871530001,
             "remaining_time": 4.067057157,
             "test": [
              0.7883841288,
              0.4089526581
             ]
            },
            {
             "iteration": 545,
             "learn": [
              0.8314639057,
              0.3644843583
             ],
             "passed_time": 4.879525706,
             "remaining_time": 4.057334561,
             "test": [
              0.7883841288,
              0.4089311102
             ]
            },
            {
             "iteration": 546,
             "learn": [
              0.8314639057,
              0.3644746286
             ],
             "passed_time": 4.887794964,
             "remaining_time": 4.047844824,
             "test": [
              0.7883841288,
              0.4089354888
             ]
            },
            {
             "iteration": 547,
             "learn": [
              0.8318953121,
              0.3644164275
             ],
             "passed_time": 4.905667337,
             "remaining_time": 4.046280358,
             "test": [
              0.7889591719,
              0.4089596937
             ]
            },
            {
             "iteration": 548,
             "learn": [
              0.8318953121,
              0.3642999564
             ],
             "passed_time": 4.914559943,
             "remaining_time": 4.037279662,
             "test": [
              0.7895342151,
              0.408962822
             ]
            },
            {
             "iteration": 549,
             "learn": [
              0.8321829163,
              0.364257702
             ],
             "passed_time": 4.923194737,
             "remaining_time": 4.028068421,
             "test": [
              0.7889591719,
              0.4089244684
             ]
            },
            {
             "iteration": 550,
             "learn": [
              0.8326143227,
              0.3641366127
             ],
             "passed_time": 4.93208323,
             "remaining_time": 4.019066008,
             "test": [
              0.7889591719,
              0.4089923755
             ]
            },
            {
             "iteration": 551,
             "learn": [
              0.8327581248,
              0.3640877285
             ],
             "passed_time": 4.940280048,
             "remaining_time": 4.009502648,
             "test": [
              0.7883841288,
              0.4089970555
             ]
            },
            {
             "iteration": 552,
             "learn": [
              0.8327581248,
              0.3640619765
             ],
             "passed_time": 4.948621462,
             "remaining_time": 4.00006111,
             "test": [
              0.7889591719,
              0.408976482
             ]
            },
            {
             "iteration": 553,
             "learn": [
              0.8326143227,
              0.364029324
             ],
             "passed_time": 4.957430439,
             "remaining_time": 3.990999957,
             "test": [
              0.7895342151,
              0.4089626661
             ]
            },
            {
             "iteration": 554,
             "learn": [
              0.8326143227,
              0.3639972103
             ],
             "passed_time": 4.965706382,
             "remaining_time": 3.981512324,
             "test": [
              0.7895342151,
              0.4089765659
             ]
            },
            {
             "iteration": 555,
             "learn": [
              0.8326143227,
              0.3638426123
             ],
             "passed_time": 4.973732172,
             "remaining_time": 3.971829289,
             "test": [
              0.7883841288,
              0.4088756157
             ]
            },
            {
             "iteration": 556,
             "learn": [
              0.8326143227,
              0.3637507231
             ],
             "passed_time": 4.982307123,
             "remaining_time": 3.962588968,
             "test": [
              0.7883841288,
              0.4088901158
             ]
            },
            {
             "iteration": 557,
             "learn": [
              0.8324705206,
              0.3634799214
             ],
             "passed_time": 4.9904379,
             "remaining_time": 3.952999196,
             "test": [
              0.7889591719,
              0.4087016299
             ]
            },
            {
             "iteration": 558,
             "learn": [
              0.8321829163,
              0.3634516028
             ],
             "passed_time": 4.999083643,
             "remaining_time": 3.943820906,
             "test": [
              0.7895342151,
              0.4086990659
             ]
            },
            {
             "iteration": 559,
             "learn": [
              0.8320391142,
              0.3633361535
             ],
             "passed_time": 5.007314111,
             "remaining_time": 3.93431823,
             "test": [
              0.7889591719,
              0.4085373544
             ]
            },
            {
             "iteration": 560,
             "learn": [
              0.8320391142,
              0.3630822878
             ],
             "passed_time": 5.015040087,
             "remaining_time": 3.924425309,
             "test": [
              0.7889591719,
              0.4083926762
             ]
            },
            {
             "iteration": 561,
             "learn": [
              0.8323267184,
              0.3630293932
             ],
             "passed_time": 5.023235551,
             "remaining_time": 3.914905999,
             "test": [
              0.7901092582,
              0.4083384314
             ]
            },
            {
             "iteration": 562,
             "learn": [
              0.8321829163,
              0.3630011511
             ],
             "passed_time": 5.031193452,
             "remaining_time": 3.905206995,
             "test": [
              0.7901092582,
              0.4083509796
             ]
            },
            {
             "iteration": 563,
             "learn": [
              0.8324705206,
              0.3628436488
             ],
             "passed_time": 5.038712351,
             "remaining_time": 3.895174796,
             "test": [
              0.7901092582,
              0.4083045199
             ]
            },
            {
             "iteration": 564,
             "learn": [
              0.8323267184,
              0.3628032297
             ],
             "passed_time": 5.046093102,
             "remaining_time": 3.885045132,
             "test": [
              0.7906843013,
              0.4083003997
             ]
            },
            {
             "iteration": 565,
             "learn": [
              0.8326143227,
              0.3627426823
             ],
             "passed_time": 5.053883665,
             "remaining_time": 3.875239418,
             "test": [
              0.7906843013,
              0.4082855478
             ]
            },
            {
             "iteration": 566,
             "learn": [
              0.8329019269,
              0.3626323631
             ],
             "passed_time": 5.061562896,
             "remaining_time": 3.865355792,
             "test": [
              0.7901092582,
              0.4082589946
             ]
            },
            {
             "iteration": 567,
             "learn": [
              0.8330457291,
              0.3626191551
             ],
             "passed_time": 5.069084878,
             "remaining_time": 3.85536033,
             "test": [
              0.7901092582,
              0.4082692575
             ]
            },
            {
             "iteration": 568,
             "learn": [
              0.8331895312,
              0.3626122278
             ],
             "passed_time": 5.077492585,
             "remaining_time": 3.846044471,
             "test": [
              0.7906843013,
              0.4082847161
             ]
            },
            {
             "iteration": 569,
             "learn": [
              0.8331895312,
              0.3625421964
             ],
             "passed_time": 5.085469522,
             "remaining_time": 3.836406832,
             "test": [
              0.7901092582,
              0.4082261978
             ]
            },
            {
             "iteration": 570,
             "learn": [
              0.8330457291,
              0.3624404783
             ],
             "passed_time": 5.094071821,
             "remaining_time": 3.827244853,
             "test": [
              0.7906843013,
              0.4082494174
             ]
            },
            {
             "iteration": 571,
             "learn": [
              0.8326143227,
              0.3623818267
             ],
             "passed_time": 5.101067962,
             "remaining_time": 3.816883021,
             "test": [
              0.7912593445,
              0.4082869804
             ]
            },
            {
             "iteration": 572,
             "learn": [
              0.8326143227,
              0.3622817998
             ],
             "passed_time": 5.110029617,
             "remaining_time": 3.807997638,
             "test": [
              0.7912593445,
              0.4082923824
             ]
            },
            {
             "iteration": 573,
             "learn": [
              0.8329019269,
              0.3622379841
             ],
             "passed_time": 5.118657502,
             "remaining_time": 3.798864278,
             "test": [
              0.7912593445,
              0.4083022048
             ]
            },
            {
             "iteration": 574,
             "learn": [
              0.8326143227,
              0.362223517
             ],
             "passed_time": 5.12619923,
             "remaining_time": 3.788929865,
             "test": [
              0.7912593445,
              0.4083122894
             ]
            },
            {
             "iteration": 575,
             "learn": [
              0.8327581248,
              0.3621315393
             ],
             "passed_time": 5.13409841,
             "remaining_time": 3.779266885,
             "test": [
              0.7912593445,
              0.4083358718
             ]
            },
            {
             "iteration": 576,
             "learn": [
              0.8327581248,
              0.3620323982
             ],
             "passed_time": 5.142818878,
             "remaining_time": 3.770212107,
             "test": [
              0.7912593445,
              0.4083356926
             ]
            },
            {
             "iteration": 577,
             "learn": [
              0.8327581248,
              0.3620164062
             ],
             "passed_time": 5.149617234,
             "remaining_time": 3.759755143,
             "test": [
              0.7912593445,
              0.4083425082
             ]
            },
            {
             "iteration": 578,
             "learn": [
              0.8327581248,
              0.3617871281
             ],
             "passed_time": 5.15914375,
             "remaining_time": 3.751294506,
             "test": [
              0.7912593445,
              0.4084632039
             ]
            },
            {
             "iteration": 579,
             "learn": [
              0.8329019269,
              0.3617178218
             ],
             "passed_time": 5.167909887,
             "remaining_time": 3.742279574,
             "test": [
              0.7912593445,
              0.4084323284
             ]
            },
            {
             "iteration": 580,
             "learn": [
              0.8330457291,
              0.3616748644
             ],
             "passed_time": 5.175542704,
             "remaining_time": 3.73244818,
             "test": [
              0.7912593445,
              0.4084252414
             ]
            },
            {
             "iteration": 581,
             "learn": [
              0.8330457291,
              0.361607708
             ],
             "passed_time": 5.18348342,
             "remaining_time": 3.72284548,
             "test": [
              0.7912593445,
              0.4084255557
             ]
            },
            {
             "iteration": 582,
             "learn": [
              0.8329019269,
              0.3616036133
             ],
             "passed_time": 5.191254938,
             "remaining_time": 3.71312746,
             "test": [
              0.7912593445,
              0.4084254031
             ]
            },
            {
             "iteration": 583,
             "learn": [
              0.8331895312,
              0.361532362
             ],
             "passed_time": 5.198768629,
             "remaining_time": 3.703232448,
             "test": [
              0.7912593445,
              0.4084719923
             ]
            },
            {
             "iteration": 584,
             "learn": [
              0.8331895312,
              0.3615180754
             ],
             "passed_time": 5.206720953,
             "remaining_time": 3.693656744,
             "test": [
              0.7912593445,
              0.4084675404
             ]
            },
            {
             "iteration": 585,
             "learn": [
              0.8333333333,
              0.3615093007
             ],
             "passed_time": 5.214548448,
             "remaining_time": 3.683998391,
             "test": [
              0.7912593445,
              0.4084787497
             ]
            },
            {
             "iteration": 586,
             "learn": [
              0.8331895312,
              0.3614610694
             ],
             "passed_time": 5.223282084,
             "remaining_time": 3.674983817,
             "test": [
              0.7912593445,
              0.4084687955
             ]
            },
            {
             "iteration": 587,
             "learn": [
              0.8334771355,
              0.3613262829
             ],
             "passed_time": 5.231446704,
             "remaining_time": 3.6655715,
             "test": [
              0.7912593445,
              0.4084165287
             ]
            },
            {
             "iteration": 588,
             "learn": [
              0.8334771355,
              0.3613138473
             ],
             "passed_time": 5.239382727,
             "remaining_time": 3.656003907,
             "test": [
              0.7912593445,
              0.4084158111
             ]
            },
            {
             "iteration": 589,
             "learn": [
              0.8334771355,
              0.3613122537
             ],
             "passed_time": 5.248347094,
             "remaining_time": 3.647156455,
             "test": [
              0.7912593445,
              0.4084156843
             ]
            },
            {
             "iteration": 590,
             "learn": [
              0.8334771355,
              0.3612687192
             ],
             "passed_time": 5.256622898,
             "remaining_time": 3.63783209,
             "test": [
              0.7912593445,
              0.4084243255
             ]
            },
            {
             "iteration": 591,
             "learn": [
              0.8337647397,
              0.361189148
             ],
             "passed_time": 5.265495092,
             "remaining_time": 3.628922293,
             "test": [
              0.7912593445,
              0.4084492326
             ]
            },
            {
             "iteration": 592,
             "learn": [
              0.8336209376,
              0.3611048836
             ],
             "passed_time": 5.274082862,
             "remaining_time": 3.619817411,
             "test": [
              0.7912593445,
              0.4084329712
             ]
            },
            {
             "iteration": 593,
             "learn": [
              0.8337647397,
              0.36104218
             ],
             "passed_time": 5.281791478,
             "remaining_time": 3.610113367,
             "test": [
              0.7912593445,
              0.4084178847
             ]
            },
            {
             "iteration": 594,
             "learn": [
              0.8337647397,
              0.3610266421
             ],
             "passed_time": 5.289712134,
             "remaining_time": 3.60056036,
             "test": [
              0.7912593445,
              0.4084175001
             ]
            },
            {
             "iteration": 595,
             "learn": [
              0.8336209376,
              0.3609743515
             ],
             "passed_time": 5.298203451,
             "remaining_time": 3.591399655,
             "test": [
              0.7912593445,
              0.4083949294
             ]
            },
            {
             "iteration": 596,
             "learn": [
              0.8336209376,
              0.3608973605
             ],
             "passed_time": 5.305319372,
             "remaining_time": 3.581312742,
             "test": [
              0.7912593445,
              0.4084170103
             ]
            },
            {
             "iteration": 597,
             "learn": [
              0.8341961461,
              0.360841398
             ],
             "passed_time": 5.313005915,
             "remaining_time": 3.571619361,
             "test": [
              0.7912593445,
              0.4083820572
             ]
            },
            {
             "iteration": 598,
             "learn": [
              0.8341961461,
              0.3607960484
             ],
             "passed_time": 5.323299,
             "remaining_time": 3.563677628,
             "test": [
              0.7912593445,
              0.4085106324
             ]
            },
            {
             "iteration": 599,
             "learn": [
              0.8336209376,
              0.3606256486
             ],
             "passed_time": 5.332459202,
             "remaining_time": 3.554972801,
             "test": [
              0.7912593445,
              0.4085585676
             ]
            },
            {
             "iteration": 600,
             "learn": [
              0.8336209376,
              0.360576608
             ],
             "passed_time": 5.341514831,
             "remaining_time": 3.546197034,
             "test": [
              0.7912593445,
              0.4085322406
             ]
            },
            {
             "iteration": 601,
             "learn": [
              0.8336209376,
              0.3604908583
             ],
             "passed_time": 5.349543863,
             "remaining_time": 3.536741623,
             "test": [
              0.7906843013,
              0.4084987637
             ]
            },
            {
             "iteration": 602,
             "learn": [
              0.8336209376,
              0.3603910758
             ],
             "passed_time": 5.357747831,
             "remaining_time": 3.527406117,
             "test": [
              0.7906843013,
              0.4084110026
             ]
            },
            {
             "iteration": 603,
             "learn": [
              0.8337647397,
              0.3602921571
             ],
             "passed_time": 5.365076963,
             "remaining_time": 3.51750079,
             "test": [
              0.7906843013,
              0.4083889427
             ]
            },
            {
             "iteration": 604,
             "learn": [
              0.8337647397,
              0.3602138375
             ],
             "passed_time": 5.375380226,
             "remaining_time": 3.509545768,
             "test": [
              0.7906843013,
              0.4083947832
             ]
            },
            {
             "iteration": 605,
             "learn": [
              0.8336209376,
              0.3600967016
             ],
             "passed_time": 5.383537799,
             "remaining_time": 3.500187942,
             "test": [
              0.7906843013,
              0.4083874614
             ]
            },
            {
             "iteration": 606,
             "learn": [
              0.8336209376,
              0.360080317
             ],
             "passed_time": 5.392509728,
             "remaining_time": 3.491361323,
             "test": [
              0.7906843013,
              0.4083825103
             ]
            },
            {
             "iteration": 607,
             "learn": [
              0.8337647397,
              0.3600742299
             ],
             "passed_time": 5.399866225,
             "remaining_time": 3.481492697,
             "test": [
              0.7906843013,
              0.4083757001
             ]
            },
            {
             "iteration": 608,
             "learn": [
              0.8337647397,
              0.3599120377
             ],
             "passed_time": 5.408747429,
             "remaining_time": 3.472611239,
             "test": [
              0.7906843013,
              0.4084824959
             ]
            },
            {
             "iteration": 609,
             "learn": [
              0.834052344,
              0.3597961767
             ],
             "passed_time": 5.417123275,
             "remaining_time": 3.463406684,
             "test": [
              0.7906843013,
              0.4084368209
             ]
            },
            {
             "iteration": 610,
             "learn": [
              0.8339085418,
              0.3596151078
             ],
             "passed_time": 5.425353192,
             "remaining_time": 3.454111934,
             "test": [
              0.7906843013,
              0.4085164357
             ]
            },
            {
             "iteration": 611,
             "learn": [
              0.8337647397,
              0.3594509382
             ],
             "passed_time": 5.433942853,
             "remaining_time": 3.445048737,
             "test": [
              0.7906843013,
              0.4083673891
             ]
            },
            {
             "iteration": 612,
             "learn": [
              0.8336209376,
              0.3594095332
             ],
             "passed_time": 5.442324709,
             "remaining_time": 3.435855893,
             "test": [
              0.7906843013,
              0.4083441229
             ]
            },
            {
             "iteration": 613,
             "learn": [
              0.8337647397,
              0.3593971187
             ],
             "passed_time": 5.451470023,
             "remaining_time": 3.42714565,
             "test": [
              0.7906843013,
              0.4083257475
             ]
            },
            {
             "iteration": 614,
             "learn": [
              0.8339085418,
              0.3593516384
             ],
             "passed_time": 5.460313262,
             "remaining_time": 3.418244887,
             "test": [
              0.7912593445,
              0.4083300823
             ]
            },
            {
             "iteration": 615,
             "learn": [
              0.8337647397,
              0.3592939453
             ],
             "passed_time": 5.468726431,
             "remaining_time": 3.409076217,
             "test": [
              0.7912593445,
              0.4082726731
             ]
            },
            {
             "iteration": 616,
             "learn": [
              0.8337647397,
              0.3592828713
             ],
             "passed_time": 5.47680016,
             "remaining_time": 3.399699289,
             "test": [
              0.7912593445,
              0.4082721065
             ]
            },
            {
             "iteration": 617,
             "learn": [
              0.8337647397,
              0.3592385425
             ],
             "passed_time": 5.485487528,
             "remaining_time": 3.390705883,
             "test": [
              0.7912593445,
              0.408283764
             ]
            },
            {
             "iteration": 618,
             "learn": [
              0.8337647397,
              0.3591009946
             ],
             "passed_time": 5.493851692,
             "remaining_time": 3.381514531,
             "test": [
              0.7912593445,
              0.4082122477
             ]
            },
            {
             "iteration": 619,
             "learn": [
              0.8337647397,
              0.3590907374
             ],
             "passed_time": 5.501149763,
             "remaining_time": 3.371672435,
             "test": [
              0.7912593445,
              0.4082026121
             ]
            },
            {
             "iteration": 620,
             "learn": [
              0.8339085418,
              0.3590636895
             ],
             "passed_time": 5.509071712,
             "remaining_time": 3.36221929,
             "test": [
              0.7912593445,
              0.408220017
             ]
            },
            {
             "iteration": 621,
             "learn": [
              0.834052344,
              0.3589415759
             ],
             "passed_time": 5.517919501,
             "remaining_time": 3.353333716,
             "test": [
              0.7906843013,
              0.4082042367
             ]
            },
            {
             "iteration": 622,
             "learn": [
              0.8341961461,
              0.3588348765
             ],
             "passed_time": 5.526106535,
             "remaining_time": 3.344048417,
             "test": [
              0.7912593445,
              0.4081224407
             ]
            },
            {
             "iteration": 623,
             "learn": [
              0.8341961461,
              0.3588002651
             ],
             "passed_time": 5.535452881,
             "remaining_time": 3.335465198,
             "test": [
              0.7912593445,
              0.4081272817
             ]
            },
            {
             "iteration": 624,
             "learn": [
              0.8341961461,
              0.3587964847
             ],
             "passed_time": 5.543164252,
             "remaining_time": 3.325898551,
             "test": [
              0.7912593445,
              0.4081281626
             ]
            },
            {
             "iteration": 625,
             "learn": [
              0.8343399482,
              0.3586955334
             ],
             "passed_time": 5.551988854,
             "remaining_time": 3.317002926,
             "test": [
              0.7912593445,
              0.4082370148
             ]
            },
            {
             "iteration": 626,
             "learn": [
              0.8346275525,
              0.3586382303
             ],
             "passed_time": 5.5602134,
             "remaining_time": 3.307750556,
             "test": [
              0.7912593445,
              0.4082420537
             ]
            },
            {
             "iteration": 627,
             "learn": [
              0.8346275525,
              0.3585975015
             ],
             "passed_time": 5.568972272,
             "remaining_time": 3.29881797,
             "test": [
              0.7918343876,
              0.408194455
             ]
            },
            {
             "iteration": 628,
             "learn": [
              0.8347713546,
              0.3585449065
             ],
             "passed_time": 5.577283867,
             "remaining_time": 3.289622122,
             "test": [
              0.7912593445,
              0.4082120404
             ]
            },
            {
             "iteration": 629,
             "learn": [
              0.8347713546,
              0.3584011245
             ],
             "passed_time": 5.585286587,
             "remaining_time": 3.280247678,
             "test": [
              0.7912593445,
              0.4082157114
             ]
            },
            {
             "iteration": 630,
             "learn": [
              0.8346275525,
              0.358392713
             ],
             "passed_time": 5.593390718,
             "remaining_time": 3.270936886,
             "test": [
              0.7912593445,
              0.4082375096
             ]
            },
            {
             "iteration": 631,
             "learn": [
              0.8347713546,
              0.3583002004
             ],
             "passed_time": 5.601520634,
             "remaining_time": 3.261644926,
             "test": [
              0.7912593445,
              0.4082224193
             ]
            },
            {
             "iteration": 632,
             "learn": [
              0.8346275525,
              0.3582063268
             ],
             "passed_time": 5.609465964,
             "remaining_time": 3.252249619,
             "test": [
              0.7912593445,
              0.4081278942
             ]
            },
            {
             "iteration": 633,
             "learn": [
              0.8347713546,
              0.3581676128
             ],
             "passed_time": 5.617585021,
             "remaining_time": 3.242959176,
             "test": [
              0.7912593445,
              0.4080672728
             ]
            },
            {
             "iteration": 634,
             "learn": [
              0.8349151567,
              0.3581217672
             ],
             "passed_time": 5.625392744,
             "remaining_time": 3.233493467,
             "test": [
              0.7912593445,
              0.408034052
             ]
            },
            {
             "iteration": 635,
             "learn": [
              0.8349151567,
              0.3580354793
             ],
             "passed_time": 5.634210184,
             "remaining_time": 3.22461086,
             "test": [
              0.7918343876,
              0.4079740575
             ]
            },
            {
             "iteration": 636,
             "learn": [
              0.8353465631,
              0.3579841472
             ],
             "passed_time": 5.642735966,
             "remaining_time": 3.215562254,
             "test": [
              0.7924094307,
              0.4079808251
             ]
            },
            {
             "iteration": 637,
             "learn": [
              0.8354903653,
              0.3579257338
             ],
             "passed_time": 5.652040376,
             "remaining_time": 3.206957079,
             "test": [
              0.7918343876,
              0.4080342603
             ]
            },
            {
             "iteration": 638,
             "learn": [
              0.8354903653,
              0.3579161312
             ],
             "passed_time": 5.660343841,
             "remaining_time": 3.197784236,
             "test": [
              0.7918343876,
              0.4080362266
             ]
            },
            {
             "iteration": 639,
             "learn": [
              0.8354903653,
              0.3578598566
             ],
             "passed_time": 5.668568502,
             "remaining_time": 3.188569782,
             "test": [
              0.7924094307,
              0.4080176719
             ]
            },
            {
             "iteration": 640,
             "learn": [
              0.8353465631,
              0.3577894093
             ],
             "passed_time": 5.676270537,
             "remaining_time": 3.179065714,
             "test": [
              0.7918343876,
              0.4079443071
             ]
            },
            {
             "iteration": 641,
             "learn": [
              0.8356341674,
              0.3577045985
             ],
             "passed_time": 5.683953808,
             "remaining_time": 3.169556796,
             "test": [
              0.7924094307,
              0.407967052
             ]
            },
            {
             "iteration": 642,
             "learn": [
              0.8353465631,
              0.357651142
             ],
             "passed_time": 5.691401744,
             "remaining_time": 3.159922897,
             "test": [
              0.7924094307,
              0.4079671887
             ]
            },
            {
             "iteration": 643,
             "learn": [
              0.8353465631,
              0.3576409793
             ],
             "passed_time": 5.698198886,
             "remaining_time": 3.14993603,
             "test": [
              0.7924094307,
              0.407973049
             ]
            },
            {
             "iteration": 644,
             "learn": [
              0.8354903653,
              0.3575682384
             ],
             "passed_time": 5.707043277,
             "remaining_time": 3.141085835,
             "test": [
              0.7924094307,
              0.4078811864
             ]
            },
            {
             "iteration": 645,
             "learn": [
              0.8354903653,
              0.3574987332
             ],
             "passed_time": 5.715805308,
             "remaining_time": 3.132190525,
             "test": [
              0.7924094307,
              0.4078499059
             ]
            },
            {
             "iteration": 646,
             "learn": [
              0.8357779695,
              0.3573931448
             ],
             "passed_time": 5.724302369,
             "remaining_time": 3.123151061,
             "test": [
              0.7924094307,
              0.4077664002
             ]
            },
            {
             "iteration": 647,
             "learn": [
              0.8357779695,
              0.3572897164
             ],
             "passed_time": 5.731600905,
             "remaining_time": 3.11346222,
             "test": [
              0.7918343876,
              0.407690929
             ]
            },
            {
             "iteration": 648,
             "learn": [
              0.8357779695,
              0.3571833742
             ],
             "passed_time": 5.741263703,
             "remaining_time": 3.105059414,
             "test": [
              0.7918343876,
              0.4077376868
             ]
            },
            {
             "iteration": 649,
             "learn": [
              0.8357779695,
              0.3571594718
             ],
             "passed_time": 5.750142364,
             "remaining_time": 3.096230504,
             "test": [
              0.7918343876,
              0.4077269342
             ]
            },
            {
             "iteration": 650,
             "learn": [
              0.8353465631,
              0.3570624249
             ],
             "passed_time": 5.761571075,
             "remaining_time": 3.088768518,
             "test": [
              0.7918343876,
              0.4077664409
             ]
            },
            {
             "iteration": 651,
             "learn": [
              0.8359217716,
              0.3570103092
             ],
             "passed_time": 5.769602727,
             "remaining_time": 3.07948121,
             "test": [
              0.7918343876,
              0.4077628263
             ]
            },
            {
             "iteration": 652,
             "learn": [
              0.8360655738,
              0.3570048638
             ],
             "passed_time": 5.777404202,
             "remaining_time": 3.070075434,
             "test": [
              0.7918343876,
              0.4077651964
             ]
            },
            {
             "iteration": 653,
             "learn": [
              0.8357779695,
              0.356927521
             ],
             "passed_time": 5.785664038,
             "remaining_time": 3.06091706,
             "test": [
              0.7912593445,
              0.4078302202
             ]
            },
            {
             "iteration": 654,
             "learn": [
              0.8360655738,
              0.3568953387
             ],
             "passed_time": 5.793055659,
             "remaining_time": 3.051304126,
             "test": [
              0.7912593445,
              0.4078365919
             ]
            },
            {
             "iteration": 655,
             "learn": [
              0.8360655738,
              0.3568077352
             ],
             "passed_time": 5.801429888,
             "remaining_time": 3.042213234,
             "test": [
              0.7912593445,
              0.4077690509
             ]
            },
            {
             "iteration": 656,
             "learn": [
              0.8357779695,
              0.3567694589
             ],
             "passed_time": 5.812105836,
             "remaining_time": 3.034326182,
             "test": [
              0.7912593445,
              0.4077487754
             ]
            },
            {
             "iteration": 657,
             "learn": [
              0.8359217716,
              0.3567389839
             ],
             "passed_time": 5.821366342,
             "remaining_time": 3.025694968,
             "test": [
              0.7906843013,
              0.4077629102
             ]
            },
            {
             "iteration": 658,
             "learn": [
              0.8360655738,
              0.3566216301
             ],
             "passed_time": 5.829478862,
             "remaining_time": 3.016467818,
             "test": [
              0.7901092582,
              0.4078606345
             ]
            },
            {
             "iteration": 659,
             "learn": [
              0.8360655738,
              0.3566079288
             ],
             "passed_time": 5.83727134,
             "remaining_time": 3.007079175,
             "test": [
              0.7901092582,
              0.4078625845
             ]
            },
            {
             "iteration": 660,
             "learn": [
              0.836353178,
              0.3564851188
             ],
             "passed_time": 5.844954741,
             "remaining_time": 2.997639421,
             "test": [
              0.7912593445,
              0.4077718534
             ]
            },
            {
             "iteration": 661,
             "learn": [
              0.8362093759,
              0.3563892462
             ],
             "passed_time": 5.854470934,
             "remaining_time": 2.989140749,
             "test": [
              0.7918343876,
              0.4076414727
             ]
            },
            {
             "iteration": 662,
             "learn": [
              0.8360655738,
              0.3563398736
             ],
             "passed_time": 5.862426527,
             "remaining_time": 2.979845761,
             "test": [
              0.7912593445,
              0.4076798236
             ]
            },
            {
             "iteration": 663,
             "learn": [
              0.836353178,
              0.3562710529
             ],
             "passed_time": 5.870834089,
             "remaining_time": 2.970783515,
             "test": [
              0.7906843013,
              0.4077418418
             ]
            },
            {
             "iteration": 664,
             "learn": [
              0.8362093759,
              0.3562543028
             ],
             "passed_time": 5.878732829,
             "remaining_time": 2.961466914,
             "test": [
              0.7906843013,
              0.4077530057
             ]
            },
            {
             "iteration": 665,
             "learn": [
              0.8360655738,
              0.3562412256
             ],
             "passed_time": 5.898311981,
             "remaining_time": 2.958012315,
             "test": [
              0.7906843013,
              0.4077457414
             ]
            },
            {
             "iteration": 666,
             "learn": [
              0.8362093759,
              0.3562052568
             ],
             "passed_time": 5.90697196,
             "remaining_time": 2.949057965,
             "test": [
              0.7906843013,
              0.4077414896
             ]
            },
            {
             "iteration": 667,
             "learn": [
              0.8359217716,
              0.3561487862
             ],
             "passed_time": 5.913787709,
             "remaining_time": 2.939187903,
             "test": [
              0.7901092582,
              0.4077597455
             ]
            },
            {
             "iteration": 668,
             "learn": [
              0.8364969802,
              0.3559168016
             ],
             "passed_time": 5.923125272,
             "remaining_time": 2.930574686,
             "test": [
              0.7906843013,
              0.4075993008
             ]
            },
            {
             "iteration": 669,
             "learn": [
              0.8366407823,
              0.3558916215
             ],
             "passed_time": 5.933380769,
             "remaining_time": 2.922411424,
             "test": [
              0.7906843013,
              0.4075912113
             ]
            },
            {
             "iteration": 670,
             "learn": [
              0.8366407823,
              0.3556939474
             ],
             "passed_time": 5.947231059,
             "remaining_time": 2.916004498,
             "test": [
              0.7918343876,
              0.4075918616
             ]
            },
            {
             "iteration": 671,
             "learn": [
              0.8360655738,
              0.3555966525
             ],
             "passed_time": 5.957863153,
             "remaining_time": 2.908004634,
             "test": [
              0.7918343876,
              0.4076113599
             ]
            },
            {
             "iteration": 672,
             "learn": [
              0.8362093759,
              0.3555851866
             ],
             "passed_time": 5.970046071,
             "remaining_time": 2.900750468,
             "test": [
              0.7918343876,
              0.4076363678
             ]
            },
            {
             "iteration": 673,
             "learn": [
              0.8364969802,
              0.355463824
             ],
             "passed_time": 5.982155086,
             "remaining_time": 2.893445932,
             "test": [
              0.7918343876,
              0.4076590482
             ]
            },
            {
             "iteration": 674,
             "learn": [
              0.8369283865,
              0.3553194499
             ],
             "passed_time": 5.99331736,
             "remaining_time": 2.885671321,
             "test": [
              0.7912593445,
              0.4077730074
             ]
            },
            {
             "iteration": 675,
             "learn": [
              0.8369283865,
              0.3552453737
             ],
             "passed_time": 6.004394585,
             "remaining_time": 2.877845925,
             "test": [
              0.7906843013,
              0.4077731813
             ]
            },
            {
             "iteration": 676,
             "learn": [
              0.8369283865,
              0.3552313384
             ],
             "passed_time": 6.014426656,
             "remaining_time": 2.869512275,
             "test": [
              0.7906843013,
              0.4077715667
             ]
            },
            {
             "iteration": 677,
             "learn": [
              0.8369283865,
              0.3551498953
             ],
             "passed_time": 6.025184454,
             "remaining_time": 2.861518281,
             "test": [
              0.7906843013,
              0.4077330327
             ]
            },
            {
             "iteration": 678,
             "learn": [
              0.8367845844,
              0.355138494
             ],
             "passed_time": 6.034785485,
             "remaining_time": 2.85296928,
             "test": [
              0.7912593445,
              0.4077260472
             ]
            },
            {
             "iteration": 679,
             "learn": [
              0.8367845844,
              0.3549996145
             ],
             "passed_time": 6.044987973,
             "remaining_time": 2.844700222,
             "test": [
              0.7906843013,
              0.4076785681
             ]
            },
            {
             "iteration": 680,
             "learn": [
              0.8369283865,
              0.3549653575
             ],
             "passed_time": 6.053186838,
             "remaining_time": 2.835486933,
             "test": [
              0.7912593445,
              0.4076895148
             ]
            },
            {
             "iteration": 681,
             "learn": [
              0.8370721887,
              0.3549456889
             ],
             "passed_time": 6.062220949,
             "remaining_time": 2.826666073,
             "test": [
              0.7912593445,
              0.4076805994
             ]
            },
            {
             "iteration": 682,
             "learn": [
              0.8370721887,
              0.3548937416
             ],
             "passed_time": 6.069071564,
             "remaining_time": 2.816831165,
             "test": [
              0.7906843013,
              0.4076182867
             ]
            },
            {
             "iteration": 683,
             "learn": [
              0.8367845844,
              0.3548444445
             ],
             "passed_time": 6.076495834,
             "remaining_time": 2.807270005,
             "test": [
              0.7906843013,
              0.4076582732
             ]
            },
            {
             "iteration": 684,
             "learn": [
              0.8370721887,
              0.3547046906
             ],
             "passed_time": 6.085142465,
             "remaining_time": 2.798277192,
             "test": [
              0.7906843013,
              0.4076329723
             ]
            },
            {
             "iteration": 685,
             "learn": [
              0.8372159908,
              0.3546022094
             ],
             "passed_time": 6.093278622,
             "remaining_time": 2.789051731,
             "test": [
              0.7906843013,
              0.4076946776
             ]
            },
            {
             "iteration": 686,
             "learn": [
              0.8366407823,
              0.3544984969
             ],
             "passed_time": 6.101601446,
             "remaining_time": 2.779914487,
             "test": [
              0.7906843013,
              0.4077112388
             ]
            },
            {
             "iteration": 687,
             "learn": [
              0.8364969802,
              0.3544211438
             ],
             "passed_time": 6.108755315,
             "remaining_time": 2.770249503,
             "test": [
              0.7906843013,
              0.4077240489
             ]
            },
            {
             "iteration": 688,
             "learn": [
              0.8364969802,
              0.3544039367
             ],
             "passed_time": 6.116690714,
             "remaining_time": 2.760944575,
             "test": [
              0.7906843013,
              0.4077042067
             ]
            },
            {
             "iteration": 689,
             "learn": [
              0.8372159908,
              0.3543533897
             ],
             "passed_time": 6.124351083,
             "remaining_time": 2.751520052,
             "test": [
              0.7906843013,
              0.4077034772
             ]
            },
            {
             "iteration": 690,
             "learn": [
              0.8369283865,
              0.3542363807
             ],
             "passed_time": 6.1323085,
             "remaining_time": 2.742233468,
             "test": [
              0.7906843013,
              0.4077298874
             ]
            },
            {
             "iteration": 691,
             "learn": [
              0.8369283865,
              0.3541769871
             ],
             "passed_time": 6.140797463,
             "remaining_time": 2.73318731,
             "test": [
              0.7906843013,
              0.407749709
             ]
            },
            {
             "iteration": 692,
             "learn": [
              0.8370721887,
              0.3541375926
             ],
             "passed_time": 6.148406221,
             "remaining_time": 2.723752828,
             "test": [
              0.7906843013,
              0.4077442023
             ]
            },
            {
             "iteration": 693,
             "learn": [
              0.8372159908,
              0.3540637218
             ],
             "passed_time": 6.156708131,
             "remaining_time": 2.714629234,
             "test": [
              0.7906843013,
              0.4076956557
             ]
            },
            {
             "iteration": 694,
             "learn": [
              0.8373597929,
              0.3539748484
             ],
             "passed_time": 6.165195638,
             "remaining_time": 2.705589453,
             "test": [
              0.7906843013,
              0.4076153355
             ]
            },
            {
             "iteration": 695,
             "learn": [
              0.8370721887,
              0.3538419843
             ],
             "passed_time": 6.174352325,
             "remaining_time": 2.696843544,
             "test": [
              0.7906843013,
              0.4076355917
             ]
            },
            {
             "iteration": 696,
             "learn": [
              0.8370721887,
              0.3537946934
             ],
             "passed_time": 6.182335322,
             "remaining_time": 2.68758623,
             "test": [
              0.7906843013,
              0.4076358392
             ]
            },
            {
             "iteration": 697,
             "learn": [
              0.8372159908,
              0.3537815685
             ],
             "passed_time": 6.190414859,
             "remaining_time": 2.678374337,
             "test": [
              0.7901092582,
              0.4076632339
             ]
            },
            {
             "iteration": 698,
             "learn": [
              0.8372159908,
              0.3537726652
             ],
             "passed_time": 6.198752618,
             "remaining_time": 2.669276879,
             "test": [
              0.7901092582,
              0.4076628515
             ]
            },
            {
             "iteration": 699,
             "learn": [
              0.8372159908,
              0.353713604
             ],
             "passed_time": 6.20642331,
             "remaining_time": 2.659895704,
             "test": [
              0.7906843013,
              0.4075975509
             ]
            },
            {
             "iteration": 700,
             "learn": [
              0.8370721887,
              0.3536863043
             ],
             "passed_time": 6.213719052,
             "remaining_time": 2.650359481,
             "test": [
              0.7901092582,
              0.4076072343
             ]
            },
            {
             "iteration": 701,
             "learn": [
              0.8370721887,
              0.3536312163
             ],
             "passed_time": 6.22129639,
             "remaining_time": 2.64094918,
             "test": [
              0.7901092582,
              0.4075915926
             ]
            },
            {
             "iteration": 702,
             "learn": [
              0.8370721887,
              0.3535934231
             ],
             "passed_time": 6.229075403,
             "remaining_time": 2.631629296,
             "test": [
              0.7901092582,
              0.407585715
             ]
            },
            {
             "iteration": 703,
             "learn": [
              0.8372159908,
              0.3535013787
             ],
             "passed_time": 6.236530462,
             "remaining_time": 2.622177581,
             "test": [
              0.7906843013,
              0.4074462184
             ]
            },
            {
             "iteration": 704,
             "learn": [
              0.8372159908,
              0.3534046153
             ],
             "passed_time": 6.244525558,
             "remaining_time": 2.612957503,
             "test": [
              0.7901092582,
              0.4074445396
             ]
            },
            {
             "iteration": 705,
             "learn": [
              0.8373597929,
              0.3533871997
             ],
             "passed_time": 6.253031545,
             "remaining_time": 2.603953646,
             "test": [
              0.7906843013,
              0.4074382711
             ]
            },
            {
             "iteration": 706,
             "learn": [
              0.8375035951,
              0.3532489866
             ],
             "passed_time": 6.261702744,
             "remaining_time": 2.595019666,
             "test": [
              0.7901092582,
              0.4074301831
             ]
            },
            {
             "iteration": 707,
             "learn": [
              0.8376473972,
              0.3532029319
             ],
             "passed_time": 6.269281037,
             "remaining_time": 2.585635682,
             "test": [
              0.7901092582,
              0.4074199796
             ]
            },
            {
             "iteration": 708,
             "learn": [
              0.8375035951,
              0.353176962
             ],
             "passed_time": 6.277362753,
             "remaining_time": 2.576463415,
             "test": [
              0.7901092582,
              0.407457957
             ]
            },
            {
             "iteration": 709,
             "learn": [
              0.8375035951,
              0.3530854531
             ],
             "passed_time": 6.285733997,
             "remaining_time": 2.567412478,
             "test": [
              0.7906843013,
              0.4074674748
             ]
            },
            {
             "iteration": 710,
             "learn": [
              0.8375035951,
              0.3530438916
             ],
             "passed_time": 6.293761334,
             "remaining_time": 2.558223665,
             "test": [
              0.7912593445,
              0.4074858866
             ]
            },
            {
             "iteration": 711,
             "learn": [
              0.8377911993,
              0.3530300618
             ],
             "passed_time": 6.30296586,
             "remaining_time": 2.549514281,
             "test": [
              0.7906843013,
              0.4074681332
             ]
            },
            {
             "iteration": 712,
             "learn": [
              0.8382226057,
              0.3529653297
             ],
             "passed_time": 6.310380604,
             "remaining_time": 2.540083076,
             "test": [
              0.7906843013,
              0.4074031804
             ]
            },
            {
             "iteration": 713,
             "learn": [
              0.8382226057,
              0.3528662127
             ],
             "passed_time": 6.318179027,
             "remaining_time": 2.530811207,
             "test": [
              0.7906843013,
              0.4074262737
             ]
            },
            {
             "iteration": 714,
             "learn": [
              0.8382226057,
              0.3528140251
             ],
             "passed_time": 6.325506686,
             "remaining_time": 2.521355812,
             "test": [
              0.7901092582,
              0.4074577845
             ]
            },
            {
             "iteration": 715,
             "learn": [
              0.8382226057,
              0.3527019005
             ],
             "passed_time": 6.33291974,
             "remaining_time": 2.511940232,
             "test": [
              0.7895342151,
              0.4075107609
             ]
            },
            {
             "iteration": 716,
             "learn": [
              0.8382226057,
              0.3526832005
             ],
             "passed_time": 6.341318171,
             "remaining_time": 2.502919167,
             "test": [
              0.7895342151,
              0.4075189913
             ]
            },
            {
             "iteration": 717,
             "learn": [
              0.8376473972,
              0.352634109
             ],
             "passed_time": 6.349508784,
             "remaining_time": 2.493818213,
             "test": [
              0.7906843013,
              0.4074654546
             ]
            },
            {
             "iteration": 718,
             "learn": [
              0.8379350014,
              0.3525937664
             ],
             "passed_time": 6.357958074,
             "remaining_time": 2.484820888,
             "test": [
              0.7906843013,
              0.4074346857
             ]
            },
            {
             "iteration": 719,
             "learn": [
              0.8383664078,
              0.3525342119
             ],
             "passed_time": 6.365960921,
             "remaining_time": 2.475651469,
             "test": [
              0.7906843013,
              0.4074336921
             ]
            },
            {
             "iteration": 720,
             "learn": [
              0.8382226057,
              0.3525214398
             ],
             "passed_time": 6.374062647,
             "remaining_time": 2.466523549,
             "test": [
              0.7906843013,
              0.4074298228
             ]
            },
            {
             "iteration": 721,
             "learn": [
              0.8380788036,
              0.3525086346
             ],
             "passed_time": 6.381833415,
             "remaining_time": 2.457271038,
             "test": [
              0.7912593445,
              0.4074231602
             ]
            },
            {
             "iteration": 722,
             "learn": [
              0.8382226057,
              0.3524759093
             ],
             "passed_time": 6.389585029,
             "remaining_time": 2.448015288,
             "test": [
              0.7912593445,
              0.4074274205
             ]
            },
            {
             "iteration": 723,
             "learn": [
              0.83851021,
              0.3524338172
             ],
             "passed_time": 6.397439086,
             "remaining_time": 2.438802746,
             "test": [
              0.7912593445,
              0.4074408866
             ]
            },
            {
             "iteration": 724,
             "learn": [
              0.8383664078,
              0.3524131709
             ],
             "passed_time": 6.405958641,
             "remaining_time": 2.429846381,
             "test": [
              0.7906843013,
              0.407450141
             ]
            },
            {
             "iteration": 725,
             "learn": [
              0.8382226057,
              0.3522773994
             ],
             "passed_time": 6.412707917,
             "remaining_time": 2.420223098,
             "test": [
              0.7906843013,
              0.4073818128
             ]
            },
            {
             "iteration": 726,
             "learn": [
              0.8389416163,
              0.3522041367
             ],
             "passed_time": 6.42104633,
             "remaining_time": 2.411204468,
             "test": [
              0.7906843013,
              0.4073822922
             ]
            },
            {
             "iteration": 727,
             "learn": [
              0.8389416163,
              0.3521985803
             ],
             "passed_time": 6.428732076,
             "remaining_time": 2.401943853,
             "test": [
              0.7906843013,
              0.407381805
             ]
            },
            {
             "iteration": 728,
             "learn": [
              0.8398044291,
              0.352097315
             ],
             "passed_time": 6.437092926,
             "remaining_time": 2.392938523,
             "test": [
              0.7906843013,
              0.4073371132
             ]
            },
            {
             "iteration": 729,
             "learn": [
              0.839660627,
              0.3519452733
             ],
             "passed_time": 6.445345044,
             "remaining_time": 2.383894742,
             "test": [
              0.7906843013,
              0.4074935918
             ]
            },
            {
             "iteration": 730,
             "learn": [
              0.8389416163,
              0.3518831825
             ],
             "passed_time": 6.453565387,
             "remaining_time": 2.374841435,
             "test": [
              0.7912593445,
              0.40748058
             ]
            },
            {
             "iteration": 731,
             "learn": [
              0.8392292206,
              0.3518624755
             ],
             "passed_time": 6.461416626,
             "remaining_time": 2.365655267,
             "test": [
              0.7912593445,
              0.4074687352
             ]
            },
            {
             "iteration": 732,
             "learn": [
              0.8392292206,
              0.3518528593
             ],
             "passed_time": 6.46798535,
             "remaining_time": 2.356005578,
             "test": [
              0.7912593445,
              0.4074642576
             ]
            },
            {
             "iteration": 733,
             "learn": [
              0.8390854185,
              0.3516157418
             ],
             "passed_time": 6.476574103,
             "remaining_time": 2.347096337,
             "test": [
              0.7918343876,
              0.4072145918
             ]
            },
            {
             "iteration": 734,
             "learn": [
              0.8390854185,
              0.3516079624
             ],
             "passed_time": 6.485345139,
             "remaining_time": 2.33825369,
             "test": [
              0.7918343876,
              0.4072139876
             ]
            },
            {
             "iteration": 735,
             "learn": [
              0.8389416163,
              0.3515769645
             ],
             "passed_time": 6.494803122,
             "remaining_time": 2.329657641,
             "test": [
              0.7912593445,
              0.4071737426
             ]
            },
            {
             "iteration": 736,
             "learn": [
              0.8389416163,
              0.3515720988
             ],
             "passed_time": 6.502120151,
             "remaining_time": 2.320295251,
             "test": [
              0.7912593445,
              0.4071738418
             ]
            },
            {
             "iteration": 737,
             "learn": [
              0.8390854185,
              0.3515623795
             ],
             "passed_time": 6.510646369,
             "remaining_time": 2.311367681,
             "test": [
              0.7912593445,
              0.4071634195
             ]
            },
            {
             "iteration": 738,
             "learn": [
              0.8392292206,
              0.3515317121
             ],
             "passed_time": 6.519320976,
             "remaining_time": 2.302493606,
             "test": [
              0.7912593445,
              0.4071436996
             ]
            },
            {
             "iteration": 739,
             "learn": [
              0.8392292206,
              0.3514483692
             ],
             "passed_time": 6.527347561,
             "remaining_time": 2.293392386,
             "test": [
              0.7912593445,
              0.4071310149
             ]
            },
            {
             "iteration": 740,
             "learn": [
              0.8393730227,
              0.3513804368
             ],
             "passed_time": 6.535014682,
             "remaining_time": 2.284168425,
             "test": [
              0.7912593445,
              0.4071535965
             ]
            },
            {
             "iteration": 741,
             "learn": [
              0.8392292206,
              0.3513643136
             ],
             "passed_time": 6.542563846,
             "remaining_time": 2.274907644,
             "test": [
              0.7918343876,
              0.4071339853
             ]
            },
            {
             "iteration": 742,
             "learn": [
              0.8390854185,
              0.3513029226
             ],
             "passed_time": 6.549810502,
             "remaining_time": 2.265546836,
             "test": [
              0.7924094307,
              0.4071838486
             ]
            },
            {
             "iteration": 743,
             "learn": [
              0.8395168248,
              0.3512510826
             ],
             "passed_time": 6.557613874,
             "remaining_time": 2.256383269,
             "test": [
              0.7924094307,
              0.4071736482
             ]
            },
            {
             "iteration": 744,
             "learn": [
              0.8395168248,
              0.3512183531
             ],
             "passed_time": 6.564915029,
             "remaining_time": 2.247051453,
             "test": [
              0.7924094307,
              0.4071248431
             ]
            },
            {
             "iteration": 745,
             "learn": [
              0.8395168248,
              0.3511556095
             ],
             "passed_time": 6.573536995,
             "remaining_time": 2.238174795,
             "test": [
              0.7929844738,
              0.4071329176
             ]
            },
            {
             "iteration": 746,
             "learn": [
              0.8395168248,
              0.3511311097
             ],
             "passed_time": 6.580440458,
             "remaining_time": 2.228716782,
             "test": [
              0.7929844738,
              0.4071326684
             ]
            },
            {
             "iteration": 747,
             "learn": [
              0.8395168248,
              0.3511002411
             ],
             "passed_time": 6.588250499,
             "remaining_time": 2.219571024,
             "test": [
              0.7924094307,
              0.4071440972
             ]
            },
            {
             "iteration": 748,
             "learn": [
              0.8395168248,
              0.3510665171
             ],
             "passed_time": 6.594690519,
             "remaining_time": 2.20996972,
             "test": [
              0.7924094307,
              0.4071386802
             ]
            },
            {
             "iteration": 749,
             "learn": [
              0.8395168248,
              0.3510571529
             ],
             "passed_time": 6.600925707,
             "remaining_time": 2.200308569,
             "test": [
              0.7924094307,
              0.4071430054
             ]
            },
            {
             "iteration": 750,
             "learn": [
              0.8393730227,
              0.3510031325
             ],
             "passed_time": 6.608765181,
             "remaining_time": 2.191188455,
             "test": [
              0.7924094307,
              0.4070937854
             ]
            },
            {
             "iteration": 751,
             "learn": [
              0.8393730227,
              0.3509820261
             ],
             "passed_time": 6.617082222,
             "remaining_time": 2.182229243,
             "test": [
              0.7924094307,
              0.4070945612
             ]
            },
            {
             "iteration": 752,
             "learn": [
              0.8393730227,
              0.3509369053
             ],
             "passed_time": 6.625096418,
             "remaining_time": 2.173172397,
             "test": [
              0.7924094307,
              0.4071662168
             ]
            },
            {
             "iteration": 753,
             "learn": [
              0.8398044291,
              0.3508441217
             ],
             "passed_time": 6.633339885,
             "remaining_time": 2.164193119,
             "test": [
              0.7924094307,
              0.4072166239
             ]
            },
            {
             "iteration": 754,
             "learn": [
              0.8400920334,
              0.3507707763
             ],
             "passed_time": 6.642437826,
             "remaining_time": 2.155493069,
             "test": [
              0.7924094307,
              0.4072076152
             ]
            },
            {
             "iteration": 755,
             "learn": [
              0.8399482312,
              0.3506557631
             ],
             "passed_time": 6.651465136,
             "remaining_time": 2.146769171,
             "test": [
              0.7924094307,
              0.4070604779
             ]
            },
            {
             "iteration": 756,
             "learn": [
              0.8400920334,
              0.3505745217
             ],
             "passed_time": 6.660339647,
             "remaining_time": 2.137995422,
             "test": [
              0.7924094307,
              0.4070645756
             ]
            },
            {
             "iteration": 757,
             "learn": [
              0.8400920334,
              0.3504854414
             ],
             "passed_time": 6.670356796,
             "remaining_time": 2.129586207,
             "test": [
              0.7929844738,
              0.4071802586
             ]
            },
            {
             "iteration": 758,
             "learn": [
              0.8400920334,
              0.3504654614
             ],
             "passed_time": 6.678707395,
             "remaining_time": 2.120643587,
             "test": [
              0.7929844738,
              0.4071852925
             ]
            },
            {
             "iteration": 759,
             "learn": [
              0.8400920334,
              0.3504446817
             ],
             "passed_time": 6.686571346,
             "remaining_time": 2.111548846,
             "test": [
              0.7929844738,
              0.4071876581
             ]
            },
            {
             "iteration": 760,
             "learn": [
              0.8400920334,
              0.3504171185
             ],
             "passed_time": 6.694592038,
             "remaining_time": 2.102506566,
             "test": [
              0.7929844738,
              0.4071788758
             ]
            },
            {
             "iteration": 761,
             "learn": [
              0.8402358355,
              0.3503200382
             ],
             "passed_time": 6.702660686,
             "remaining_time": 2.093481947,
             "test": [
              0.7929844738,
              0.4071649125
             ]
            },
            {
             "iteration": 762,
             "learn": [
              0.8402358355,
              0.3502667877
             ],
             "passed_time": 6.711053312,
             "remaining_time": 2.084560465,
             "test": [
              0.7929844738,
              0.4071616136
             ]
            },
            {
             "iteration": 763,
             "learn": [
              0.8403796376,
              0.3501087383
             ],
             "passed_time": 6.719853739,
             "remaining_time": 2.075766338,
             "test": [
              0.793559517,
              0.4070434575
             ]
            },
            {
             "iteration": 764,
             "learn": [
              0.8403796376,
              0.3500742387
             ],
             "passed_time": 6.727535956,
             "remaining_time": 2.066628692,
             "test": [
              0.793559517,
              0.4070436789
             ]
            },
            {
             "iteration": 765,
             "learn": [
              0.840811044,
              0.3500531776
             ],
             "passed_time": 6.73488213,
             "remaining_time": 2.057392191,
             "test": [
              0.793559517,
              0.4070388895
             ]
            },
            {
             "iteration": 766,
             "learn": [
              0.840811044,
              0.3500344261
             ],
             "passed_time": 6.742459851,
             "remaining_time": 2.048230959,
             "test": [
              0.793559517,
              0.4070397143
             ]
            },
            {
             "iteration": 767,
             "learn": [
              0.840811044,
              0.3499308766
             ],
             "passed_time": 6.751309123,
             "remaining_time": 2.039457964,
             "test": [
              0.7929844738,
              0.4070354971
             ]
            },
            {
             "iteration": 768,
             "learn": [
              0.840811044,
              0.3499263271
             ],
             "passed_time": 6.759089925,
             "remaining_time": 2.030363814,
             "test": [
              0.7929844738,
              0.407042356
             ]
            },
            {
             "iteration": 769,
             "learn": [
              0.8409548461,
              0.3497781448
             ],
             "passed_time": 6.767371236,
             "remaining_time": 2.021422577,
             "test": [
              0.7924094307,
              0.4069824522
             ]
            },
            {
             "iteration": 770,
             "learn": [
              0.8409548461,
              0.3497713074
             ],
             "passed_time": 6.775239392,
             "remaining_time": 2.012360338,
             "test": [
              0.7924094307,
              0.406973627
             ]
            },
            {
             "iteration": 771,
             "learn": [
              0.8409548461,
              0.34968469
             ],
             "passed_time": 6.783598761,
             "remaining_time": 2.003446266,
             "test": [
              0.7924094307,
              0.4068810721
             ]
            },
            {
             "iteration": 772,
             "learn": [
              0.840811044,
              0.3495611395
             ],
             "passed_time": 6.791594963,
             "remaining_time": 1.994426981,
             "test": [
              0.7924094307,
              0.4069256574
             ]
            },
            {
             "iteration": 773,
             "learn": [
              0.8410986483,
              0.3494975962
             ],
             "passed_time": 6.800600083,
             "remaining_time": 1.985704934,
             "test": [
              0.7924094307,
              0.4069013168
             ]
            },
            {
             "iteration": 774,
             "learn": [
              0.8409548461,
              0.349459666
             ],
             "passed_time": 6.80831652,
             "remaining_time": 1.976608022,
             "test": [
              0.7918343876,
              0.4069036442
             ]
            },
            {
             "iteration": 775,
             "learn": [
              0.8412424504,
              0.349335085
             ],
             "passed_time": 6.816317272,
             "remaining_time": 1.967596738,
             "test": [
              0.7918343876,
              0.4069612907
             ]
            },
            {
             "iteration": 776,
             "learn": [
              0.8412424504,
              0.3492871346
             ],
             "passed_time": 6.824864015,
             "remaining_time": 1.958744756,
             "test": [
              0.7924094307,
              0.4069390834
             ]
            },
            {
             "iteration": 777,
             "learn": [
              0.8415300546,
              0.3492291942
             ],
             "passed_time": 6.833465131,
             "remaining_time": 1.949909073,
             "test": [
              0.7924094307,
              0.4069747776
             ]
            },
            {
             "iteration": 778,
             "learn": [
              0.8413862525,
              0.3492002723
             ],
             "passed_time": 6.841932844,
             "remaining_time": 1.941036147,
             "test": [
              0.7924094307,
              0.4069124552
             ]
            },
            {
             "iteration": 779,
             "learn": [
              0.8415300546,
              0.349159454
             ],
             "passed_time": 6.849694535,
             "remaining_time": 1.931965125,
             "test": [
              0.7924094307,
              0.4069123038
             ]
            },
            {
             "iteration": 780,
             "learn": [
              0.8415300546,
              0.3491205609
             ],
             "passed_time": 6.858967596,
             "remaining_time": 1.923321259,
             "test": [
              0.7924094307,
              0.4069134799
             ]
            },
            {
             "iteration": 781,
             "learn": [
              0.8415300546,
              0.3490568641
             ],
             "passed_time": 6.867999267,
             "remaining_time": 1.914608491,
             "test": [
              0.7924094307,
              0.4069509596
             ]
            },
            {
             "iteration": 782,
             "learn": [
              0.8415300546,
              0.349023524
             ],
             "passed_time": 6.876557923,
             "remaining_time": 1.905763818,
             "test": [
              0.7924094307,
              0.4069561718
             ]
            },
            {
             "iteration": 783,
             "learn": [
              0.8415300546,
              0.3489013136
             ],
             "passed_time": 6.901421706,
             "remaining_time": 1.901412103,
             "test": [
              0.7924094307,
              0.4069336333
             ]
            },
            {
             "iteration": 784,
             "learn": [
              0.8410986483,
              0.3488564632
             ],
             "passed_time": 6.908334937,
             "remaining_time": 1.892091734,
             "test": [
              0.7924094307,
              0.4069427617
             ]
            },
            {
             "iteration": 785,
             "learn": [
              0.8413862525,
              0.3487534483
             ],
             "passed_time": 6.916258301,
             "remaining_time": 1.883052514,
             "test": [
              0.7924094307,
              0.4069846321
             ]
            },
            {
             "iteration": 786,
             "learn": [
              0.8413862525,
              0.3486890597
             ],
             "passed_time": 6.926985089,
             "remaining_time": 1.874774872,
             "test": [
              0.7924094307,
              0.4069337038
             ]
            },
            {
             "iteration": 787,
             "learn": [
              0.8412424504,
              0.3486690033
             ],
             "passed_time": 6.93541866,
             "remaining_time": 1.865874056,
             "test": [
              0.7929844738,
              0.40692952
             ]
            },
            {
             "iteration": 788,
             "learn": [
              0.8412424504,
              0.3485795872
             ],
             "passed_time": 6.943938226,
             "remaining_time": 1.856997422,
             "test": [
              0.7929844738,
              0.406958893
             ]
            },
            {
             "iteration": 789,
             "learn": [
              0.8412424504,
              0.3485683679
             ],
             "passed_time": 6.951254951,
             "remaining_time": 1.847801949,
             "test": [
              0.7929844738,
              0.4069828568
             ]
            },
            {
             "iteration": 790,
             "learn": [
              0.8413862525,
              0.3484696909
             ],
             "passed_time": 6.960578619,
             "remaining_time": 1.839141506,
             "test": [
              0.7924094307,
              0.406828495
             ]
            },
            {
             "iteration": 791,
             "learn": [
              0.8413862525,
              0.3483439706
             ],
             "passed_time": 6.96858411,
             "remaining_time": 1.830133201,
             "test": [
              0.7924094307,
              0.40680654
             ]
            },
            {
             "iteration": 792,
             "learn": [
              0.8413862525,
              0.3483216435
             ],
             "passed_time": 6.976742229,
             "remaining_time": 1.821167265,
             "test": [
              0.7929844738,
              0.4068129534
             ]
            },
            {
             "iteration": 793,
             "learn": [
              0.8412424504,
              0.3482757095
             ],
             "passed_time": 6.98468396,
             "remaining_time": 1.812147224,
             "test": [
              0.7929844738,
              0.4067999823
             ]
            },
            {
             "iteration": 794,
             "learn": [
              0.8412424504,
              0.3482204826
             ],
             "passed_time": 6.992053022,
             "remaining_time": 1.802982226,
             "test": [
              0.7929844738,
              0.4068622383
             ]
            },
            {
             "iteration": 795,
             "learn": [
              0.8416738568,
              0.3481816242
             ],
             "passed_time": 6.999125041,
             "remaining_time": 1.793745614,
             "test": [
              0.7929844738,
              0.4068871743
             ]
            },
            {
             "iteration": 796,
             "learn": [
              0.8418176589,
              0.3481095204
             ],
             "passed_time": 7.006981741,
             "remaining_time": 1.784714295,
             "test": [
              0.7929844738,
              0.4069505648
             ]
            },
            {
             "iteration": 797,
             "learn": [
              0.841961461,
              0.3480815128
             ],
             "passed_time": 7.013862158,
             "remaining_time": 1.775438792,
             "test": [
              0.7929844738,
              0.4069658731
             ]
            },
            {
             "iteration": 798,
             "learn": [
              0.8416738568,
              0.3480214208
             ],
             "passed_time": 7.021438119,
             "remaining_time": 1.766344258,
             "test": [
              0.7924094307,
              0.4069876442
             ]
            },
            {
             "iteration": 799,
             "learn": [
              0.8418176589,
              0.3479740119
             ],
             "passed_time": 7.028913858,
             "remaining_time": 1.757228465,
             "test": [
              0.7929844738,
              0.4069317924
             ]
            },
            {
             "iteration": 800,
             "learn": [
              0.8418176589,
              0.3479652255
             ],
             "passed_time": 7.035860519,
             "remaining_time": 1.747985322,
             "test": [
              0.7929844738,
              0.4069363835
             ]
            },
            {
             "iteration": 801,
             "learn": [
              0.8418176589,
              0.3479398169
             ],
             "passed_time": 7.044187066,
             "remaining_time": 1.739088577,
             "test": [
              0.7929844738,
              0.4069161805
             ]
            },
            {
             "iteration": 802,
             "learn": [
              0.8415300546,
              0.3478949394
             ],
             "passed_time": 7.053217854,
             "remaining_time": 1.730366024,
             "test": [
              0.7929844738,
              0.4069025104
             ]
            },
            {
             "iteration": 803,
             "learn": [
              0.8415300546,
              0.3478214829
             ],
             "passed_time": 7.061545491,
             "remaining_time": 1.721471289,
             "test": [
              0.7929844738,
              0.4068937403
             ]
            },
            {
             "iteration": 804,
             "learn": [
              0.8418176589,
              0.3477952482
             ],
             "passed_time": 7.069317292,
             "remaining_time": 1.712443319,
             "test": [
              0.7924094307,
              0.4069073381
             ]
            },
            {
             "iteration": 805,
             "learn": [
              0.841961461,
              0.3477651883
             ],
             "passed_time": 7.076534175,
             "remaining_time": 1.703284901,
             "test": [
              0.793559517,
              0.4069185986
             ]
            },
            {
             "iteration": 806,
             "learn": [
              0.841961461,
              0.3477491816
             ],
             "passed_time": 7.084262559,
             "remaining_time": 1.694253623,
             "test": [
              0.7929844738,
              0.4069193855
             ]
            },
            {
             "iteration": 807,
             "learn": [
              0.841961461,
              0.3477351132
             ],
             "passed_time": 7.091770543,
             "remaining_time": 1.685173198,
             "test": [
              0.793559517,
              0.4069170185
             ]
            },
            {
             "iteration": 808,
             "learn": [
              0.8421052632,
              0.3477203312
             ],
             "passed_time": 7.09885693,
             "remaining_time": 1.675997124,
             "test": [
              0.793559517,
              0.4069170099
             ]
            },
            {
             "iteration": 809,
             "learn": [
              0.8421052632,
              0.3477067907
             ],
             "passed_time": 7.105232735,
             "remaining_time": 1.66665953,
             "test": [
              0.793559517,
              0.4069170889
             ]
            },
            {
             "iteration": 810,
             "learn": [
              0.8422490653,
              0.34766379
             ],
             "passed_time": 7.114291346,
             "remaining_time": 1.657954457,
             "test": [
              0.793559517,
              0.406970027
             ]
            },
            {
             "iteration": 811,
             "learn": [
              0.8422490653,
              0.347649441
             ],
             "passed_time": 7.121734571,
             "remaining_time": 1.648874507,
             "test": [
              0.793559517,
              0.4069679769
             ]
            },
            {
             "iteration": 812,
             "learn": [
              0.8425366695,
              0.3476146516
             ],
             "passed_time": 7.129582449,
             "remaining_time": 1.639891658,
             "test": [
              0.7929844738,
              0.4069513876
             ]
            },
            {
             "iteration": 813,
             "learn": [
              0.8425366695,
              0.3475692539
             ],
             "passed_time": 7.13812776,
             "remaining_time": 1.631070962,
             "test": [
              0.7929844738,
              0.4069239625
             ]
            },
            {
             "iteration": 814,
             "learn": [
              0.8426804717,
              0.3475582988
             ],
             "passed_time": 7.144763851,
             "remaining_time": 1.621817561,
             "test": [
              0.7929844738,
              0.4069337989
             ]
            },
            {
             "iteration": 815,
             "learn": [
              0.8426804717,
              0.3475505094
             ],
             "passed_time": 7.151678808,
             "remaining_time": 1.612633457,
             "test": [
              0.7929844738,
              0.4069338587
             ]
            },
            {
             "iteration": 816,
             "learn": [
              0.8426804717,
              0.3475258415
             ],
             "passed_time": 7.158907009,
             "remaining_time": 1.603525071,
             "test": [
              0.7929844738,
              0.406938436
             ]
            },
            {
             "iteration": 817,
             "learn": [
              0.8426804717,
              0.3474679485
             ],
             "passed_time": 7.167572118,
             "remaining_time": 1.594740985,
             "test": [
              0.7929844738,
              0.4069393002
             ]
            },
            {
             "iteration": 818,
             "learn": [
              0.8426804717,
              0.3474513707
             ],
             "passed_time": 7.1757275,
             "remaining_time": 1.585844539,
             "test": [
              0.7929844738,
              0.406956407
             ]
            },
            {
             "iteration": 819,
             "learn": [
              0.8426804717,
              0.3474037765
             ],
             "passed_time": 7.184073501,
             "remaining_time": 1.576991744,
             "test": [
              0.7929844738,
              0.4069527695
             ]
            },
            {
             "iteration": 820,
             "learn": [
              0.8428242738,
              0.3473811115
             ],
             "passed_time": 7.191439028,
             "remaining_time": 1.567926414,
             "test": [
              0.7929844738,
              0.4069553745
             ]
            },
            {
             "iteration": 821,
             "learn": [
              0.8429680759,
              0.347295641
             ],
             "passed_time": 7.199171053,
             "remaining_time": 1.558944583,
             "test": [
              0.7929844738,
              0.4068735225
             ]
            },
            {
             "iteration": 822,
             "learn": [
              0.8429680759,
              0.3472585418
             ],
             "passed_time": 7.207525973,
             "remaining_time": 1.550099754,
             "test": [
              0.793559517,
              0.4069996658
             ]
            },
            {
             "iteration": 823,
             "learn": [
              0.8428242738,
              0.3471977399
             ],
             "passed_time": 7.215622706,
             "remaining_time": 1.541200966,
             "test": [
              0.793559517,
              0.4069744258
             ]
            },
            {
             "iteration": 824,
             "learn": [
              0.8428242738,
              0.3471226471
             ],
             "passed_time": 7.223643932,
             "remaining_time": 1.532288107,
             "test": [
              0.793559517,
              0.406903645
             ]
            },
            {
             "iteration": 825,
             "learn": [
              0.8429680759,
              0.347089776
             ],
             "passed_time": 7.234620097,
             "remaining_time": 1.523999875,
             "test": [
              0.7941345601,
              0.4069049018
             ]
            },
            {
             "iteration": 826,
             "learn": [
              0.8428242738,
              0.3469441497
             ],
             "passed_time": 7.242534677,
             "remaining_time": 1.515064691,
             "test": [
              0.793559517,
              0.4068430809
             ]
            },
            {
             "iteration": 827,
             "learn": [
              0.8429680759,
              0.3469312372
             ],
             "passed_time": 7.250339883,
             "remaining_time": 1.506109251,
             "test": [
              0.793559517,
              0.4068582875
             ]
            },
            {
             "iteration": 828,
             "learn": [
              0.8428242738,
              0.3467906292
             ],
             "passed_time": 7.259041275,
             "remaining_time": 1.497341445,
             "test": [
              0.793559517,
              0.406811464
             ]
            },
            {
             "iteration": 829,
             "learn": [
              0.8429680759,
              0.3467624313
             ],
             "passed_time": 7.267395549,
             "remaining_time": 1.488502703,
             "test": [
              0.793559517,
              0.4067831258
             ]
            },
            {
             "iteration": 830,
             "learn": [
              0.8429680759,
              0.3467512188
             ],
             "passed_time": 7.274962562,
             "remaining_time": 1.479505022,
             "test": [
              0.793559517,
              0.4067864602
             ]
            },
            {
             "iteration": 831,
             "learn": [
              0.8432556802,
              0.3466728981
             ],
             "passed_time": 7.283043401,
             "remaining_time": 1.470614533,
             "test": [
              0.793559517,
              0.4068263128
             ]
            },
            {
             "iteration": 832,
             "learn": [
              0.8431118781,
              0.3466242588
             ],
             "passed_time": 7.291762574,
             "remaining_time": 1.461853961,
             "test": [
              0.793559517,
              0.4068413041
             ]
            },
            {
             "iteration": 833,
             "learn": [
              0.8429680759,
              0.3465203679
             ],
             "passed_time": 7.299565614,
             "remaining_time": 1.452911141,
             "test": [
              0.7929844738,
              0.4067582577
             ]
            },
            {
             "iteration": 834,
             "learn": [
              0.8432556802,
              0.3464654102
             ],
             "passed_time": 7.306223578,
             "remaining_time": 1.443744779,
             "test": [
              0.7929844738,
              0.4066983218
             ]
            },
            {
             "iteration": 835,
             "learn": [
              0.8429680759,
              0.3463969695
             ],
             "passed_time": 7.314083078,
             "remaining_time": 1.434820125,
             "test": [
              0.7929844738,
              0.4066719401
             ]
            },
            {
             "iteration": 836,
             "learn": [
              0.8431118781,
              0.3463410487
             ],
             "passed_time": 7.321025097,
             "remaining_time": 1.425719344,
             "test": [
              0.7929844738,
              0.4067053902
             ]
            },
            {
             "iteration": 837,
             "learn": [
              0.8429680759,
              0.3462908623
             ],
             "passed_time": 7.328691156,
             "remaining_time": 1.416763684,
             "test": [
              0.7929844738,
              0.4066940146
             ]
            },
            {
             "iteration": 838,
             "learn": [
              0.8429680759,
              0.3461374373
             ],
             "passed_time": 7.3371568,
             "remaining_time": 1.407964535,
             "test": [
              0.7929844738,
              0.4067967944
             ]
            },
            {
             "iteration": 839,
             "learn": [
              0.8431118781,
              0.3460844755
             ],
             "passed_time": 7.345781181,
             "remaining_time": 1.399196415,
             "test": [
              0.7929844738,
              0.4068020936
             ]
            },
            {
             "iteration": 840,
             "learn": [
              0.8432556802,
              0.3460751648
             ],
             "passed_time": 7.352823332,
             "remaining_time": 1.3901295,
             "test": [
              0.7929844738,
              0.4067969847
             ]
            },
            {
             "iteration": 841,
             "learn": [
              0.8435432844,
              0.346019955
             ],
             "passed_time": 7.360404753,
             "remaining_time": 1.381168588,
             "test": [
              0.7929844738,
              0.406863288
             ]
            },
            {
             "iteration": 842,
             "learn": [
              0.8435432844,
              0.3459645138
             ],
             "passed_time": 7.369000339,
             "remaining_time": 1.372399826,
             "test": [
              0.7929844738,
              0.4068850965
             ]
            },
            {
             "iteration": 843,
             "learn": [
              0.8435432844,
              0.3459554114
             ],
             "passed_time": 7.37645626,
             "remaining_time": 1.363420825,
             "test": [
              0.7929844738,
              0.4068952547
             ]
            },
            {
             "iteration": 844,
             "learn": [
              0.8433994823,
              0.3458494092
             ],
             "passed_time": 7.385836217,
             "remaining_time": 1.354798359,
             "test": [
              0.7929844738,
              0.4068825941
             ]
            },
            {
             "iteration": 845,
             "learn": [
              0.8431118781,
              0.3456462381
             ],
             "passed_time": 7.394342275,
             "remaining_time": 1.346015024,
             "test": [
              0.7929844738,
              0.4067131041
             ]
            },
            {
             "iteration": 846,
             "learn": [
              0.8432556802,
              0.3456006998
             ],
             "passed_time": 7.402685542,
             "remaining_time": 1.337202937,
             "test": [
              0.7929844738,
              0.4067361085
             ]
            },
            {
             "iteration": 847,
             "learn": [
              0.8431118781,
              0.3455909565
             ],
             "passed_time": 7.410658421,
             "remaining_time": 1.328325566,
             "test": [
              0.7929844738,
              0.4067373671
             ]
            },
            {
             "iteration": 848,
             "learn": [
              0.8433994823,
              0.3454759458
             ],
             "passed_time": 7.419215737,
             "remaining_time": 1.319554271,
             "test": [
              0.7929844738,
              0.4067249515
             ]
            },
            {
             "iteration": 849,
             "learn": [
              0.8433994823,
              0.3454029313
             ],
             "passed_time": 7.427842528,
             "remaining_time": 1.31079574,
             "test": [
              0.7929844738,
              0.4067552768
             ]
            },
            {
             "iteration": 850,
             "learn": [
              0.8432556802,
              0.3453213819
             ],
             "passed_time": 7.435879043,
             "remaining_time": 1.301934169,
             "test": [
              0.7929844738,
              0.4067716275
             ]
            },
            {
             "iteration": 851,
             "learn": [
              0.8432556802,
              0.3453065973
             ],
             "passed_time": 7.445017311,
             "remaining_time": 1.293265918,
             "test": [
              0.7929844738,
              0.4067657133
             ]
            },
            {
             "iteration": 852,
             "learn": [
              0.8429680759,
              0.3451949381
             ],
             "passed_time": 7.454074166,
             "remaining_time": 1.284582535,
             "test": [
              0.7924094307,
              0.4068215105
             ]
            },
            {
             "iteration": 853,
             "learn": [
              0.8429680759,
              0.3451531483
             ],
             "passed_time": 7.462900434,
             "remaining_time": 1.275858856,
             "test": [
              0.7924094307,
              0.4068281726
             ]
            },
            {
             "iteration": 854,
             "learn": [
              0.8431118781,
              0.3451268855
             ],
             "passed_time": 7.470402765,
             "remaining_time": 1.26691041,
             "test": [
              0.793559517,
              0.4068420118
             ]
            },
            {
             "iteration": 855,
             "learn": [
              0.8433994823,
              0.34506383
             ],
             "passed_time": 7.478549363,
             "remaining_time": 1.258073725,
             "test": [
              0.793559517,
              0.4068618366
             ]
            },
            {
             "iteration": 856,
             "learn": [
              0.8433994823,
              0.3450136627
             ],
             "passed_time": 7.487220845,
             "remaining_time": 1.249326232,
             "test": [
              0.793559517,
              0.4068639086
             ]
            },
            {
             "iteration": 857,
             "learn": [
              0.8435432844,
              0.3449732419
             ],
             "passed_time": 7.495503302,
             "remaining_time": 1.240514532,
             "test": [
              0.7929844738,
              0.4068679296
             ]
            },
            {
             "iteration": 858,
             "learn": [
              0.8435432844,
              0.3449381838
             ],
             "passed_time": 7.503430494,
             "remaining_time": 1.23164575,
             "test": [
              0.7929844738,
              0.4068570261
             ]
            },
            {
             "iteration": 859,
             "learn": [
              0.8433994823,
              0.3448731057
             ],
             "passed_time": 7.511552473,
             "remaining_time": 1.222810868,
             "test": [
              0.793559517,
              0.4068278654
             ]
            },
            {
             "iteration": 860,
             "learn": [
              0.8431118781,
              0.3448060962
             ],
             "passed_time": 7.519295968,
             "remaining_time": 1.213916538,
             "test": [
              0.793559517,
              0.4067882586
             ]
            },
            {
             "iteration": 861,
             "learn": [
              0.8431118781,
              0.344773703
             ],
             "passed_time": 7.526940222,
             "remaining_time": 1.205008991,
             "test": [
              0.793559517,
              0.4067908076
             ]
            },
            {
             "iteration": 862,
             "learn": [
              0.8429680759,
              0.3447502271
             ],
             "passed_time": 7.53466956,
             "remaining_time": 1.196117879,
             "test": [
              0.793559517,
              0.4067936156
             ]
            },
            {
             "iteration": 863,
             "learn": [
              0.8433994823,
              0.3446135471
             ],
             "passed_time": 7.542984576,
             "remaining_time": 1.187321646,
             "test": [
              0.793559517,
              0.4068603252
             ]
            },
            {
             "iteration": 864,
             "learn": [
              0.8438308887,
              0.3445847937
             ],
             "passed_time": 7.55046489,
             "remaining_time": 1.178396254,
             "test": [
              0.7941345601,
              0.4068530448
             ]
            },
            {
             "iteration": 865,
             "learn": [
              0.8436870866,
              0.3444690292
             ],
             "passed_time": 7.558370181,
             "remaining_time": 1.169539959,
             "test": [
              0.793559517,
              0.406798093
             ]
            },
            {
             "iteration": 866,
             "learn": [
              0.8436870866,
              0.3444627661
             ],
             "passed_time": 7.565414419,
             "remaining_time": 1.160553769,
             "test": [
              0.793559517,
              0.4068016456
             ]
            },
            {
             "iteration": 867,
             "learn": [
              0.8438308887,
              0.3442613694
             ],
             "passed_time": 7.574116344,
             "remaining_time": 1.151824144,
             "test": [
              0.793559517,
              0.4067824199
             ]
            },
            {
             "iteration": 868,
             "learn": [
              0.8436870866,
              0.344142601
             ],
             "passed_time": 7.582653348,
             "remaining_time": 1.143069722,
             "test": [
              0.7941345601,
              0.4066801176
             ]
            },
            {
             "iteration": 869,
             "learn": [
              0.8438308887,
              0.3440836333
             ],
             "passed_time": 7.590864231,
             "remaining_time": 1.134267069,
             "test": [
              0.7941345601,
              0.4067388708
             ]
            },
            {
             "iteration": 870,
             "learn": [
              0.8438308887,
              0.3440700094
             ],
             "passed_time": 7.598567128,
             "remaining_time": 1.125390539,
             "test": [
              0.7941345601,
              0.4067265771
             ]
            },
            {
             "iteration": 871,
             "learn": [
              0.8438308887,
              0.3440058903
             ],
             "passed_time": 7.606762483,
             "remaining_time": 1.116588988,
             "test": [
              0.7941345601,
              0.4067377545
             ]
            },
            {
             "iteration": 872,
             "learn": [
              0.8438308887,
              0.343971398
             ],
             "passed_time": 7.614404628,
             "remaining_time": 1.107708348,
             "test": [
              0.793559517,
              0.4067531893
             ]
            },
            {
             "iteration": 873,
             "learn": [
              0.8436870866,
              0.3439030256
             ],
             "passed_time": 7.622868727,
             "remaining_time": 1.098949038,
             "test": [
              0.793559517,
              0.4067280763
             ]
            },
            {
             "iteration": 874,
             "learn": [
              0.8438308887,
              0.3437852029
             ],
             "passed_time": 7.63077245,
             "remaining_time": 1.09011035,
             "test": [
              0.7941345601,
              0.4066986197
             ]
            },
            {
             "iteration": 875,
             "learn": [
              0.8438308887,
              0.3436345148
             ],
             "passed_time": 7.639282507,
             "remaining_time": 1.081359624,
             "test": [
              0.793559517,
              0.4068144457
             ]
            },
            {
             "iteration": 876,
             "learn": [
              0.8438308887,
              0.3436136465
             ],
             "passed_time": 7.647307139,
             "remaining_time": 1.072541366,
             "test": [
              0.7941345601,
              0.4068246182
             ]
            },
            {
             "iteration": 877,
             "learn": [
              0.8438308887,
              0.343612963
             ],
             "passed_time": 7.65583113,
             "remaining_time": 1.063794303,
             "test": [
              0.7941345601,
              0.4068297416
             ]
            },
            {
             "iteration": 878,
             "learn": [
              0.8438308887,
              0.3435807083
             ],
             "passed_time": 7.664732004,
             "remaining_time": 1.055099627,
             "test": [
              0.7941345601,
              0.4068392284
             ]
            },
            {
             "iteration": 879,
             "learn": [
              0.8436870866,
              0.3434198265
             ],
             "passed_time": 7.672424606,
             "remaining_time": 1.046239719,
             "test": [
              0.7941345601,
              0.4067046967
             ]
            },
            {
             "iteration": 880,
             "learn": [
              0.844118493,
              0.3433712483
             ],
             "passed_time": 7.679671276,
             "remaining_time": 1.037322227,
             "test": [
              0.793559517,
              0.4066999119
             ]
            },
            {
             "iteration": 881,
             "learn": [
              0.8442622951,
              0.3433388351
             ],
             "passed_time": 7.687344114,
             "remaining_time": 1.028465539,
             "test": [
              0.793559517,
              0.4067134314
             ]
            },
            {
             "iteration": 882,
             "learn": [
              0.844118493,
              0.3432434513
             ],
             "passed_time": 7.695872396,
             "remaining_time": 1.019724881,
             "test": [
              0.793559517,
              0.4066682868
             ]
            },
            {
             "iteration": 883,
             "learn": [
              0.844118493,
              0.3431976421
             ],
             "passed_time": 7.704067022,
             "remaining_time": 1.010940921,
             "test": [
              0.7929844738,
              0.4066719283
             ]
            },
            {
             "iteration": 884,
             "learn": [
              0.844118493,
              0.3431108511
             ],
             "passed_time": 7.711530635,
             "remaining_time": 1.002063303,
             "test": [
              0.7929844738,
              0.4065323375
             ]
            },
            {
             "iteration": 885,
             "learn": [
              0.8444060972,
              0.3430611141
             ],
             "passed_time": 7.720197479,
             "remaining_time": 0.9933436936,
             "test": [
              0.7929844738,
              0.4065274697
             ]
            },
            {
             "iteration": 886,
             "learn": [
              0.844118493,
              0.3430387077
             ],
             "passed_time": 7.728142268,
             "remaining_time": 0.9845322167,
             "test": [
              0.7929844738,
              0.4065323373
             ]
            },
            {
             "iteration": 887,
             "learn": [
              0.8444060972,
              0.3429861266
             ],
             "passed_time": 7.736224828,
             "remaining_time": 0.9757400684,
             "test": [
              0.7929844738,
              0.4065372141
             ]
            },
            {
             "iteration": 888,
             "learn": [
              0.8444060972,
              0.3429779269
             ],
             "passed_time": 7.743728934,
             "remaining_time": 0.966877291,
             "test": [
              0.7929844738,
              0.4065324197
             ]
            },
            {
             "iteration": 889,
             "learn": [
              0.844118493,
              0.3429295887
             ],
             "passed_time": 7.75121288,
             "remaining_time": 0.958015075,
             "test": [
              0.7929844738,
              0.4065817075
             ]
            },
            {
             "iteration": 890,
             "learn": [
              0.844118493,
              0.3429013048
             ],
             "passed_time": 7.759511589,
             "remaining_time": 0.9492556264,
             "test": [
              0.7929844738,
              0.4065849663
             ]
            },
            {
             "iteration": 891,
             "learn": [
              0.8442622951,
              0.3428318767
             ],
             "passed_time": 7.767539297,
             "remaining_time": 0.9404643992,
             "test": [
              0.7929844738,
              0.4066378171
             ]
            },
            {
             "iteration": 892,
             "learn": [
              0.8442622951,
              0.3427837306
             ],
             "passed_time": 7.775967264,
             "remaining_time": 0.9317228412,
             "test": [
              0.7929844738,
              0.4066626721
             ]
            },
            {
             "iteration": 893,
             "learn": [
              0.8442622951,
              0.3427212334
             ],
             "passed_time": 7.783685944,
             "remaining_time": 0.922897886,
             "test": [
              0.7929844738,
              0.406632669
             ]
            },
            {
             "iteration": 894,
             "learn": [
              0.8442622951,
              0.3426609252
             ],
             "passed_time": 7.792356075,
             "remaining_time": 0.9141870256,
             "test": [
              0.7929844738,
              0.4066838362
             ]
            },
            {
             "iteration": 895,
             "learn": [
              0.8446937015,
              0.3426391892
             ],
             "passed_time": 7.79973404,
             "remaining_time": 0.9053262725,
             "test": [
              0.7929844738,
              0.4066895134
             ]
            },
            {
             "iteration": 896,
             "learn": [
              0.8446937015,
              0.3425593491
             ],
             "passed_time": 7.807511058,
             "remaining_time": 0.8965146477,
             "test": [
              0.7929844738,
              0.4067168737
             ]
            },
            {
             "iteration": 897,
             "learn": [
              0.8446937015,
              0.3425178137
             ],
             "passed_time": 7.817004077,
             "remaining_time": 0.8879002404,
             "test": [
              0.7929844738,
              0.4067404565
             ]
            },
            {
             "iteration": 898,
             "learn": [
              0.8446937015,
              0.342485677
             ],
             "passed_time": 7.824313595,
             "remaining_time": 0.8790385685,
             "test": [
              0.7929844738,
              0.4068026289
             ]
            },
            {
             "iteration": 899,
             "learn": [
              0.8448375036,
              0.3424191033
             ],
             "passed_time": 7.832511912,
             "remaining_time": 0.8702791013,
             "test": [
              0.7929844738,
              0.406855108
             ]
            },
            {
             "iteration": 900,
             "learn": [
              0.8448375036,
              0.3423607587
             ],
             "passed_time": 7.841412549,
             "remaining_time": 0.8615980493,
             "test": [
              0.7929844738,
              0.4068587759
             ]
            },
            {
             "iteration": 901,
             "learn": [
              0.8446937015,
              0.3423271019
             ],
             "passed_time": 7.849950936,
             "remaining_time": 0.8528771527,
             "test": [
              0.7929844738,
              0.4068298517
             ]
            },
            {
             "iteration": 902,
             "learn": [
              0.8449813057,
              0.3422002165
             ],
             "passed_time": 7.859117658,
             "remaining_time": 0.8442241559,
             "test": [
              0.793559517,
              0.4067961131
             ]
            },
            {
             "iteration": 903,
             "learn": [
              0.8449813057,
              0.342177972
             ],
             "passed_time": 7.866682365,
             "remaining_time": 0.8353998972,
             "test": [
              0.793559517,
              0.4068010605
             ]
            },
            {
             "iteration": 904,
             "learn": [
              0.8448375036,
              0.3421668094
             ],
             "passed_time": 7.891094542,
             "remaining_time": 0.8283469409,
             "test": [
              0.793559517,
              0.4067808789
             ]
            },
            {
             "iteration": 905,
             "learn": [
              0.8448375036,
              0.3421312644
             ],
             "passed_time": 7.901952019,
             "remaining_time": 0.8198493265,
             "test": [
              0.793559517,
              0.4067729019
             ]
            },
            {
             "iteration": 906,
             "learn": [
              0.8446937015,
              0.3421078636
             ],
             "passed_time": 7.912523776,
             "remaining_time": 0.8113172119,
             "test": [
              0.793559517,
              0.4067847066
             ]
            },
            {
             "iteration": 907,
             "learn": [
              0.8446937015,
              0.3420778007
             ],
             "passed_time": 7.920932924,
             "remaining_time": 0.8025614857,
             "test": [
              0.793559517,
              0.4067859845
             ]
            },
            {
             "iteration": 908,
             "learn": [
              0.8445498993,
              0.3419635524
             ],
             "passed_time": 7.929245407,
             "remaining_time": 0.7937968449,
             "test": [
              0.793559517,
              0.4068444776
             ]
            },
            {
             "iteration": 909,
             "learn": [
              0.8444060972,
              0.3419502235
             ],
             "passed_time": 7.937506339,
             "remaining_time": 0.7850280995,
             "test": [
              0.793559517,
              0.4068370602
             ]
            },
            {
             "iteration": 910,
             "learn": [
              0.8446937015,
              0.3419037309
             ],
             "passed_time": 7.944941863,
             "remaining_time": 0.7761798307,
             "test": [
              0.793559517,
              0.4068140536
             ]
            },
            {
             "iteration": 911,
             "learn": [
              0.8446937015,
              0.3418425615
             ],
             "passed_time": 7.953525779,
             "remaining_time": 0.7674454699,
             "test": [
              0.793559517,
              0.4068632054
             ]
            },
            {
             "iteration": 912,
             "learn": [
              0.8446937015,
              0.3418005431
             ],
             "passed_time": 7.96205233,
             "remaining_time": 0.7587059723,
             "test": [
              0.793559517,
              0.4068907747
             ]
            },
            {
             "iteration": 913,
             "learn": [
              0.8446937015,
              0.3417511736
             ],
             "passed_time": 7.970200111,
             "remaining_time": 0.7499313014,
             "test": [
              0.793559517,
              0.406889081
             ]
            },
            {
             "iteration": 914,
             "learn": [
              0.8448375036,
              0.3416360468
             ],
             "passed_time": 7.978471776,
             "remaining_time": 0.7411695093,
             "test": [
              0.793559517,
              0.4069397373
             ]
            },
            {
             "iteration": 915,
             "learn": [
              0.8449813057,
              0.3415529977
             ],
             "passed_time": 7.986178206,
             "remaining_time": 0.7323569534,
             "test": [
              0.7941345601,
              0.4069983274
             ]
            },
            {
             "iteration": 916,
             "learn": [
              0.8454127121,
              0.3414266304
             ],
             "passed_time": 7.994453286,
             "remaining_time": 0.72359828,
             "test": [
              0.7941345601,
              0.406969818
             ]
            },
            {
             "iteration": 917,
             "learn": [
              0.84526891,
              0.3413409735
             ],
             "passed_time": 8.002681318,
             "remaining_time": 0.7148364576,
             "test": [
              0.7941345601,
              0.4069438771
             ]
            },
            {
             "iteration": 918,
             "learn": [
              0.8454127121,
              0.3412583532
             ],
             "passed_time": 8.010784568,
             "remaining_time": 0.7060647987,
             "test": [
              0.7947096032,
              0.4068915149
             ]
            },
            {
             "iteration": 919,
             "learn": [
              0.84526891,
              0.3412126994
             ],
             "passed_time": 8.019284322,
             "remaining_time": 0.6973290715,
             "test": [
              0.7947096032,
              0.4068949641
             ]
            },
            {
             "iteration": 920,
             "learn": [
              0.84526891,
              0.3411935044
             ],
             "passed_time": 8.028638224,
             "remaining_time": 0.6886671224,
             "test": [
              0.7947096032,
              0.4069135338
             ]
            },
            {
             "iteration": 921,
             "learn": [
              0.8451251079,
              0.3411328469
             ],
             "passed_time": 8.036958999,
             "remaining_time": 0.679916271,
             "test": [
              0.7947096032,
              0.4068897584
             ]
            },
            {
             "iteration": 922,
             "learn": [
              0.8455565142,
              0.3410652839
             ],
             "passed_time": 8.044344443,
             "remaining_time": 0.671088323,
             "test": [
              0.7941345601,
              0.4068020647
             ]
            },
            {
             "iteration": 923,
             "learn": [
              0.8457003164,
              0.3409949055
             ],
             "passed_time": 8.053515841,
             "remaining_time": 0.6624103938,
             "test": [
              0.793559517,
              0.4068112365
             ]
            },
            {
             "iteration": 924,
             "learn": [
              0.8457003164,
              0.3409719432
             ],
             "passed_time": 8.061674441,
             "remaining_time": 0.653649279,
             "test": [
              0.793559517,
              0.4068250463
             ]
            },
            {
             "iteration": 925,
             "learn": [
              0.8458441185,
              0.3409563828
             ],
             "passed_time": 8.069393984,
             "remaining_time": 0.6448543789,
             "test": [
              0.793559517,
              0.4068037256
             ]
            },
            {
             "iteration": 926,
             "learn": [
              0.8458441185,
              0.3408832072
             ],
             "passed_time": 8.078188107,
             "remaining_time": 0.6361464205,
             "test": [
              0.7941345601,
              0.4067930739
             ]
            },
            {
             "iteration": 927,
             "learn": [
              0.8458441185,
              0.3407846717
             ],
             "passed_time": 8.086407669,
             "remaining_time": 0.6273936985,
             "test": [
              0.7941345601,
              0.4067499115
             ]
            },
            {
             "iteration": 928,
             "learn": [
              0.84526891,
              0.3407377577
             ],
             "passed_time": 8.093902138,
             "remaining_time": 0.6185867081,
             "test": [
              0.793559517,
              0.4067259797
             ]
            },
            {
             "iteration": 929,
             "learn": [
              0.8454127121,
              0.3406542703
             ],
             "passed_time": 8.102590312,
             "remaining_time": 0.6098723891,
             "test": [
              0.7941345601,
              0.4067284398
             ]
            },
            {
             "iteration": 930,
             "learn": [
              0.8454127121,
              0.3406407638
             ],
             "passed_time": 8.111176521,
             "remaining_time": 0.6011505692,
             "test": [
              0.7941345601,
              0.4067280394
             ]
            },
            {
             "iteration": 931,
             "learn": [
              0.84526891,
              0.3406081226
             ],
             "passed_time": 8.119644154,
             "remaining_time": 0.5924203889,
             "test": [
              0.7941345601,
              0.4067129794
             ]
            },
            {
             "iteration": 932,
             "learn": [
              0.8454127121,
              0.3405801515
             ],
             "passed_time": 8.127896677,
             "remaining_time": 0.5836753241,
             "test": [
              0.7941345601,
              0.4066938914
             ]
            },
            {
             "iteration": 933,
             "learn": [
              0.8455565142,
              0.3405553582
             ],
             "passed_time": 8.135703711,
             "remaining_time": 0.574899834,
             "test": [
              0.7941345601,
              0.406701917
             ]
            },
            {
             "iteration": 934,
             "learn": [
              0.8455565142,
              0.3405021281
             ],
             "passed_time": 8.144332649,
             "remaining_time": 0.5661835532,
             "test": [
              0.7941345601,
              0.4067052646
             ]
            },
            {
             "iteration": 935,
             "learn": [
              0.8455565142,
              0.3404737206
             ],
             "passed_time": 8.153647642,
             "remaining_time": 0.5575143687,
             "test": [
              0.7941345601,
              0.4067132037
             ]
            },
            {
             "iteration": 936,
             "learn": [
              0.8455565142,
              0.3404046075
             ],
             "passed_time": 8.162957087,
             "remaining_time": 0.5488434327,
             "test": [
              0.7941345601,
              0.4066849729
             ]
            },
            {
             "iteration": 937,
             "learn": [
              0.8455565142,
              0.3403409664
             ],
             "passed_time": 8.171149141,
             "remaining_time": 0.5400972779,
             "test": [
              0.793559517,
              0.4067175105
             ]
            },
            {
             "iteration": 938,
             "learn": [
              0.8457003164,
              0.3403134067
             ],
             "passed_time": 8.179187905,
             "remaining_time": 0.5313423452,
             "test": [
              0.7941345601,
              0.4067248654
             ]
            },
            {
             "iteration": 939,
             "learn": [
              0.8458441185,
              0.3402297392
             ],
             "passed_time": 8.187622763,
             "remaining_time": 0.5226142189,
             "test": [
              0.793559517,
              0.406640579
             ]
            },
            {
             "iteration": 940,
             "learn": [
              0.8459879206,
              0.3401971144
             ],
             "passed_time": 8.194424538,
             "remaining_time": 0.5137843228,
             "test": [
              0.793559517,
              0.4066685853
             ]
            },
            {
             "iteration": 941,
             "learn": [
              0.8461317227,
              0.3401775771
             ],
             "passed_time": 8.201957666,
             "remaining_time": 0.5050037629,
             "test": [
              0.793559517,
              0.4067119328
             ]
            },
            {
             "iteration": 942,
             "learn": [
              0.8461317227,
              0.3401284028
             ],
             "passed_time": 8.21015937,
             "remaining_time": 0.496266261,
             "test": [
              0.793559517,
              0.4066633501
             ]
            },
            {
             "iteration": 943,
             "learn": [
              0.8461317227,
              0.3401046663
             ],
             "passed_time": 8.2164235,
             "remaining_time": 0.4874149534,
             "test": [
              0.793559517,
              0.4066657714
             ]
            },
            {
             "iteration": 944,
             "learn": [
              0.8457003164,
              0.340056615
             ],
             "passed_time": 8.223475405,
             "remaining_time": 0.4786149706,
             "test": [
              0.793559517,
              0.4066411594
             ]
            },
            {
             "iteration": 945,
             "learn": [
              0.8457003164,
              0.3400395704
             ],
             "passed_time": 8.232214567,
             "remaining_time": 0.4699149964,
             "test": [
              0.793559517,
              0.4066365205
             ]
            },
            {
             "iteration": 946,
             "learn": [
              0.8457003164,
              0.3399254637
             ],
             "passed_time": 8.240937507,
             "remaining_time": 0.4612140315,
             "test": [
              0.7941345601,
              0.4065954988
             ]
            },
            {
             "iteration": 947,
             "learn": [
              0.8457003164,
              0.3399011859
             ],
             "passed_time": 8.249595649,
             "remaining_time": 0.452509466,
             "test": [
              0.7941345601,
              0.4065956133
             ]
            },
            {
             "iteration": 948,
             "learn": [
              0.8457003164,
              0.3398793905
             ],
             "passed_time": 8.257217375,
             "remaining_time": 0.4437493004,
             "test": [
              0.793559517,
              0.4066008034
             ]
            },
            {
             "iteration": 949,
             "learn": [
              0.8457003164,
              0.3398725927
             ],
             "passed_time": 8.267186717,
             "remaining_time": 0.4351150903,
             "test": [
              0.793559517,
              0.4065956918
             ]
            },
            {
             "iteration": 950,
             "learn": [
              0.8457003164,
              0.3398332365
             ],
             "passed_time": 8.274049279,
             "remaining_time": 0.4263179965,
             "test": [
              0.793559517,
              0.4066291976
             ]
            },
            {
             "iteration": 951,
             "learn": [
              0.8458441185,
              0.3398201922
             ],
             "passed_time": 8.281547181,
             "remaining_time": 0.4175570007,
             "test": [
              0.793559517,
              0.4066126985
             ]
            },
            {
             "iteration": 952,
             "learn": [
              0.8459879206,
              0.3397905734
             ],
             "passed_time": 8.288963598,
             "remaining_time": 0.408794637,
             "test": [
              0.793559517,
              0.4066138439
             ]
            },
            {
             "iteration": 953,
             "learn": [
              0.8461317227,
              0.339702075
             ],
             "passed_time": 8.297072185,
             "remaining_time": 0.4000684701,
             "test": [
              0.793559517,
              0.406601063
             ]
            },
            {
             "iteration": 954,
             "learn": [
              0.8461317227,
              0.3396678383
             ],
             "passed_time": 8.304751956,
             "remaining_time": 0.3913233906,
             "test": [
              0.793559517,
              0.4065710817
             ]
            },
            {
             "iteration": 955,
             "learn": [
              0.8459879206,
              0.3396060353
             ],
             "passed_time": 8.312739288,
             "remaining_time": 0.3825946952,
             "test": [
              0.7929844738,
              0.406571788
             ]
            },
            {
             "iteration": 956,
             "learn": [
              0.8461317227,
              0.3395055157
             ],
             "passed_time": 8.319836628,
             "remaining_time": 0.3738275601,
             "test": [
              0.793559517,
              0.406481624
             ]
            },
            {
             "iteration": 957,
             "learn": [
              0.8462755249,
              0.3394966101
             ],
             "passed_time": 8.327883459,
             "remaining_time": 0.3651055379,
             "test": [
              0.793559517,
              0.4064709852
             ]
            },
            {
             "iteration": 958,
             "learn": [
              0.846419327,
              0.3394427966
             ],
             "passed_time": 8.336340179,
             "remaining_time": 0.3564024477,
             "test": [
              0.793559517,
              0.4064972023
             ]
            },
            {
             "iteration": 959,
             "learn": [
              0.846419327,
              0.3394243317
             ],
             "passed_time": 8.343408828,
             "remaining_time": 0.3476420345,
             "test": [
              0.793559517,
              0.406501415
             ]
            },
            {
             "iteration": 960,
             "learn": [
              0.8467069313,
              0.3394100744
             ],
             "passed_time": 8.352519596,
             "remaining_time": 0.3389680169,
             "test": [
              0.793559517,
              0.4065033092
             ]
            },
            {
             "iteration": 961,
             "learn": [
              0.8467069313,
              0.3393952946
             ],
             "passed_time": 8.360410729,
             "remaining_time": 0.3302449145,
             "test": [
              0.793559517,
              0.4065031469
             ]
            },
            {
             "iteration": 962,
             "learn": [
              0.8467069313,
              0.3393649796
             ],
             "passed_time": 8.369772482,
             "remaining_time": 0.3215800434,
             "test": [
              0.793559517,
              0.4065081648
             ]
            },
            {
             "iteration": 963,
             "learn": [
              0.8469945355,
              0.3393237128
             ],
             "passed_time": 8.378603504,
             "remaining_time": 0.3128939068,
             "test": [
              0.793559517,
              0.40650383
             ]
            },
            {
             "iteration": 964,
             "learn": [
              0.8467069313,
              0.3392956329
             ],
             "passed_time": 8.387068654,
             "remaining_time": 0.3041941999,
             "test": [
              0.793559517,
              0.4065142176
             ]
            },
            {
             "iteration": 965,
             "learn": [
              0.846419327,
              0.3392662839
             ],
             "passed_time": 8.394238515,
             "remaining_time": 0.2954493887,
             "test": [
              0.793559517,
              0.4065119112
             ]
            },
            {
             "iteration": 966,
             "learn": [
              0.846419327,
              0.3392601069
             ],
             "passed_time": 8.403758679,
             "remaining_time": 0.2867880418,
             "test": [
              0.793559517,
              0.4065087562
             ]
            },
            {
             "iteration": 967,
             "learn": [
              0.846419327,
              0.3392560412
             ],
             "passed_time": 8.411459986,
             "remaining_time": 0.2780647929,
             "test": [
              0.793559517,
              0.4065126614
             ]
            },
            {
             "iteration": 968,
             "learn": [
              0.846419327,
              0.3392500697
             ],
             "passed_time": 8.418712074,
             "remaining_time": 0.269329282,
             "test": [
              0.793559517,
              0.4065090593
             ]
            },
            {
             "iteration": 969,
             "learn": [
              0.846419327,
              0.3391963491
             ],
             "passed_time": 8.426362836,
             "remaining_time": 0.2606091599,
             "test": [
              0.793559517,
              0.4065168896
             ]
            },
            {
             "iteration": 970,
             "learn": [
              0.846419327,
              0.3391719637
             ],
             "passed_time": 8.43414116,
             "remaining_time": 0.2518950501,
             "test": [
              0.793559517,
              0.4065371171
             ]
            },
            {
             "iteration": 971,
             "learn": [
              0.8462755249,
              0.3391380372
             ],
             "passed_time": 8.441148836,
             "remaining_time": 0.2431606661,
             "test": [
              0.793559517,
              0.4065222756
             ]
            },
            {
             "iteration": 972,
             "learn": [
              0.8465631291,
              0.3390865234
             ],
             "passed_time": 8.44843978,
             "remaining_time": 0.2344376917,
             "test": [
              0.793559517,
              0.4065143853
             ]
            },
            {
             "iteration": 973,
             "learn": [
              0.8465631291,
              0.3390578487
             ],
             "passed_time": 8.455641438,
             "remaining_time": 0.2257152745,
             "test": [
              0.793559517,
              0.4064847618
             ]
            },
            {
             "iteration": 974,
             "learn": [
              0.846419327,
              0.3390417811
             ],
             "passed_time": 8.462968281,
             "remaining_time": 0.2169991867,
             "test": [
              0.793559517,
              0.4064886907
             ]
            },
            {
             "iteration": 975,
             "learn": [
              0.846419327,
              0.3389620862
             ],
             "passed_time": 8.474253955,
             "remaining_time": 0.208383294,
             "test": [
              0.793559517,
              0.4064941178
             ]
            },
            {
             "iteration": 976,
             "learn": [
              0.846419327,
              0.3389349388
             ],
             "passed_time": 8.482832883,
             "remaining_time": 0.1996982152,
             "test": [
              0.793559517,
              0.4064685076
             ]
            },
            {
             "iteration": 977,
             "learn": [
              0.8462755249,
              0.3389044376
             ],
             "passed_time": 8.490986223,
             "remaining_time": 0.1910037801,
             "test": [
              0.793559517,
              0.4064781609
             ]
            },
            {
             "iteration": 978,
             "learn": [
              0.8462755249,
              0.3388745958
             ],
             "passed_time": 8.498607401,
             "remaining_time": 0.1822990352,
             "test": [
              0.793559517,
              0.4064716575
             ]
            },
            {
             "iteration": 979,
             "learn": [
              0.8462755249,
              0.3388510802
             ],
             "passed_time": 8.506798524,
             "remaining_time": 0.1736081331,
             "test": [
              0.793559517,
              0.4064704521
             ]
            },
            {
             "iteration": 980,
             "learn": [
              0.8462755249,
              0.3387451113
             ],
             "passed_time": 8.51686146,
             "remaining_time": 0.1649545033,
             "test": [
              0.793559517,
              0.4064765516
             ]
            },
            {
             "iteration": 981,
             "learn": [
              0.846419327,
              0.3387191544
             ],
             "passed_time": 8.524685776,
             "remaining_time": 0.1562569694,
             "test": [
              0.7929844738,
              0.4065049177
             ]
            },
            {
             "iteration": 982,
             "learn": [
              0.8465631291,
              0.3386758071
             ],
             "passed_time": 8.533757368,
             "remaining_time": 0.1475827826,
             "test": [
              0.7929844738,
              0.4065064111
             ]
            },
            {
             "iteration": 983,
             "learn": [
              0.8467069313,
              0.3385658453
             ],
             "passed_time": 8.542294555,
             "remaining_time": 0.1388990985,
             "test": [
              0.7929844738,
              0.4065900557
             ]
            },
            {
             "iteration": 984,
             "learn": [
              0.8467069313,
              0.3385122626
             ],
             "passed_time": 8.551285033,
             "remaining_time": 0.1302226147,
             "test": [
              0.7929844738,
              0.4065968677
             ]
            },
            {
             "iteration": 985,
             "learn": [
              0.8462755249,
              0.3383966155
             ],
             "passed_time": 8.558926809,
             "remaining_time": 0.1215263441,
             "test": [
              0.7929844738,
              0.4066176268
             ]
            },
            {
             "iteration": 986,
             "learn": [
              0.8462755249,
              0.3382869211
             ],
             "passed_time": 8.56655996,
             "remaining_time": 0.1128320967,
             "test": [
              0.793559517,
              0.4064342288
             ]
            },
            {
             "iteration": 987,
             "learn": [
              0.8465631291,
              0.3382043349
             ],
             "passed_time": 8.574475188,
             "remaining_time": 0.1041434233,
             "test": [
              0.793559517,
              0.4064010317
             ]
            },
            {
             "iteration": 988,
             "learn": [
              0.8461317227,
              0.3381616216
             ],
             "passed_time": 8.582198727,
             "remaining_time": 0.095454182,
             "test": [
              0.7929844738,
              0.4063996362
             ]
            },
            {
             "iteration": 989,
             "learn": [
              0.8462755249,
              0.338143015
             ],
             "passed_time": 8.589634247,
             "remaining_time": 0.08676398229,
             "test": [
              0.7929844738,
              0.4064045147
             ]
            },
            {
             "iteration": 990,
             "learn": [
              0.8462755249,
              0.3381013847
             ],
             "passed_time": 8.597737293,
             "remaining_time": 0.07808237703,
             "test": [
              0.7929844738,
              0.4063867254
             ]
            },
            {
             "iteration": 991,
             "learn": [
              0.8459879206,
              0.3380573772
             ],
             "passed_time": 8.605358754,
             "remaining_time": 0.06939805447,
             "test": [
              0.793559517,
              0.4063431274
             ]
            },
            {
             "iteration": 992,
             "learn": [
              0.8459879206,
              0.3380280695
             ],
             "passed_time": 8.613849405,
             "remaining_time": 0.06072199983,
             "test": [
              0.793559517,
              0.4063419635
             ]
            },
            {
             "iteration": 993,
             "learn": [
              0.8459879206,
              0.3380150332
             ],
             "passed_time": 8.621298188,
             "remaining_time": 0.05204002931,
             "test": [
              0.793559517,
              0.406349303
             ]
            },
            {
             "iteration": 994,
             "learn": [
              0.8461317227,
              0.337989422
             ],
             "passed_time": 8.628510165,
             "remaining_time": 0.04335934756,
             "test": [
              0.793559517,
              0.4063421391
             ]
            },
            {
             "iteration": 995,
             "learn": [
              0.846419327,
              0.3379286001
             ],
             "passed_time": 8.635789416,
             "remaining_time": 0.0346818852,
             "test": [
              0.793559517,
              0.4062780888
             ]
            },
            {
             "iteration": 996,
             "learn": [
              0.846419327,
              0.3378270683
             ],
             "passed_time": 8.643516836,
             "remaining_time": 0.02600857624,
             "test": [
              0.7929844738,
              0.4063757116
             ]
            },
            {
             "iteration": 997,
             "learn": [
              0.846419327,
              0.3377536826
             ],
             "passed_time": 8.65228154,
             "remaining_time": 0.01733924156,
             "test": [
              0.7929844738,
              0.4063183797
             ]
            },
            {
             "iteration": 998,
             "learn": [
              0.8465631291,
              0.3376074592
             ],
             "passed_time": 8.661020567,
             "remaining_time": 0.008669690258,
             "test": [
              0.7929844738,
              0.4063605104
             ]
            },
            {
             "iteration": 999,
             "learn": [
              0.8465631291,
              0.3375750432
             ],
             "passed_time": 8.669682683,
             "remaining_time": 0,
             "test": [
              0.7929844738,
              0.4063670275
             ]
            }
           ],
           "meta": {
            "iteration_count": 1000,
            "launch_mode": "Train",
            "learn_metrics": [
             {
              "best_value": "Max",
              "name": "Accuracy"
             },
             {
              "best_value": "Min",
              "name": "Logloss"
             }
            ],
            "learn_sets": [
             "learn"
            ],
            "name": "experiment",
            "parameters": "",
            "test_metrics": [
             {
              "best_value": "Max",
              "name": "Accuracy"
             },
             {
              "best_value": "Min",
              "name": "Logloss"
             }
            ],
            "test_sets": [
             "test"
            ]
           }
          },
          "passed_iterations": 999,
          "total_iterations": 1000
         },
         "name": "catboost_info",
         "path": "catboost_info"
        }
       },
       "layout": "IPY_MODEL_ddb3e338b3574fbeabf13f9a63ab7b60"
      }
     },
     "ddb3e338b3574fbeabf13f9a63ab7b60": {
      "model_module": "@jupyter-widgets/base",
      "model_module_version": "1.2.0",
      "model_name": "LayoutModel",
      "state": {
       "_model_module": "@jupyter-widgets/base",
       "_model_module_version": "1.2.0",
       "_model_name": "LayoutModel",
       "_view_count": null,
       "_view_module": "@jupyter-widgets/base",
       "_view_module_version": "1.2.0",
       "_view_name": "LayoutView",
       "align_content": null,
       "align_items": null,
       "align_self": "stretch",
       "border": null,
       "bottom": null,
       "display": null,
       "flex": null,
       "flex_flow": null,
       "grid_area": null,
       "grid_auto_columns": null,
       "grid_auto_flow": null,
       "grid_auto_rows": null,
       "grid_column": null,
       "grid_gap": null,
       "grid_row": null,
       "grid_template_areas": null,
       "grid_template_columns": null,
       "grid_template_rows": null,
       "height": "500px",
       "justify_content": null,
       "justify_items": null,
       "left": null,
       "margin": null,
       "max_height": null,
       "max_width": null,
       "min_height": null,
       "min_width": null,
       "object_fit": null,
       "object_position": null,
       "order": null,
       "overflow": null,
       "overflow_x": null,
       "overflow_y": null,
       "padding": null,
       "right": null,
       "top": null,
       "visibility": null,
       "width": null
      }
     }
    },
    "version_major": 2,
    "version_minor": 0
   }
  }
 },
 "nbformat": 4,
 "nbformat_minor": 5
}
